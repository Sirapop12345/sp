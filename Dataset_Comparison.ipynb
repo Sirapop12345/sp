{
  "nbformat": 4,
  "nbformat_minor": 0,
  "metadata": {
    "colab": {
      "provenance": [],
      "toc_visible": true
    },
    "kernelspec": {
      "name": "python3",
      "display_name": "Python 3"
    },
    "language_info": {
      "name": "python"
    }
  },
  "cells": [
    {
      "cell_type": "markdown",
      "source": [
        "# **Dataset Comparison**\n",
        "\n",
        "\n",
        "\n",
        "> We try to compare each text preprocessing method, so we can find out which method is the best.\n",
        "\n",
        "\n"
      ],
      "metadata": {
        "id": "OBJQ7e35mrV8"
      }
    },
    {
      "cell_type": "code",
      "source": [
        "import pandas as pd\n",
        "import numpy as np"
      ],
      "metadata": {
        "id": "1n-k8Sf5nay3"
      },
      "execution_count": 135,
      "outputs": []
    },
    {
      "cell_type": "code",
      "source": [
        "from google.colab import drive\n",
        "drive.mount('/content/drive')"
      ],
      "metadata": {
        "colab": {
          "base_uri": "https://localhost:8080/"
        },
        "id": "5KDK9ji3nRo7",
        "outputId": "e435ddd8-23f9-4d5d-8e82-061020497d01"
      },
      "execution_count": 136,
      "outputs": [
        {
          "output_type": "stream",
          "name": "stdout",
          "text": [
            "Drive already mounted at /content/drive; to attempt to forcibly remount, call drive.mount(\"/content/drive\", force_remount=True).\n"
          ]
        }
      ]
    },
    {
      "cell_type": "markdown",
      "source": [
        "# Original dataset vs AI-Structure deletion dataset"
      ],
      "metadata": {
        "id": "HGcLIm5OmuSt"
      }
    },
    {
      "cell_type": "markdown",
      "source": [
        "## Original Dataset"
      ],
      "metadata": {
        "id": "Z61F8mNCociQ"
      }
    },
    {
      "cell_type": "code",
      "execution_count": 137,
      "metadata": {
        "colab": {
          "base_uri": "https://localhost:8080/",
          "height": 206
        },
        "id": "JmMYbxmGmTZ0",
        "outputId": "3b6e8670-a633-4747-f072-dee19700f852"
      },
      "outputs": [
        {
          "output_type": "execute_result",
          "data": {
            "text/plain": [
              "                                                text  label  \\\n",
              "0  Phones\\n\\nModern humans today are always on th...      0   \n",
              "1  This essay will explain if drivers should or s...      0   \n",
              "2  Driving while the use of cellular devices\\n\\nT...      0   \n",
              "3  Phones & Driving\\n\\nDrivers should not be able...      0   \n",
              "4  Cell Phone Operation While Driving\\n\\nThe abil...      0   \n",
              "\n",
              "          prompt_name           source  RDizzl3_seven  \n",
              "0  Phones and driving  persuade_corpus          False  \n",
              "1  Phones and driving  persuade_corpus          False  \n",
              "2  Phones and driving  persuade_corpus          False  \n",
              "3  Phones and driving  persuade_corpus          False  \n",
              "4  Phones and driving  persuade_corpus          False  "
            ],
            "text/html": [
              "\n",
              "  <div id=\"df-49aa11d0-80b5-40ff-9d7a-8a5cb568407b\" class=\"colab-df-container\">\n",
              "    <div>\n",
              "<style scoped>\n",
              "    .dataframe tbody tr th:only-of-type {\n",
              "        vertical-align: middle;\n",
              "    }\n",
              "\n",
              "    .dataframe tbody tr th {\n",
              "        vertical-align: top;\n",
              "    }\n",
              "\n",
              "    .dataframe thead th {\n",
              "        text-align: right;\n",
              "    }\n",
              "</style>\n",
              "<table border=\"1\" class=\"dataframe\">\n",
              "  <thead>\n",
              "    <tr style=\"text-align: right;\">\n",
              "      <th></th>\n",
              "      <th>text</th>\n",
              "      <th>label</th>\n",
              "      <th>prompt_name</th>\n",
              "      <th>source</th>\n",
              "      <th>RDizzl3_seven</th>\n",
              "    </tr>\n",
              "  </thead>\n",
              "  <tbody>\n",
              "    <tr>\n",
              "      <th>0</th>\n",
              "      <td>Phones\\n\\nModern humans today are always on th...</td>\n",
              "      <td>0</td>\n",
              "      <td>Phones and driving</td>\n",
              "      <td>persuade_corpus</td>\n",
              "      <td>False</td>\n",
              "    </tr>\n",
              "    <tr>\n",
              "      <th>1</th>\n",
              "      <td>This essay will explain if drivers should or s...</td>\n",
              "      <td>0</td>\n",
              "      <td>Phones and driving</td>\n",
              "      <td>persuade_corpus</td>\n",
              "      <td>False</td>\n",
              "    </tr>\n",
              "    <tr>\n",
              "      <th>2</th>\n",
              "      <td>Driving while the use of cellular devices\\n\\nT...</td>\n",
              "      <td>0</td>\n",
              "      <td>Phones and driving</td>\n",
              "      <td>persuade_corpus</td>\n",
              "      <td>False</td>\n",
              "    </tr>\n",
              "    <tr>\n",
              "      <th>3</th>\n",
              "      <td>Phones &amp; Driving\\n\\nDrivers should not be able...</td>\n",
              "      <td>0</td>\n",
              "      <td>Phones and driving</td>\n",
              "      <td>persuade_corpus</td>\n",
              "      <td>False</td>\n",
              "    </tr>\n",
              "    <tr>\n",
              "      <th>4</th>\n",
              "      <td>Cell Phone Operation While Driving\\n\\nThe abil...</td>\n",
              "      <td>0</td>\n",
              "      <td>Phones and driving</td>\n",
              "      <td>persuade_corpus</td>\n",
              "      <td>False</td>\n",
              "    </tr>\n",
              "  </tbody>\n",
              "</table>\n",
              "</div>\n",
              "    <div class=\"colab-df-buttons\">\n",
              "\n",
              "  <div class=\"colab-df-container\">\n",
              "    <button class=\"colab-df-convert\" onclick=\"convertToInteractive('df-49aa11d0-80b5-40ff-9d7a-8a5cb568407b')\"\n",
              "            title=\"Convert this dataframe to an interactive table.\"\n",
              "            style=\"display:none;\">\n",
              "\n",
              "  <svg xmlns=\"http://www.w3.org/2000/svg\" height=\"24px\" viewBox=\"0 -960 960 960\">\n",
              "    <path d=\"M120-120v-720h720v720H120Zm60-500h600v-160H180v160Zm220 220h160v-160H400v160Zm0 220h160v-160H400v160ZM180-400h160v-160H180v160Zm440 0h160v-160H620v160ZM180-180h160v-160H180v160Zm440 0h160v-160H620v160Z\"/>\n",
              "  </svg>\n",
              "    </button>\n",
              "\n",
              "  <style>\n",
              "    .colab-df-container {\n",
              "      display:flex;\n",
              "      gap: 12px;\n",
              "    }\n",
              "\n",
              "    .colab-df-convert {\n",
              "      background-color: #E8F0FE;\n",
              "      border: none;\n",
              "      border-radius: 50%;\n",
              "      cursor: pointer;\n",
              "      display: none;\n",
              "      fill: #1967D2;\n",
              "      height: 32px;\n",
              "      padding: 0 0 0 0;\n",
              "      width: 32px;\n",
              "    }\n",
              "\n",
              "    .colab-df-convert:hover {\n",
              "      background-color: #E2EBFA;\n",
              "      box-shadow: 0px 1px 2px rgba(60, 64, 67, 0.3), 0px 1px 3px 1px rgba(60, 64, 67, 0.15);\n",
              "      fill: #174EA6;\n",
              "    }\n",
              "\n",
              "    .colab-df-buttons div {\n",
              "      margin-bottom: 4px;\n",
              "    }\n",
              "\n",
              "    [theme=dark] .colab-df-convert {\n",
              "      background-color: #3B4455;\n",
              "      fill: #D2E3FC;\n",
              "    }\n",
              "\n",
              "    [theme=dark] .colab-df-convert:hover {\n",
              "      background-color: #434B5C;\n",
              "      box-shadow: 0px 1px 3px 1px rgba(0, 0, 0, 0.15);\n",
              "      filter: drop-shadow(0px 1px 2px rgba(0, 0, 0, 0.3));\n",
              "      fill: #FFFFFF;\n",
              "    }\n",
              "  </style>\n",
              "\n",
              "    <script>\n",
              "      const buttonEl =\n",
              "        document.querySelector('#df-49aa11d0-80b5-40ff-9d7a-8a5cb568407b button.colab-df-convert');\n",
              "      buttonEl.style.display =\n",
              "        google.colab.kernel.accessAllowed ? 'block' : 'none';\n",
              "\n",
              "      async function convertToInteractive(key) {\n",
              "        const element = document.querySelector('#df-49aa11d0-80b5-40ff-9d7a-8a5cb568407b');\n",
              "        const dataTable =\n",
              "          await google.colab.kernel.invokeFunction('convertToInteractive',\n",
              "                                                    [key], {});\n",
              "        if (!dataTable) return;\n",
              "\n",
              "        const docLinkHtml = 'Like what you see? Visit the ' +\n",
              "          '<a target=\"_blank\" href=https://colab.research.google.com/notebooks/data_table.ipynb>data table notebook</a>'\n",
              "          + ' to learn more about interactive tables.';\n",
              "        element.innerHTML = '';\n",
              "        dataTable['output_type'] = 'display_data';\n",
              "        await google.colab.output.renderOutput(dataTable, element);\n",
              "        const docLink = document.createElement('div');\n",
              "        docLink.innerHTML = docLinkHtml;\n",
              "        element.appendChild(docLink);\n",
              "      }\n",
              "    </script>\n",
              "  </div>\n",
              "\n",
              "\n",
              "<div id=\"df-f1ff8065-da10-452d-97b3-2c6a620d9f1c\">\n",
              "  <button class=\"colab-df-quickchart\" onclick=\"quickchart('df-f1ff8065-da10-452d-97b3-2c6a620d9f1c')\"\n",
              "            title=\"Suggest charts\"\n",
              "            style=\"display:none;\">\n",
              "\n",
              "<svg xmlns=\"http://www.w3.org/2000/svg\" height=\"24px\"viewBox=\"0 0 24 24\"\n",
              "     width=\"24px\">\n",
              "    <g>\n",
              "        <path d=\"M19 3H5c-1.1 0-2 .9-2 2v14c0 1.1.9 2 2 2h14c1.1 0 2-.9 2-2V5c0-1.1-.9-2-2-2zM9 17H7v-7h2v7zm4 0h-2V7h2v10zm4 0h-2v-4h2v4z\"/>\n",
              "    </g>\n",
              "</svg>\n",
              "  </button>\n",
              "\n",
              "<style>\n",
              "  .colab-df-quickchart {\n",
              "      --bg-color: #E8F0FE;\n",
              "      --fill-color: #1967D2;\n",
              "      --hover-bg-color: #E2EBFA;\n",
              "      --hover-fill-color: #174EA6;\n",
              "      --disabled-fill-color: #AAA;\n",
              "      --disabled-bg-color: #DDD;\n",
              "  }\n",
              "\n",
              "  [theme=dark] .colab-df-quickchart {\n",
              "      --bg-color: #3B4455;\n",
              "      --fill-color: #D2E3FC;\n",
              "      --hover-bg-color: #434B5C;\n",
              "      --hover-fill-color: #FFFFFF;\n",
              "      --disabled-bg-color: #3B4455;\n",
              "      --disabled-fill-color: #666;\n",
              "  }\n",
              "\n",
              "  .colab-df-quickchart {\n",
              "    background-color: var(--bg-color);\n",
              "    border: none;\n",
              "    border-radius: 50%;\n",
              "    cursor: pointer;\n",
              "    display: none;\n",
              "    fill: var(--fill-color);\n",
              "    height: 32px;\n",
              "    padding: 0;\n",
              "    width: 32px;\n",
              "  }\n",
              "\n",
              "  .colab-df-quickchart:hover {\n",
              "    background-color: var(--hover-bg-color);\n",
              "    box-shadow: 0 1px 2px rgba(60, 64, 67, 0.3), 0 1px 3px 1px rgba(60, 64, 67, 0.15);\n",
              "    fill: var(--button-hover-fill-color);\n",
              "  }\n",
              "\n",
              "  .colab-df-quickchart-complete:disabled,\n",
              "  .colab-df-quickchart-complete:disabled:hover {\n",
              "    background-color: var(--disabled-bg-color);\n",
              "    fill: var(--disabled-fill-color);\n",
              "    box-shadow: none;\n",
              "  }\n",
              "\n",
              "  .colab-df-spinner {\n",
              "    border: 2px solid var(--fill-color);\n",
              "    border-color: transparent;\n",
              "    border-bottom-color: var(--fill-color);\n",
              "    animation:\n",
              "      spin 1s steps(1) infinite;\n",
              "  }\n",
              "\n",
              "  @keyframes spin {\n",
              "    0% {\n",
              "      border-color: transparent;\n",
              "      border-bottom-color: var(--fill-color);\n",
              "      border-left-color: var(--fill-color);\n",
              "    }\n",
              "    20% {\n",
              "      border-color: transparent;\n",
              "      border-left-color: var(--fill-color);\n",
              "      border-top-color: var(--fill-color);\n",
              "    }\n",
              "    30% {\n",
              "      border-color: transparent;\n",
              "      border-left-color: var(--fill-color);\n",
              "      border-top-color: var(--fill-color);\n",
              "      border-right-color: var(--fill-color);\n",
              "    }\n",
              "    40% {\n",
              "      border-color: transparent;\n",
              "      border-right-color: var(--fill-color);\n",
              "      border-top-color: var(--fill-color);\n",
              "    }\n",
              "    60% {\n",
              "      border-color: transparent;\n",
              "      border-right-color: var(--fill-color);\n",
              "    }\n",
              "    80% {\n",
              "      border-color: transparent;\n",
              "      border-right-color: var(--fill-color);\n",
              "      border-bottom-color: var(--fill-color);\n",
              "    }\n",
              "    90% {\n",
              "      border-color: transparent;\n",
              "      border-bottom-color: var(--fill-color);\n",
              "    }\n",
              "  }\n",
              "</style>\n",
              "\n",
              "  <script>\n",
              "    async function quickchart(key) {\n",
              "      const quickchartButtonEl =\n",
              "        document.querySelector('#' + key + ' button');\n",
              "      quickchartButtonEl.disabled = true;  // To prevent multiple clicks.\n",
              "      quickchartButtonEl.classList.add('colab-df-spinner');\n",
              "      try {\n",
              "        const charts = await google.colab.kernel.invokeFunction(\n",
              "            'suggestCharts', [key], {});\n",
              "      } catch (error) {\n",
              "        console.error('Error during call to suggestCharts:', error);\n",
              "      }\n",
              "      quickchartButtonEl.classList.remove('colab-df-spinner');\n",
              "      quickchartButtonEl.classList.add('colab-df-quickchart-complete');\n",
              "    }\n",
              "    (() => {\n",
              "      let quickchartButtonEl =\n",
              "        document.querySelector('#df-f1ff8065-da10-452d-97b3-2c6a620d9f1c button');\n",
              "      quickchartButtonEl.style.display =\n",
              "        google.colab.kernel.accessAllowed ? 'block' : 'none';\n",
              "    })();\n",
              "  </script>\n",
              "</div>\n",
              "\n",
              "    </div>\n",
              "  </div>\n"
            ],
            "application/vnd.google.colaboratory.intrinsic+json": {
              "type": "dataframe",
              "variable_name": "df",
              "summary": "{\n  \"name\": \"df\",\n  \"rows\": 65508,\n  \"fields\": [\n    {\n      \"column\": \"text\",\n      \"properties\": {\n        \"dtype\": \"string\",\n        \"num_unique_values\": 65332,\n        \"samples\": [\n          \"Humankind has always been fascinated with the concept of cars. Motorized vehicles that effortlessly take you from one area to another when compared to more traditional methods such as walking. Everyone wanted a car for themselves to become a part of the innovation. But as time has passed, we now realized that it was naive of us to think cars were going to revolutionize transport, as some of the more simpler ways of transport (bike riding, bus) outshined car ownership in practicality and efficiency.\\n\\nNow more than ever, alternative transportation methods are being promoted heavily in order to reduce the amount of pollution in the atmosphere. A shining example of this is in Paris, France (\\\"Paris bans driving due to smog\\\", source two), where the goverment took the initiative to limit the usage of vehicles to reduce the amount of smog in the city.\\n\\nParis, one of the most idolized cities in the world, was at a point where the density of smog and pollutants in the air rivaled Beijing, China, one of the most polluted cities in the world. However, after the driving ban in Paris, the city saw a drastic reduction in the amount of pollutants in the air, as it dropped down from 147 micrograms of particulate matter/cubic meter. Not only that, but Paris also saw an inprovement in car traffic, dropping down to 40 percent of what it originally was five days after the ban.\\n\\nWith all this in mind, how does this benefit the population without looking at the pollution reduction? This can also benefit us physically and psychologically. In Bogota, Colombia, a generally congested city, filled with traffic jams and other problems; Mayor Antanas Mockus promoted alternative transportation in the \\\"Day Without Cars event\\\"(Car-free day is spinning into a big hit in Bogota, source 3). In an effort to encourage public transportation in the city of 7 million inhabitants, Mockus promoted an event in which the only form of motorized transportation available was taxi cabs and bus rides. This mean that the people took the opportunity to bike, walk, hike from one point to another. Subsequently, this also indirectly promoted physical fitness and a stress release for people wanting to take the chance to enjoy their day. As Carlos Plaza evidently states that it is a great way to take away stress, while on a bike ride with his wife. Colombia has also opened up new bike path, parks, and sports centers, which is all the more proof that this initiative is promoting physical fitness and psychological wellness.\\n\\nOne could argue that this revolution of alternative transportation could have negative consequences on car industries and other businesses that rely on personal vehicle, and they wouldn't be wrong. But this phenomenon doesn't necessarily have to hurt anyone, as these same industries can promote their time and resources on projects that also promote alternative transportation. Just as well, in recent years, the amount of people getting driver's licenses and relying on personal vehicles has seen a significant decline, such as the amount of young prople driving decreaed 23 percent from 2001 to 2009, or when a study showed the amount of miles driven by the average American peaked in 2005 and steadily declined since then (The End of Car Culture, Source 4). People started to see the efficiency of alternative transportation, and capitalized on the opportunity to make transportation more accessible to everyone. Whether its from the expanding biclycle paths in New York City, to the Bay Area Rapid Transport in San Francisco, these are just a few examples of the steadily growing list of cities promoting more accessible transportation.\\n\\nSo with all of this in mind, there is irrefutable evidence that the more simpler methods of alternative transportation to limit vehicular usage is more efficient and practical. As seen in Paris where the city saw a significant drop in the amount of smog the city contained. Or when Bogota where an event that banned vehicular usage promoted physical and psychological wellness. People opting for alternative transportation is the global phenomenon that benefits us in more ways than we can imagine. There''s no doubt that the older, more traditional methods of transportation out perform personal vehicles in efficiency.    \",\n          \"The Face That Scared The World\\n\\nWe have all hear about this \\\"Face\\\" right ? , Well if you haven't Is really just a landform. The other Scientists has all of these people rallied up because they think that aliens are to exist. That cannot be possible because , if aliens existed then why are we just finding them? Wouldn't we already have proof of their existence ?\\n\\nThen Again , there are all types of landforms on earth some man made and more of the natural kind , So basically what you guys are saying is that if we find landform that looks like something is automatically aliens ??? what about mount rushmore ? That is a man made structure not saying that the \\\"face\\\" is man made but its just not relevant to get all of this contrversy about something that we barely know about .\\n\\nSo Therefore, You guys really dont know what the structure is. none of us know what \\\"it\\\" really is , It might look like a face but aliens are just not relevant enough to believe that they actually did something of this nature. i personally do Not believe in aliens , well would you blame me ? We have been to the moon, we have had a rover on mars for years ! and what do we get? nothing , just a rocky surface . no aliens , no water , No life period.\\n\\nNevertheless, even though in paragraph 10 it says, \\\"that that put out The maximum camera resoulution and each pixel spans 1.56 meters thats still not giving us any proof . We have been on this \\\"Aliens Are Real\\\" Stuff for a while now , and we dont have nothing that proves it. Don't you guys think that we should just cut it all out the picture ? we are wasting money on absoutely NOTHING.\\n\\nFinally , as I finish my statement I will just say that im'm not telling you guys to give up on your research , Not at all . but all I am saying is That If your gonna try and find these \\\"aliens\\\" of yours Atleast have some proof of their existance. Then Maybe I'll Believe You all when You do it. Thats all i have to say , I plead my case now . Goodluck with your research .    \",\n          \"Dear Senator, The Electoral College should not be the deciding vote for the president of the United States of America. Every popular vote of the people should be counted towards deciding the next president. If America is a democracy and in a democracy people pick the leader then every citizen's vote should count, not just the majority.\\n\\nFirst things first, only a few states have taken action towards my claim. Those being Maine and Nebraska. These states have made a \\\"proportional representation\\\", which is unlike the \\\"winner take all\\\" that the other 48 states have adopted. The text states \\\"Most states have a winner take all method system that awards all electorss to the winning presidential candidate\\\" What Is the Electoral College?7.This portrays that with the \\\"winner take all\\\" method various amounts of U.S. citizen votes have gone unaccounted for.\\n\\nMultiple occasions have dimmed the surface of our elections where their voices aren't heard. The author says \\\"faithless electorss have occasionally refused to vote for their party's candidate and cast a deciding vote for whomever they please\\\" Plumer 11. Going into this further, that means that one person can disagree with hundreds of people's votes for his own vote of the opposite party. Also, if a tie was to occur int the total electorsal votes then the outcome would be put into the hands of the House of representatives. If the people were to vote in the first place this occurance would have never came close.\\n\\nOn the other hand, it is much harder to calculate the total number of the popular vote being that there are millions of people voting. It is much easier to count and not dispute over a hundred or so votes than a million. But, having people know that their vote doesn't make it to actually voting for the president makes them not as enthusiastic about voting. The text says \\\"no voter's vote swings an election\\\"Posner 23. This explains why only about one half of eligible American voters voted.\\n\\nIn conclusion, America is a democracy, which means people elect the president, not a electors but the people. The author states \\\"The electorsal college is unfair, outdated, and irrational.\\\" Plumer 14. This further explains that electorss cannot make decisions without being biased toward their party. Also portraying well, the feelings of many Americans who feel the same way.\"\n        ],\n        \"semantic_type\": \"\",\n        \"description\": \"\"\n      }\n    },\n    {\n      \"column\": \"label\",\n      \"properties\": {\n        \"dtype\": \"number\",\n        \"std\": 0,\n        \"min\": 0,\n        \"max\": 1,\n        \"num_unique_values\": 2,\n        \"samples\": [\n          1,\n          0\n        ],\n        \"semantic_type\": \"\",\n        \"description\": \"\"\n      }\n    },\n    {\n      \"column\": \"prompt_name\",\n      \"properties\": {\n        \"dtype\": \"category\",\n        \"num_unique_values\": 15,\n        \"samples\": [\n          \"Grades for extracurricular activities\",\n          \"Does the electoral college work?\"\n        ],\n        \"semantic_type\": \"\",\n        \"description\": \"\"\n      }\n    },\n    {\n      \"column\": \"source\",\n      \"properties\": {\n        \"dtype\": \"category\",\n        \"num_unique_values\": 28,\n        \"samples\": [\n          \"radek_500\",\n          \"text-davinci-001\"\n        ],\n        \"semantic_type\": \"\",\n        \"description\": \"\"\n      }\n    },\n    {\n      \"column\": \"RDizzl3_seven\",\n      \"properties\": {\n        \"dtype\": \"boolean\",\n        \"num_unique_values\": 2,\n        \"samples\": [\n          true,\n          false\n        ],\n        \"semantic_type\": \"\",\n        \"description\": \"\"\n      }\n    }\n  ]\n}"
            }
          },
          "metadata": {},
          "execution_count": 137
        }
      ],
      "source": [
        "df = pd.read_csv('/content/drive/MyDrive/Senior Project/Dataset/original_dataset.csv')\n",
        "df.head()"
      ]
    },
    {
      "cell_type": "code",
      "source": [
        "#Check many possible ways that It will be null\n",
        "\n",
        "df[df['text'].isnull()].head()"
      ],
      "metadata": {
        "colab": {
          "base_uri": "https://localhost:8080/",
          "height": 206
        },
        "id": "bBUPeWzqnv3t",
        "outputId": "4cfec405-0556-42f9-c87c-7fc698f4c8fb"
      },
      "execution_count": 138,
      "outputs": [
        {
          "output_type": "execute_result",
          "data": {
            "text/plain": [
              "      text  label      prompt_name                                  source  \\\n",
              "44918  NaN      1  Car-free cities  Intel-neural-chat-7b-v3-1_LLMEssays_v1   \n",
              "44944  NaN      1  Car-free cities  Intel-neural-chat-7b-v3-1_LLMEssays_v1   \n",
              "45059  NaN      1  Car-free cities  Intel-neural-chat-7b-v3-1_LLMEssays_v1   \n",
              "45074  NaN      1  Car-free cities  Intel-neural-chat-7b-v3-1_LLMEssays_v1   \n",
              "45089  NaN      1  Car-free cities  Intel-neural-chat-7b-v3-1_LLMEssays_v1   \n",
              "\n",
              "       RDizzl3_seven  \n",
              "44918           True  \n",
              "44944           True  \n",
              "45059           True  \n",
              "45074           True  \n",
              "45089           True  "
            ],
            "text/html": [
              "\n",
              "  <div id=\"df-ed3b729e-4722-4e04-abda-8906c6effd3d\" class=\"colab-df-container\">\n",
              "    <div>\n",
              "<style scoped>\n",
              "    .dataframe tbody tr th:only-of-type {\n",
              "        vertical-align: middle;\n",
              "    }\n",
              "\n",
              "    .dataframe tbody tr th {\n",
              "        vertical-align: top;\n",
              "    }\n",
              "\n",
              "    .dataframe thead th {\n",
              "        text-align: right;\n",
              "    }\n",
              "</style>\n",
              "<table border=\"1\" class=\"dataframe\">\n",
              "  <thead>\n",
              "    <tr style=\"text-align: right;\">\n",
              "      <th></th>\n",
              "      <th>text</th>\n",
              "      <th>label</th>\n",
              "      <th>prompt_name</th>\n",
              "      <th>source</th>\n",
              "      <th>RDizzl3_seven</th>\n",
              "    </tr>\n",
              "  </thead>\n",
              "  <tbody>\n",
              "    <tr>\n",
              "      <th>44918</th>\n",
              "      <td>NaN</td>\n",
              "      <td>1</td>\n",
              "      <td>Car-free cities</td>\n",
              "      <td>Intel-neural-chat-7b-v3-1_LLMEssays_v1</td>\n",
              "      <td>True</td>\n",
              "    </tr>\n",
              "    <tr>\n",
              "      <th>44944</th>\n",
              "      <td>NaN</td>\n",
              "      <td>1</td>\n",
              "      <td>Car-free cities</td>\n",
              "      <td>Intel-neural-chat-7b-v3-1_LLMEssays_v1</td>\n",
              "      <td>True</td>\n",
              "    </tr>\n",
              "    <tr>\n",
              "      <th>45059</th>\n",
              "      <td>NaN</td>\n",
              "      <td>1</td>\n",
              "      <td>Car-free cities</td>\n",
              "      <td>Intel-neural-chat-7b-v3-1_LLMEssays_v1</td>\n",
              "      <td>True</td>\n",
              "    </tr>\n",
              "    <tr>\n",
              "      <th>45074</th>\n",
              "      <td>NaN</td>\n",
              "      <td>1</td>\n",
              "      <td>Car-free cities</td>\n",
              "      <td>Intel-neural-chat-7b-v3-1_LLMEssays_v1</td>\n",
              "      <td>True</td>\n",
              "    </tr>\n",
              "    <tr>\n",
              "      <th>45089</th>\n",
              "      <td>NaN</td>\n",
              "      <td>1</td>\n",
              "      <td>Car-free cities</td>\n",
              "      <td>Intel-neural-chat-7b-v3-1_LLMEssays_v1</td>\n",
              "      <td>True</td>\n",
              "    </tr>\n",
              "  </tbody>\n",
              "</table>\n",
              "</div>\n",
              "    <div class=\"colab-df-buttons\">\n",
              "\n",
              "  <div class=\"colab-df-container\">\n",
              "    <button class=\"colab-df-convert\" onclick=\"convertToInteractive('df-ed3b729e-4722-4e04-abda-8906c6effd3d')\"\n",
              "            title=\"Convert this dataframe to an interactive table.\"\n",
              "            style=\"display:none;\">\n",
              "\n",
              "  <svg xmlns=\"http://www.w3.org/2000/svg\" height=\"24px\" viewBox=\"0 -960 960 960\">\n",
              "    <path d=\"M120-120v-720h720v720H120Zm60-500h600v-160H180v160Zm220 220h160v-160H400v160Zm0 220h160v-160H400v160ZM180-400h160v-160H180v160Zm440 0h160v-160H620v160ZM180-180h160v-160H180v160Zm440 0h160v-160H620v160Z\"/>\n",
              "  </svg>\n",
              "    </button>\n",
              "\n",
              "  <style>\n",
              "    .colab-df-container {\n",
              "      display:flex;\n",
              "      gap: 12px;\n",
              "    }\n",
              "\n",
              "    .colab-df-convert {\n",
              "      background-color: #E8F0FE;\n",
              "      border: none;\n",
              "      border-radius: 50%;\n",
              "      cursor: pointer;\n",
              "      display: none;\n",
              "      fill: #1967D2;\n",
              "      height: 32px;\n",
              "      padding: 0 0 0 0;\n",
              "      width: 32px;\n",
              "    }\n",
              "\n",
              "    .colab-df-convert:hover {\n",
              "      background-color: #E2EBFA;\n",
              "      box-shadow: 0px 1px 2px rgba(60, 64, 67, 0.3), 0px 1px 3px 1px rgba(60, 64, 67, 0.15);\n",
              "      fill: #174EA6;\n",
              "    }\n",
              "\n",
              "    .colab-df-buttons div {\n",
              "      margin-bottom: 4px;\n",
              "    }\n",
              "\n",
              "    [theme=dark] .colab-df-convert {\n",
              "      background-color: #3B4455;\n",
              "      fill: #D2E3FC;\n",
              "    }\n",
              "\n",
              "    [theme=dark] .colab-df-convert:hover {\n",
              "      background-color: #434B5C;\n",
              "      box-shadow: 0px 1px 3px 1px rgba(0, 0, 0, 0.15);\n",
              "      filter: drop-shadow(0px 1px 2px rgba(0, 0, 0, 0.3));\n",
              "      fill: #FFFFFF;\n",
              "    }\n",
              "  </style>\n",
              "\n",
              "    <script>\n",
              "      const buttonEl =\n",
              "        document.querySelector('#df-ed3b729e-4722-4e04-abda-8906c6effd3d button.colab-df-convert');\n",
              "      buttonEl.style.display =\n",
              "        google.colab.kernel.accessAllowed ? 'block' : 'none';\n",
              "\n",
              "      async function convertToInteractive(key) {\n",
              "        const element = document.querySelector('#df-ed3b729e-4722-4e04-abda-8906c6effd3d');\n",
              "        const dataTable =\n",
              "          await google.colab.kernel.invokeFunction('convertToInteractive',\n",
              "                                                    [key], {});\n",
              "        if (!dataTable) return;\n",
              "\n",
              "        const docLinkHtml = 'Like what you see? Visit the ' +\n",
              "          '<a target=\"_blank\" href=https://colab.research.google.com/notebooks/data_table.ipynb>data table notebook</a>'\n",
              "          + ' to learn more about interactive tables.';\n",
              "        element.innerHTML = '';\n",
              "        dataTable['output_type'] = 'display_data';\n",
              "        await google.colab.output.renderOutput(dataTable, element);\n",
              "        const docLink = document.createElement('div');\n",
              "        docLink.innerHTML = docLinkHtml;\n",
              "        element.appendChild(docLink);\n",
              "      }\n",
              "    </script>\n",
              "  </div>\n",
              "\n",
              "\n",
              "<div id=\"df-eddf4e35-e373-4e12-8f17-f1bb78bdc7eb\">\n",
              "  <button class=\"colab-df-quickchart\" onclick=\"quickchart('df-eddf4e35-e373-4e12-8f17-f1bb78bdc7eb')\"\n",
              "            title=\"Suggest charts\"\n",
              "            style=\"display:none;\">\n",
              "\n",
              "<svg xmlns=\"http://www.w3.org/2000/svg\" height=\"24px\"viewBox=\"0 0 24 24\"\n",
              "     width=\"24px\">\n",
              "    <g>\n",
              "        <path d=\"M19 3H5c-1.1 0-2 .9-2 2v14c0 1.1.9 2 2 2h14c1.1 0 2-.9 2-2V5c0-1.1-.9-2-2-2zM9 17H7v-7h2v7zm4 0h-2V7h2v10zm4 0h-2v-4h2v4z\"/>\n",
              "    </g>\n",
              "</svg>\n",
              "  </button>\n",
              "\n",
              "<style>\n",
              "  .colab-df-quickchart {\n",
              "      --bg-color: #E8F0FE;\n",
              "      --fill-color: #1967D2;\n",
              "      --hover-bg-color: #E2EBFA;\n",
              "      --hover-fill-color: #174EA6;\n",
              "      --disabled-fill-color: #AAA;\n",
              "      --disabled-bg-color: #DDD;\n",
              "  }\n",
              "\n",
              "  [theme=dark] .colab-df-quickchart {\n",
              "      --bg-color: #3B4455;\n",
              "      --fill-color: #D2E3FC;\n",
              "      --hover-bg-color: #434B5C;\n",
              "      --hover-fill-color: #FFFFFF;\n",
              "      --disabled-bg-color: #3B4455;\n",
              "      --disabled-fill-color: #666;\n",
              "  }\n",
              "\n",
              "  .colab-df-quickchart {\n",
              "    background-color: var(--bg-color);\n",
              "    border: none;\n",
              "    border-radius: 50%;\n",
              "    cursor: pointer;\n",
              "    display: none;\n",
              "    fill: var(--fill-color);\n",
              "    height: 32px;\n",
              "    padding: 0;\n",
              "    width: 32px;\n",
              "  }\n",
              "\n",
              "  .colab-df-quickchart:hover {\n",
              "    background-color: var(--hover-bg-color);\n",
              "    box-shadow: 0 1px 2px rgba(60, 64, 67, 0.3), 0 1px 3px 1px rgba(60, 64, 67, 0.15);\n",
              "    fill: var(--button-hover-fill-color);\n",
              "  }\n",
              "\n",
              "  .colab-df-quickchart-complete:disabled,\n",
              "  .colab-df-quickchart-complete:disabled:hover {\n",
              "    background-color: var(--disabled-bg-color);\n",
              "    fill: var(--disabled-fill-color);\n",
              "    box-shadow: none;\n",
              "  }\n",
              "\n",
              "  .colab-df-spinner {\n",
              "    border: 2px solid var(--fill-color);\n",
              "    border-color: transparent;\n",
              "    border-bottom-color: var(--fill-color);\n",
              "    animation:\n",
              "      spin 1s steps(1) infinite;\n",
              "  }\n",
              "\n",
              "  @keyframes spin {\n",
              "    0% {\n",
              "      border-color: transparent;\n",
              "      border-bottom-color: var(--fill-color);\n",
              "      border-left-color: var(--fill-color);\n",
              "    }\n",
              "    20% {\n",
              "      border-color: transparent;\n",
              "      border-left-color: var(--fill-color);\n",
              "      border-top-color: var(--fill-color);\n",
              "    }\n",
              "    30% {\n",
              "      border-color: transparent;\n",
              "      border-left-color: var(--fill-color);\n",
              "      border-top-color: var(--fill-color);\n",
              "      border-right-color: var(--fill-color);\n",
              "    }\n",
              "    40% {\n",
              "      border-color: transparent;\n",
              "      border-right-color: var(--fill-color);\n",
              "      border-top-color: var(--fill-color);\n",
              "    }\n",
              "    60% {\n",
              "      border-color: transparent;\n",
              "      border-right-color: var(--fill-color);\n",
              "    }\n",
              "    80% {\n",
              "      border-color: transparent;\n",
              "      border-right-color: var(--fill-color);\n",
              "      border-bottom-color: var(--fill-color);\n",
              "    }\n",
              "    90% {\n",
              "      border-color: transparent;\n",
              "      border-bottom-color: var(--fill-color);\n",
              "    }\n",
              "  }\n",
              "</style>\n",
              "\n",
              "  <script>\n",
              "    async function quickchart(key) {\n",
              "      const quickchartButtonEl =\n",
              "        document.querySelector('#' + key + ' button');\n",
              "      quickchartButtonEl.disabled = true;  // To prevent multiple clicks.\n",
              "      quickchartButtonEl.classList.add('colab-df-spinner');\n",
              "      try {\n",
              "        const charts = await google.colab.kernel.invokeFunction(\n",
              "            'suggestCharts', [key], {});\n",
              "      } catch (error) {\n",
              "        console.error('Error during call to suggestCharts:', error);\n",
              "      }\n",
              "      quickchartButtonEl.classList.remove('colab-df-spinner');\n",
              "      quickchartButtonEl.classList.add('colab-df-quickchart-complete');\n",
              "    }\n",
              "    (() => {\n",
              "      let quickchartButtonEl =\n",
              "        document.querySelector('#df-eddf4e35-e373-4e12-8f17-f1bb78bdc7eb button');\n",
              "      quickchartButtonEl.style.display =\n",
              "        google.colab.kernel.accessAllowed ? 'block' : 'none';\n",
              "    })();\n",
              "  </script>\n",
              "</div>\n",
              "\n",
              "    </div>\n",
              "  </div>\n"
            ],
            "application/vnd.google.colaboratory.intrinsic+json": {
              "type": "dataframe",
              "repr_error": "0"
            }
          },
          "metadata": {},
          "execution_count": 138
        }
      ]
    },
    {
      "cell_type": "code",
      "source": [
        "df[df['text'].apply(lambda x: isinstance(x, str) and x.strip() == '')].head()"
      ],
      "metadata": {
        "colab": {
          "base_uri": "https://localhost:8080/",
          "height": 206
        },
        "id": "LN8wA4Sin3iF",
        "outputId": "a2a1e070-2c31-43f7-9e4d-de04ffe09a27"
      },
      "execution_count": 139,
      "outputs": [
        {
          "output_type": "execute_result",
          "data": {
            "text/plain": [
              "        text  label                       prompt_name  \\\n",
              "44920   \\n\\n      1                   Car-free cities   \n",
              "44936   \\n\\n      1                   Car-free cities   \n",
              "45169   \\n\\n      1                   Car-free cities   \n",
              "45275             1                   Car-free cities   \n",
              "45475  \\n\\n       1  Does the electoral college work?   \n",
              "\n",
              "                                       source  RDizzl3_seven  \n",
              "44920  Intel-neural-chat-7b-v3-1_LLMEssays_v1           True  \n",
              "44936  Intel-neural-chat-7b-v3-1_LLMEssays_v1           True  \n",
              "45169  Intel-neural-chat-7b-v3-1_LLMEssays_v1           True  \n",
              "45275  Intel-neural-chat-7b-v3-1_LLMEssays_v1           True  \n",
              "45475  Intel-neural-chat-7b-v3-1_LLMEssays_v1           True  "
            ],
            "text/html": [
              "\n",
              "  <div id=\"df-98f7e4f1-72b7-4636-b7af-5df81c34f9b1\" class=\"colab-df-container\">\n",
              "    <div>\n",
              "<style scoped>\n",
              "    .dataframe tbody tr th:only-of-type {\n",
              "        vertical-align: middle;\n",
              "    }\n",
              "\n",
              "    .dataframe tbody tr th {\n",
              "        vertical-align: top;\n",
              "    }\n",
              "\n",
              "    .dataframe thead th {\n",
              "        text-align: right;\n",
              "    }\n",
              "</style>\n",
              "<table border=\"1\" class=\"dataframe\">\n",
              "  <thead>\n",
              "    <tr style=\"text-align: right;\">\n",
              "      <th></th>\n",
              "      <th>text</th>\n",
              "      <th>label</th>\n",
              "      <th>prompt_name</th>\n",
              "      <th>source</th>\n",
              "      <th>RDizzl3_seven</th>\n",
              "    </tr>\n",
              "  </thead>\n",
              "  <tbody>\n",
              "    <tr>\n",
              "      <th>44920</th>\n",
              "      <td>\\n\\n</td>\n",
              "      <td>1</td>\n",
              "      <td>Car-free cities</td>\n",
              "      <td>Intel-neural-chat-7b-v3-1_LLMEssays_v1</td>\n",
              "      <td>True</td>\n",
              "    </tr>\n",
              "    <tr>\n",
              "      <th>44936</th>\n",
              "      <td>\\n\\n</td>\n",
              "      <td>1</td>\n",
              "      <td>Car-free cities</td>\n",
              "      <td>Intel-neural-chat-7b-v3-1_LLMEssays_v1</td>\n",
              "      <td>True</td>\n",
              "    </tr>\n",
              "    <tr>\n",
              "      <th>45169</th>\n",
              "      <td>\\n\\n</td>\n",
              "      <td>1</td>\n",
              "      <td>Car-free cities</td>\n",
              "      <td>Intel-neural-chat-7b-v3-1_LLMEssays_v1</td>\n",
              "      <td>True</td>\n",
              "    </tr>\n",
              "    <tr>\n",
              "      <th>45275</th>\n",
              "      <td></td>\n",
              "      <td>1</td>\n",
              "      <td>Car-free cities</td>\n",
              "      <td>Intel-neural-chat-7b-v3-1_LLMEssays_v1</td>\n",
              "      <td>True</td>\n",
              "    </tr>\n",
              "    <tr>\n",
              "      <th>45475</th>\n",
              "      <td>\\n\\n</td>\n",
              "      <td>1</td>\n",
              "      <td>Does the electoral college work?</td>\n",
              "      <td>Intel-neural-chat-7b-v3-1_LLMEssays_v1</td>\n",
              "      <td>True</td>\n",
              "    </tr>\n",
              "  </tbody>\n",
              "</table>\n",
              "</div>\n",
              "    <div class=\"colab-df-buttons\">\n",
              "\n",
              "  <div class=\"colab-df-container\">\n",
              "    <button class=\"colab-df-convert\" onclick=\"convertToInteractive('df-98f7e4f1-72b7-4636-b7af-5df81c34f9b1')\"\n",
              "            title=\"Convert this dataframe to an interactive table.\"\n",
              "            style=\"display:none;\">\n",
              "\n",
              "  <svg xmlns=\"http://www.w3.org/2000/svg\" height=\"24px\" viewBox=\"0 -960 960 960\">\n",
              "    <path d=\"M120-120v-720h720v720H120Zm60-500h600v-160H180v160Zm220 220h160v-160H400v160Zm0 220h160v-160H400v160ZM180-400h160v-160H180v160Zm440 0h160v-160H620v160ZM180-180h160v-160H180v160Zm440 0h160v-160H620v160Z\"/>\n",
              "  </svg>\n",
              "    </button>\n",
              "\n",
              "  <style>\n",
              "    .colab-df-container {\n",
              "      display:flex;\n",
              "      gap: 12px;\n",
              "    }\n",
              "\n",
              "    .colab-df-convert {\n",
              "      background-color: #E8F0FE;\n",
              "      border: none;\n",
              "      border-radius: 50%;\n",
              "      cursor: pointer;\n",
              "      display: none;\n",
              "      fill: #1967D2;\n",
              "      height: 32px;\n",
              "      padding: 0 0 0 0;\n",
              "      width: 32px;\n",
              "    }\n",
              "\n",
              "    .colab-df-convert:hover {\n",
              "      background-color: #E2EBFA;\n",
              "      box-shadow: 0px 1px 2px rgba(60, 64, 67, 0.3), 0px 1px 3px 1px rgba(60, 64, 67, 0.15);\n",
              "      fill: #174EA6;\n",
              "    }\n",
              "\n",
              "    .colab-df-buttons div {\n",
              "      margin-bottom: 4px;\n",
              "    }\n",
              "\n",
              "    [theme=dark] .colab-df-convert {\n",
              "      background-color: #3B4455;\n",
              "      fill: #D2E3FC;\n",
              "    }\n",
              "\n",
              "    [theme=dark] .colab-df-convert:hover {\n",
              "      background-color: #434B5C;\n",
              "      box-shadow: 0px 1px 3px 1px rgba(0, 0, 0, 0.15);\n",
              "      filter: drop-shadow(0px 1px 2px rgba(0, 0, 0, 0.3));\n",
              "      fill: #FFFFFF;\n",
              "    }\n",
              "  </style>\n",
              "\n",
              "    <script>\n",
              "      const buttonEl =\n",
              "        document.querySelector('#df-98f7e4f1-72b7-4636-b7af-5df81c34f9b1 button.colab-df-convert');\n",
              "      buttonEl.style.display =\n",
              "        google.colab.kernel.accessAllowed ? 'block' : 'none';\n",
              "\n",
              "      async function convertToInteractive(key) {\n",
              "        const element = document.querySelector('#df-98f7e4f1-72b7-4636-b7af-5df81c34f9b1');\n",
              "        const dataTable =\n",
              "          await google.colab.kernel.invokeFunction('convertToInteractive',\n",
              "                                                    [key], {});\n",
              "        if (!dataTable) return;\n",
              "\n",
              "        const docLinkHtml = 'Like what you see? Visit the ' +\n",
              "          '<a target=\"_blank\" href=https://colab.research.google.com/notebooks/data_table.ipynb>data table notebook</a>'\n",
              "          + ' to learn more about interactive tables.';\n",
              "        element.innerHTML = '';\n",
              "        dataTable['output_type'] = 'display_data';\n",
              "        await google.colab.output.renderOutput(dataTable, element);\n",
              "        const docLink = document.createElement('div');\n",
              "        docLink.innerHTML = docLinkHtml;\n",
              "        element.appendChild(docLink);\n",
              "      }\n",
              "    </script>\n",
              "  </div>\n",
              "\n",
              "\n",
              "<div id=\"df-7466cf18-729a-4a51-b9c9-b3e81ecda52b\">\n",
              "  <button class=\"colab-df-quickchart\" onclick=\"quickchart('df-7466cf18-729a-4a51-b9c9-b3e81ecda52b')\"\n",
              "            title=\"Suggest charts\"\n",
              "            style=\"display:none;\">\n",
              "\n",
              "<svg xmlns=\"http://www.w3.org/2000/svg\" height=\"24px\"viewBox=\"0 0 24 24\"\n",
              "     width=\"24px\">\n",
              "    <g>\n",
              "        <path d=\"M19 3H5c-1.1 0-2 .9-2 2v14c0 1.1.9 2 2 2h14c1.1 0 2-.9 2-2V5c0-1.1-.9-2-2-2zM9 17H7v-7h2v7zm4 0h-2V7h2v10zm4 0h-2v-4h2v4z\"/>\n",
              "    </g>\n",
              "</svg>\n",
              "  </button>\n",
              "\n",
              "<style>\n",
              "  .colab-df-quickchart {\n",
              "      --bg-color: #E8F0FE;\n",
              "      --fill-color: #1967D2;\n",
              "      --hover-bg-color: #E2EBFA;\n",
              "      --hover-fill-color: #174EA6;\n",
              "      --disabled-fill-color: #AAA;\n",
              "      --disabled-bg-color: #DDD;\n",
              "  }\n",
              "\n",
              "  [theme=dark] .colab-df-quickchart {\n",
              "      --bg-color: #3B4455;\n",
              "      --fill-color: #D2E3FC;\n",
              "      --hover-bg-color: #434B5C;\n",
              "      --hover-fill-color: #FFFFFF;\n",
              "      --disabled-bg-color: #3B4455;\n",
              "      --disabled-fill-color: #666;\n",
              "  }\n",
              "\n",
              "  .colab-df-quickchart {\n",
              "    background-color: var(--bg-color);\n",
              "    border: none;\n",
              "    border-radius: 50%;\n",
              "    cursor: pointer;\n",
              "    display: none;\n",
              "    fill: var(--fill-color);\n",
              "    height: 32px;\n",
              "    padding: 0;\n",
              "    width: 32px;\n",
              "  }\n",
              "\n",
              "  .colab-df-quickchart:hover {\n",
              "    background-color: var(--hover-bg-color);\n",
              "    box-shadow: 0 1px 2px rgba(60, 64, 67, 0.3), 0 1px 3px 1px rgba(60, 64, 67, 0.15);\n",
              "    fill: var(--button-hover-fill-color);\n",
              "  }\n",
              "\n",
              "  .colab-df-quickchart-complete:disabled,\n",
              "  .colab-df-quickchart-complete:disabled:hover {\n",
              "    background-color: var(--disabled-bg-color);\n",
              "    fill: var(--disabled-fill-color);\n",
              "    box-shadow: none;\n",
              "  }\n",
              "\n",
              "  .colab-df-spinner {\n",
              "    border: 2px solid var(--fill-color);\n",
              "    border-color: transparent;\n",
              "    border-bottom-color: var(--fill-color);\n",
              "    animation:\n",
              "      spin 1s steps(1) infinite;\n",
              "  }\n",
              "\n",
              "  @keyframes spin {\n",
              "    0% {\n",
              "      border-color: transparent;\n",
              "      border-bottom-color: var(--fill-color);\n",
              "      border-left-color: var(--fill-color);\n",
              "    }\n",
              "    20% {\n",
              "      border-color: transparent;\n",
              "      border-left-color: var(--fill-color);\n",
              "      border-top-color: var(--fill-color);\n",
              "    }\n",
              "    30% {\n",
              "      border-color: transparent;\n",
              "      border-left-color: var(--fill-color);\n",
              "      border-top-color: var(--fill-color);\n",
              "      border-right-color: var(--fill-color);\n",
              "    }\n",
              "    40% {\n",
              "      border-color: transparent;\n",
              "      border-right-color: var(--fill-color);\n",
              "      border-top-color: var(--fill-color);\n",
              "    }\n",
              "    60% {\n",
              "      border-color: transparent;\n",
              "      border-right-color: var(--fill-color);\n",
              "    }\n",
              "    80% {\n",
              "      border-color: transparent;\n",
              "      border-right-color: var(--fill-color);\n",
              "      border-bottom-color: var(--fill-color);\n",
              "    }\n",
              "    90% {\n",
              "      border-color: transparent;\n",
              "      border-bottom-color: var(--fill-color);\n",
              "    }\n",
              "  }\n",
              "</style>\n",
              "\n",
              "  <script>\n",
              "    async function quickchart(key) {\n",
              "      const quickchartButtonEl =\n",
              "        document.querySelector('#' + key + ' button');\n",
              "      quickchartButtonEl.disabled = true;  // To prevent multiple clicks.\n",
              "      quickchartButtonEl.classList.add('colab-df-spinner');\n",
              "      try {\n",
              "        const charts = await google.colab.kernel.invokeFunction(\n",
              "            'suggestCharts', [key], {});\n",
              "      } catch (error) {\n",
              "        console.error('Error during call to suggestCharts:', error);\n",
              "      }\n",
              "      quickchartButtonEl.classList.remove('colab-df-spinner');\n",
              "      quickchartButtonEl.classList.add('colab-df-quickchart-complete');\n",
              "    }\n",
              "    (() => {\n",
              "      let quickchartButtonEl =\n",
              "        document.querySelector('#df-7466cf18-729a-4a51-b9c9-b3e81ecda52b button');\n",
              "      quickchartButtonEl.style.display =\n",
              "        google.colab.kernel.accessAllowed ? 'block' : 'none';\n",
              "    })();\n",
              "  </script>\n",
              "</div>\n",
              "\n",
              "    </div>\n",
              "  </div>\n"
            ],
            "application/vnd.google.colaboratory.intrinsic+json": {
              "type": "dataframe",
              "summary": "{\n  \"name\": \"df[df['text']\",\n  \"rows\": 5,\n  \"fields\": [\n    {\n      \"column\": \"text\",\n      \"properties\": {\n        \"dtype\": \"string\",\n        \"num_unique_values\": 3,\n        \"samples\": [\n          \"\\n\\n\",\n          \" \",\n          \"\\n\\n \"\n        ],\n        \"semantic_type\": \"\",\n        \"description\": \"\"\n      }\n    },\n    {\n      \"column\": \"label\",\n      \"properties\": {\n        \"dtype\": \"number\",\n        \"std\": 0,\n        \"min\": 1,\n        \"max\": 1,\n        \"num_unique_values\": 1,\n        \"samples\": [\n          1\n        ],\n        \"semantic_type\": \"\",\n        \"description\": \"\"\n      }\n    },\n    {\n      \"column\": \"prompt_name\",\n      \"properties\": {\n        \"dtype\": \"category\",\n        \"num_unique_values\": 2,\n        \"samples\": [\n          \"Does the electoral college work?\"\n        ],\n        \"semantic_type\": \"\",\n        \"description\": \"\"\n      }\n    },\n    {\n      \"column\": \"source\",\n      \"properties\": {\n        \"dtype\": \"category\",\n        \"num_unique_values\": 1,\n        \"samples\": [\n          \"Intel-neural-chat-7b-v3-1_LLMEssays_v1\"\n        ],\n        \"semantic_type\": \"\",\n        \"description\": \"\"\n      }\n    },\n    {\n      \"column\": \"RDizzl3_seven\",\n      \"properties\": {\n        \"dtype\": \"boolean\",\n        \"num_unique_values\": 1,\n        \"samples\": [\n          true\n        ],\n        \"semantic_type\": \"\",\n        \"description\": \"\"\n      }\n    }\n  ]\n}"
            }
          },
          "metadata": {},
          "execution_count": 139
        }
      ]
    },
    {
      "cell_type": "code",
      "source": [
        "# Drop rows where 'text' is NaN or None\n",
        "df = df.dropna(subset=['text'])\n",
        "\n",
        "# Drop rows where 'text' is an empty string or whitespace\n",
        "df = df[df['text'].str.strip() != '']"
      ],
      "metadata": {
        "id": "48RaKOD9n63g"
      },
      "execution_count": 140,
      "outputs": []
    },
    {
      "cell_type": "code",
      "source": [
        "#Checking that there is no more missing value\n",
        "df.info()"
      ],
      "metadata": {
        "colab": {
          "base_uri": "https://localhost:8080/"
        },
        "id": "IiImE26Wn-L4",
        "outputId": "8ae65c60-5868-418c-bd7d-201cff7676b3"
      },
      "execution_count": 141,
      "outputs": [
        {
          "output_type": "stream",
          "name": "stdout",
          "text": [
            "<class 'pandas.core.frame.DataFrame'>\n",
            "Index: 65328 entries, 0 to 65507\n",
            "Data columns (total 5 columns):\n",
            " #   Column         Non-Null Count  Dtype \n",
            "---  ------         --------------  ----- \n",
            " 0   text           65328 non-null  object\n",
            " 1   label          65328 non-null  int64 \n",
            " 2   prompt_name    65328 non-null  object\n",
            " 3   source         65328 non-null  object\n",
            " 4   RDizzl3_seven  65328 non-null  bool  \n",
            "dtypes: bool(1), int64(1), object(3)\n",
            "memory usage: 2.6+ MB\n"
          ]
        }
      ]
    },
    {
      "cell_type": "code",
      "source": [
        "# Detect duplicates that in our dataset has duplicated or not.\n",
        "df[df.duplicated() == True].shape"
      ],
      "metadata": {
        "colab": {
          "base_uri": "https://localhost:8080/"
        },
        "id": "hakb4Ot_oBLJ",
        "outputId": "4fe4a7e0-ed2a-4bed-980a-56ddce84a690"
      },
      "execution_count": 142,
      "outputs": [
        {
          "output_type": "execute_result",
          "data": {
            "text/plain": [
              "(0, 5)"
            ]
          },
          "metadata": {},
          "execution_count": 142
        }
      ]
    },
    {
      "cell_type": "code",
      "source": [
        "#There are '\\n' in most of essays. The reason maybe that It is new line (ขึ้นบรรทัดใหม่)\n",
        "df[df['text'].str.contains('\\n') == True].shape"
      ],
      "metadata": {
        "colab": {
          "base_uri": "https://localhost:8080/"
        },
        "id": "a6Do5k_3oEXX",
        "outputId": "079e3fcd-c6ef-4222-f32a-c649275671fa"
      },
      "execution_count": 143,
      "outputs": [
        {
          "output_type": "execute_result",
          "data": {
            "text/plain": [
              "(63463, 5)"
            ]
          },
          "metadata": {},
          "execution_count": 143
        }
      ]
    },
    {
      "cell_type": "code",
      "source": [
        "#There are '\\n' in most of essays. The reason maybe that It is new line (ขึ้นบรรทัดใหม่)\n",
        "df[df['text'].str.contains('\\r') == True].shape"
      ],
      "metadata": {
        "colab": {
          "base_uri": "https://localhost:8080/"
        },
        "id": "jKwZmUeKoHTL",
        "outputId": "dc3e4177-6327-44e2-a5f2-f51052d690d9"
      },
      "execution_count": 144,
      "outputs": [
        {
          "output_type": "execute_result",
          "data": {
            "text/plain": [
              "(220, 5)"
            ]
          },
          "metadata": {},
          "execution_count": 144
        }
      ]
    },
    {
      "cell_type": "code",
      "source": [
        "#There are '\\n' in most of essays. The reason maybe that It is new line (ขึ้นบรรทัดใหม่)\n",
        "df[df['text'].str.contains('\\t') == True].shape"
      ],
      "metadata": {
        "colab": {
          "base_uri": "https://localhost:8080/"
        },
        "id": "_ptolb4YoKQl",
        "outputId": "1969230b-b383-4025-a080-3ddc2775349a"
      },
      "execution_count": 145,
      "outputs": [
        {
          "output_type": "execute_result",
          "data": {
            "text/plain": [
              "(1, 5)"
            ]
          },
          "metadata": {},
          "execution_count": 145
        }
      ]
    },
    {
      "cell_type": "code",
      "source": [
        "#We try to replace '\\n' with ' '\n",
        "df['text'] = df['text'].str.replace('\\n', ' ', regex=False)\n",
        "df['text'] = df['text'].str.replace('\\r', ' ', regex=False)\n",
        "df['text'] = df['text'].str.replace('\\t', ' ', regex=False)\n",
        "df.head()"
      ],
      "metadata": {
        "colab": {
          "base_uri": "https://localhost:8080/",
          "height": 206
        },
        "id": "r7AV1csVoOTP",
        "outputId": "a76329c7-dc0d-477b-ce66-e665841e10b2"
      },
      "execution_count": 146,
      "outputs": [
        {
          "output_type": "execute_result",
          "data": {
            "text/plain": [
              "                                                text  label  \\\n",
              "0  Phones  Modern humans today are always on thei...      0   \n",
              "1  This essay will explain if drivers should or s...      0   \n",
              "2  Driving while the use of cellular devices  Tod...      0   \n",
              "3  Phones & Driving  Drivers should not be able t...      0   \n",
              "4  Cell Phone Operation While Driving  The abilit...      0   \n",
              "\n",
              "          prompt_name           source  RDizzl3_seven  \n",
              "0  Phones and driving  persuade_corpus          False  \n",
              "1  Phones and driving  persuade_corpus          False  \n",
              "2  Phones and driving  persuade_corpus          False  \n",
              "3  Phones and driving  persuade_corpus          False  \n",
              "4  Phones and driving  persuade_corpus          False  "
            ],
            "text/html": [
              "\n",
              "  <div id=\"df-69eca173-518b-46f3-ab9c-cc6dde28d706\" class=\"colab-df-container\">\n",
              "    <div>\n",
              "<style scoped>\n",
              "    .dataframe tbody tr th:only-of-type {\n",
              "        vertical-align: middle;\n",
              "    }\n",
              "\n",
              "    .dataframe tbody tr th {\n",
              "        vertical-align: top;\n",
              "    }\n",
              "\n",
              "    .dataframe thead th {\n",
              "        text-align: right;\n",
              "    }\n",
              "</style>\n",
              "<table border=\"1\" class=\"dataframe\">\n",
              "  <thead>\n",
              "    <tr style=\"text-align: right;\">\n",
              "      <th></th>\n",
              "      <th>text</th>\n",
              "      <th>label</th>\n",
              "      <th>prompt_name</th>\n",
              "      <th>source</th>\n",
              "      <th>RDizzl3_seven</th>\n",
              "    </tr>\n",
              "  </thead>\n",
              "  <tbody>\n",
              "    <tr>\n",
              "      <th>0</th>\n",
              "      <td>Phones  Modern humans today are always on thei...</td>\n",
              "      <td>0</td>\n",
              "      <td>Phones and driving</td>\n",
              "      <td>persuade_corpus</td>\n",
              "      <td>False</td>\n",
              "    </tr>\n",
              "    <tr>\n",
              "      <th>1</th>\n",
              "      <td>This essay will explain if drivers should or s...</td>\n",
              "      <td>0</td>\n",
              "      <td>Phones and driving</td>\n",
              "      <td>persuade_corpus</td>\n",
              "      <td>False</td>\n",
              "    </tr>\n",
              "    <tr>\n",
              "      <th>2</th>\n",
              "      <td>Driving while the use of cellular devices  Tod...</td>\n",
              "      <td>0</td>\n",
              "      <td>Phones and driving</td>\n",
              "      <td>persuade_corpus</td>\n",
              "      <td>False</td>\n",
              "    </tr>\n",
              "    <tr>\n",
              "      <th>3</th>\n",
              "      <td>Phones &amp; Driving  Drivers should not be able t...</td>\n",
              "      <td>0</td>\n",
              "      <td>Phones and driving</td>\n",
              "      <td>persuade_corpus</td>\n",
              "      <td>False</td>\n",
              "    </tr>\n",
              "    <tr>\n",
              "      <th>4</th>\n",
              "      <td>Cell Phone Operation While Driving  The abilit...</td>\n",
              "      <td>0</td>\n",
              "      <td>Phones and driving</td>\n",
              "      <td>persuade_corpus</td>\n",
              "      <td>False</td>\n",
              "    </tr>\n",
              "  </tbody>\n",
              "</table>\n",
              "</div>\n",
              "    <div class=\"colab-df-buttons\">\n",
              "\n",
              "  <div class=\"colab-df-container\">\n",
              "    <button class=\"colab-df-convert\" onclick=\"convertToInteractive('df-69eca173-518b-46f3-ab9c-cc6dde28d706')\"\n",
              "            title=\"Convert this dataframe to an interactive table.\"\n",
              "            style=\"display:none;\">\n",
              "\n",
              "  <svg xmlns=\"http://www.w3.org/2000/svg\" height=\"24px\" viewBox=\"0 -960 960 960\">\n",
              "    <path d=\"M120-120v-720h720v720H120Zm60-500h600v-160H180v160Zm220 220h160v-160H400v160Zm0 220h160v-160H400v160ZM180-400h160v-160H180v160Zm440 0h160v-160H620v160ZM180-180h160v-160H180v160Zm440 0h160v-160H620v160Z\"/>\n",
              "  </svg>\n",
              "    </button>\n",
              "\n",
              "  <style>\n",
              "    .colab-df-container {\n",
              "      display:flex;\n",
              "      gap: 12px;\n",
              "    }\n",
              "\n",
              "    .colab-df-convert {\n",
              "      background-color: #E8F0FE;\n",
              "      border: none;\n",
              "      border-radius: 50%;\n",
              "      cursor: pointer;\n",
              "      display: none;\n",
              "      fill: #1967D2;\n",
              "      height: 32px;\n",
              "      padding: 0 0 0 0;\n",
              "      width: 32px;\n",
              "    }\n",
              "\n",
              "    .colab-df-convert:hover {\n",
              "      background-color: #E2EBFA;\n",
              "      box-shadow: 0px 1px 2px rgba(60, 64, 67, 0.3), 0px 1px 3px 1px rgba(60, 64, 67, 0.15);\n",
              "      fill: #174EA6;\n",
              "    }\n",
              "\n",
              "    .colab-df-buttons div {\n",
              "      margin-bottom: 4px;\n",
              "    }\n",
              "\n",
              "    [theme=dark] .colab-df-convert {\n",
              "      background-color: #3B4455;\n",
              "      fill: #D2E3FC;\n",
              "    }\n",
              "\n",
              "    [theme=dark] .colab-df-convert:hover {\n",
              "      background-color: #434B5C;\n",
              "      box-shadow: 0px 1px 3px 1px rgba(0, 0, 0, 0.15);\n",
              "      filter: drop-shadow(0px 1px 2px rgba(0, 0, 0, 0.3));\n",
              "      fill: #FFFFFF;\n",
              "    }\n",
              "  </style>\n",
              "\n",
              "    <script>\n",
              "      const buttonEl =\n",
              "        document.querySelector('#df-69eca173-518b-46f3-ab9c-cc6dde28d706 button.colab-df-convert');\n",
              "      buttonEl.style.display =\n",
              "        google.colab.kernel.accessAllowed ? 'block' : 'none';\n",
              "\n",
              "      async function convertToInteractive(key) {\n",
              "        const element = document.querySelector('#df-69eca173-518b-46f3-ab9c-cc6dde28d706');\n",
              "        const dataTable =\n",
              "          await google.colab.kernel.invokeFunction('convertToInteractive',\n",
              "                                                    [key], {});\n",
              "        if (!dataTable) return;\n",
              "\n",
              "        const docLinkHtml = 'Like what you see? Visit the ' +\n",
              "          '<a target=\"_blank\" href=https://colab.research.google.com/notebooks/data_table.ipynb>data table notebook</a>'\n",
              "          + ' to learn more about interactive tables.';\n",
              "        element.innerHTML = '';\n",
              "        dataTable['output_type'] = 'display_data';\n",
              "        await google.colab.output.renderOutput(dataTable, element);\n",
              "        const docLink = document.createElement('div');\n",
              "        docLink.innerHTML = docLinkHtml;\n",
              "        element.appendChild(docLink);\n",
              "      }\n",
              "    </script>\n",
              "  </div>\n",
              "\n",
              "\n",
              "<div id=\"df-399f1f1f-8f1c-4e8e-b656-d6d4692d2530\">\n",
              "  <button class=\"colab-df-quickchart\" onclick=\"quickchart('df-399f1f1f-8f1c-4e8e-b656-d6d4692d2530')\"\n",
              "            title=\"Suggest charts\"\n",
              "            style=\"display:none;\">\n",
              "\n",
              "<svg xmlns=\"http://www.w3.org/2000/svg\" height=\"24px\"viewBox=\"0 0 24 24\"\n",
              "     width=\"24px\">\n",
              "    <g>\n",
              "        <path d=\"M19 3H5c-1.1 0-2 .9-2 2v14c0 1.1.9 2 2 2h14c1.1 0 2-.9 2-2V5c0-1.1-.9-2-2-2zM9 17H7v-7h2v7zm4 0h-2V7h2v10zm4 0h-2v-4h2v4z\"/>\n",
              "    </g>\n",
              "</svg>\n",
              "  </button>\n",
              "\n",
              "<style>\n",
              "  .colab-df-quickchart {\n",
              "      --bg-color: #E8F0FE;\n",
              "      --fill-color: #1967D2;\n",
              "      --hover-bg-color: #E2EBFA;\n",
              "      --hover-fill-color: #174EA6;\n",
              "      --disabled-fill-color: #AAA;\n",
              "      --disabled-bg-color: #DDD;\n",
              "  }\n",
              "\n",
              "  [theme=dark] .colab-df-quickchart {\n",
              "      --bg-color: #3B4455;\n",
              "      --fill-color: #D2E3FC;\n",
              "      --hover-bg-color: #434B5C;\n",
              "      --hover-fill-color: #FFFFFF;\n",
              "      --disabled-bg-color: #3B4455;\n",
              "      --disabled-fill-color: #666;\n",
              "  }\n",
              "\n",
              "  .colab-df-quickchart {\n",
              "    background-color: var(--bg-color);\n",
              "    border: none;\n",
              "    border-radius: 50%;\n",
              "    cursor: pointer;\n",
              "    display: none;\n",
              "    fill: var(--fill-color);\n",
              "    height: 32px;\n",
              "    padding: 0;\n",
              "    width: 32px;\n",
              "  }\n",
              "\n",
              "  .colab-df-quickchart:hover {\n",
              "    background-color: var(--hover-bg-color);\n",
              "    box-shadow: 0 1px 2px rgba(60, 64, 67, 0.3), 0 1px 3px 1px rgba(60, 64, 67, 0.15);\n",
              "    fill: var(--button-hover-fill-color);\n",
              "  }\n",
              "\n",
              "  .colab-df-quickchart-complete:disabled,\n",
              "  .colab-df-quickchart-complete:disabled:hover {\n",
              "    background-color: var(--disabled-bg-color);\n",
              "    fill: var(--disabled-fill-color);\n",
              "    box-shadow: none;\n",
              "  }\n",
              "\n",
              "  .colab-df-spinner {\n",
              "    border: 2px solid var(--fill-color);\n",
              "    border-color: transparent;\n",
              "    border-bottom-color: var(--fill-color);\n",
              "    animation:\n",
              "      spin 1s steps(1) infinite;\n",
              "  }\n",
              "\n",
              "  @keyframes spin {\n",
              "    0% {\n",
              "      border-color: transparent;\n",
              "      border-bottom-color: var(--fill-color);\n",
              "      border-left-color: var(--fill-color);\n",
              "    }\n",
              "    20% {\n",
              "      border-color: transparent;\n",
              "      border-left-color: var(--fill-color);\n",
              "      border-top-color: var(--fill-color);\n",
              "    }\n",
              "    30% {\n",
              "      border-color: transparent;\n",
              "      border-left-color: var(--fill-color);\n",
              "      border-top-color: var(--fill-color);\n",
              "      border-right-color: var(--fill-color);\n",
              "    }\n",
              "    40% {\n",
              "      border-color: transparent;\n",
              "      border-right-color: var(--fill-color);\n",
              "      border-top-color: var(--fill-color);\n",
              "    }\n",
              "    60% {\n",
              "      border-color: transparent;\n",
              "      border-right-color: var(--fill-color);\n",
              "    }\n",
              "    80% {\n",
              "      border-color: transparent;\n",
              "      border-right-color: var(--fill-color);\n",
              "      border-bottom-color: var(--fill-color);\n",
              "    }\n",
              "    90% {\n",
              "      border-color: transparent;\n",
              "      border-bottom-color: var(--fill-color);\n",
              "    }\n",
              "  }\n",
              "</style>\n",
              "\n",
              "  <script>\n",
              "    async function quickchart(key) {\n",
              "      const quickchartButtonEl =\n",
              "        document.querySelector('#' + key + ' button');\n",
              "      quickchartButtonEl.disabled = true;  // To prevent multiple clicks.\n",
              "      quickchartButtonEl.classList.add('colab-df-spinner');\n",
              "      try {\n",
              "        const charts = await google.colab.kernel.invokeFunction(\n",
              "            'suggestCharts', [key], {});\n",
              "      } catch (error) {\n",
              "        console.error('Error during call to suggestCharts:', error);\n",
              "      }\n",
              "      quickchartButtonEl.classList.remove('colab-df-spinner');\n",
              "      quickchartButtonEl.classList.add('colab-df-quickchart-complete');\n",
              "    }\n",
              "    (() => {\n",
              "      let quickchartButtonEl =\n",
              "        document.querySelector('#df-399f1f1f-8f1c-4e8e-b656-d6d4692d2530 button');\n",
              "      quickchartButtonEl.style.display =\n",
              "        google.colab.kernel.accessAllowed ? 'block' : 'none';\n",
              "    })();\n",
              "  </script>\n",
              "</div>\n",
              "\n",
              "    </div>\n",
              "  </div>\n"
            ],
            "application/vnd.google.colaboratory.intrinsic+json": {
              "type": "dataframe",
              "variable_name": "df",
              "summary": "{\n  \"name\": \"df\",\n  \"rows\": 65328,\n  \"fields\": [\n    {\n      \"column\": \"text\",\n      \"properties\": {\n        \"dtype\": \"string\",\n        \"num_unique_values\": 65328,\n        \"samples\": [\n          \"  The facial action coding system (FACS) is a revolutionary technique for visually analyzing facial movements and expressions, paving the way for advancements in research fields like psychology, sociology, and various areas of science. Developed by renowned psychologists Paul Ekman and Wallace V. Friesen in the 1970s, the FACS combines elements of anatomy, physiology, psychology, and linguistic analysis to create an understanding of the complex functions a face offers in both communication and understanding of emotions and thoughts.  Ekman and Friesen's method is grounded in careful observation and classification of the various facial movements. There are 20 different muscle groups that govern the facial expressions, and in some cases, individual muscles contribute to multiple actions \\u2013 making it considerably more complicated than meets the eye. The system classifies each facial movement down to the most minute detail, making it an incredibly comprehensive tool for deciphering the intricacies of human emotions.  The primary feature of FACS involves a detailed mapping of the facial movements caused by the contraction or relaxation of these 20 muscle groups across all regions of the face, with each movement recorded as a unique action unit (AU). These action units are categorized into seven major categories \\u2013 brow raiser, cheek raise, lips part, nose wrinkle, lip corners pull, chin raise, and jaw drop \\u2013 with additional variations within each sub-category. Using this system, human faces can be divided into 46 specific action categories, ensuring researchers have the tools to differentiate even the most subtle of variations in emotive expressions.  Another essential part of the FACS is its recognition of the universal nature of emotional expressions. Through years of collaboration, Ekman and Friesen have concluded that while the cultural, social, and physical differences between people result in an infinite array of cultural experiences, the ways in which we manifest our basic emotions remain fairly constant, even across cultures with minimal contact. While facial expressions of emotion might be influenced by cultural factors such as body language, vocal tone, and specific cultural context, the fundamental actions governing those expressions are similar across populations.  Ekman and Friesen took this universal aspect into careful consideration in their FACS method, ensuring that it was a tool that could be applied across various research domains. For instance, this theory has been used in forensic and clinical settings, helping forensic scientists uncover deception in statements, and also enabling mental health professionals to accurately assess moods and mental illnesses in their patients. Additionally, the FACS has been used extensively in research related to marketing and advertising, where it assists in better understanding consumer sentiment and preferences.  In more than four decades since its inception, the FACS has significantly evolved, and it has become instrumental in various areas of research. However, several limitations remain. Despite its considerable versatility, interpreting facial expressions is not foolproof. Other environmental factors can interfere and influence emotional expressions, including body language and verbal information. Individual physiological variations may also mean that certain muscle movements or AU combinations might not be universally present in every individual, making interpretations more challenging.  Moreover, the FACS relies heavily on visual data and can be difficult to apply in conditions like blindness or deafness, where the senses of sight and hearing, and their direct relation to emotional responses, are impaired. Furthermore, the complexity of facial expressions does not always translate into an individual's cultural and emotional context. Therefore, while the FACS offers powerful insights, it cannot completely substitute for more nuanced and comprehensive methods of human emotional analysis.  Despite these limitations, the FACS has made profound contributions to the understanding of emotions and human behavior. Its development owes a lot to the dedication of its creators, Paul Ekman and Wallace V. Friesen, who took the time to carefully analyze and classify facial expressions down to minute details to ensure that we as a society can better comprehend our own and others' emotions. As a result, facial coding has become a vital component in the study of human behavior, psychology, sociology, and various other scientific fields. As technology continues to progress and new advancements arise, the potential for future developments in this fascinating area of research will surely continue to grow, leaving lasting impacts on the way psychologists and behavioral scientists approach facial communication.\",\n          \"Yes, the use of Facial Action Codying Stystem would be very useful for students in the classroom. Not only can this technology detect when a student is confused or bored, but it can change the lesson to grab the students' attention again, or to explain it in an another way. Along with this, this technology could introduce a lot more job intrest, hobby intrest, or just pure intrest among students. Lastly, this technology would be beneficial to students because it would give us a reason to be taught about the science of emotion, we could learn and go more into depth about our basic human body and mind and how easy emotions can show.  This technology can change lessons for kids who aren't understanding, or are just completley bored of the material being shown. This can greatly change a students grades from bad to good, along with make them look forward to coming to your class or school in general. From paragraph 6 the author stated, \\\"A classroom computer could recongnize when a student is becoming confused or bored.\\\" Ending the conversation with, \\\"Then it could modify the lesson, like an effective human instuctor.\\\" Another point which dosn't relate to the fact of changing around lessons for a student would be also in paragraph 6,\\\"...if you smile when a Web ad appears on your screen, a similar ad might follow. But if you frown, the next ad will be different.\\\" This technology can overall make a students lesson, web browsing, and understanding of materal a lot easier and it could greatly improve their work.  Secondly, the FACS can show students a different range of technology that is fairly new. It could show some kids something they may be passionate for but never knew of, it could be a possible job intrest, a new hobby interest, anything at all. The people using this technology are doing so many things, \\\"The process begins when the computer constructs a 3-D computer model of the face;\\\" So they're not only using 3-D software but also, \\\"Using video imagery, the new emotion-recongnition software tracks these facial movements.\\\" The people who are specializing in doing this kind of technology, are branching out in very large, and impactful ways. Many students could be interested in doing this, and sometimes if it's not in school and they don't hear of it. They can never find it.  Lastly, having this technology in our school would give us a reason to talk about the basic science of emotion. We can learn about our human bodies and why emotion is displayed so easily, and how it's displayed as well. \\\"According to the Facial Feedback Theory of Emotion, moving your facial muscles not only expresses emotions, but also may even help produce them.\\\" Our faces can move in multiple ways depending on the emotion we feel, as shown in paragraphs 7-8. Why does it do this? This technology can give us a valid reason to talk about the science of emotion more, and we can learn more about this as students or even as teachers.  Finally, either it be the fact that a lesson can be changed based off of if a student is bored or confused. Or that having this technology can show students a wider range of possible job choices, hobby choices, or just learning more about something out of pure intrest. Or lastly, because having this technology around us gives us a reason to talk about the science of emotion in depth. This technology could be extreamly useful, and impactful on students, if the software being used is good and has been shown to be correct. This could be a very good thing to have in schools that our students can use and to possibly even learn about. \",\n          \"\\u201cMaking Mona Lisa Smile\\u201d is an article that discusses the Facial Action Coding System (FACS), a technology that allows computers to interpret human emotions. The article explores the potential benefits and drawbacks of using this technology in educational settings, particularly for reading the emotional expressions of students in a classroom.  While the FACS system is an impressive technological advancement, its usefulness in classrooms is debatable. As Nick D\\u2019Alto, a technology expert, points out in the article, humans already possess the innate ability to interpret facial expressions and gauge emotions. Therefore, the implementation of emotion-detecting software in classrooms may be unnecessary, and even redundant.  Moreover, the use of emotion-detecting software in classrooms raises significant privacy concerns. The FACS system may be able to recognize emotions like confusion or boredom, but it lacks the ability to understand the underlying causes of these emotions. In a diverse classroom setting, students bring a range of personal experiences and emotions that may not be directly related to the classroom environment. The application of emotion detection technology in such a setting could lead to invasive scrutiny of students\\u2019 private emotional states, potentially exacerbating their distress.  The article also highlights the practical and financial constraints of implementing emotion detection technology in educational settings. While some proponents of the technology suggest that computers equipped with FACS could adapt teaching methods to maintain student engagement, this approach may be difficult to implement in group settings. Additionally, the costs of equipping each student with personalized emotion-detecting computers would be significant, making it an impractical solution for most educational institutions.  In conclusion, while the idea of computers understanding and responding to human emotions is fascinating, its application in educational settings raises significant concerns. The costs of implementing such technology, both in terms of privacy and practicality, may outweigh the potential benefits. Therefore, it is important to approach technological integration in education with caution and respect for privacy. As the age of technology progresses, it is crucial to remember the value of human touch in education, where emotional understanding and connection are paramount.  As a student in 10th grade, I can attest to the importance of emotional understanding and connection in the classroom. While technology can be a useful tool for learning, it is no substitute for the human touch. Teachers possess the ability to sense and respond to student emotions effectively, and this skill is essential in creating a positive and engaging learning environment. While technology can enhance the educational experience, it should not replace the importance of human interaction and emotional understanding in the classroom.\"\n        ],\n        \"semantic_type\": \"\",\n        \"description\": \"\"\n      }\n    },\n    {\n      \"column\": \"label\",\n      \"properties\": {\n        \"dtype\": \"number\",\n        \"std\": 0,\n        \"min\": 0,\n        \"max\": 1,\n        \"num_unique_values\": 2,\n        \"samples\": [\n          1,\n          0\n        ],\n        \"semantic_type\": \"\",\n        \"description\": \"\"\n      }\n    },\n    {\n      \"column\": \"prompt_name\",\n      \"properties\": {\n        \"dtype\": \"category\",\n        \"num_unique_values\": 15,\n        \"samples\": [\n          \"Grades for extracurricular activities\",\n          \"Does the electoral college work?\"\n        ],\n        \"semantic_type\": \"\",\n        \"description\": \"\"\n      }\n    },\n    {\n      \"column\": \"source\",\n      \"properties\": {\n        \"dtype\": \"category\",\n        \"num_unique_values\": 28,\n        \"samples\": [\n          \"radek_500\",\n          \"text-davinci-001\"\n        ],\n        \"semantic_type\": \"\",\n        \"description\": \"\"\n      }\n    },\n    {\n      \"column\": \"RDizzl3_seven\",\n      \"properties\": {\n        \"dtype\": \"boolean\",\n        \"num_unique_values\": 2,\n        \"samples\": [\n          true,\n          false\n        ],\n        \"semantic_type\": \"\",\n        \"description\": \"\"\n      }\n    }\n  ]\n}"
            }
          },
          "metadata": {},
          "execution_count": 146
        }
      ]
    },
    {
      "cell_type": "code",
      "source": [
        "df.reset_index(drop=True, inplace=True)"
      ],
      "metadata": {
        "id": "MF55h0BEoQNy"
      },
      "execution_count": 147,
      "outputs": []
    },
    {
      "cell_type": "code",
      "source": [
        "df.head()"
      ],
      "metadata": {
        "colab": {
          "base_uri": "https://localhost:8080/",
          "height": 206
        },
        "id": "ptCyIJ2roUxi",
        "outputId": "bfc0560e-1030-4d02-814d-04eb7ff75dcf"
      },
      "execution_count": 148,
      "outputs": [
        {
          "output_type": "execute_result",
          "data": {
            "text/plain": [
              "                                                text  label  \\\n",
              "0  Phones  Modern humans today are always on thei...      0   \n",
              "1  This essay will explain if drivers should or s...      0   \n",
              "2  Driving while the use of cellular devices  Tod...      0   \n",
              "3  Phones & Driving  Drivers should not be able t...      0   \n",
              "4  Cell Phone Operation While Driving  The abilit...      0   \n",
              "\n",
              "          prompt_name           source  RDizzl3_seven  \n",
              "0  Phones and driving  persuade_corpus          False  \n",
              "1  Phones and driving  persuade_corpus          False  \n",
              "2  Phones and driving  persuade_corpus          False  \n",
              "3  Phones and driving  persuade_corpus          False  \n",
              "4  Phones and driving  persuade_corpus          False  "
            ],
            "text/html": [
              "\n",
              "  <div id=\"df-7260bbe1-656e-46c8-88b9-1686f3e4965e\" class=\"colab-df-container\">\n",
              "    <div>\n",
              "<style scoped>\n",
              "    .dataframe tbody tr th:only-of-type {\n",
              "        vertical-align: middle;\n",
              "    }\n",
              "\n",
              "    .dataframe tbody tr th {\n",
              "        vertical-align: top;\n",
              "    }\n",
              "\n",
              "    .dataframe thead th {\n",
              "        text-align: right;\n",
              "    }\n",
              "</style>\n",
              "<table border=\"1\" class=\"dataframe\">\n",
              "  <thead>\n",
              "    <tr style=\"text-align: right;\">\n",
              "      <th></th>\n",
              "      <th>text</th>\n",
              "      <th>label</th>\n",
              "      <th>prompt_name</th>\n",
              "      <th>source</th>\n",
              "      <th>RDizzl3_seven</th>\n",
              "    </tr>\n",
              "  </thead>\n",
              "  <tbody>\n",
              "    <tr>\n",
              "      <th>0</th>\n",
              "      <td>Phones  Modern humans today are always on thei...</td>\n",
              "      <td>0</td>\n",
              "      <td>Phones and driving</td>\n",
              "      <td>persuade_corpus</td>\n",
              "      <td>False</td>\n",
              "    </tr>\n",
              "    <tr>\n",
              "      <th>1</th>\n",
              "      <td>This essay will explain if drivers should or s...</td>\n",
              "      <td>0</td>\n",
              "      <td>Phones and driving</td>\n",
              "      <td>persuade_corpus</td>\n",
              "      <td>False</td>\n",
              "    </tr>\n",
              "    <tr>\n",
              "      <th>2</th>\n",
              "      <td>Driving while the use of cellular devices  Tod...</td>\n",
              "      <td>0</td>\n",
              "      <td>Phones and driving</td>\n",
              "      <td>persuade_corpus</td>\n",
              "      <td>False</td>\n",
              "    </tr>\n",
              "    <tr>\n",
              "      <th>3</th>\n",
              "      <td>Phones &amp; Driving  Drivers should not be able t...</td>\n",
              "      <td>0</td>\n",
              "      <td>Phones and driving</td>\n",
              "      <td>persuade_corpus</td>\n",
              "      <td>False</td>\n",
              "    </tr>\n",
              "    <tr>\n",
              "      <th>4</th>\n",
              "      <td>Cell Phone Operation While Driving  The abilit...</td>\n",
              "      <td>0</td>\n",
              "      <td>Phones and driving</td>\n",
              "      <td>persuade_corpus</td>\n",
              "      <td>False</td>\n",
              "    </tr>\n",
              "  </tbody>\n",
              "</table>\n",
              "</div>\n",
              "    <div class=\"colab-df-buttons\">\n",
              "\n",
              "  <div class=\"colab-df-container\">\n",
              "    <button class=\"colab-df-convert\" onclick=\"convertToInteractive('df-7260bbe1-656e-46c8-88b9-1686f3e4965e')\"\n",
              "            title=\"Convert this dataframe to an interactive table.\"\n",
              "            style=\"display:none;\">\n",
              "\n",
              "  <svg xmlns=\"http://www.w3.org/2000/svg\" height=\"24px\" viewBox=\"0 -960 960 960\">\n",
              "    <path d=\"M120-120v-720h720v720H120Zm60-500h600v-160H180v160Zm220 220h160v-160H400v160Zm0 220h160v-160H400v160ZM180-400h160v-160H180v160Zm440 0h160v-160H620v160ZM180-180h160v-160H180v160Zm440 0h160v-160H620v160Z\"/>\n",
              "  </svg>\n",
              "    </button>\n",
              "\n",
              "  <style>\n",
              "    .colab-df-container {\n",
              "      display:flex;\n",
              "      gap: 12px;\n",
              "    }\n",
              "\n",
              "    .colab-df-convert {\n",
              "      background-color: #E8F0FE;\n",
              "      border: none;\n",
              "      border-radius: 50%;\n",
              "      cursor: pointer;\n",
              "      display: none;\n",
              "      fill: #1967D2;\n",
              "      height: 32px;\n",
              "      padding: 0 0 0 0;\n",
              "      width: 32px;\n",
              "    }\n",
              "\n",
              "    .colab-df-convert:hover {\n",
              "      background-color: #E2EBFA;\n",
              "      box-shadow: 0px 1px 2px rgba(60, 64, 67, 0.3), 0px 1px 3px 1px rgba(60, 64, 67, 0.15);\n",
              "      fill: #174EA6;\n",
              "    }\n",
              "\n",
              "    .colab-df-buttons div {\n",
              "      margin-bottom: 4px;\n",
              "    }\n",
              "\n",
              "    [theme=dark] .colab-df-convert {\n",
              "      background-color: #3B4455;\n",
              "      fill: #D2E3FC;\n",
              "    }\n",
              "\n",
              "    [theme=dark] .colab-df-convert:hover {\n",
              "      background-color: #434B5C;\n",
              "      box-shadow: 0px 1px 3px 1px rgba(0, 0, 0, 0.15);\n",
              "      filter: drop-shadow(0px 1px 2px rgba(0, 0, 0, 0.3));\n",
              "      fill: #FFFFFF;\n",
              "    }\n",
              "  </style>\n",
              "\n",
              "    <script>\n",
              "      const buttonEl =\n",
              "        document.querySelector('#df-7260bbe1-656e-46c8-88b9-1686f3e4965e button.colab-df-convert');\n",
              "      buttonEl.style.display =\n",
              "        google.colab.kernel.accessAllowed ? 'block' : 'none';\n",
              "\n",
              "      async function convertToInteractive(key) {\n",
              "        const element = document.querySelector('#df-7260bbe1-656e-46c8-88b9-1686f3e4965e');\n",
              "        const dataTable =\n",
              "          await google.colab.kernel.invokeFunction('convertToInteractive',\n",
              "                                                    [key], {});\n",
              "        if (!dataTable) return;\n",
              "\n",
              "        const docLinkHtml = 'Like what you see? Visit the ' +\n",
              "          '<a target=\"_blank\" href=https://colab.research.google.com/notebooks/data_table.ipynb>data table notebook</a>'\n",
              "          + ' to learn more about interactive tables.';\n",
              "        element.innerHTML = '';\n",
              "        dataTable['output_type'] = 'display_data';\n",
              "        await google.colab.output.renderOutput(dataTable, element);\n",
              "        const docLink = document.createElement('div');\n",
              "        docLink.innerHTML = docLinkHtml;\n",
              "        element.appendChild(docLink);\n",
              "      }\n",
              "    </script>\n",
              "  </div>\n",
              "\n",
              "\n",
              "<div id=\"df-e64bad8e-66a8-47fe-bfc7-1238f68fd0b8\">\n",
              "  <button class=\"colab-df-quickchart\" onclick=\"quickchart('df-e64bad8e-66a8-47fe-bfc7-1238f68fd0b8')\"\n",
              "            title=\"Suggest charts\"\n",
              "            style=\"display:none;\">\n",
              "\n",
              "<svg xmlns=\"http://www.w3.org/2000/svg\" height=\"24px\"viewBox=\"0 0 24 24\"\n",
              "     width=\"24px\">\n",
              "    <g>\n",
              "        <path d=\"M19 3H5c-1.1 0-2 .9-2 2v14c0 1.1.9 2 2 2h14c1.1 0 2-.9 2-2V5c0-1.1-.9-2-2-2zM9 17H7v-7h2v7zm4 0h-2V7h2v10zm4 0h-2v-4h2v4z\"/>\n",
              "    </g>\n",
              "</svg>\n",
              "  </button>\n",
              "\n",
              "<style>\n",
              "  .colab-df-quickchart {\n",
              "      --bg-color: #E8F0FE;\n",
              "      --fill-color: #1967D2;\n",
              "      --hover-bg-color: #E2EBFA;\n",
              "      --hover-fill-color: #174EA6;\n",
              "      --disabled-fill-color: #AAA;\n",
              "      --disabled-bg-color: #DDD;\n",
              "  }\n",
              "\n",
              "  [theme=dark] .colab-df-quickchart {\n",
              "      --bg-color: #3B4455;\n",
              "      --fill-color: #D2E3FC;\n",
              "      --hover-bg-color: #434B5C;\n",
              "      --hover-fill-color: #FFFFFF;\n",
              "      --disabled-bg-color: #3B4455;\n",
              "      --disabled-fill-color: #666;\n",
              "  }\n",
              "\n",
              "  .colab-df-quickchart {\n",
              "    background-color: var(--bg-color);\n",
              "    border: none;\n",
              "    border-radius: 50%;\n",
              "    cursor: pointer;\n",
              "    display: none;\n",
              "    fill: var(--fill-color);\n",
              "    height: 32px;\n",
              "    padding: 0;\n",
              "    width: 32px;\n",
              "  }\n",
              "\n",
              "  .colab-df-quickchart:hover {\n",
              "    background-color: var(--hover-bg-color);\n",
              "    box-shadow: 0 1px 2px rgba(60, 64, 67, 0.3), 0 1px 3px 1px rgba(60, 64, 67, 0.15);\n",
              "    fill: var(--button-hover-fill-color);\n",
              "  }\n",
              "\n",
              "  .colab-df-quickchart-complete:disabled,\n",
              "  .colab-df-quickchart-complete:disabled:hover {\n",
              "    background-color: var(--disabled-bg-color);\n",
              "    fill: var(--disabled-fill-color);\n",
              "    box-shadow: none;\n",
              "  }\n",
              "\n",
              "  .colab-df-spinner {\n",
              "    border: 2px solid var(--fill-color);\n",
              "    border-color: transparent;\n",
              "    border-bottom-color: var(--fill-color);\n",
              "    animation:\n",
              "      spin 1s steps(1) infinite;\n",
              "  }\n",
              "\n",
              "  @keyframes spin {\n",
              "    0% {\n",
              "      border-color: transparent;\n",
              "      border-bottom-color: var(--fill-color);\n",
              "      border-left-color: var(--fill-color);\n",
              "    }\n",
              "    20% {\n",
              "      border-color: transparent;\n",
              "      border-left-color: var(--fill-color);\n",
              "      border-top-color: var(--fill-color);\n",
              "    }\n",
              "    30% {\n",
              "      border-color: transparent;\n",
              "      border-left-color: var(--fill-color);\n",
              "      border-top-color: var(--fill-color);\n",
              "      border-right-color: var(--fill-color);\n",
              "    }\n",
              "    40% {\n",
              "      border-color: transparent;\n",
              "      border-right-color: var(--fill-color);\n",
              "      border-top-color: var(--fill-color);\n",
              "    }\n",
              "    60% {\n",
              "      border-color: transparent;\n",
              "      border-right-color: var(--fill-color);\n",
              "    }\n",
              "    80% {\n",
              "      border-color: transparent;\n",
              "      border-right-color: var(--fill-color);\n",
              "      border-bottom-color: var(--fill-color);\n",
              "    }\n",
              "    90% {\n",
              "      border-color: transparent;\n",
              "      border-bottom-color: var(--fill-color);\n",
              "    }\n",
              "  }\n",
              "</style>\n",
              "\n",
              "  <script>\n",
              "    async function quickchart(key) {\n",
              "      const quickchartButtonEl =\n",
              "        document.querySelector('#' + key + ' button');\n",
              "      quickchartButtonEl.disabled = true;  // To prevent multiple clicks.\n",
              "      quickchartButtonEl.classList.add('colab-df-spinner');\n",
              "      try {\n",
              "        const charts = await google.colab.kernel.invokeFunction(\n",
              "            'suggestCharts', [key], {});\n",
              "      } catch (error) {\n",
              "        console.error('Error during call to suggestCharts:', error);\n",
              "      }\n",
              "      quickchartButtonEl.classList.remove('colab-df-spinner');\n",
              "      quickchartButtonEl.classList.add('colab-df-quickchart-complete');\n",
              "    }\n",
              "    (() => {\n",
              "      let quickchartButtonEl =\n",
              "        document.querySelector('#df-e64bad8e-66a8-47fe-bfc7-1238f68fd0b8 button');\n",
              "      quickchartButtonEl.style.display =\n",
              "        google.colab.kernel.accessAllowed ? 'block' : 'none';\n",
              "    })();\n",
              "  </script>\n",
              "</div>\n",
              "\n",
              "    </div>\n",
              "  </div>\n"
            ],
            "application/vnd.google.colaboratory.intrinsic+json": {
              "type": "dataframe",
              "variable_name": "df",
              "summary": "{\n  \"name\": \"df\",\n  \"rows\": 65328,\n  \"fields\": [\n    {\n      \"column\": \"text\",\n      \"properties\": {\n        \"dtype\": \"string\",\n        \"num_unique_values\": 65328,\n        \"samples\": [\n          \"  The facial action coding system (FACS) is a revolutionary technique for visually analyzing facial movements and expressions, paving the way for advancements in research fields like psychology, sociology, and various areas of science. Developed by renowned psychologists Paul Ekman and Wallace V. Friesen in the 1970s, the FACS combines elements of anatomy, physiology, psychology, and linguistic analysis to create an understanding of the complex functions a face offers in both communication and understanding of emotions and thoughts.  Ekman and Friesen's method is grounded in careful observation and classification of the various facial movements. There are 20 different muscle groups that govern the facial expressions, and in some cases, individual muscles contribute to multiple actions \\u2013 making it considerably more complicated than meets the eye. The system classifies each facial movement down to the most minute detail, making it an incredibly comprehensive tool for deciphering the intricacies of human emotions.  The primary feature of FACS involves a detailed mapping of the facial movements caused by the contraction or relaxation of these 20 muscle groups across all regions of the face, with each movement recorded as a unique action unit (AU). These action units are categorized into seven major categories \\u2013 brow raiser, cheek raise, lips part, nose wrinkle, lip corners pull, chin raise, and jaw drop \\u2013 with additional variations within each sub-category. Using this system, human faces can be divided into 46 specific action categories, ensuring researchers have the tools to differentiate even the most subtle of variations in emotive expressions.  Another essential part of the FACS is its recognition of the universal nature of emotional expressions. Through years of collaboration, Ekman and Friesen have concluded that while the cultural, social, and physical differences between people result in an infinite array of cultural experiences, the ways in which we manifest our basic emotions remain fairly constant, even across cultures with minimal contact. While facial expressions of emotion might be influenced by cultural factors such as body language, vocal tone, and specific cultural context, the fundamental actions governing those expressions are similar across populations.  Ekman and Friesen took this universal aspect into careful consideration in their FACS method, ensuring that it was a tool that could be applied across various research domains. For instance, this theory has been used in forensic and clinical settings, helping forensic scientists uncover deception in statements, and also enabling mental health professionals to accurately assess moods and mental illnesses in their patients. Additionally, the FACS has been used extensively in research related to marketing and advertising, where it assists in better understanding consumer sentiment and preferences.  In more than four decades since its inception, the FACS has significantly evolved, and it has become instrumental in various areas of research. However, several limitations remain. Despite its considerable versatility, interpreting facial expressions is not foolproof. Other environmental factors can interfere and influence emotional expressions, including body language and verbal information. Individual physiological variations may also mean that certain muscle movements or AU combinations might not be universally present in every individual, making interpretations more challenging.  Moreover, the FACS relies heavily on visual data and can be difficult to apply in conditions like blindness or deafness, where the senses of sight and hearing, and their direct relation to emotional responses, are impaired. Furthermore, the complexity of facial expressions does not always translate into an individual's cultural and emotional context. Therefore, while the FACS offers powerful insights, it cannot completely substitute for more nuanced and comprehensive methods of human emotional analysis.  Despite these limitations, the FACS has made profound contributions to the understanding of emotions and human behavior. Its development owes a lot to the dedication of its creators, Paul Ekman and Wallace V. Friesen, who took the time to carefully analyze and classify facial expressions down to minute details to ensure that we as a society can better comprehend our own and others' emotions. As a result, facial coding has become a vital component in the study of human behavior, psychology, sociology, and various other scientific fields. As technology continues to progress and new advancements arise, the potential for future developments in this fascinating area of research will surely continue to grow, leaving lasting impacts on the way psychologists and behavioral scientists approach facial communication.\",\n          \"Yes, the use of Facial Action Codying Stystem would be very useful for students in the classroom. Not only can this technology detect when a student is confused or bored, but it can change the lesson to grab the students' attention again, or to explain it in an another way. Along with this, this technology could introduce a lot more job intrest, hobby intrest, or just pure intrest among students. Lastly, this technology would be beneficial to students because it would give us a reason to be taught about the science of emotion, we could learn and go more into depth about our basic human body and mind and how easy emotions can show.  This technology can change lessons for kids who aren't understanding, or are just completley bored of the material being shown. This can greatly change a students grades from bad to good, along with make them look forward to coming to your class or school in general. From paragraph 6 the author stated, \\\"A classroom computer could recongnize when a student is becoming confused or bored.\\\" Ending the conversation with, \\\"Then it could modify the lesson, like an effective human instuctor.\\\" Another point which dosn't relate to the fact of changing around lessons for a student would be also in paragraph 6,\\\"...if you smile when a Web ad appears on your screen, a similar ad might follow. But if you frown, the next ad will be different.\\\" This technology can overall make a students lesson, web browsing, and understanding of materal a lot easier and it could greatly improve their work.  Secondly, the FACS can show students a different range of technology that is fairly new. It could show some kids something they may be passionate for but never knew of, it could be a possible job intrest, a new hobby interest, anything at all. The people using this technology are doing so many things, \\\"The process begins when the computer constructs a 3-D computer model of the face;\\\" So they're not only using 3-D software but also, \\\"Using video imagery, the new emotion-recongnition software tracks these facial movements.\\\" The people who are specializing in doing this kind of technology, are branching out in very large, and impactful ways. Many students could be interested in doing this, and sometimes if it's not in school and they don't hear of it. They can never find it.  Lastly, having this technology in our school would give us a reason to talk about the basic science of emotion. We can learn about our human bodies and why emotion is displayed so easily, and how it's displayed as well. \\\"According to the Facial Feedback Theory of Emotion, moving your facial muscles not only expresses emotions, but also may even help produce them.\\\" Our faces can move in multiple ways depending on the emotion we feel, as shown in paragraphs 7-8. Why does it do this? This technology can give us a valid reason to talk about the science of emotion more, and we can learn more about this as students or even as teachers.  Finally, either it be the fact that a lesson can be changed based off of if a student is bored or confused. Or that having this technology can show students a wider range of possible job choices, hobby choices, or just learning more about something out of pure intrest. Or lastly, because having this technology around us gives us a reason to talk about the science of emotion in depth. This technology could be extreamly useful, and impactful on students, if the software being used is good and has been shown to be correct. This could be a very good thing to have in schools that our students can use and to possibly even learn about. \",\n          \"\\u201cMaking Mona Lisa Smile\\u201d is an article that discusses the Facial Action Coding System (FACS), a technology that allows computers to interpret human emotions. The article explores the potential benefits and drawbacks of using this technology in educational settings, particularly for reading the emotional expressions of students in a classroom.  While the FACS system is an impressive technological advancement, its usefulness in classrooms is debatable. As Nick D\\u2019Alto, a technology expert, points out in the article, humans already possess the innate ability to interpret facial expressions and gauge emotions. Therefore, the implementation of emotion-detecting software in classrooms may be unnecessary, and even redundant.  Moreover, the use of emotion-detecting software in classrooms raises significant privacy concerns. The FACS system may be able to recognize emotions like confusion or boredom, but it lacks the ability to understand the underlying causes of these emotions. In a diverse classroom setting, students bring a range of personal experiences and emotions that may not be directly related to the classroom environment. The application of emotion detection technology in such a setting could lead to invasive scrutiny of students\\u2019 private emotional states, potentially exacerbating their distress.  The article also highlights the practical and financial constraints of implementing emotion detection technology in educational settings. While some proponents of the technology suggest that computers equipped with FACS could adapt teaching methods to maintain student engagement, this approach may be difficult to implement in group settings. Additionally, the costs of equipping each student with personalized emotion-detecting computers would be significant, making it an impractical solution for most educational institutions.  In conclusion, while the idea of computers understanding and responding to human emotions is fascinating, its application in educational settings raises significant concerns. The costs of implementing such technology, both in terms of privacy and practicality, may outweigh the potential benefits. Therefore, it is important to approach technological integration in education with caution and respect for privacy. As the age of technology progresses, it is crucial to remember the value of human touch in education, where emotional understanding and connection are paramount.  As a student in 10th grade, I can attest to the importance of emotional understanding and connection in the classroom. While technology can be a useful tool for learning, it is no substitute for the human touch. Teachers possess the ability to sense and respond to student emotions effectively, and this skill is essential in creating a positive and engaging learning environment. While technology can enhance the educational experience, it should not replace the importance of human interaction and emotional understanding in the classroom.\"\n        ],\n        \"semantic_type\": \"\",\n        \"description\": \"\"\n      }\n    },\n    {\n      \"column\": \"label\",\n      \"properties\": {\n        \"dtype\": \"number\",\n        \"std\": 0,\n        \"min\": 0,\n        \"max\": 1,\n        \"num_unique_values\": 2,\n        \"samples\": [\n          1,\n          0\n        ],\n        \"semantic_type\": \"\",\n        \"description\": \"\"\n      }\n    },\n    {\n      \"column\": \"prompt_name\",\n      \"properties\": {\n        \"dtype\": \"category\",\n        \"num_unique_values\": 15,\n        \"samples\": [\n          \"Grades for extracurricular activities\",\n          \"Does the electoral college work?\"\n        ],\n        \"semantic_type\": \"\",\n        \"description\": \"\"\n      }\n    },\n    {\n      \"column\": \"source\",\n      \"properties\": {\n        \"dtype\": \"category\",\n        \"num_unique_values\": 28,\n        \"samples\": [\n          \"radek_500\",\n          \"text-davinci-001\"\n        ],\n        \"semantic_type\": \"\",\n        \"description\": \"\"\n      }\n    },\n    {\n      \"column\": \"RDizzl3_seven\",\n      \"properties\": {\n        \"dtype\": \"boolean\",\n        \"num_unique_values\": 2,\n        \"samples\": [\n          true,\n          false\n        ],\n        \"semantic_type\": \"\",\n        \"description\": \"\"\n      }\n    }\n  ]\n}"
            }
          },
          "metadata": {},
          "execution_count": 148
        }
      ]
    },
    {
      "cell_type": "code",
      "source": [
        "df.iloc[32456,0]"
      ],
      "metadata": {
        "colab": {
          "base_uri": "https://localhost:8080/",
          "height": 145
        },
        "id": "qFkBvat0oZzp",
        "outputId": "966d1a56-0c48-4e54-db51-7e0175e56621"
      },
      "execution_count": 149,
      "outputs": [
        {
          "output_type": "execute_result",
          "data": {
            "text/plain": [
              "\"[Your Name] [Your Address] [City, State, ZIP Code] [Email Address] [Phone Number] [Date]  [Senator's Name] [Senator's Address] [City, State, ZIP Code]  Dear Senator [Senator's Last Name],  I am writing to express my opinion on the issue of whether to keep the Electoral College or change to a popular vote system for the election of the President of the United States. After carefully considering the information from various sources, I firmly believe that it is in the best interest of our nation to maintain the Electoral College system. Though there are arguments in favor of both systems, the Electoral College provides several important benefits that should not be overlooked.  One of the fundamental reasons to retain the Electoral College is the certainty of outcome. As stated in the passage by Judge Richard A. Posner, the winning candidate's share of the Electoral College typically exceeds their share of the popular vote. This ensures that the result of the election is decisive and minimizes the possibility of lengthy legal disputes. In contrast, a direct popular vote system could lead to close elections with no clear winner, which could potentially necessitate time-consuming and costly run-off elections.  Additionally, the Electoral College ensures that the President represents a broader range of interests and appeals to a wide spectrum of voters. As Judge Posner points out, the requirement for trans-regional appeal means that candidates must appeal to voters from different regions, rather than focusing solely on winning the most populated areas. This prevents candidates from neglecting the needs and concerns of certain regions, promoting a more balanced representation across the country.  Another advantage of the Electoral College is that it encourages candidates to campaign in swing states and adopt policies that address the concerns of these states. Judge Posner correctly notes that voters in swing states are more likely to pay close attention to the campaign and candidates, as they have a greater influence on the outcome. This leads to a more engaged and informed electorate and ensures that candidates do not solely prioritize the interests of heavily democratic or republican states.  Moreover, the Electoral College gives smaller states a fairer representation. By providing each state with a minimum number of electors based on their representation in Congress, the system ensures that smaller states are not overshadowed by the larger ones. As mentioned by Judge Posner, this balance of power prevents large states from dominating the election process and guarantees a more equal distribution of attention and resources from presidential candidates.  Lastly, the Electoral College avoids the need for run-off elections in cases where no candidate receives a majority of the popular vote. This eliminates the potential for extended election processes and allows for a clear winner to be determined promptly. This certainty and efficiency are essential for maintaining the stability and continuity of our democracy.  In conclusion, while there are valid arguments for both the Electoral College and a popular vote system, the benefits provided by the Electoral College cannot be ignored. It ensures a decisive outcome, promotes broader representation, encourages candidates to address the concerns of swing states, safeguards the interests of smaller states, and avoids the need for run-off elections. As such, I urge you to support the retention of the Electoral College in the best interest of our nation.  Thank you for considering my perspective on this important matter. I trust that you will weigh all the arguments carefully before making a decision that will impact our electoral system.  Sincerely,  [Your Name]\""
            ],
            "application/vnd.google.colaboratory.intrinsic+json": {
              "type": "string"
            }
          },
          "metadata": {},
          "execution_count": 149
        }
      ]
    },
    {
      "cell_type": "markdown",
      "source": [
        "## AI-Structure Deletion Dataset"
      ],
      "metadata": {
        "id": "F-y_ufn1oq5v"
      }
    },
    {
      "cell_type": "code",
      "source": [
        "df1 = pd.read_csv('/content/drive/MyDrive/Senior Project/Dataset/final_cleaned.csv')\n",
        "df1.head()"
      ],
      "metadata": {
        "colab": {
          "base_uri": "https://localhost:8080/",
          "height": 206
        },
        "id": "Gk1aDMo5ou1a",
        "outputId": "0ef0f202-ade1-4f5b-a505-6804823de2b7"
      },
      "execution_count": 150,
      "outputs": [
        {
          "output_type": "execute_result",
          "data": {
            "text/plain": [
              "                                                text  label  \\\n",
              "0  Phones Modern humans today are always on their...      0   \n",
              "1  This essay will explain if drivers should or s...      0   \n",
              "2  Driving while the use of cellular devices Toda...      0   \n",
              "3  Phones & Driving Drivers should not be able to...      0   \n",
              "4  Cell Phone Operation While Driving The ability...      0   \n",
              "\n",
              "          prompt_name           source  \n",
              "0  Phones and driving  persuade_corpus  \n",
              "1  Phones and driving  persuade_corpus  \n",
              "2  Phones and driving  persuade_corpus  \n",
              "3  Phones and driving  persuade_corpus  \n",
              "4  Phones and driving  persuade_corpus  "
            ],
            "text/html": [
              "\n",
              "  <div id=\"df-cc7063fe-5b8e-4277-a345-e6e350dbaa24\" class=\"colab-df-container\">\n",
              "    <div>\n",
              "<style scoped>\n",
              "    .dataframe tbody tr th:only-of-type {\n",
              "        vertical-align: middle;\n",
              "    }\n",
              "\n",
              "    .dataframe tbody tr th {\n",
              "        vertical-align: top;\n",
              "    }\n",
              "\n",
              "    .dataframe thead th {\n",
              "        text-align: right;\n",
              "    }\n",
              "</style>\n",
              "<table border=\"1\" class=\"dataframe\">\n",
              "  <thead>\n",
              "    <tr style=\"text-align: right;\">\n",
              "      <th></th>\n",
              "      <th>text</th>\n",
              "      <th>label</th>\n",
              "      <th>prompt_name</th>\n",
              "      <th>source</th>\n",
              "    </tr>\n",
              "  </thead>\n",
              "  <tbody>\n",
              "    <tr>\n",
              "      <th>0</th>\n",
              "      <td>Phones Modern humans today are always on their...</td>\n",
              "      <td>0</td>\n",
              "      <td>Phones and driving</td>\n",
              "      <td>persuade_corpus</td>\n",
              "    </tr>\n",
              "    <tr>\n",
              "      <th>1</th>\n",
              "      <td>This essay will explain if drivers should or s...</td>\n",
              "      <td>0</td>\n",
              "      <td>Phones and driving</td>\n",
              "      <td>persuade_corpus</td>\n",
              "    </tr>\n",
              "    <tr>\n",
              "      <th>2</th>\n",
              "      <td>Driving while the use of cellular devices Toda...</td>\n",
              "      <td>0</td>\n",
              "      <td>Phones and driving</td>\n",
              "      <td>persuade_corpus</td>\n",
              "    </tr>\n",
              "    <tr>\n",
              "      <th>3</th>\n",
              "      <td>Phones &amp; Driving Drivers should not be able to...</td>\n",
              "      <td>0</td>\n",
              "      <td>Phones and driving</td>\n",
              "      <td>persuade_corpus</td>\n",
              "    </tr>\n",
              "    <tr>\n",
              "      <th>4</th>\n",
              "      <td>Cell Phone Operation While Driving The ability...</td>\n",
              "      <td>0</td>\n",
              "      <td>Phones and driving</td>\n",
              "      <td>persuade_corpus</td>\n",
              "    </tr>\n",
              "  </tbody>\n",
              "</table>\n",
              "</div>\n",
              "    <div class=\"colab-df-buttons\">\n",
              "\n",
              "  <div class=\"colab-df-container\">\n",
              "    <button class=\"colab-df-convert\" onclick=\"convertToInteractive('df-cc7063fe-5b8e-4277-a345-e6e350dbaa24')\"\n",
              "            title=\"Convert this dataframe to an interactive table.\"\n",
              "            style=\"display:none;\">\n",
              "\n",
              "  <svg xmlns=\"http://www.w3.org/2000/svg\" height=\"24px\" viewBox=\"0 -960 960 960\">\n",
              "    <path d=\"M120-120v-720h720v720H120Zm60-500h600v-160H180v160Zm220 220h160v-160H400v160Zm0 220h160v-160H400v160ZM180-400h160v-160H180v160Zm440 0h160v-160H620v160ZM180-180h160v-160H180v160Zm440 0h160v-160H620v160Z\"/>\n",
              "  </svg>\n",
              "    </button>\n",
              "\n",
              "  <style>\n",
              "    .colab-df-container {\n",
              "      display:flex;\n",
              "      gap: 12px;\n",
              "    }\n",
              "\n",
              "    .colab-df-convert {\n",
              "      background-color: #E8F0FE;\n",
              "      border: none;\n",
              "      border-radius: 50%;\n",
              "      cursor: pointer;\n",
              "      display: none;\n",
              "      fill: #1967D2;\n",
              "      height: 32px;\n",
              "      padding: 0 0 0 0;\n",
              "      width: 32px;\n",
              "    }\n",
              "\n",
              "    .colab-df-convert:hover {\n",
              "      background-color: #E2EBFA;\n",
              "      box-shadow: 0px 1px 2px rgba(60, 64, 67, 0.3), 0px 1px 3px 1px rgba(60, 64, 67, 0.15);\n",
              "      fill: #174EA6;\n",
              "    }\n",
              "\n",
              "    .colab-df-buttons div {\n",
              "      margin-bottom: 4px;\n",
              "    }\n",
              "\n",
              "    [theme=dark] .colab-df-convert {\n",
              "      background-color: #3B4455;\n",
              "      fill: #D2E3FC;\n",
              "    }\n",
              "\n",
              "    [theme=dark] .colab-df-convert:hover {\n",
              "      background-color: #434B5C;\n",
              "      box-shadow: 0px 1px 3px 1px rgba(0, 0, 0, 0.15);\n",
              "      filter: drop-shadow(0px 1px 2px rgba(0, 0, 0, 0.3));\n",
              "      fill: #FFFFFF;\n",
              "    }\n",
              "  </style>\n",
              "\n",
              "    <script>\n",
              "      const buttonEl =\n",
              "        document.querySelector('#df-cc7063fe-5b8e-4277-a345-e6e350dbaa24 button.colab-df-convert');\n",
              "      buttonEl.style.display =\n",
              "        google.colab.kernel.accessAllowed ? 'block' : 'none';\n",
              "\n",
              "      async function convertToInteractive(key) {\n",
              "        const element = document.querySelector('#df-cc7063fe-5b8e-4277-a345-e6e350dbaa24');\n",
              "        const dataTable =\n",
              "          await google.colab.kernel.invokeFunction('convertToInteractive',\n",
              "                                                    [key], {});\n",
              "        if (!dataTable) return;\n",
              "\n",
              "        const docLinkHtml = 'Like what you see? Visit the ' +\n",
              "          '<a target=\"_blank\" href=https://colab.research.google.com/notebooks/data_table.ipynb>data table notebook</a>'\n",
              "          + ' to learn more about interactive tables.';\n",
              "        element.innerHTML = '';\n",
              "        dataTable['output_type'] = 'display_data';\n",
              "        await google.colab.output.renderOutput(dataTable, element);\n",
              "        const docLink = document.createElement('div');\n",
              "        docLink.innerHTML = docLinkHtml;\n",
              "        element.appendChild(docLink);\n",
              "      }\n",
              "    </script>\n",
              "  </div>\n",
              "\n",
              "\n",
              "<div id=\"df-62af9ce3-be5c-48ef-bfd1-3142189b56ec\">\n",
              "  <button class=\"colab-df-quickchart\" onclick=\"quickchart('df-62af9ce3-be5c-48ef-bfd1-3142189b56ec')\"\n",
              "            title=\"Suggest charts\"\n",
              "            style=\"display:none;\">\n",
              "\n",
              "<svg xmlns=\"http://www.w3.org/2000/svg\" height=\"24px\"viewBox=\"0 0 24 24\"\n",
              "     width=\"24px\">\n",
              "    <g>\n",
              "        <path d=\"M19 3H5c-1.1 0-2 .9-2 2v14c0 1.1.9 2 2 2h14c1.1 0 2-.9 2-2V5c0-1.1-.9-2-2-2zM9 17H7v-7h2v7zm4 0h-2V7h2v10zm4 0h-2v-4h2v4z\"/>\n",
              "    </g>\n",
              "</svg>\n",
              "  </button>\n",
              "\n",
              "<style>\n",
              "  .colab-df-quickchart {\n",
              "      --bg-color: #E8F0FE;\n",
              "      --fill-color: #1967D2;\n",
              "      --hover-bg-color: #E2EBFA;\n",
              "      --hover-fill-color: #174EA6;\n",
              "      --disabled-fill-color: #AAA;\n",
              "      --disabled-bg-color: #DDD;\n",
              "  }\n",
              "\n",
              "  [theme=dark] .colab-df-quickchart {\n",
              "      --bg-color: #3B4455;\n",
              "      --fill-color: #D2E3FC;\n",
              "      --hover-bg-color: #434B5C;\n",
              "      --hover-fill-color: #FFFFFF;\n",
              "      --disabled-bg-color: #3B4455;\n",
              "      --disabled-fill-color: #666;\n",
              "  }\n",
              "\n",
              "  .colab-df-quickchart {\n",
              "    background-color: var(--bg-color);\n",
              "    border: none;\n",
              "    border-radius: 50%;\n",
              "    cursor: pointer;\n",
              "    display: none;\n",
              "    fill: var(--fill-color);\n",
              "    height: 32px;\n",
              "    padding: 0;\n",
              "    width: 32px;\n",
              "  }\n",
              "\n",
              "  .colab-df-quickchart:hover {\n",
              "    background-color: var(--hover-bg-color);\n",
              "    box-shadow: 0 1px 2px rgba(60, 64, 67, 0.3), 0 1px 3px 1px rgba(60, 64, 67, 0.15);\n",
              "    fill: var(--button-hover-fill-color);\n",
              "  }\n",
              "\n",
              "  .colab-df-quickchart-complete:disabled,\n",
              "  .colab-df-quickchart-complete:disabled:hover {\n",
              "    background-color: var(--disabled-bg-color);\n",
              "    fill: var(--disabled-fill-color);\n",
              "    box-shadow: none;\n",
              "  }\n",
              "\n",
              "  .colab-df-spinner {\n",
              "    border: 2px solid var(--fill-color);\n",
              "    border-color: transparent;\n",
              "    border-bottom-color: var(--fill-color);\n",
              "    animation:\n",
              "      spin 1s steps(1) infinite;\n",
              "  }\n",
              "\n",
              "  @keyframes spin {\n",
              "    0% {\n",
              "      border-color: transparent;\n",
              "      border-bottom-color: var(--fill-color);\n",
              "      border-left-color: var(--fill-color);\n",
              "    }\n",
              "    20% {\n",
              "      border-color: transparent;\n",
              "      border-left-color: var(--fill-color);\n",
              "      border-top-color: var(--fill-color);\n",
              "    }\n",
              "    30% {\n",
              "      border-color: transparent;\n",
              "      border-left-color: var(--fill-color);\n",
              "      border-top-color: var(--fill-color);\n",
              "      border-right-color: var(--fill-color);\n",
              "    }\n",
              "    40% {\n",
              "      border-color: transparent;\n",
              "      border-right-color: var(--fill-color);\n",
              "      border-top-color: var(--fill-color);\n",
              "    }\n",
              "    60% {\n",
              "      border-color: transparent;\n",
              "      border-right-color: var(--fill-color);\n",
              "    }\n",
              "    80% {\n",
              "      border-color: transparent;\n",
              "      border-right-color: var(--fill-color);\n",
              "      border-bottom-color: var(--fill-color);\n",
              "    }\n",
              "    90% {\n",
              "      border-color: transparent;\n",
              "      border-bottom-color: var(--fill-color);\n",
              "    }\n",
              "  }\n",
              "</style>\n",
              "\n",
              "  <script>\n",
              "    async function quickchart(key) {\n",
              "      const quickchartButtonEl =\n",
              "        document.querySelector('#' + key + ' button');\n",
              "      quickchartButtonEl.disabled = true;  // To prevent multiple clicks.\n",
              "      quickchartButtonEl.classList.add('colab-df-spinner');\n",
              "      try {\n",
              "        const charts = await google.colab.kernel.invokeFunction(\n",
              "            'suggestCharts', [key], {});\n",
              "      } catch (error) {\n",
              "        console.error('Error during call to suggestCharts:', error);\n",
              "      }\n",
              "      quickchartButtonEl.classList.remove('colab-df-spinner');\n",
              "      quickchartButtonEl.classList.add('colab-df-quickchart-complete');\n",
              "    }\n",
              "    (() => {\n",
              "      let quickchartButtonEl =\n",
              "        document.querySelector('#df-62af9ce3-be5c-48ef-bfd1-3142189b56ec button');\n",
              "      quickchartButtonEl.style.display =\n",
              "        google.colab.kernel.accessAllowed ? 'block' : 'none';\n",
              "    })();\n",
              "  </script>\n",
              "</div>\n",
              "\n",
              "    </div>\n",
              "  </div>\n"
            ],
            "application/vnd.google.colaboratory.intrinsic+json": {
              "type": "dataframe",
              "variable_name": "df1",
              "summary": "{\n  \"name\": \"df1\",\n  \"rows\": 65328,\n  \"fields\": [\n    {\n      \"column\": \"text\",\n      \"properties\": {\n        \"dtype\": \"string\",\n        \"num_unique_values\": 65321,\n        \"samples\": [\n          \"The cowboy who rode the waves is a metaphorical story that many people can relate to. It is about a person who is determined to overcome obstacles and reach their goal, no matter how difficult it may seem. The cowboy imagery is often associated with ruggedness, independence, and a spirit of adventure. These are all qualities that people aspire to possess, especially in the face of challenges. In this essay, we will explore the cowboy who rode the waves and the lessons that can be learned from this inspiring story. At first glance, the idea of a cowboy riding the waves may seem strange. Cowboys are known for their rugged appearance, cowboy hats, and wide-brimmed buckaroos, not for their ability to ride waves on a surfboard. However, the cowboy who rode the waves represents a symbolic journey that transcends physical limits. It is a story about a person who is determined to overcome adversity and reach their dreams, even if it means stepping outside of their comfort zone. The journey of the cowboy who rode the waves can be seen as a metaphor for the struggles that we all face in life. Life can be unpredictable, and we often encounter unexpected challenges. We may struggle with our jobs, relationships, finances, or health. In these moments, it is easy to feel overwhelmed and helpless. However, like the cowboy who rode the waves, we must find the strength to push through and persevere. One of the key lessons that can be learned from the story of the cowboy who rode the waves is the importance of resilience. Resilience is the ability to bounce back from difficult situations and to keep moving forward. It is the willingness to take risks and to try new things, even if they seem impossible at first. The cowboy who rode the waves demonstrates the power of resilience and shows us that anything is possible if we are willing to believe in ourselves and take action. Another lesson that can be learned from this story is the importance of perseverance. Life is full of obstacles, and it can be easy to give up when things get tough. However, the cowboy who rode the waves shows us that perseverance is essential when it comes to achieving our dreams. Even when the waves were crashing, the cowboy continued to ride, determined to reach the other side. In this story, perseverance is a powerful reminder that nothing worth achieving comes easy. The story of the cowboy who rode the waves is an inspiring tale of determination and resilience. It shows us that anything is possible if we are willing to believe in ourselves and push through the challenges that come our way. This story can help us develop the strength and perseverance we need to overcome obstacles and achieve our goals. By embracing the cowboy spirit, we can live a life of adventure and fulfillment, and never stop riding the waves.\",\n          \"School can be tiring and stressful on every high school student and I know most of us can agree on that. There is a way to make school easier and comfortable. Many have debated over if online learning is actually beneficial and much easier than normal school. Instead of being in a classroom you would be on a video confrontation or following instructions from a text. Although some say online learning is not beneficial in reality it is very beneficial. Online learning can cause some problems, for example when your at home you intend to get more distracted with your phone,TV, food, and anything else at your home. Distraction isn't the only issue that you can come across with, technology is not perfect many things could happen that could set you back for that day of learning. Many students prefer classrooms over online learning due to the 1 on 1 help with a teacher. In online learning you won't be able to get that 1 on 1 learning unless through video chat. Getting help from a classmate will also not be availabe and you will have to rely more on yourself and the teacher through online learning. Even with some downsides to online learning there are more positives then negatives. At home there is more comfort than in a classroom and the more comfortable you are the better you learn. The best part of learning at home is that you have control on the way you want to learn, if you know that your phone is a problem turn it off while learning and take brain breaks something that most teachers don't allow. Everyone knows themselves better than anyone else, so you know how you learn or work the best. For example let's say you work the best while listening to music, well at home you will be able to do that or let's say you are a person that can't learn or concentrate while being hungry, at home you will be able to eat snacks or food and keep you learning. Waking up every morning and going to school can be tiring and affect your ability to learn, but if you were to take online classes you would be able to get that extra sleep in and wake up with more energy and learn much easier. Especially in high school many students stay up late to study or to finish a project that's due the next day and end up going to school drowsy and tired. With online learning you will get more time to fully understand a certain topic and spend more time evaluating your work, but in school you have bells so every class is timed which rushes the teachers on teaching and rushes the students on getting it. Online learning will also present a more flexible schedule for students, most students today are busy with other things like sports, work, and etc. In conclusion online learning is a much better way of learning and beneficial for the students and teachers. The students have more control on the way they learn and how they get to learn which comes with more positives than negatives. Students will be able to have more time, comfort, understanding of the topic, and sleep to come back the next day ready to learn. Although some say that online learning is not beneficial it's actually more beneficial for students.\",\n          \"Have you ever been faced with a difficult decision and asked multiple people for advice? Was it helpful when making your choice? Many people have, and found that asking more than one person for advice helped them make a better decision. Seeking multiple opinions can assist you in making a better choice by, helping you better evaluate your options, learning from others experiences and, exposing you to multiple viewpoints. Asking multiple people for advice can help you better evaluate your options. Others who are wiser might understand the implications of the choices more and could help you come to an informed decision. If you do not understand your choices you will not be able to make a knowledgeable decision. When asking multiple people for advice you will receive more knowledge on the topic, and the more you know the better your decision will be. By understanding each choice and its effects, you will be able to make a wiser decision. You will also learn from others experiences by seeking multiple opinions. Each person is shaped by his or her life experiences and will have different wisdom to share. By seeking advice from multiple people you will receive knowledge and opinions derived from experience. This information will show you some of the possible outcomes of your choices and will help you choose what is best. Learning from people who have been in a similar situation will help you come to a better decision. When asking for advice from more than one person you will be exposed to multiple viewpoints. Being exposed to differing opinions might enlighten you and help you discover something you had not thought of. Seeking multiple opinions can change the way you perceive your choices and help you come to a decision. Looking at a situation from multiple points of view will allow you to see all of the possibilities of your choice. Being exposed to multiple viewpoints will help you make a better decision. When faced with a difficult decision people sometimes confer with more than one other person. By asking for advice from multiple people, they are helping themselves make an educated decision. Seeking multiple opinions can expose you to the knowledge, experience, and opinions of others. In conclusion seeking the advice of multiple people when making a decision will help you make the right choice.\"\n        ],\n        \"semantic_type\": \"\",\n        \"description\": \"\"\n      }\n    },\n    {\n      \"column\": \"label\",\n      \"properties\": {\n        \"dtype\": \"number\",\n        \"std\": 0,\n        \"min\": 0,\n        \"max\": 1,\n        \"num_unique_values\": 2,\n        \"samples\": [\n          1,\n          0\n        ],\n        \"semantic_type\": \"\",\n        \"description\": \"\"\n      }\n    },\n    {\n      \"column\": \"prompt_name\",\n      \"properties\": {\n        \"dtype\": \"category\",\n        \"num_unique_values\": 15,\n        \"samples\": [\n          \"Grades for extracurricular activities\",\n          \"Does the electoral college work?\"\n        ],\n        \"semantic_type\": \"\",\n        \"description\": \"\"\n      }\n    },\n    {\n      \"column\": \"source\",\n      \"properties\": {\n        \"dtype\": \"category\",\n        \"num_unique_values\": 28,\n        \"samples\": [\n          \"radek_500\",\n          \"text-davinci-001\"\n        ],\n        \"semantic_type\": \"\",\n        \"description\": \"\"\n      }\n    }\n  ]\n}"
            }
          },
          "metadata": {},
          "execution_count": 150
        }
      ]
    },
    {
      "cell_type": "code",
      "source": [
        "df1.iloc[32456,0]"
      ],
      "metadata": {
        "colab": {
          "base_uri": "https://localhost:8080/",
          "height": 145
        },
        "id": "rJWJbopDo3Eb",
        "outputId": "2f8d2c4b-3b22-45f2-fb32-3ec39248ff99"
      },
      "execution_count": 151,
      "outputs": [
        {
          "output_type": "execute_result",
          "data": {
            "text/plain": [
              "\"Dear Senator , I am writing to express my opinion on the issue of whether to keep the Electoral College or change to a popular vote system for the election of the President of the United States. After carefully considering the information from various sources, I firmly believe that it is in the best interest of our nation to maintain the Electoral College system. Though there are arguments in favor of both systems, the Electoral College provides several important benefits that should not be overlooked. One of the fundamental reasons to retain the Electoral College is the certainty of outcome. As stated in the passage by Judge Richard A. Posner, the winning candidate's share of the Electoral College typically exceeds their share of the popular vote. This ensures that the result of the election is decisive and minimizes the possibility of lengthy legal disputes. In contrast, a direct popular vote system could lead to close elections with no clear winner, which could potentially necessitate time-consuming and costly run-off elections. Additionally, the Electoral College ensures that the President represents a broader range of interests and appeals to a wide spectrum of voters. As Judge Posner points out, the requirement for trans-regional appeal means that candidates must appeal to voters from different regions, rather than focusing solely on winning the most populated areas. This prevents candidates from neglecting the needs and concerns of certain regions, promoting a more balanced representation across the country. Another advantage of the Electoral College is that it encourages candidates to campaign in swing states and adopt policies that address the concerns of these states. Judge Posner correctly notes that voters in swing states are more likely to pay close attention to the campaign and candidates, as they have a greater influence on the outcome. This leads to a more engaged and informed electorate and ensures that candidates do not solely prioritize the interests of heavily democratic or republican states. Moreover, the Electoral College gives smaller states a fairer representation. By providing each state with a minimum number of electors based on their representation in Congress, the system ensures that smaller states are not overshadowed by the larger ones. As mentioned by Judge Posner, this balance of power prevents large states from dominating the election process and guarantees a more equal distribution of attention and resources from presidential candidates. Lastly, the Electoral College avoids the need for run-off elections in cases where no candidate receives a majority of the popular vote. This eliminates the potential for extended election processes and allows for a clear winner to be determined promptly. This certainty and efficiency are essential for maintaining the stability and continuity of our democracy. In conclusion, while there are valid arguments for both the Electoral College and a popular vote system, the benefits provided by the Electoral College cannot be ignored. It ensures a decisive outcome, promotes broader representation, encourages candidates to address the concerns of swing states, safeguards the interests of smaller states, and avoids the need for run-off elections. As such, I urge you to support the retention of the Electoral College in the best interest of our nation. Thank you for considering my perspective on this important matter. I trust that you will weigh all the arguments carefully before making a decision that will impact our electoral system. Sincerely,\""
            ],
            "application/vnd.google.colaboratory.intrinsic+json": {
              "type": "string"
            }
          },
          "metadata": {},
          "execution_count": 151
        }
      ]
    },
    {
      "cell_type": "markdown",
      "source": [
        "## Training / Validation / Test set"
      ],
      "metadata": {
        "id": "pOfyBLuEpGqZ"
      }
    },
    {
      "cell_type": "markdown",
      "source": [
        "### Original Dataset"
      ],
      "metadata": {
        "id": "t9t1-tP8xWTy"
      }
    },
    {
      "cell_type": "code",
      "source": [
        "df.shape"
      ],
      "metadata": {
        "colab": {
          "base_uri": "https://localhost:8080/"
        },
        "id": "NTJekYx8uUdk",
        "outputId": "d7309c36-7efe-48f4-9c7c-ac87d37f4911"
      },
      "execution_count": 152,
      "outputs": [
        {
          "output_type": "execute_result",
          "data": {
            "text/plain": [
              "(65328, 5)"
            ]
          },
          "metadata": {},
          "execution_count": 152
        }
      ]
    },
    {
      "cell_type": "code",
      "source": [
        "df[['prompt_name','source']].value_counts()"
      ],
      "metadata": {
        "colab": {
          "base_uri": "https://localhost:8080/",
          "height": 489
        },
        "id": "23y_JLjwuIwx",
        "outputId": "3b8dd926-a61e-46c6-d16e-d79d7449508a"
      },
      "execution_count": 153,
      "outputs": [
        {
          "output_type": "execute_result",
          "data": {
            "text/plain": [
              "prompt_name                           source                            \n",
              "Facial action coding system           persuade_corpus                       2167\n",
              "Distance learning                     persuade_corpus                       2157\n",
              "Does the electoral college work?      persuade_corpus                       2046\n",
              "Car-free cities                       persuade_corpus                       1959\n",
              "Driverless cars                       persuade_corpus                       1886\n",
              "                                                                            ... \n",
              "The Face on Mars                      mistral7binstruct_v2                     1\n",
              "Mandatory extracurricular activities  palm-text-bison1                         1\n",
              "Seeking multiple opinions             cohere-command                           1\n",
              "Distance learning                     mistralai/Mistral-7B-Instruct-v0.1       1\n",
              "Exploring Venus                       mistral7binstruct_v2                     1\n",
              "Name: count, Length: 248, dtype: int64"
            ],
            "text/html": [
              "<div>\n",
              "<style scoped>\n",
              "    .dataframe tbody tr th:only-of-type {\n",
              "        vertical-align: middle;\n",
              "    }\n",
              "\n",
              "    .dataframe tbody tr th {\n",
              "        vertical-align: top;\n",
              "    }\n",
              "\n",
              "    .dataframe thead th {\n",
              "        text-align: right;\n",
              "    }\n",
              "</style>\n",
              "<table border=\"1\" class=\"dataframe\">\n",
              "  <thead>\n",
              "    <tr style=\"text-align: right;\">\n",
              "      <th></th>\n",
              "      <th></th>\n",
              "      <th>count</th>\n",
              "    </tr>\n",
              "    <tr>\n",
              "      <th>prompt_name</th>\n",
              "      <th>source</th>\n",
              "      <th></th>\n",
              "    </tr>\n",
              "  </thead>\n",
              "  <tbody>\n",
              "    <tr>\n",
              "      <th>Facial action coding system</th>\n",
              "      <th>persuade_corpus</th>\n",
              "      <td>2167</td>\n",
              "    </tr>\n",
              "    <tr>\n",
              "      <th>Distance learning</th>\n",
              "      <th>persuade_corpus</th>\n",
              "      <td>2157</td>\n",
              "    </tr>\n",
              "    <tr>\n",
              "      <th>Does the electoral college work?</th>\n",
              "      <th>persuade_corpus</th>\n",
              "      <td>2046</td>\n",
              "    </tr>\n",
              "    <tr>\n",
              "      <th>Car-free cities</th>\n",
              "      <th>persuade_corpus</th>\n",
              "      <td>1959</td>\n",
              "    </tr>\n",
              "    <tr>\n",
              "      <th>Driverless cars</th>\n",
              "      <th>persuade_corpus</th>\n",
              "      <td>1886</td>\n",
              "    </tr>\n",
              "    <tr>\n",
              "      <th>...</th>\n",
              "      <th>...</th>\n",
              "      <td>...</td>\n",
              "    </tr>\n",
              "    <tr>\n",
              "      <th>The Face on Mars</th>\n",
              "      <th>mistral7binstruct_v2</th>\n",
              "      <td>1</td>\n",
              "    </tr>\n",
              "    <tr>\n",
              "      <th>Mandatory extracurricular activities</th>\n",
              "      <th>palm-text-bison1</th>\n",
              "      <td>1</td>\n",
              "    </tr>\n",
              "    <tr>\n",
              "      <th>Seeking multiple opinions</th>\n",
              "      <th>cohere-command</th>\n",
              "      <td>1</td>\n",
              "    </tr>\n",
              "    <tr>\n",
              "      <th>Distance learning</th>\n",
              "      <th>mistralai/Mistral-7B-Instruct-v0.1</th>\n",
              "      <td>1</td>\n",
              "    </tr>\n",
              "    <tr>\n",
              "      <th>Exploring Venus</th>\n",
              "      <th>mistral7binstruct_v2</th>\n",
              "      <td>1</td>\n",
              "    </tr>\n",
              "  </tbody>\n",
              "</table>\n",
              "<p>248 rows × 1 columns</p>\n",
              "</div><br><label><b>dtype:</b> int64</label>"
            ]
          },
          "metadata": {},
          "execution_count": 153
        }
      ]
    },
    {
      "cell_type": "code",
      "source": [
        "#Create the stratification key\n",
        "df['stratify_key'] = df['prompt_name'].astype(str) + '_' + df['source'].astype(str) + '_' + df['label'].astype(str)\n",
        "\n",
        "# Separate small groups with less than 2 records\n",
        "group_counts = df['stratify_key'].value_counts()\n",
        "small_groups = group_counts[group_counts < 2].index\n",
        "df_small = df[df['stratify_key'].isin(small_groups)]\n",
        "df_large = df[~df['stratify_key'].isin(small_groups)]"
      ],
      "metadata": {
        "id": "SO8cjQrOqxcV"
      },
      "execution_count": 154,
      "outputs": []
    },
    {
      "cell_type": "code",
      "source": [
        "# Perform stratified sampling on the larger groups\n",
        "from sklearn.model_selection import train_test_split\n",
        "\n",
        "df_large_sample, _ = train_test_split(df_large, train_size=12442, stratify=df_large['stratify_key'], random_state=20240930)\n",
        "\n",
        "# Combine the sampled large groups with small groups\n",
        "df_sample = pd.concat([df_large_sample, df_small])\n",
        "\n",
        "df_sample[['prompt_name','source']].value_counts()"
      ],
      "metadata": {
        "colab": {
          "base_uri": "https://localhost:8080/",
          "height": 489
        },
        "id": "7pcBmTOztiNX",
        "outputId": "61a4ea9e-ae8d-4e76-9c63-c3a3181b6de4"
      },
      "execution_count": 155,
      "outputs": [
        {
          "output_type": "execute_result",
          "data": {
            "text/plain": [
              "prompt_name                           source              \n",
              "Facial action coding system           persuade_corpus         413\n",
              "Distance learning                     persuade_corpus         411\n",
              "Does the electoral college work?      persuade_corpus         390\n",
              "Car-free cities                       persuade_corpus         373\n",
              "Driverless cars                       persuade_corpus         359\n",
              "                                                             ... \n",
              "Exploring Venus                       mistral7binstruct_v1      1\n",
              "Does the electoral college work?      chat_gpt_moth             1\n",
              "Exploring Venus                       chat_gpt_moth             1\n",
              "Mandatory extracurricular activities  palm-text-bison1          1\n",
              "Seeking multiple opinions             cohere-command            1\n",
              "Name: count, Length: 245, dtype: int64"
            ],
            "text/html": [
              "<div>\n",
              "<style scoped>\n",
              "    .dataframe tbody tr th:only-of-type {\n",
              "        vertical-align: middle;\n",
              "    }\n",
              "\n",
              "    .dataframe tbody tr th {\n",
              "        vertical-align: top;\n",
              "    }\n",
              "\n",
              "    .dataframe thead th {\n",
              "        text-align: right;\n",
              "    }\n",
              "</style>\n",
              "<table border=\"1\" class=\"dataframe\">\n",
              "  <thead>\n",
              "    <tr style=\"text-align: right;\">\n",
              "      <th></th>\n",
              "      <th></th>\n",
              "      <th>count</th>\n",
              "    </tr>\n",
              "    <tr>\n",
              "      <th>prompt_name</th>\n",
              "      <th>source</th>\n",
              "      <th></th>\n",
              "    </tr>\n",
              "  </thead>\n",
              "  <tbody>\n",
              "    <tr>\n",
              "      <th>Facial action coding system</th>\n",
              "      <th>persuade_corpus</th>\n",
              "      <td>413</td>\n",
              "    </tr>\n",
              "    <tr>\n",
              "      <th>Distance learning</th>\n",
              "      <th>persuade_corpus</th>\n",
              "      <td>411</td>\n",
              "    </tr>\n",
              "    <tr>\n",
              "      <th>Does the electoral college work?</th>\n",
              "      <th>persuade_corpus</th>\n",
              "      <td>390</td>\n",
              "    </tr>\n",
              "    <tr>\n",
              "      <th>Car-free cities</th>\n",
              "      <th>persuade_corpus</th>\n",
              "      <td>373</td>\n",
              "    </tr>\n",
              "    <tr>\n",
              "      <th>Driverless cars</th>\n",
              "      <th>persuade_corpus</th>\n",
              "      <td>359</td>\n",
              "    </tr>\n",
              "    <tr>\n",
              "      <th>...</th>\n",
              "      <th>...</th>\n",
              "      <td>...</td>\n",
              "    </tr>\n",
              "    <tr>\n",
              "      <th>Exploring Venus</th>\n",
              "      <th>mistral7binstruct_v1</th>\n",
              "      <td>1</td>\n",
              "    </tr>\n",
              "    <tr>\n",
              "      <th>Does the electoral college work?</th>\n",
              "      <th>chat_gpt_moth</th>\n",
              "      <td>1</td>\n",
              "    </tr>\n",
              "    <tr>\n",
              "      <th>Exploring Venus</th>\n",
              "      <th>chat_gpt_moth</th>\n",
              "      <td>1</td>\n",
              "    </tr>\n",
              "    <tr>\n",
              "      <th>Mandatory extracurricular activities</th>\n",
              "      <th>palm-text-bison1</th>\n",
              "      <td>1</td>\n",
              "    </tr>\n",
              "    <tr>\n",
              "      <th>Seeking multiple opinions</th>\n",
              "      <th>cohere-command</th>\n",
              "      <td>1</td>\n",
              "    </tr>\n",
              "  </tbody>\n",
              "</table>\n",
              "<p>245 rows × 1 columns</p>\n",
              "</div><br><label><b>dtype:</b> int64</label>"
            ]
          },
          "metadata": {},
          "execution_count": 155
        }
      ]
    },
    {
      "cell_type": "code",
      "source": [
        "# View the sampled DataFrame\n",
        "df_sample = df_sample[['text','label']]\n",
        "df_sample.head()"
      ],
      "metadata": {
        "colab": {
          "base_uri": "https://localhost:8080/",
          "height": 206
        },
        "id": "LH2Ozw_Ft9BP",
        "outputId": "6f737463-5d30-4a27-943e-a474e0170062"
      },
      "execution_count": 156,
      "outputs": [
        {
          "output_type": "execute_result",
          "data": {
            "text/plain": [
              "                                                    text  label\n",
              "54578  Dear [State Representative],  I am writing to ...      1\n",
              "43637  Cars have become a staple in our society. They...      1\n",
              "60817  Democracy in the United States is often portra...      1\n",
              "21466  Dear principal,  I think that you should let s...      0\n",
              "26206   Community parks are a great place to enjoy th...      1"
            ],
            "text/html": [
              "\n",
              "  <div id=\"df-aadb8a74-9e48-42ca-9972-da41cb448946\" class=\"colab-df-container\">\n",
              "    <div>\n",
              "<style scoped>\n",
              "    .dataframe tbody tr th:only-of-type {\n",
              "        vertical-align: middle;\n",
              "    }\n",
              "\n",
              "    .dataframe tbody tr th {\n",
              "        vertical-align: top;\n",
              "    }\n",
              "\n",
              "    .dataframe thead th {\n",
              "        text-align: right;\n",
              "    }\n",
              "</style>\n",
              "<table border=\"1\" class=\"dataframe\">\n",
              "  <thead>\n",
              "    <tr style=\"text-align: right;\">\n",
              "      <th></th>\n",
              "      <th>text</th>\n",
              "      <th>label</th>\n",
              "    </tr>\n",
              "  </thead>\n",
              "  <tbody>\n",
              "    <tr>\n",
              "      <th>54578</th>\n",
              "      <td>Dear [State Representative],  I am writing to ...</td>\n",
              "      <td>1</td>\n",
              "    </tr>\n",
              "    <tr>\n",
              "      <th>43637</th>\n",
              "      <td>Cars have become a staple in our society. They...</td>\n",
              "      <td>1</td>\n",
              "    </tr>\n",
              "    <tr>\n",
              "      <th>60817</th>\n",
              "      <td>Democracy in the United States is often portra...</td>\n",
              "      <td>1</td>\n",
              "    </tr>\n",
              "    <tr>\n",
              "      <th>21466</th>\n",
              "      <td>Dear principal,  I think that you should let s...</td>\n",
              "      <td>0</td>\n",
              "    </tr>\n",
              "    <tr>\n",
              "      <th>26206</th>\n",
              "      <td>Community parks are a great place to enjoy th...</td>\n",
              "      <td>1</td>\n",
              "    </tr>\n",
              "  </tbody>\n",
              "</table>\n",
              "</div>\n",
              "    <div class=\"colab-df-buttons\">\n",
              "\n",
              "  <div class=\"colab-df-container\">\n",
              "    <button class=\"colab-df-convert\" onclick=\"convertToInteractive('df-aadb8a74-9e48-42ca-9972-da41cb448946')\"\n",
              "            title=\"Convert this dataframe to an interactive table.\"\n",
              "            style=\"display:none;\">\n",
              "\n",
              "  <svg xmlns=\"http://www.w3.org/2000/svg\" height=\"24px\" viewBox=\"0 -960 960 960\">\n",
              "    <path d=\"M120-120v-720h720v720H120Zm60-500h600v-160H180v160Zm220 220h160v-160H400v160Zm0 220h160v-160H400v160ZM180-400h160v-160H180v160Zm440 0h160v-160H620v160ZM180-180h160v-160H180v160Zm440 0h160v-160H620v160Z\"/>\n",
              "  </svg>\n",
              "    </button>\n",
              "\n",
              "  <style>\n",
              "    .colab-df-container {\n",
              "      display:flex;\n",
              "      gap: 12px;\n",
              "    }\n",
              "\n",
              "    .colab-df-convert {\n",
              "      background-color: #E8F0FE;\n",
              "      border: none;\n",
              "      border-radius: 50%;\n",
              "      cursor: pointer;\n",
              "      display: none;\n",
              "      fill: #1967D2;\n",
              "      height: 32px;\n",
              "      padding: 0 0 0 0;\n",
              "      width: 32px;\n",
              "    }\n",
              "\n",
              "    .colab-df-convert:hover {\n",
              "      background-color: #E2EBFA;\n",
              "      box-shadow: 0px 1px 2px rgba(60, 64, 67, 0.3), 0px 1px 3px 1px rgba(60, 64, 67, 0.15);\n",
              "      fill: #174EA6;\n",
              "    }\n",
              "\n",
              "    .colab-df-buttons div {\n",
              "      margin-bottom: 4px;\n",
              "    }\n",
              "\n",
              "    [theme=dark] .colab-df-convert {\n",
              "      background-color: #3B4455;\n",
              "      fill: #D2E3FC;\n",
              "    }\n",
              "\n",
              "    [theme=dark] .colab-df-convert:hover {\n",
              "      background-color: #434B5C;\n",
              "      box-shadow: 0px 1px 3px 1px rgba(0, 0, 0, 0.15);\n",
              "      filter: drop-shadow(0px 1px 2px rgba(0, 0, 0, 0.3));\n",
              "      fill: #FFFFFF;\n",
              "    }\n",
              "  </style>\n",
              "\n",
              "    <script>\n",
              "      const buttonEl =\n",
              "        document.querySelector('#df-aadb8a74-9e48-42ca-9972-da41cb448946 button.colab-df-convert');\n",
              "      buttonEl.style.display =\n",
              "        google.colab.kernel.accessAllowed ? 'block' : 'none';\n",
              "\n",
              "      async function convertToInteractive(key) {\n",
              "        const element = document.querySelector('#df-aadb8a74-9e48-42ca-9972-da41cb448946');\n",
              "        const dataTable =\n",
              "          await google.colab.kernel.invokeFunction('convertToInteractive',\n",
              "                                                    [key], {});\n",
              "        if (!dataTable) return;\n",
              "\n",
              "        const docLinkHtml = 'Like what you see? Visit the ' +\n",
              "          '<a target=\"_blank\" href=https://colab.research.google.com/notebooks/data_table.ipynb>data table notebook</a>'\n",
              "          + ' to learn more about interactive tables.';\n",
              "        element.innerHTML = '';\n",
              "        dataTable['output_type'] = 'display_data';\n",
              "        await google.colab.output.renderOutput(dataTable, element);\n",
              "        const docLink = document.createElement('div');\n",
              "        docLink.innerHTML = docLinkHtml;\n",
              "        element.appendChild(docLink);\n",
              "      }\n",
              "    </script>\n",
              "  </div>\n",
              "\n",
              "\n",
              "<div id=\"df-eb7b4942-d5c8-498c-a2a4-e87dc83f6b59\">\n",
              "  <button class=\"colab-df-quickchart\" onclick=\"quickchart('df-eb7b4942-d5c8-498c-a2a4-e87dc83f6b59')\"\n",
              "            title=\"Suggest charts\"\n",
              "            style=\"display:none;\">\n",
              "\n",
              "<svg xmlns=\"http://www.w3.org/2000/svg\" height=\"24px\"viewBox=\"0 0 24 24\"\n",
              "     width=\"24px\">\n",
              "    <g>\n",
              "        <path d=\"M19 3H5c-1.1 0-2 .9-2 2v14c0 1.1.9 2 2 2h14c1.1 0 2-.9 2-2V5c0-1.1-.9-2-2-2zM9 17H7v-7h2v7zm4 0h-2V7h2v10zm4 0h-2v-4h2v4z\"/>\n",
              "    </g>\n",
              "</svg>\n",
              "  </button>\n",
              "\n",
              "<style>\n",
              "  .colab-df-quickchart {\n",
              "      --bg-color: #E8F0FE;\n",
              "      --fill-color: #1967D2;\n",
              "      --hover-bg-color: #E2EBFA;\n",
              "      --hover-fill-color: #174EA6;\n",
              "      --disabled-fill-color: #AAA;\n",
              "      --disabled-bg-color: #DDD;\n",
              "  }\n",
              "\n",
              "  [theme=dark] .colab-df-quickchart {\n",
              "      --bg-color: #3B4455;\n",
              "      --fill-color: #D2E3FC;\n",
              "      --hover-bg-color: #434B5C;\n",
              "      --hover-fill-color: #FFFFFF;\n",
              "      --disabled-bg-color: #3B4455;\n",
              "      --disabled-fill-color: #666;\n",
              "  }\n",
              "\n",
              "  .colab-df-quickchart {\n",
              "    background-color: var(--bg-color);\n",
              "    border: none;\n",
              "    border-radius: 50%;\n",
              "    cursor: pointer;\n",
              "    display: none;\n",
              "    fill: var(--fill-color);\n",
              "    height: 32px;\n",
              "    padding: 0;\n",
              "    width: 32px;\n",
              "  }\n",
              "\n",
              "  .colab-df-quickchart:hover {\n",
              "    background-color: var(--hover-bg-color);\n",
              "    box-shadow: 0 1px 2px rgba(60, 64, 67, 0.3), 0 1px 3px 1px rgba(60, 64, 67, 0.15);\n",
              "    fill: var(--button-hover-fill-color);\n",
              "  }\n",
              "\n",
              "  .colab-df-quickchart-complete:disabled,\n",
              "  .colab-df-quickchart-complete:disabled:hover {\n",
              "    background-color: var(--disabled-bg-color);\n",
              "    fill: var(--disabled-fill-color);\n",
              "    box-shadow: none;\n",
              "  }\n",
              "\n",
              "  .colab-df-spinner {\n",
              "    border: 2px solid var(--fill-color);\n",
              "    border-color: transparent;\n",
              "    border-bottom-color: var(--fill-color);\n",
              "    animation:\n",
              "      spin 1s steps(1) infinite;\n",
              "  }\n",
              "\n",
              "  @keyframes spin {\n",
              "    0% {\n",
              "      border-color: transparent;\n",
              "      border-bottom-color: var(--fill-color);\n",
              "      border-left-color: var(--fill-color);\n",
              "    }\n",
              "    20% {\n",
              "      border-color: transparent;\n",
              "      border-left-color: var(--fill-color);\n",
              "      border-top-color: var(--fill-color);\n",
              "    }\n",
              "    30% {\n",
              "      border-color: transparent;\n",
              "      border-left-color: var(--fill-color);\n",
              "      border-top-color: var(--fill-color);\n",
              "      border-right-color: var(--fill-color);\n",
              "    }\n",
              "    40% {\n",
              "      border-color: transparent;\n",
              "      border-right-color: var(--fill-color);\n",
              "      border-top-color: var(--fill-color);\n",
              "    }\n",
              "    60% {\n",
              "      border-color: transparent;\n",
              "      border-right-color: var(--fill-color);\n",
              "    }\n",
              "    80% {\n",
              "      border-color: transparent;\n",
              "      border-right-color: var(--fill-color);\n",
              "      border-bottom-color: var(--fill-color);\n",
              "    }\n",
              "    90% {\n",
              "      border-color: transparent;\n",
              "      border-bottom-color: var(--fill-color);\n",
              "    }\n",
              "  }\n",
              "</style>\n",
              "\n",
              "  <script>\n",
              "    async function quickchart(key) {\n",
              "      const quickchartButtonEl =\n",
              "        document.querySelector('#' + key + ' button');\n",
              "      quickchartButtonEl.disabled = true;  // To prevent multiple clicks.\n",
              "      quickchartButtonEl.classList.add('colab-df-spinner');\n",
              "      try {\n",
              "        const charts = await google.colab.kernel.invokeFunction(\n",
              "            'suggestCharts', [key], {});\n",
              "      } catch (error) {\n",
              "        console.error('Error during call to suggestCharts:', error);\n",
              "      }\n",
              "      quickchartButtonEl.classList.remove('colab-df-spinner');\n",
              "      quickchartButtonEl.classList.add('colab-df-quickchart-complete');\n",
              "    }\n",
              "    (() => {\n",
              "      let quickchartButtonEl =\n",
              "        document.querySelector('#df-eb7b4942-d5c8-498c-a2a4-e87dc83f6b59 button');\n",
              "      quickchartButtonEl.style.display =\n",
              "        google.colab.kernel.accessAllowed ? 'block' : 'none';\n",
              "    })();\n",
              "  </script>\n",
              "</div>\n",
              "\n",
              "    </div>\n",
              "  </div>\n"
            ],
            "application/vnd.google.colaboratory.intrinsic+json": {
              "type": "dataframe",
              "variable_name": "df_sample",
              "summary": "{\n  \"name\": \"df_sample\",\n  \"rows\": 12450,\n  \"fields\": [\n    {\n      \"column\": \"text\",\n      \"properties\": {\n        \"dtype\": \"string\",\n        \"num_unique_values\": 12450,\n        \"samples\": [\n          \"Ummm... hey there!  So, like, I've been working at my uncle's marble shop for like, a month now, and it's been pretty cool.  I mean, it's not every day you get to work with your uncle, right?   Okay, so on my first day, I was super nervous. I mean, I'd never really worked in a shop before, let alone one that sells marbles.  I didn't even know what kind of marbles were good or anything! My uncle was like, \\\"Hey, kiddo, you wanna learn the ropes?\\\" And I was like, \\\"Uh, yeah!  I'll do my best!\\\"  So, he showed me around and introduced me to all the different types of marbles. There are like, so many!  I was amazed. And then he taught me how to sort them and put them away in the display cases. It was actually kinda fun once I got the hang of it.   But, of course, I made some mistakes.  Like, I accidentally put the blue marbles in the red box, and vice versa.  My uncle was like, \\\"What are you doing?!\\\" And I was like, \\\"Uh...  I thought those were the right ones?\\\"  He wasn't too mad at me, though.   Working at the marble shop has taught me some pretty cool lessons. Like, it's important to pay attention to details and be careful when you're working with things.  And it's okay to make mistakes, as long as you learn from them.  My uncle's always telling me, \\\"Hey, it's okay to make mistakes. Just don't make the same one twice!\\\"   Working at the marble shop has also made me feel more connected to my uncle.  We get along pretty well, and I like spending time with him.  It's nice to\",\n          \"Do you think the FACS (Facial Action Coding System) should be used in any technology today? I think that the Facial Action Coding System isn't a value because all technology is NOT 100% correct. There ould be a time when the computer glitches and mess up. Its not just a computer that glitches, its all electronics. Such as phones,tablets,video games and any other electronics you can think of. The FACS has no use because you can tell when a person is sad or mad or even angry.  Even if a person dont show facial expressions on how they feel they will feel that way deep inside. For example, students could be happy coming to school talking to their friends,just be in happy mood but when they get home they are depress and they start to act different. As days go on this student is changing as a person and people start to notice when you change. Everbody has different facial expressions each day if a person is not feeling that day they will show it. You can't use a computer just to show how people feel. The computer can tell people that your happy just because you smile all day but really your mad,sad,and depressesd but no one will ever know because of the way that the technology is set up. i still feel like the FACS shouldnt have never been created.  i still feel that way because,like the text stated \\\"you can probably tell how a friend is looking simply by the look on their face.\\\" you can also tell when you hang around a certain person everyday and they start to change and their facial expression start to change, their body language will also start to change. Just because you smile alot dont mean your happy .When you smile you muscles in your smile starts to change but that don't mean your happy your still sad. if your were to get tested on the machine they would considered you happy just because you smile alot but really you just depressed .  i know all of this imformation because when im at school i get serious and focus on my school work. During lunch i laugh and play with my friends and giggle all the time but when im at home its a different story. By me being the middle child i get treated differently so i always look angry when im at home . 95% of the time i try to keep a smile on my face but the other 5% i try to stay away from, because i dont want to be angry all the time i wanna be happy and make other people happy too. if i was to get tested the computer would say 100% happy.  No one should use the FACS if they know how they feel. Everybody know what wrong with them and what their issue is. You shouldn't need a machine to tell you something you already know. I know im not the only one that feel this way but everybody has their own opinion. This concludes on why i feel like the FACS should of NEVER been created.\",\n          \"The trend of declining car ownership and usage in America is not only aligning with President Obama's goals to reduce greenhouse gas emissions but also reflecting a deeper cultural change. This shift is driven by various societal factors, such as internet-based work and socializing, urban revitalization, and evolving commuting habits.  Firstly, the reduction in driving has a positive impact on the environment. With fewer cars on the road, there is a decrease in carbon emissions, which contribute to climate change. According to the Union of Concerned Scientists, transportation is responsible for 27% of greenhouse gas emissions in the US, with the majority coming from personal vehicles. By reducing our reliance on cars, we can significantly reduce our carbon footprint and help combat climate change.  Secondly, decreasing automobile utilization can improve public health. The less time we spend in cars, the less we are exposed to air pollution, which is linked to various health problems such as respiratory diseases, heart disease, and cancer. A study by the Harvard School of Public Health found that people living in areas with high levels of air pollution have a 12% higher risk of developing lung disease. Additionally, reducing car usage can encourage physical activity, such as walking or cycling, which has numerous health benefits.  Thirdly, declining car ownership can boost local economies. With the rise of internet-based work and socializing, people are spending more time in their local communities, supporting local businesses, and contributing to their local economy. According to the American Independent Business Alliance, for every $100 spent at a locally owned business, $48 remains in the local economy, compared to only $14 when spent at a non-locally owned business. This increased investment in local businesses can lead to more job opportunities, higher wages, and a stronger community.  Fourthly, the shift away from cars can lead to more sustainable urban planning. With fewer cars on the road, cities can invest in alternative modes of transportation, such as public transportation, bike lanes, and pedestrian-friendly streets. This can lead to more livable, connected, and vibrant cities, where people can easily access amenities, services, and recreational activities without relying on cars.  Lastly, the trend of decreasing car usage is accelerating innovation in the automobile industry. Companies are expanding into broader mobility services, such as car-sharing and ride-hailing, which cater to changing consumer preferences. According to a report by the International Energy Agency, the global car-sharing market is expected to grow from 21.5 million members in 2015 to 36.7 million members by 2025. This shift towards shared mobility can reduce the number of cars produced, thereby decreasing greenhouse gas emissions and supporting sustainable development.  In conclusion, the decline in car ownership and usage in America is a positive trend that aligns with President Obama's goals to reduce greenhouse gas emissions. This shift is driven by various societal factors and has numerous benefits for the environment, public health, local economies, urban planning, and innovation in the automobile industry. As a 10th grader, I believe that embracing this trend can create a better future for our communities and for generations to come.\"\n        ],\n        \"semantic_type\": \"\",\n        \"description\": \"\"\n      }\n    },\n    {\n      \"column\": \"label\",\n      \"properties\": {\n        \"dtype\": \"number\",\n        \"std\": 0,\n        \"min\": 0,\n        \"max\": 1,\n        \"num_unique_values\": 2,\n        \"samples\": [\n          0,\n          1\n        ],\n        \"semantic_type\": \"\",\n        \"description\": \"\"\n      }\n    }\n  ]\n}"
            }
          },
          "metadata": {},
          "execution_count": 156
        }
      ]
    },
    {
      "cell_type": "code",
      "source": [
        "df_sample.shape"
      ],
      "metadata": {
        "colab": {
          "base_uri": "https://localhost:8080/"
        },
        "id": "9HofSRTJvMny",
        "outputId": "c60adfb2-4f7d-459b-8c02-5b5743389d0a"
      },
      "execution_count": 157,
      "outputs": [
        {
          "output_type": "execute_result",
          "data": {
            "text/plain": [
              "(12450, 2)"
            ]
          },
          "metadata": {},
          "execution_count": 157
        }
      ]
    },
    {
      "cell_type": "code",
      "source": [
        "# Define outcome name\n",
        "outcomename = 'label'\n",
        "\n",
        "# Redefine X and Y after sampling\n",
        "X_sampled = df_sample.drop(columns=outcomename)\n",
        "Y_sampled = df_sample[outcomename]\n",
        "\n",
        "# Split into training and combined validation-test sets (80% train, 20% valid/test)\n",
        "X_train, X_valid_test, y_train, y_valid_test = train_test_split(X_sampled, Y_sampled, test_size=0.2, random_state=20240930, stratify=Y_sampled)\n",
        "\n",
        "# Split the combined validation-test set into separate validation and test sets (50% each of the remaining 20%)\n",
        "X_val, X_test, y_val, y_test = train_test_split(X_valid_test, y_valid_test, test_size=0.5, random_state=20240930, stratify=y_valid_test)"
      ],
      "metadata": {
        "id": "B1SEX0KQulh4"
      },
      "execution_count": 158,
      "outputs": []
    },
    {
      "cell_type": "code",
      "source": [
        "X_train.head()"
      ],
      "metadata": {
        "colab": {
          "base_uri": "https://localhost:8080/",
          "height": 206
        },
        "id": "cYrXqgydFM7D",
        "outputId": "b3adf9bc-bcec-4d1f-8039-c82ab1326bee"
      },
      "execution_count": 159,
      "outputs": [
        {
          "output_type": "execute_result",
          "data": {
            "text/plain": [
              "                                                    text\n",
              "28721  Dear Principal Smith,   I am writing to expres...\n",
              "9940   Bases on the passage I think it would be a goo...\n",
              "31678  Character traits can be extremely important wh...\n",
              "11924  While being able to tell someone's emotions ca...\n",
              "60793  As technology progresses, automobiles are bein..."
            ],
            "text/html": [
              "\n",
              "  <div id=\"df-6540246f-e704-4c6a-8087-8328a3606d03\" class=\"colab-df-container\">\n",
              "    <div>\n",
              "<style scoped>\n",
              "    .dataframe tbody tr th:only-of-type {\n",
              "        vertical-align: middle;\n",
              "    }\n",
              "\n",
              "    .dataframe tbody tr th {\n",
              "        vertical-align: top;\n",
              "    }\n",
              "\n",
              "    .dataframe thead th {\n",
              "        text-align: right;\n",
              "    }\n",
              "</style>\n",
              "<table border=\"1\" class=\"dataframe\">\n",
              "  <thead>\n",
              "    <tr style=\"text-align: right;\">\n",
              "      <th></th>\n",
              "      <th>text</th>\n",
              "    </tr>\n",
              "  </thead>\n",
              "  <tbody>\n",
              "    <tr>\n",
              "      <th>28721</th>\n",
              "      <td>Dear Principal Smith,   I am writing to expres...</td>\n",
              "    </tr>\n",
              "    <tr>\n",
              "      <th>9940</th>\n",
              "      <td>Bases on the passage I think it would be a goo...</td>\n",
              "    </tr>\n",
              "    <tr>\n",
              "      <th>31678</th>\n",
              "      <td>Character traits can be extremely important wh...</td>\n",
              "    </tr>\n",
              "    <tr>\n",
              "      <th>11924</th>\n",
              "      <td>While being able to tell someone's emotions ca...</td>\n",
              "    </tr>\n",
              "    <tr>\n",
              "      <th>60793</th>\n",
              "      <td>As technology progresses, automobiles are bein...</td>\n",
              "    </tr>\n",
              "  </tbody>\n",
              "</table>\n",
              "</div>\n",
              "    <div class=\"colab-df-buttons\">\n",
              "\n",
              "  <div class=\"colab-df-container\">\n",
              "    <button class=\"colab-df-convert\" onclick=\"convertToInteractive('df-6540246f-e704-4c6a-8087-8328a3606d03')\"\n",
              "            title=\"Convert this dataframe to an interactive table.\"\n",
              "            style=\"display:none;\">\n",
              "\n",
              "  <svg xmlns=\"http://www.w3.org/2000/svg\" height=\"24px\" viewBox=\"0 -960 960 960\">\n",
              "    <path d=\"M120-120v-720h720v720H120Zm60-500h600v-160H180v160Zm220 220h160v-160H400v160Zm0 220h160v-160H400v160ZM180-400h160v-160H180v160Zm440 0h160v-160H620v160ZM180-180h160v-160H180v160Zm440 0h160v-160H620v160Z\"/>\n",
              "  </svg>\n",
              "    </button>\n",
              "\n",
              "  <style>\n",
              "    .colab-df-container {\n",
              "      display:flex;\n",
              "      gap: 12px;\n",
              "    }\n",
              "\n",
              "    .colab-df-convert {\n",
              "      background-color: #E8F0FE;\n",
              "      border: none;\n",
              "      border-radius: 50%;\n",
              "      cursor: pointer;\n",
              "      display: none;\n",
              "      fill: #1967D2;\n",
              "      height: 32px;\n",
              "      padding: 0 0 0 0;\n",
              "      width: 32px;\n",
              "    }\n",
              "\n",
              "    .colab-df-convert:hover {\n",
              "      background-color: #E2EBFA;\n",
              "      box-shadow: 0px 1px 2px rgba(60, 64, 67, 0.3), 0px 1px 3px 1px rgba(60, 64, 67, 0.15);\n",
              "      fill: #174EA6;\n",
              "    }\n",
              "\n",
              "    .colab-df-buttons div {\n",
              "      margin-bottom: 4px;\n",
              "    }\n",
              "\n",
              "    [theme=dark] .colab-df-convert {\n",
              "      background-color: #3B4455;\n",
              "      fill: #D2E3FC;\n",
              "    }\n",
              "\n",
              "    [theme=dark] .colab-df-convert:hover {\n",
              "      background-color: #434B5C;\n",
              "      box-shadow: 0px 1px 3px 1px rgba(0, 0, 0, 0.15);\n",
              "      filter: drop-shadow(0px 1px 2px rgba(0, 0, 0, 0.3));\n",
              "      fill: #FFFFFF;\n",
              "    }\n",
              "  </style>\n",
              "\n",
              "    <script>\n",
              "      const buttonEl =\n",
              "        document.querySelector('#df-6540246f-e704-4c6a-8087-8328a3606d03 button.colab-df-convert');\n",
              "      buttonEl.style.display =\n",
              "        google.colab.kernel.accessAllowed ? 'block' : 'none';\n",
              "\n",
              "      async function convertToInteractive(key) {\n",
              "        const element = document.querySelector('#df-6540246f-e704-4c6a-8087-8328a3606d03');\n",
              "        const dataTable =\n",
              "          await google.colab.kernel.invokeFunction('convertToInteractive',\n",
              "                                                    [key], {});\n",
              "        if (!dataTable) return;\n",
              "\n",
              "        const docLinkHtml = 'Like what you see? Visit the ' +\n",
              "          '<a target=\"_blank\" href=https://colab.research.google.com/notebooks/data_table.ipynb>data table notebook</a>'\n",
              "          + ' to learn more about interactive tables.';\n",
              "        element.innerHTML = '';\n",
              "        dataTable['output_type'] = 'display_data';\n",
              "        await google.colab.output.renderOutput(dataTable, element);\n",
              "        const docLink = document.createElement('div');\n",
              "        docLink.innerHTML = docLinkHtml;\n",
              "        element.appendChild(docLink);\n",
              "      }\n",
              "    </script>\n",
              "  </div>\n",
              "\n",
              "\n",
              "<div id=\"df-51724813-9fb2-48a6-9f70-2315bc4c7adc\">\n",
              "  <button class=\"colab-df-quickchart\" onclick=\"quickchart('df-51724813-9fb2-48a6-9f70-2315bc4c7adc')\"\n",
              "            title=\"Suggest charts\"\n",
              "            style=\"display:none;\">\n",
              "\n",
              "<svg xmlns=\"http://www.w3.org/2000/svg\" height=\"24px\"viewBox=\"0 0 24 24\"\n",
              "     width=\"24px\">\n",
              "    <g>\n",
              "        <path d=\"M19 3H5c-1.1 0-2 .9-2 2v14c0 1.1.9 2 2 2h14c1.1 0 2-.9 2-2V5c0-1.1-.9-2-2-2zM9 17H7v-7h2v7zm4 0h-2V7h2v10zm4 0h-2v-4h2v4z\"/>\n",
              "    </g>\n",
              "</svg>\n",
              "  </button>\n",
              "\n",
              "<style>\n",
              "  .colab-df-quickchart {\n",
              "      --bg-color: #E8F0FE;\n",
              "      --fill-color: #1967D2;\n",
              "      --hover-bg-color: #E2EBFA;\n",
              "      --hover-fill-color: #174EA6;\n",
              "      --disabled-fill-color: #AAA;\n",
              "      --disabled-bg-color: #DDD;\n",
              "  }\n",
              "\n",
              "  [theme=dark] .colab-df-quickchart {\n",
              "      --bg-color: #3B4455;\n",
              "      --fill-color: #D2E3FC;\n",
              "      --hover-bg-color: #434B5C;\n",
              "      --hover-fill-color: #FFFFFF;\n",
              "      --disabled-bg-color: #3B4455;\n",
              "      --disabled-fill-color: #666;\n",
              "  }\n",
              "\n",
              "  .colab-df-quickchart {\n",
              "    background-color: var(--bg-color);\n",
              "    border: none;\n",
              "    border-radius: 50%;\n",
              "    cursor: pointer;\n",
              "    display: none;\n",
              "    fill: var(--fill-color);\n",
              "    height: 32px;\n",
              "    padding: 0;\n",
              "    width: 32px;\n",
              "  }\n",
              "\n",
              "  .colab-df-quickchart:hover {\n",
              "    background-color: var(--hover-bg-color);\n",
              "    box-shadow: 0 1px 2px rgba(60, 64, 67, 0.3), 0 1px 3px 1px rgba(60, 64, 67, 0.15);\n",
              "    fill: var(--button-hover-fill-color);\n",
              "  }\n",
              "\n",
              "  .colab-df-quickchart-complete:disabled,\n",
              "  .colab-df-quickchart-complete:disabled:hover {\n",
              "    background-color: var(--disabled-bg-color);\n",
              "    fill: var(--disabled-fill-color);\n",
              "    box-shadow: none;\n",
              "  }\n",
              "\n",
              "  .colab-df-spinner {\n",
              "    border: 2px solid var(--fill-color);\n",
              "    border-color: transparent;\n",
              "    border-bottom-color: var(--fill-color);\n",
              "    animation:\n",
              "      spin 1s steps(1) infinite;\n",
              "  }\n",
              "\n",
              "  @keyframes spin {\n",
              "    0% {\n",
              "      border-color: transparent;\n",
              "      border-bottom-color: var(--fill-color);\n",
              "      border-left-color: var(--fill-color);\n",
              "    }\n",
              "    20% {\n",
              "      border-color: transparent;\n",
              "      border-left-color: var(--fill-color);\n",
              "      border-top-color: var(--fill-color);\n",
              "    }\n",
              "    30% {\n",
              "      border-color: transparent;\n",
              "      border-left-color: var(--fill-color);\n",
              "      border-top-color: var(--fill-color);\n",
              "      border-right-color: var(--fill-color);\n",
              "    }\n",
              "    40% {\n",
              "      border-color: transparent;\n",
              "      border-right-color: var(--fill-color);\n",
              "      border-top-color: var(--fill-color);\n",
              "    }\n",
              "    60% {\n",
              "      border-color: transparent;\n",
              "      border-right-color: var(--fill-color);\n",
              "    }\n",
              "    80% {\n",
              "      border-color: transparent;\n",
              "      border-right-color: var(--fill-color);\n",
              "      border-bottom-color: var(--fill-color);\n",
              "    }\n",
              "    90% {\n",
              "      border-color: transparent;\n",
              "      border-bottom-color: var(--fill-color);\n",
              "    }\n",
              "  }\n",
              "</style>\n",
              "\n",
              "  <script>\n",
              "    async function quickchart(key) {\n",
              "      const quickchartButtonEl =\n",
              "        document.querySelector('#' + key + ' button');\n",
              "      quickchartButtonEl.disabled = true;  // To prevent multiple clicks.\n",
              "      quickchartButtonEl.classList.add('colab-df-spinner');\n",
              "      try {\n",
              "        const charts = await google.colab.kernel.invokeFunction(\n",
              "            'suggestCharts', [key], {});\n",
              "      } catch (error) {\n",
              "        console.error('Error during call to suggestCharts:', error);\n",
              "      }\n",
              "      quickchartButtonEl.classList.remove('colab-df-spinner');\n",
              "      quickchartButtonEl.classList.add('colab-df-quickchart-complete');\n",
              "    }\n",
              "    (() => {\n",
              "      let quickchartButtonEl =\n",
              "        document.querySelector('#df-51724813-9fb2-48a6-9f70-2315bc4c7adc button');\n",
              "      quickchartButtonEl.style.display =\n",
              "        google.colab.kernel.accessAllowed ? 'block' : 'none';\n",
              "    })();\n",
              "  </script>\n",
              "</div>\n",
              "\n",
              "    </div>\n",
              "  </div>\n"
            ],
            "application/vnd.google.colaboratory.intrinsic+json": {
              "type": "dataframe",
              "variable_name": "X_train",
              "summary": "{\n  \"name\": \"X_train\",\n  \"rows\": 9960,\n  \"fields\": [\n    {\n      \"column\": \"text\",\n      \"properties\": {\n        \"dtype\": \"string\",\n        \"num_unique_values\": 9960,\n        \"samples\": [\n          \"  Venus is a dazzling yet intriguing natural satellite in our Solar System. Amongst its multitudinous attributes, it has been widely acclaimed for its breathtaking, swirling cloud formations, extreme surface temperatures, and dense atmosphere dominated by carbon dioxide, with a high-pressure environment reminiscent of the deep ocean trenches on Earth. However, scientists remain perplexed as it harbors characteristics of both Earth and another neighboring planet, thereby presenting a conundrum as they seek to unravel the complexities of its origins and nature.  In order to shed light on the mysteries enshrouding Venus, it's essential to comprehend its formation and evolution, which is shrouded in scientific debate. The popular model suggests that Venus was created alongside Earth and Mars around 4.6 billion years ago as a result of the gravitational collapse of a protoplanetary disk emanated from a Sun-like star. This disk's circum-stellar matter eventually clumped together, resulting in the formation of larger bodies, eventually leading to the birth of the three terrestrial planets.  Yet, a diverging theory, the Venusian Hades, proposes that Venus arrived on the scene much later, a mere 100 million years ago, after colliding with an asteroid which, in turn, shredded and scattered debris around the planet, igniting its formation. This hypothesis raises several other controversies, such as whether Venus has an actual core separate from Earth, or if it formed within a different part of the Solar System entirely. As scientists continue to unveil the mysteries surrounding the celestial bodies, new hypotheses might potentially arise, reshaping our understanding of the origins and evolution of our Solar System.  As we attempt to delve deeper into comprehending this enigmatic planet, understanding the nature of its atmosphere is also of the utmost importance. Venus' atmosphere is remarkably dense and made up of 96.5% carbon dioxide, which, in turn, contributes to the planet's infamous runaway greenhouse effect and its devastating surface temperatures of around 476\\u00b0C. It is estimated that these temperatures have led to the melting of its surface, causing it to resemble the surface of molten lava, leading to widespread theories that the planet may have once hosted a vast ocean that has since evaporated due to these extreme temperatures.  The planet's atmospheric pressure is also considerably elevated at a staggering 92 times the pressure experienced on Earth's surface, which is why, if we were to land there and tried to breathe, our bodies would not be able to function adequately due to the inability of our lungs to extract sufficient oxygen from the air. Furthermore, the atmosphere, which plays a significant role in the protection against solar radiation, is primarily driven by super-rotating winds which are approximately 360 Earth rotations each hour, resulting in the formation of massive, cloudy structures. These wind systems are powered by the absorption of CO2 by a layer of atmospheric sulfuric acid, which traps heat and contributes to an enduring, complex temperature inversion on the planet.  In attempting to unravel the enigmas of Venus, one cannot overlook its mysterious surface features. In the past, the planet has been observed using robotic explorers and orbiters to reveal topographical data of its surface terrain. For instance, images from these missions have revealed evidence of ancient volcanic landscapes, volcanic peaks, and vast surface flats that may resemble flooded landscapes. Additionally, the presence of tesserae - geological features characteristic of Earth's continental rocks, suggest that these continents might have hosted liquid water in the past, which further challenges our understanding of this planet's evolutionary history.  Lastly, it is also vital to acknowledge the possible presence of life not only on Earth but also on Venus. Venus shares several characteristics with Earth, which fuels speculation that the conditions on its surface at some point in the past may have supported diverse life forms such as microbial organisms. If our understanding of Venus' origins, structure, and past climate is accurate, it's possible that it once boasted a similar environment to Earth's, enabling life to develop and thrive \\u2013 only for it to be gradually destroyed due to the planet's evolving environmental conditions.  In conclusion, understanding the evolution of Venus is an interdisciplinary endeavor, requiring collaboration between scientists from various fields, such as astronomy, geology, and meteorology. As researchers delve deeper into the mysteries surrounding this planet, they continue to build on the current knowledge base and advance our understanding of the cosmos and the possibility that life can exist beyond Earth. In light of the increasing frequency of planetary probes and rovers, there's no limit to the potential discoveries about Earth's sister planet, Venus.\",\n          \"As an eighth-grade student, I have had the opportunity to participate in various projects and assignments throughout the school year. While some of these projects have been self-designed, I have found that projects designed by teachers are more effective and engaging. In this essay, I will analyze and explain the importance of having teachers design projects for students instead of having them design them on their own.  One of the main reasons why teachers should design projects for students is that it allows them to tailor the project to the students' needs and abilities. When students design their own projects, they may struggle to create a project that is challenging enough to keep them engaged while also being achievable for their skill level. Teachers, on the other hand, have a better understanding of their students' abilities and can design projects that are both challenging and achievable. This allows students to learn at their own pace and feel a sense of accomplishment when they complete the project.  Another reason why teachers should design projects for students is that it allows them to provide guidance and support throughout the project. When students design their own projects, they may struggle to find the resources and information they need to complete the project. Teachers, however, can provide guidance and support throughout the project, helping students to overcome any obstacles they may encounter. This allows students to learn valuable skills such as problem-solving and critical thinking, which they can use in the future.  In addition to providing guidance and support, teachers can also design projects that are relevant and meaningful to their students' lives. When students design their own projects, they may struggle to come up with a project that is relevant to their lives or that they are passionate about. Teachers, however, can design projects that are relevant to their students' lives and that they are passionate about. This allows students to see the value in the project and to feel more engaged and motivated to complete it.  Finally, teachers can design projects that are aligned with the curriculum and learning objectives. When students design their own projects, they may struggle to create a project that is aligned with the curriculum and learning objectives. Teachers, however, can design projects that are aligned with the curriculum and learning objectives, ensuring that students are learning the skills and knowledge they need to succeed.  In conclusion, having teachers design projects for students is important for a number of reasons. Teachers can tailor the project to the students' needs\",\n          \"The author of \\\"The Challenge of Exploring Venus\\\" effectively argues in favor of exploring Venus despite the numerous challenges and dangers associated with it. The author presents a well-structured and thought-out article, using evidence to support their argument and providing a clear explanation of the challenges and potential rewards of Venus exploration.  The author begins by highlighting the allure of space exploration and the unique set of challenges that Venus presents. They then delve into the harsh reality of Venus, describing the extreme temperatures and atmospheric pressure that make land-based missions nearly impossible. However, instead of dwelling on these challenges, the author quickly pivots to discussing technological innovations that could potentially overcome these obstacles. This approach effectively showcases the author's perspective that, despite the challenges, exploring Venus is still worthwhile.  The author further supports their argument by discussing the paradox of distant observation, which limits the extent to which orbiting or hovering missions can gather data about Venus's surface. This section effectively underscores the need for more direct exploration methods, which the author argues are feasible with advancements in technology.  The article's strongest point is the author's explanation of why exploring Venus is worth the risk. The author highlights the potential scientific gains, such as understanding planetary science and Earth's future, and the relative accessibility of Venus during certain orbits. These points effectively balance the risk and reward of exploring Venus, making a compelling argument for why we should continue to pursue this endeavor.  The author also effectively uses evidence to support their argument. They cite past attempts at exploring Venus and the challenges those missions faced, demonstrating the author's knowledge and understanding of the topic. Additionally, the author'suse of metaphors, such as comparing Venus to a \\\"hostile yet intriguing world,\\\" adds depth and interest to the article.  However, there are some areas where the author could improve. At times, the language used is overly complex, which may make it difficult for some readers to fully understand the concepts being discussed. Additionally, the article could benefit from more visual aids, such as diagrams or images, to help illustrate the challenges and potential solutions of Venus exploration.  In conclusion, the author of \\\"The Challenge of Exploring Venus\\\" effectively argues in favor of exploring Venus despite the associated dangers. The author presents a well-structured and thought-out article, using evidence to support their argument and providing a clear explanation of the challenges and potential rewards of Venus exploration. While there are some areas for improvement, the article overall makes a compelling case for why we should continue to pursue the exploration of Venus.\"\n        ],\n        \"semantic_type\": \"\",\n        \"description\": \"\"\n      }\n    }\n  ]\n}"
            }
          },
          "metadata": {},
          "execution_count": 159
        }
      ]
    },
    {
      "cell_type": "markdown",
      "source": [
        "### AI-Structure Deletion Dataset"
      ],
      "metadata": {
        "id": "UoMHRGc7xRIw"
      }
    },
    {
      "cell_type": "code",
      "source": [
        "#Create the stratification key\n",
        "df1['stratify_key'] = df1['prompt_name'].astype(str) + '_' + df1['source'].astype(str) + '_' + df1['label'].astype(str)\n",
        "\n",
        "# Separate small groups with less than 2 records\n",
        "group_counts = df1['stratify_key'].value_counts()\n",
        "small_groups = group_counts[group_counts < 2].index\n",
        "df_small = df1[df1['stratify_key'].isin(small_groups)]\n",
        "df_large = df1[~df1['stratify_key'].isin(small_groups)]"
      ],
      "metadata": {
        "id": "yPMXGkzXwwX2"
      },
      "execution_count": 160,
      "outputs": []
    },
    {
      "cell_type": "code",
      "source": [
        "# Perform stratified sampling on the larger groups\n",
        "from sklearn.model_selection import train_test_split\n",
        "\n",
        "df_large_sample, _ = train_test_split(df_large, train_size=12442, stratify=df_large['stratify_key'], random_state=20240930)\n",
        "\n",
        "# Combine the sampled large groups with small groups\n",
        "df_sample = pd.concat([df_large_sample, df_small])\n",
        "\n",
        "df_sample[['prompt_name','source']].value_counts()"
      ],
      "metadata": {
        "colab": {
          "base_uri": "https://localhost:8080/",
          "height": 489
        },
        "id": "iPsH4x1KxQt6",
        "outputId": "4f523358-6852-4d34-8fd2-9966731a8eec"
      },
      "execution_count": 161,
      "outputs": [
        {
          "output_type": "execute_result",
          "data": {
            "text/plain": [
              "prompt_name                           source              \n",
              "Facial action coding system           persuade_corpus         413\n",
              "Distance learning                     persuade_corpus         411\n",
              "Does the electoral college work?      persuade_corpus         390\n",
              "Car-free cities                       persuade_corpus         373\n",
              "Driverless cars                       persuade_corpus         359\n",
              "                                                             ... \n",
              "Exploring Venus                       mistral7binstruct_v1      1\n",
              "Does the electoral college work?      chat_gpt_moth             1\n",
              "Exploring Venus                       chat_gpt_moth             1\n",
              "Mandatory extracurricular activities  palm-text-bison1          1\n",
              "Seeking multiple opinions             cohere-command            1\n",
              "Name: count, Length: 245, dtype: int64"
            ],
            "text/html": [
              "<div>\n",
              "<style scoped>\n",
              "    .dataframe tbody tr th:only-of-type {\n",
              "        vertical-align: middle;\n",
              "    }\n",
              "\n",
              "    .dataframe tbody tr th {\n",
              "        vertical-align: top;\n",
              "    }\n",
              "\n",
              "    .dataframe thead th {\n",
              "        text-align: right;\n",
              "    }\n",
              "</style>\n",
              "<table border=\"1\" class=\"dataframe\">\n",
              "  <thead>\n",
              "    <tr style=\"text-align: right;\">\n",
              "      <th></th>\n",
              "      <th></th>\n",
              "      <th>count</th>\n",
              "    </tr>\n",
              "    <tr>\n",
              "      <th>prompt_name</th>\n",
              "      <th>source</th>\n",
              "      <th></th>\n",
              "    </tr>\n",
              "  </thead>\n",
              "  <tbody>\n",
              "    <tr>\n",
              "      <th>Facial action coding system</th>\n",
              "      <th>persuade_corpus</th>\n",
              "      <td>413</td>\n",
              "    </tr>\n",
              "    <tr>\n",
              "      <th>Distance learning</th>\n",
              "      <th>persuade_corpus</th>\n",
              "      <td>411</td>\n",
              "    </tr>\n",
              "    <tr>\n",
              "      <th>Does the electoral college work?</th>\n",
              "      <th>persuade_corpus</th>\n",
              "      <td>390</td>\n",
              "    </tr>\n",
              "    <tr>\n",
              "      <th>Car-free cities</th>\n",
              "      <th>persuade_corpus</th>\n",
              "      <td>373</td>\n",
              "    </tr>\n",
              "    <tr>\n",
              "      <th>Driverless cars</th>\n",
              "      <th>persuade_corpus</th>\n",
              "      <td>359</td>\n",
              "    </tr>\n",
              "    <tr>\n",
              "      <th>...</th>\n",
              "      <th>...</th>\n",
              "      <td>...</td>\n",
              "    </tr>\n",
              "    <tr>\n",
              "      <th>Exploring Venus</th>\n",
              "      <th>mistral7binstruct_v1</th>\n",
              "      <td>1</td>\n",
              "    </tr>\n",
              "    <tr>\n",
              "      <th>Does the electoral college work?</th>\n",
              "      <th>chat_gpt_moth</th>\n",
              "      <td>1</td>\n",
              "    </tr>\n",
              "    <tr>\n",
              "      <th>Exploring Venus</th>\n",
              "      <th>chat_gpt_moth</th>\n",
              "      <td>1</td>\n",
              "    </tr>\n",
              "    <tr>\n",
              "      <th>Mandatory extracurricular activities</th>\n",
              "      <th>palm-text-bison1</th>\n",
              "      <td>1</td>\n",
              "    </tr>\n",
              "    <tr>\n",
              "      <th>Seeking multiple opinions</th>\n",
              "      <th>cohere-command</th>\n",
              "      <td>1</td>\n",
              "    </tr>\n",
              "  </tbody>\n",
              "</table>\n",
              "<p>245 rows × 1 columns</p>\n",
              "</div><br><label><b>dtype:</b> int64</label>"
            ]
          },
          "metadata": {},
          "execution_count": 161
        }
      ]
    },
    {
      "cell_type": "code",
      "source": [
        "# View the sampled DataFrame\n",
        "df_sample = df_sample[['text','label']]\n",
        "df_sample.head()"
      ],
      "metadata": {
        "colab": {
          "base_uri": "https://localhost:8080/",
          "height": 206
        },
        "id": "dPUt6u7SxdoK",
        "outputId": "684573a7-c9e3-4897-a1db-110053a4ab20"
      },
      "execution_count": 162,
      "outputs": [
        {
          "output_type": "execute_result",
          "data": {
            "text/plain": [
              "                                                    text  label\n",
              "54578  Dear , I am writing to express my opinion on t...      1\n",
              "43637  Cars have become a staple in our society. They...      1\n",
              "60817  Democracy in the United States is often portra...      1\n",
              "21466  Dear principal, I think that you should let st...      0\n",
              "26206  Community parks are a great place to enjoy the...      1"
            ],
            "text/html": [
              "\n",
              "  <div id=\"df-a154484d-ace2-46ce-8f61-a38b37c79954\" class=\"colab-df-container\">\n",
              "    <div>\n",
              "<style scoped>\n",
              "    .dataframe tbody tr th:only-of-type {\n",
              "        vertical-align: middle;\n",
              "    }\n",
              "\n",
              "    .dataframe tbody tr th {\n",
              "        vertical-align: top;\n",
              "    }\n",
              "\n",
              "    .dataframe thead th {\n",
              "        text-align: right;\n",
              "    }\n",
              "</style>\n",
              "<table border=\"1\" class=\"dataframe\">\n",
              "  <thead>\n",
              "    <tr style=\"text-align: right;\">\n",
              "      <th></th>\n",
              "      <th>text</th>\n",
              "      <th>label</th>\n",
              "    </tr>\n",
              "  </thead>\n",
              "  <tbody>\n",
              "    <tr>\n",
              "      <th>54578</th>\n",
              "      <td>Dear , I am writing to express my opinion on t...</td>\n",
              "      <td>1</td>\n",
              "    </tr>\n",
              "    <tr>\n",
              "      <th>43637</th>\n",
              "      <td>Cars have become a staple in our society. They...</td>\n",
              "      <td>1</td>\n",
              "    </tr>\n",
              "    <tr>\n",
              "      <th>60817</th>\n",
              "      <td>Democracy in the United States is often portra...</td>\n",
              "      <td>1</td>\n",
              "    </tr>\n",
              "    <tr>\n",
              "      <th>21466</th>\n",
              "      <td>Dear principal, I think that you should let st...</td>\n",
              "      <td>0</td>\n",
              "    </tr>\n",
              "    <tr>\n",
              "      <th>26206</th>\n",
              "      <td>Community parks are a great place to enjoy the...</td>\n",
              "      <td>1</td>\n",
              "    </tr>\n",
              "  </tbody>\n",
              "</table>\n",
              "</div>\n",
              "    <div class=\"colab-df-buttons\">\n",
              "\n",
              "  <div class=\"colab-df-container\">\n",
              "    <button class=\"colab-df-convert\" onclick=\"convertToInteractive('df-a154484d-ace2-46ce-8f61-a38b37c79954')\"\n",
              "            title=\"Convert this dataframe to an interactive table.\"\n",
              "            style=\"display:none;\">\n",
              "\n",
              "  <svg xmlns=\"http://www.w3.org/2000/svg\" height=\"24px\" viewBox=\"0 -960 960 960\">\n",
              "    <path d=\"M120-120v-720h720v720H120Zm60-500h600v-160H180v160Zm220 220h160v-160H400v160Zm0 220h160v-160H400v160ZM180-400h160v-160H180v160Zm440 0h160v-160H620v160ZM180-180h160v-160H180v160Zm440 0h160v-160H620v160Z\"/>\n",
              "  </svg>\n",
              "    </button>\n",
              "\n",
              "  <style>\n",
              "    .colab-df-container {\n",
              "      display:flex;\n",
              "      gap: 12px;\n",
              "    }\n",
              "\n",
              "    .colab-df-convert {\n",
              "      background-color: #E8F0FE;\n",
              "      border: none;\n",
              "      border-radius: 50%;\n",
              "      cursor: pointer;\n",
              "      display: none;\n",
              "      fill: #1967D2;\n",
              "      height: 32px;\n",
              "      padding: 0 0 0 0;\n",
              "      width: 32px;\n",
              "    }\n",
              "\n",
              "    .colab-df-convert:hover {\n",
              "      background-color: #E2EBFA;\n",
              "      box-shadow: 0px 1px 2px rgba(60, 64, 67, 0.3), 0px 1px 3px 1px rgba(60, 64, 67, 0.15);\n",
              "      fill: #174EA6;\n",
              "    }\n",
              "\n",
              "    .colab-df-buttons div {\n",
              "      margin-bottom: 4px;\n",
              "    }\n",
              "\n",
              "    [theme=dark] .colab-df-convert {\n",
              "      background-color: #3B4455;\n",
              "      fill: #D2E3FC;\n",
              "    }\n",
              "\n",
              "    [theme=dark] .colab-df-convert:hover {\n",
              "      background-color: #434B5C;\n",
              "      box-shadow: 0px 1px 3px 1px rgba(0, 0, 0, 0.15);\n",
              "      filter: drop-shadow(0px 1px 2px rgba(0, 0, 0, 0.3));\n",
              "      fill: #FFFFFF;\n",
              "    }\n",
              "  </style>\n",
              "\n",
              "    <script>\n",
              "      const buttonEl =\n",
              "        document.querySelector('#df-a154484d-ace2-46ce-8f61-a38b37c79954 button.colab-df-convert');\n",
              "      buttonEl.style.display =\n",
              "        google.colab.kernel.accessAllowed ? 'block' : 'none';\n",
              "\n",
              "      async function convertToInteractive(key) {\n",
              "        const element = document.querySelector('#df-a154484d-ace2-46ce-8f61-a38b37c79954');\n",
              "        const dataTable =\n",
              "          await google.colab.kernel.invokeFunction('convertToInteractive',\n",
              "                                                    [key], {});\n",
              "        if (!dataTable) return;\n",
              "\n",
              "        const docLinkHtml = 'Like what you see? Visit the ' +\n",
              "          '<a target=\"_blank\" href=https://colab.research.google.com/notebooks/data_table.ipynb>data table notebook</a>'\n",
              "          + ' to learn more about interactive tables.';\n",
              "        element.innerHTML = '';\n",
              "        dataTable['output_type'] = 'display_data';\n",
              "        await google.colab.output.renderOutput(dataTable, element);\n",
              "        const docLink = document.createElement('div');\n",
              "        docLink.innerHTML = docLinkHtml;\n",
              "        element.appendChild(docLink);\n",
              "      }\n",
              "    </script>\n",
              "  </div>\n",
              "\n",
              "\n",
              "<div id=\"df-318e0b4b-c434-4a26-80ac-096306542f7d\">\n",
              "  <button class=\"colab-df-quickchart\" onclick=\"quickchart('df-318e0b4b-c434-4a26-80ac-096306542f7d')\"\n",
              "            title=\"Suggest charts\"\n",
              "            style=\"display:none;\">\n",
              "\n",
              "<svg xmlns=\"http://www.w3.org/2000/svg\" height=\"24px\"viewBox=\"0 0 24 24\"\n",
              "     width=\"24px\">\n",
              "    <g>\n",
              "        <path d=\"M19 3H5c-1.1 0-2 .9-2 2v14c0 1.1.9 2 2 2h14c1.1 0 2-.9 2-2V5c0-1.1-.9-2-2-2zM9 17H7v-7h2v7zm4 0h-2V7h2v10zm4 0h-2v-4h2v4z\"/>\n",
              "    </g>\n",
              "</svg>\n",
              "  </button>\n",
              "\n",
              "<style>\n",
              "  .colab-df-quickchart {\n",
              "      --bg-color: #E8F0FE;\n",
              "      --fill-color: #1967D2;\n",
              "      --hover-bg-color: #E2EBFA;\n",
              "      --hover-fill-color: #174EA6;\n",
              "      --disabled-fill-color: #AAA;\n",
              "      --disabled-bg-color: #DDD;\n",
              "  }\n",
              "\n",
              "  [theme=dark] .colab-df-quickchart {\n",
              "      --bg-color: #3B4455;\n",
              "      --fill-color: #D2E3FC;\n",
              "      --hover-bg-color: #434B5C;\n",
              "      --hover-fill-color: #FFFFFF;\n",
              "      --disabled-bg-color: #3B4455;\n",
              "      --disabled-fill-color: #666;\n",
              "  }\n",
              "\n",
              "  .colab-df-quickchart {\n",
              "    background-color: var(--bg-color);\n",
              "    border: none;\n",
              "    border-radius: 50%;\n",
              "    cursor: pointer;\n",
              "    display: none;\n",
              "    fill: var(--fill-color);\n",
              "    height: 32px;\n",
              "    padding: 0;\n",
              "    width: 32px;\n",
              "  }\n",
              "\n",
              "  .colab-df-quickchart:hover {\n",
              "    background-color: var(--hover-bg-color);\n",
              "    box-shadow: 0 1px 2px rgba(60, 64, 67, 0.3), 0 1px 3px 1px rgba(60, 64, 67, 0.15);\n",
              "    fill: var(--button-hover-fill-color);\n",
              "  }\n",
              "\n",
              "  .colab-df-quickchart-complete:disabled,\n",
              "  .colab-df-quickchart-complete:disabled:hover {\n",
              "    background-color: var(--disabled-bg-color);\n",
              "    fill: var(--disabled-fill-color);\n",
              "    box-shadow: none;\n",
              "  }\n",
              "\n",
              "  .colab-df-spinner {\n",
              "    border: 2px solid var(--fill-color);\n",
              "    border-color: transparent;\n",
              "    border-bottom-color: var(--fill-color);\n",
              "    animation:\n",
              "      spin 1s steps(1) infinite;\n",
              "  }\n",
              "\n",
              "  @keyframes spin {\n",
              "    0% {\n",
              "      border-color: transparent;\n",
              "      border-bottom-color: var(--fill-color);\n",
              "      border-left-color: var(--fill-color);\n",
              "    }\n",
              "    20% {\n",
              "      border-color: transparent;\n",
              "      border-left-color: var(--fill-color);\n",
              "      border-top-color: var(--fill-color);\n",
              "    }\n",
              "    30% {\n",
              "      border-color: transparent;\n",
              "      border-left-color: var(--fill-color);\n",
              "      border-top-color: var(--fill-color);\n",
              "      border-right-color: var(--fill-color);\n",
              "    }\n",
              "    40% {\n",
              "      border-color: transparent;\n",
              "      border-right-color: var(--fill-color);\n",
              "      border-top-color: var(--fill-color);\n",
              "    }\n",
              "    60% {\n",
              "      border-color: transparent;\n",
              "      border-right-color: var(--fill-color);\n",
              "    }\n",
              "    80% {\n",
              "      border-color: transparent;\n",
              "      border-right-color: var(--fill-color);\n",
              "      border-bottom-color: var(--fill-color);\n",
              "    }\n",
              "    90% {\n",
              "      border-color: transparent;\n",
              "      border-bottom-color: var(--fill-color);\n",
              "    }\n",
              "  }\n",
              "</style>\n",
              "\n",
              "  <script>\n",
              "    async function quickchart(key) {\n",
              "      const quickchartButtonEl =\n",
              "        document.querySelector('#' + key + ' button');\n",
              "      quickchartButtonEl.disabled = true;  // To prevent multiple clicks.\n",
              "      quickchartButtonEl.classList.add('colab-df-spinner');\n",
              "      try {\n",
              "        const charts = await google.colab.kernel.invokeFunction(\n",
              "            'suggestCharts', [key], {});\n",
              "      } catch (error) {\n",
              "        console.error('Error during call to suggestCharts:', error);\n",
              "      }\n",
              "      quickchartButtonEl.classList.remove('colab-df-spinner');\n",
              "      quickchartButtonEl.classList.add('colab-df-quickchart-complete');\n",
              "    }\n",
              "    (() => {\n",
              "      let quickchartButtonEl =\n",
              "        document.querySelector('#df-318e0b4b-c434-4a26-80ac-096306542f7d button');\n",
              "      quickchartButtonEl.style.display =\n",
              "        google.colab.kernel.accessAllowed ? 'block' : 'none';\n",
              "    })();\n",
              "  </script>\n",
              "</div>\n",
              "\n",
              "    </div>\n",
              "  </div>\n"
            ],
            "application/vnd.google.colaboratory.intrinsic+json": {
              "type": "dataframe",
              "variable_name": "df_sample",
              "summary": "{\n  \"name\": \"df_sample\",\n  \"rows\": 12450,\n  \"fields\": [\n    {\n      \"column\": \"text\",\n      \"properties\": {\n        \"dtype\": \"string\",\n        \"num_unique_values\": 12450,\n        \"samples\": [\n          \"Ummm... hey there! So, like, I've been working at my uncle's marble shop for like, a month now, and it's been pretty cool. I mean, it's not every day you get to work with your uncle, right? Okay, so on my first day, I was super nervous. I mean, I'd never really worked in a shop before, let alone one that sells marbles. I didn't even know what kind of marbles were good or anything! My uncle was like, \\\"Hey, kiddo, you wanna learn the ropes?\\\" And I was like, \\\"Uh, yeah! I'll do my best!\\\" So, he showed me around and introduced me to all the different types of marbles. There are like, so many! I was amazed. And then he taught me how to sort them and put them away in the display cases. It was actually kinda fun once I got the hang of it. But, of course, I made some mistakes. Like, I accidentally put the blue marbles in the red box, and vice versa. My uncle was like, \\\"What are you doing?!\\\" And I was like, \\\"Uh... I thought those were the right ones?\\\" He wasn't too mad at me, though. Working at the marble shop has taught me some pretty cool lessons. Like, it's important to pay attention to details and be careful when you're working with things. And it's okay to make mistakes, as long as you learn from them. My uncle's always telling me, \\\"Hey, it's okay to make mistakes. Just don't make the same one twice!\\\" Working at the marble shop has also made me feel more connected to my uncle. We get along pretty well, and I like spending time with him. It's nice to\",\n          \"Do you think the FACS (Facial Action Coding System) should be used in any technology today? I think that the Facial Action Coding System isn't a value because all technology is NOT 100% correct. There ould be a time when the computer glitches and mess up. Its not just a computer that glitches, its all electronics. Such as phones,tablets,video games and any other electronics you can think of. The FACS has no use because you can tell when a person is sad or mad or even angry. Even if a person dont show facial expressions on how they feel they will feel that way deep inside. For example, students could be happy coming to school talking to their friends,just be in happy mood but when they get home they are depress and they start to act different. As days go on this student is changing as a person and people start to notice when you change. Everbody has different facial expressions each day if a person is not feeling that day they will show it. You can't use a computer just to show how people feel. The computer can tell people that your happy just because you smile all day but really your mad,sad,and depressesd but no one will ever know because of the way that the technology is set up. i still feel like the FACS shouldnt have never been created. i still feel that way because,like the text stated \\\"you can probably tell how a friend is looking simply by the look on their face.\\\" you can also tell when you hang around a certain person everyday and they start to change and their facial expression start to change, their body language will also start to change. Just because you smile alot dont mean your happy .When you smile you muscles in your smile starts to change but that don't mean your happy your still sad. if your were to get tested on the machine they would considered you happy just because you smile alot but really you just depressed . i know all of this imformation because when im at school i get serious and focus on my school work. During lunch i laugh and play with my friends and giggle all the time but when im at home its a different story. By me being the middle child i get treated differently so i always look angry when im at home . 95% of the time i try to keep a smile on my face but the other 5% i try to stay away from, because i dont want to be angry all the time i wanna be happy and make other people happy too. if i was to get tested the computer would say 100% happy. No one should use the FACS if they know how they feel. Everybody know what wrong with them and what their issue is. You shouldn't need a machine to tell you something you already know. I know im not the only one that feel this way but everybody has their own opinion. This concludes on why i feel like the FACS should of NEVER been created.\",\n          \"The trend of declining car ownership and usage in America is not only aligning with President Obama's goals to reduce greenhouse gas emissions but also reflecting a deeper cultural change. This shift is driven by various societal factors, such as internet-based work and socializing, urban revitalization, and evolving commuting habits. Firstly, the reduction in driving has a positive impact on the environment. With fewer cars on the road, there is a decrease in carbon emissions, which contribute to climate change. According to the Union of Concerned Scientists, transportation is responsible for 27% of greenhouse gas emissions in the US, with the majority coming from personal vehicles. By reducing our reliance on cars, we can significantly reduce our carbon footprint and help combat climate change. Secondly, decreasing automobile utilization can improve public health. The less time we spend in cars, the less we are exposed to air pollution, which is linked to various health problems such as respiratory diseases, heart disease, and cancer. A study by the Harvard School of Public Health found that people living in areas with high levels of air pollution have a 12% higher risk of developing lung disease. Additionally, reducing car usage can encourage physical activity, such as walking or cycling, which has numerous health benefits. Thirdly, declining car ownership can boost local economies. With the rise of internet-based work and socializing, people are spending more time in their local communities, supporting local businesses, and contributing to their local economy. According to the American Independent Business Alliance, for every $100 spent at a locally owned business, $48 remains in the local economy, compared to only $14 when spent at a non-locally owned business. This increased investment in local businesses can lead to more job opportunities, higher wages, and a stronger community. Fourthly, the shift away from cars can lead to more sustainable urban planning. With fewer cars on the road, cities can invest in alternative modes of transportation, such as public transportation, bike lanes, and pedestrian-friendly streets. This can lead to more livable, connected, and vibrant cities, where people can easily access amenities, services, and recreational activities without relying on cars. Lastly, the trend of decreasing car usage is accelerating innovation in the automobile industry. Companies are expanding into broader mobility services, such as car-sharing and ride-hailing, which cater to changing consumer preferences. According to a report by the International Energy Agency, the global car-sharing market is expected to grow from 21.5 million members in 2015 to 36.7 million members by 2025. This shift towards shared mobility can reduce the number of cars produced, thereby decreasing greenhouse gas emissions and supporting sustainable development. In conclusion, the decline in car ownership and usage in America is a positive trend that aligns with President Obama's goals to reduce greenhouse gas emissions. This shift is driven by various societal factors and has numerous benefits for the environment, public health, local economies, urban planning, and innovation in the automobile industry. As a 10th grader, I believe that embracing this trend can create a better future for our communities and for generations to come.\"\n        ],\n        \"semantic_type\": \"\",\n        \"description\": \"\"\n      }\n    },\n    {\n      \"column\": \"label\",\n      \"properties\": {\n        \"dtype\": \"number\",\n        \"std\": 0,\n        \"min\": 0,\n        \"max\": 1,\n        \"num_unique_values\": 2,\n        \"samples\": [\n          0,\n          1\n        ],\n        \"semantic_type\": \"\",\n        \"description\": \"\"\n      }\n    }\n  ]\n}"
            }
          },
          "metadata": {},
          "execution_count": 162
        }
      ]
    },
    {
      "cell_type": "code",
      "source": [
        "# Define outcome name\n",
        "outcomename = 'label'\n",
        "\n",
        "# Redefine X and Y after sampling\n",
        "X_sampled = df_sample.drop(columns=outcomename)\n",
        "Y_sampled = df_sample[outcomename]\n",
        "\n",
        "# Split into training and combined validation-test sets (80% train, 20% valid/test)\n",
        "X_train1, X_valid_test1, y_train1, y_valid_test1 = train_test_split(X_sampled, Y_sampled, test_size=0.2, random_state=20240930, stratify=Y_sampled)\n",
        "\n",
        "# Split the combined validation-test set into separate validation and test sets (50% each of the remaining 20%)\n",
        "X_val1, X_test1, y_val1, y_test1 = train_test_split(X_valid_test1, y_valid_test1, test_size=0.5, random_state=20240930, stratify=y_valid_test1)"
      ],
      "metadata": {
        "id": "tb67YQqMxhR-"
      },
      "execution_count": 163,
      "outputs": []
    },
    {
      "cell_type": "code",
      "source": [
        "X_train1.head()"
      ],
      "metadata": {
        "colab": {
          "base_uri": "https://localhost:8080/",
          "height": 206
        },
        "id": "uDUCwqwnEnVN",
        "outputId": "ae06d7cc-d574-4b7b-ff1c-a1c0f4d81cd6"
      },
      "execution_count": 164,
      "outputs": [
        {
          "output_type": "execute_result",
          "data": {
            "text/plain": [
              "                                                    text\n",
              "28721  Dear Principal Smith, I am writing to express ...\n",
              "9940   Bases on the passage I think it would be a goo...\n",
              "31678  Character traits can be extremely important wh...\n",
              "11924  While being able to tell someone's emotions ca...\n",
              "60793  As technology progresses, automobiles are bein..."
            ],
            "text/html": [
              "\n",
              "  <div id=\"df-6ec7ba63-0a2d-436d-869f-4536625fb665\" class=\"colab-df-container\">\n",
              "    <div>\n",
              "<style scoped>\n",
              "    .dataframe tbody tr th:only-of-type {\n",
              "        vertical-align: middle;\n",
              "    }\n",
              "\n",
              "    .dataframe tbody tr th {\n",
              "        vertical-align: top;\n",
              "    }\n",
              "\n",
              "    .dataframe thead th {\n",
              "        text-align: right;\n",
              "    }\n",
              "</style>\n",
              "<table border=\"1\" class=\"dataframe\">\n",
              "  <thead>\n",
              "    <tr style=\"text-align: right;\">\n",
              "      <th></th>\n",
              "      <th>text</th>\n",
              "    </tr>\n",
              "  </thead>\n",
              "  <tbody>\n",
              "    <tr>\n",
              "      <th>28721</th>\n",
              "      <td>Dear Principal Smith, I am writing to express ...</td>\n",
              "    </tr>\n",
              "    <tr>\n",
              "      <th>9940</th>\n",
              "      <td>Bases on the passage I think it would be a goo...</td>\n",
              "    </tr>\n",
              "    <tr>\n",
              "      <th>31678</th>\n",
              "      <td>Character traits can be extremely important wh...</td>\n",
              "    </tr>\n",
              "    <tr>\n",
              "      <th>11924</th>\n",
              "      <td>While being able to tell someone's emotions ca...</td>\n",
              "    </tr>\n",
              "    <tr>\n",
              "      <th>60793</th>\n",
              "      <td>As technology progresses, automobiles are bein...</td>\n",
              "    </tr>\n",
              "  </tbody>\n",
              "</table>\n",
              "</div>\n",
              "    <div class=\"colab-df-buttons\">\n",
              "\n",
              "  <div class=\"colab-df-container\">\n",
              "    <button class=\"colab-df-convert\" onclick=\"convertToInteractive('df-6ec7ba63-0a2d-436d-869f-4536625fb665')\"\n",
              "            title=\"Convert this dataframe to an interactive table.\"\n",
              "            style=\"display:none;\">\n",
              "\n",
              "  <svg xmlns=\"http://www.w3.org/2000/svg\" height=\"24px\" viewBox=\"0 -960 960 960\">\n",
              "    <path d=\"M120-120v-720h720v720H120Zm60-500h600v-160H180v160Zm220 220h160v-160H400v160Zm0 220h160v-160H400v160ZM180-400h160v-160H180v160Zm440 0h160v-160H620v160ZM180-180h160v-160H180v160Zm440 0h160v-160H620v160Z\"/>\n",
              "  </svg>\n",
              "    </button>\n",
              "\n",
              "  <style>\n",
              "    .colab-df-container {\n",
              "      display:flex;\n",
              "      gap: 12px;\n",
              "    }\n",
              "\n",
              "    .colab-df-convert {\n",
              "      background-color: #E8F0FE;\n",
              "      border: none;\n",
              "      border-radius: 50%;\n",
              "      cursor: pointer;\n",
              "      display: none;\n",
              "      fill: #1967D2;\n",
              "      height: 32px;\n",
              "      padding: 0 0 0 0;\n",
              "      width: 32px;\n",
              "    }\n",
              "\n",
              "    .colab-df-convert:hover {\n",
              "      background-color: #E2EBFA;\n",
              "      box-shadow: 0px 1px 2px rgba(60, 64, 67, 0.3), 0px 1px 3px 1px rgba(60, 64, 67, 0.15);\n",
              "      fill: #174EA6;\n",
              "    }\n",
              "\n",
              "    .colab-df-buttons div {\n",
              "      margin-bottom: 4px;\n",
              "    }\n",
              "\n",
              "    [theme=dark] .colab-df-convert {\n",
              "      background-color: #3B4455;\n",
              "      fill: #D2E3FC;\n",
              "    }\n",
              "\n",
              "    [theme=dark] .colab-df-convert:hover {\n",
              "      background-color: #434B5C;\n",
              "      box-shadow: 0px 1px 3px 1px rgba(0, 0, 0, 0.15);\n",
              "      filter: drop-shadow(0px 1px 2px rgba(0, 0, 0, 0.3));\n",
              "      fill: #FFFFFF;\n",
              "    }\n",
              "  </style>\n",
              "\n",
              "    <script>\n",
              "      const buttonEl =\n",
              "        document.querySelector('#df-6ec7ba63-0a2d-436d-869f-4536625fb665 button.colab-df-convert');\n",
              "      buttonEl.style.display =\n",
              "        google.colab.kernel.accessAllowed ? 'block' : 'none';\n",
              "\n",
              "      async function convertToInteractive(key) {\n",
              "        const element = document.querySelector('#df-6ec7ba63-0a2d-436d-869f-4536625fb665');\n",
              "        const dataTable =\n",
              "          await google.colab.kernel.invokeFunction('convertToInteractive',\n",
              "                                                    [key], {});\n",
              "        if (!dataTable) return;\n",
              "\n",
              "        const docLinkHtml = 'Like what you see? Visit the ' +\n",
              "          '<a target=\"_blank\" href=https://colab.research.google.com/notebooks/data_table.ipynb>data table notebook</a>'\n",
              "          + ' to learn more about interactive tables.';\n",
              "        element.innerHTML = '';\n",
              "        dataTable['output_type'] = 'display_data';\n",
              "        await google.colab.output.renderOutput(dataTable, element);\n",
              "        const docLink = document.createElement('div');\n",
              "        docLink.innerHTML = docLinkHtml;\n",
              "        element.appendChild(docLink);\n",
              "      }\n",
              "    </script>\n",
              "  </div>\n",
              "\n",
              "\n",
              "<div id=\"df-39ca385a-c334-4524-9cf1-6ea8537079d3\">\n",
              "  <button class=\"colab-df-quickchart\" onclick=\"quickchart('df-39ca385a-c334-4524-9cf1-6ea8537079d3')\"\n",
              "            title=\"Suggest charts\"\n",
              "            style=\"display:none;\">\n",
              "\n",
              "<svg xmlns=\"http://www.w3.org/2000/svg\" height=\"24px\"viewBox=\"0 0 24 24\"\n",
              "     width=\"24px\">\n",
              "    <g>\n",
              "        <path d=\"M19 3H5c-1.1 0-2 .9-2 2v14c0 1.1.9 2 2 2h14c1.1 0 2-.9 2-2V5c0-1.1-.9-2-2-2zM9 17H7v-7h2v7zm4 0h-2V7h2v10zm4 0h-2v-4h2v4z\"/>\n",
              "    </g>\n",
              "</svg>\n",
              "  </button>\n",
              "\n",
              "<style>\n",
              "  .colab-df-quickchart {\n",
              "      --bg-color: #E8F0FE;\n",
              "      --fill-color: #1967D2;\n",
              "      --hover-bg-color: #E2EBFA;\n",
              "      --hover-fill-color: #174EA6;\n",
              "      --disabled-fill-color: #AAA;\n",
              "      --disabled-bg-color: #DDD;\n",
              "  }\n",
              "\n",
              "  [theme=dark] .colab-df-quickchart {\n",
              "      --bg-color: #3B4455;\n",
              "      --fill-color: #D2E3FC;\n",
              "      --hover-bg-color: #434B5C;\n",
              "      --hover-fill-color: #FFFFFF;\n",
              "      --disabled-bg-color: #3B4455;\n",
              "      --disabled-fill-color: #666;\n",
              "  }\n",
              "\n",
              "  .colab-df-quickchart {\n",
              "    background-color: var(--bg-color);\n",
              "    border: none;\n",
              "    border-radius: 50%;\n",
              "    cursor: pointer;\n",
              "    display: none;\n",
              "    fill: var(--fill-color);\n",
              "    height: 32px;\n",
              "    padding: 0;\n",
              "    width: 32px;\n",
              "  }\n",
              "\n",
              "  .colab-df-quickchart:hover {\n",
              "    background-color: var(--hover-bg-color);\n",
              "    box-shadow: 0 1px 2px rgba(60, 64, 67, 0.3), 0 1px 3px 1px rgba(60, 64, 67, 0.15);\n",
              "    fill: var(--button-hover-fill-color);\n",
              "  }\n",
              "\n",
              "  .colab-df-quickchart-complete:disabled,\n",
              "  .colab-df-quickchart-complete:disabled:hover {\n",
              "    background-color: var(--disabled-bg-color);\n",
              "    fill: var(--disabled-fill-color);\n",
              "    box-shadow: none;\n",
              "  }\n",
              "\n",
              "  .colab-df-spinner {\n",
              "    border: 2px solid var(--fill-color);\n",
              "    border-color: transparent;\n",
              "    border-bottom-color: var(--fill-color);\n",
              "    animation:\n",
              "      spin 1s steps(1) infinite;\n",
              "  }\n",
              "\n",
              "  @keyframes spin {\n",
              "    0% {\n",
              "      border-color: transparent;\n",
              "      border-bottom-color: var(--fill-color);\n",
              "      border-left-color: var(--fill-color);\n",
              "    }\n",
              "    20% {\n",
              "      border-color: transparent;\n",
              "      border-left-color: var(--fill-color);\n",
              "      border-top-color: var(--fill-color);\n",
              "    }\n",
              "    30% {\n",
              "      border-color: transparent;\n",
              "      border-left-color: var(--fill-color);\n",
              "      border-top-color: var(--fill-color);\n",
              "      border-right-color: var(--fill-color);\n",
              "    }\n",
              "    40% {\n",
              "      border-color: transparent;\n",
              "      border-right-color: var(--fill-color);\n",
              "      border-top-color: var(--fill-color);\n",
              "    }\n",
              "    60% {\n",
              "      border-color: transparent;\n",
              "      border-right-color: var(--fill-color);\n",
              "    }\n",
              "    80% {\n",
              "      border-color: transparent;\n",
              "      border-right-color: var(--fill-color);\n",
              "      border-bottom-color: var(--fill-color);\n",
              "    }\n",
              "    90% {\n",
              "      border-color: transparent;\n",
              "      border-bottom-color: var(--fill-color);\n",
              "    }\n",
              "  }\n",
              "</style>\n",
              "\n",
              "  <script>\n",
              "    async function quickchart(key) {\n",
              "      const quickchartButtonEl =\n",
              "        document.querySelector('#' + key + ' button');\n",
              "      quickchartButtonEl.disabled = true;  // To prevent multiple clicks.\n",
              "      quickchartButtonEl.classList.add('colab-df-spinner');\n",
              "      try {\n",
              "        const charts = await google.colab.kernel.invokeFunction(\n",
              "            'suggestCharts', [key], {});\n",
              "      } catch (error) {\n",
              "        console.error('Error during call to suggestCharts:', error);\n",
              "      }\n",
              "      quickchartButtonEl.classList.remove('colab-df-spinner');\n",
              "      quickchartButtonEl.classList.add('colab-df-quickchart-complete');\n",
              "    }\n",
              "    (() => {\n",
              "      let quickchartButtonEl =\n",
              "        document.querySelector('#df-39ca385a-c334-4524-9cf1-6ea8537079d3 button');\n",
              "      quickchartButtonEl.style.display =\n",
              "        google.colab.kernel.accessAllowed ? 'block' : 'none';\n",
              "    })();\n",
              "  </script>\n",
              "</div>\n",
              "\n",
              "    </div>\n",
              "  </div>\n"
            ],
            "application/vnd.google.colaboratory.intrinsic+json": {
              "type": "dataframe",
              "variable_name": "X_train1",
              "summary": "{\n  \"name\": \"X_train1\",\n  \"rows\": 9960,\n  \"fields\": [\n    {\n      \"column\": \"text\",\n      \"properties\": {\n        \"dtype\": \"string\",\n        \"num_unique_values\": 9960,\n        \"samples\": [\n          \"Venus is a dazzling yet intriguing natural satellite in our Solar System. Amongst its multitudinous attributes, it has been widely acclaimed for its breathtaking, swirling cloud formations, extreme surface temperatures, and dense atmosphere dominated by carbon dioxide, with a high-pressure environment reminiscent of the deep ocean trenches on Earth. However, scientists remain perplexed as it harbors characteristics of both Earth and another neighboring planet, thereby presenting a conundrum as they seek to unravel the complexities of its origins and nature. In order to shed light on the mysteries enshrouding Venus, it's essential to comprehend its formation and evolution, which is shrouded in scientific debate. The popular model suggests that Venus was created alongside Earth and Mars around 4.6 billion years ago as a result of the gravitational collapse of a protoplanetary disk emanated from a Sun-like star. This disk's circum-stellar matter eventually clumped together, resulting in the formation of larger bodies, eventually leading to the birth of the three terrestrial planets. Yet, a diverging theory, the Venusian Hades, proposes that Venus arrived on the scene much later, a mere 100 million years ago, after colliding with an asteroid which, in turn, shredded and scattered debris around the planet, igniting its formation. This hypothesis raises several other controversies, such as whether Venus has an actual core separate from Earth, or if it formed within a different part of the Solar System entirely. As scientists continue to unveil the mysteries surrounding the celestial bodies, new hypotheses might potentially arise, reshaping our understanding of the origins and evolution of our Solar System. As we attempt to delve deeper into comprehending this enigmatic planet, understanding the nature of its atmosphere is also of the utmost importance. Venus' atmosphere is remarkably dense and made up of 96.5% carbon dioxide, which, in turn, contributes to the planet's infamous runaway greenhouse effect and its devastating surface temperatures of around 476\\u00b0C. It is estimated that these temperatures have led to the melting of its surface, causing it to resemble the surface of molten lava, leading to widespread theories that the planet may have once hosted a vast ocean that has since evaporated due to these extreme temperatures. The planet's atmospheric pressure is also considerably elevated at a staggering 92 times the pressure experienced on Earth's surface, which is why, if we were to land there and tried to breathe, our bodies would not be able to function adequately due to the inability of our lungs to extract sufficient oxygen from the air. Furthermore, the atmosphere, which plays a significant role in the protection against solar radiation, is primarily driven by super-rotating winds which are approximately 360 Earth rotations each hour, resulting in the formation of massive, cloudy structures. These wind systems are powered by the absorption of CO2 by a layer of atmospheric sulfuric acid, which traps heat and contributes to an enduring, complex temperature inversion on the planet. In attempting to unravel the enigmas of Venus, one cannot overlook its mysterious surface features. In the past, the planet has been observed using robotic explorers and orbiters to reveal topographical data of its surface terrain. For instance, images from these missions have revealed evidence of ancient volcanic landscapes, volcanic peaks, and vast surface flats that may resemble flooded landscapes. Additionally, the presence of tesserae - geological features characteristic of Earth's continental rocks, suggest that these continents might have hosted liquid water in the past, which further challenges our understanding of this planet's evolutionary history. Lastly, it is also vital to acknowledge the possible presence of life not only on Earth but also on Venus. Venus shares several characteristics with Earth, which fuels speculation that the conditions on its surface at some point in the past may have supported diverse life forms such as microbial organisms. If our understanding of Venus' origins, structure, and past climate is accurate, it's possible that it once boasted a similar environment to Earth's, enabling life to develop and thrive \\u2013 only for it to be gradually destroyed due to the planet's evolving environmental conditions. In conclusion, understanding the evolution of Venus is an interdisciplinary endeavor, requiring collaboration between scientists from various fields, such as astronomy, geology, and meteorology. As researchers delve deeper into the mysteries surrounding this planet, they continue to build on the current knowledge base and advance our understanding of the cosmos and the possibility that life can exist beyond Earth. In light of the increasing frequency of planetary probes and rovers, there's no limit to the potential discoveries about Earth's sister planet, Venus.\",\n          \"As an eighth-grade student, I have had the opportunity to participate in various projects and assignments throughout the school year. While some of these projects have been self-designed, I have found that projects designed by teachers are more effective and engaging. In this essay, I will analyze and explain the importance of having teachers design projects for students instead of having them design them on their own. One of the main reasons why teachers should design projects for students is that it allows them to tailor the project to the students' needs and abilities. When students design their own projects, they may struggle to create a project that is challenging enough to keep them engaged while also being achievable for their skill level. Teachers, on the other hand, have a better understanding of their students' abilities and can design projects that are both challenging and achievable. This allows students to learn at their own pace and feel a sense of accomplishment when they complete the project. Another reason why teachers should design projects for students is that it allows them to provide guidance and support throughout the project. When students design their own projects, they may struggle to find the resources and information they need to complete the project. Teachers, however, can provide guidance and support throughout the project, helping students to overcome any obstacles they may encounter. This allows students to learn valuable skills such as problem-solving and critical thinking, which they can use in the future. In addition to providing guidance and support, teachers can also design projects that are relevant and meaningful to their students' lives. When students design their own projects, they may struggle to come up with a project that is relevant to their lives or that they are passionate about. Teachers, however, can design projects that are relevant to their students' lives and that they are passionate about. This allows students to see the value in the project and to feel more engaged and motivated to complete it. Finally, teachers can design projects that are aligned with the curriculum and learning objectives. When students design their own projects, they may struggle to create a project that is aligned with the curriculum and learning objectives. Teachers, however, can design projects that are aligned with the curriculum and learning objectives, ensuring that students are learning the skills and knowledge they need to succeed. In conclusion, having teachers design projects for students is important for a number of reasons. Teachers can tailor the project to the students' needs\",\n          \"The author of \\\"The Challenge of Exploring Venus\\\" effectively argues in favor of exploring Venus despite the numerous challenges and dangers associated with it. The author presents a well-structured and thought-out article, using evidence to support their argument and providing a clear explanation of the challenges and potential rewards of Venus exploration. The author begins by highlighting the allure of space exploration and the unique set of challenges that Venus presents. They then delve into the harsh reality of Venus, describing the extreme temperatures and atmospheric pressure that make land-based missions nearly impossible. However, instead of dwelling on these challenges, the author quickly pivots to discussing technological innovations that could potentially overcome these obstacles. This approach effectively showcases the author's perspective that, despite the challenges, exploring Venus is still worthwhile. The author further supports their argument by discussing the paradox of distant observation, which limits the extent to which orbiting or hovering missions can gather data about Venus's surface. This section effectively underscores the need for more direct exploration methods, which the author argues are feasible with advancements in technology. The article's strongest point is the author's explanation of why exploring Venus is worth the risk. The author highlights the potential scientific gains, such as understanding planetary science and Earth's future, and the relative accessibility of Venus during certain orbits. These points effectively balance the risk and reward of exploring Venus, making a compelling argument for why we should continue to pursue this endeavor. The author also effectively uses evidence to support their argument. They cite past attempts at exploring Venus and the challenges those missions faced, demonstrating the author's knowledge and understanding of the topic. Additionally, the author'suse of metaphors, such as comparing Venus to a \\\"hostile yet intriguing world,\\\" adds depth and interest to the article. However, there are some areas where the author could improve. At times, the language used is overly complex, which may make it difficult for some readers to fully understand the concepts being discussed. Additionally, the article could benefit from more visual aids, such as diagrams or images, to help illustrate the challenges and potential solutions of Venus exploration. In conclusion, the author of \\\"The Challenge of Exploring Venus\\\" effectively argues in favor of exploring Venus despite the associated dangers. The author presents a well-structured and thought-out article, using evidence to support their argument and providing a clear explanation of the challenges and potential rewards of Venus exploration. While there are some areas for improvement, the article overall makes a compelling case for why we should continue to pursue the exploration of Venus.\"\n        ],\n        \"semantic_type\": \"\",\n        \"description\": \"\"\n      }\n    }\n  ]\n}"
            }
          },
          "metadata": {},
          "execution_count": 164
        }
      ]
    },
    {
      "cell_type": "markdown",
      "source": [
        "## LSTM"
      ],
      "metadata": {
        "id": "_T2gZFPiyYko"
      }
    },
    {
      "cell_type": "code",
      "source": [],
      "metadata": {
        "id": "JVu2I7isyjjA"
      },
      "execution_count": null,
      "outputs": []
    },
    {
      "cell_type": "markdown",
      "source": [
        "## Bi-LSTM"
      ],
      "metadata": {
        "id": "8Wwc3J6zygiU"
      }
    },
    {
      "cell_type": "code",
      "source": [],
      "metadata": {
        "id": "vx1RjnP-yiS3"
      },
      "execution_count": null,
      "outputs": []
    },
    {
      "cell_type": "markdown",
      "source": [
        "## BERT"
      ],
      "metadata": {
        "id": "RDEDmOu3y5NX"
      }
    },
    {
      "cell_type": "code",
      "source": [
        "!pip install evaluate"
      ],
      "metadata": {
        "id": "3aDhxIIG2smr"
      },
      "execution_count": null,
      "outputs": []
    },
    {
      "cell_type": "code",
      "source": [
        "# Load model directly\n",
        "from transformers import BertForSequenceClassification, TrainingArguments, Trainer,AutoTokenizer\n",
        "\n",
        "tokenizer = AutoTokenizer.from_pretrained(\"google-bert/bert-base-uncased\")\n",
        "model = BertForSequenceClassification.from_pretrained(\"google-bert/bert-base-uncased\",num_labels = 2)"
      ],
      "metadata": {
        "id": "eP2uhpQ_2smr"
      },
      "execution_count": null,
      "outputs": []
    },
    {
      "cell_type": "code",
      "source": [
        "import torch\n",
        "from torch.utils.data import Dataset\n",
        "\n",
        "# Custom dataset class\n",
        "class CustomDataset(Dataset):\n",
        "    def __init__(self, texts, labels, tokenizer, max_len=512):\n",
        "        self.texts = texts\n",
        "        self.labels = labels\n",
        "        self.tokenizer = tokenizer\n",
        "        self.max_len = max_len\n",
        "\n",
        "    def __len__(self):\n",
        "        return len(self.texts)\n",
        "\n",
        "    def __getitem__(self, index):\n",
        "        text = self.texts.iloc[index]\n",
        "        label = self.labels.iloc[index]\n",
        "        encoding = self.tokenizer(\n",
        "            text,\n",
        "            truncation=True,\n",
        "            padding='max_length',\n",
        "            max_length=self.max_len,\n",
        "            return_tensors='pt'\n",
        "        )\n",
        "        return {\n",
        "            'input_ids': encoding['input_ids'].flatten(),\n",
        "            'attention_mask': encoding['attention_mask'].flatten(),\n",
        "            'labels': torch.tensor(label, dtype=torch.long)\n",
        "        }\n",
        "\n",
        "train_df0_dataset = CustomDataset(X_train['text'], y_train, tokenizer)\n",
        "train_df1_dataset = CustomDataset(X_train1['text'], y_train1, tokenizer)\n",
        "\n",
        "# For validation datasets\n",
        "val_df0_dataset = CustomDataset(X_val['text'], y_val, tokenizer)\n",
        "val_df1_dataset = CustomDataset(X_val1['text'], y_val1, tokenizer)\n",
        "\n",
        "# For test datasets\n",
        "test_df0_dataset = CustomDataset(X_test['text'], y_test, tokenizer)\n",
        "test_df1_dataset = CustomDataset(X_test1['text'], y_test1, tokenizer)"
      ],
      "metadata": {
        "id": "pUfLcKwc2sms"
      },
      "execution_count": null,
      "outputs": []
    },
    {
      "cell_type": "code",
      "source": [
        "import torch\n",
        "\n",
        "# Check if GPU is available\n",
        "if torch.cuda.is_available():\n",
        "    device = torch.device(\"cuda\")\n",
        "    print(\"GPU is available. Using GPU:\", torch.cuda.get_device_name(0))\n",
        "else:\n",
        "    device = torch.device(\"cpu\")\n",
        "    print(\"GPU not available. Using CPU instead.\")\n",
        "\n",
        "model.to(device)"
      ],
      "metadata": {
        "id": "haeo_wRJ2sms"
      },
      "execution_count": null,
      "outputs": []
    },
    {
      "cell_type": "code",
      "source": [
        "def compute_metrics(eval_pred):\n",
        "    logits, labels = eval_pred\n",
        "    predictions = np.argmax(logits, axis=1)\n",
        "    return metric.compute(predictions=predictions, references=labels)"
      ],
      "metadata": {
        "id": "nkPZ4SwF2sms"
      },
      "execution_count": null,
      "outputs": []
    },
    {
      "cell_type": "code",
      "source": [
        "import numpy as np\n",
        "import evaluate\n",
        "\n",
        "metric = evaluate.load(\"accuracy\")"
      ],
      "metadata": {
        "id": "uejmX7Cn2sms"
      },
      "execution_count": null,
      "outputs": []
    },
    {
      "cell_type": "markdown",
      "source": [
        "### Dataset 0"
      ],
      "metadata": {
        "id": "iBV-PhPz2sms"
      }
    },
    {
      "cell_type": "markdown",
      "source": [
        "#### Seed 1"
      ],
      "metadata": {
        "id": "bAMrAFyI2sms"
      }
    },
    {
      "cell_type": "code",
      "source": [
        "# Don't Show Warning Messages\n",
        "import os\n",
        "import warnings\n",
        "warnings.filterwarnings('ignore')\n",
        "os.environ[\"WANDB_DISABLED\"] = \"true\""
      ],
      "metadata": {
        "id": "i6F8QI4M2smt"
      },
      "execution_count": null,
      "outputs": []
    },
    {
      "cell_type": "code",
      "source": [
        "from transformers import set_seed, Trainer\n",
        "\n",
        "# Set the seed for reproducibility\n",
        "set_seed(20240917)"
      ],
      "metadata": {
        "id": "TDJH3x0j2smt"
      },
      "execution_count": null,
      "outputs": []
    },
    {
      "cell_type": "code",
      "source": [
        "def model_init() :\n",
        "    return BertForSequenceClassification.from_pretrained(\"google-bert/bert-base-uncased\",num_labels = 2)"
      ],
      "metadata": {
        "id": "A6bGpnMZ2smt"
      },
      "execution_count": null,
      "outputs": []
    },
    {
      "cell_type": "code",
      "source": [
        "training_args = TrainingArguments(\n",
        "    eval_strategy=\"epoch\",\n",
        "    output_dir=\"./results\",\n",
        "    learning_rate=2e-5,\n",
        "    per_device_train_batch_size=16,\n",
        "    per_device_eval_batch_size=16,\n",
        "    num_train_epochs=3,\n",
        "    weight_decay=0.01,\n",
        "    seed = 20240917\n",
        ")\n",
        "\n",
        "# Initialize Trainer\n",
        "trainer = Trainer(\n",
        "    model_init = model_init,\n",
        "    args=training_args,\n",
        "    train_dataset=train_df0_dataset,\n",
        "    eval_dataset=val_df0_dataset,\n",
        "    tokenizer = tokenizer,\n",
        "    compute_metrics=compute_metrics,\n",
        ")\n",
        "\n",
        "# Fine-tune the model\n",
        "trainer.train()"
      ],
      "metadata": {
        "id": "-2tu8ZPB2smt"
      },
      "execution_count": null,
      "outputs": []
    },
    {
      "cell_type": "code",
      "source": [
        "from torch.utils.data import DataLoader\n",
        "\n",
        "# Assuming you've already created your test_dataset\n",
        "test_loader = DataLoader(test_df0_dataset, batch_size=32, shuffle=False)"
      ],
      "metadata": {
        "id": "sv4g5gTP2smt"
      },
      "execution_count": null,
      "outputs": []
    },
    {
      "cell_type": "code",
      "source": [
        "model1 = AutoModelForSequenceClassification.from_pretrained(\"/kaggle/working/results/checkpoint-1125\", num_labels=2)\n",
        "model1.to(device)"
      ],
      "metadata": {
        "id": "w5VgKH8o2smu"
      },
      "execution_count": null,
      "outputs": []
    },
    {
      "cell_type": "code",
      "source": [
        "import torch\n",
        "import numpy as np\n",
        "\n",
        "model1.eval()  # Set the model to evaluation mode\n",
        "all_predictions = []\n",
        "all_true_labels = []\n",
        "\n",
        "with torch.no_grad():\n",
        "    for batch in test_loader:\n",
        "        input_ids = batch['input_ids'].to(device)\n",
        "        attention_mask = batch['attention_mask'].to(device)\n",
        "        labels = batch['labels'].to(device)\n",
        "\n",
        "        outputs = model1(input_ids, attention_mask=attention_mask)\n",
        "        _, predictions = torch.max(outputs.logits, dim=1)\n",
        "\n",
        "        all_predictions.extend(predictions.cpu().numpy())\n",
        "        all_true_labels.extend(labels.cpu().numpy())\n",
        "\n",
        "# Convert to numpy arrays\n",
        "y_pred = np.array(all_predictions)\n",
        "y_true = np.array(all_true_labels)"
      ],
      "metadata": {
        "id": "T9CCz8SN2smv"
      },
      "execution_count": null,
      "outputs": []
    },
    {
      "cell_type": "code",
      "source": [
        "from sklearn.metrics import classification_report, confusion_matrix\n",
        "import seaborn as sns\n",
        "import matplotlib.pyplot as plt\n",
        "\n",
        "# Print classification report\n",
        "print(classification_report(y_true, y_pred))\n",
        "\n",
        "# Create confusion matrix\n",
        "cm = confusion_matrix(y_true, y_pred)\n",
        "\n",
        "# Plot confusion matrix\n",
        "plt.figure(figsize=(10, 8))\n",
        "sns.heatmap(cm, annot=True, fmt='d', cmap='Blues')\n",
        "plt.xlabel('Predicted')\n",
        "plt.ylabel('True')\n",
        "plt.title('Confusion Matrix')\n",
        "plt.show()"
      ],
      "metadata": {
        "id": "Au7WoqUn2smw"
      },
      "execution_count": null,
      "outputs": []
    },
    {
      "cell_type": "markdown",
      "source": [
        "#### Seed 2"
      ],
      "metadata": {
        "id": "9G4E4Rqq2smx"
      }
    },
    {
      "cell_type": "code",
      "source": [
        "# Don't Show Warning Messages\n",
        "import os\n",
        "import warnings\n",
        "warnings.filterwarnings('ignore')\n",
        "os.environ[\"WANDB_DISABLED\"] = \"true\""
      ],
      "metadata": {
        "id": "oGhSeLmF2smx"
      },
      "execution_count": null,
      "outputs": []
    },
    {
      "cell_type": "code",
      "source": [
        "from transformers import set_seed, Trainer\n",
        "\n",
        "# Set the seed for reproducibility\n",
        "set_seed(68820831)"
      ],
      "metadata": {
        "id": "cIyzyfWJ2smy"
      },
      "execution_count": null,
      "outputs": []
    },
    {
      "cell_type": "code",
      "source": [
        "def model_init() :\n",
        "    return BertForSequenceClassification.from_pretrained(\"google-bert/bert-base-uncased\",num_labels = 2)"
      ],
      "metadata": {
        "id": "SO0x8v912smy"
      },
      "execution_count": null,
      "outputs": []
    },
    {
      "cell_type": "code",
      "source": [
        "training_args = TrainingArguments(\n",
        "    eval_strategy=\"epoch\",\n",
        "    output_dir=\"./results\",\n",
        "    learning_rate=2e-5,\n",
        "    per_device_train_batch_size=16,\n",
        "    per_device_eval_batch_size=16,\n",
        "    num_train_epochs=3,\n",
        "    weight_decay=0.01,\n",
        "    seed = 68820831\n",
        ")\n",
        "\n",
        "# Initialize Trainer\n",
        "trainer = Trainer(\n",
        "    model_init = model_init,\n",
        "    args=training_args,\n",
        "    train_dataset=train_df0_dataset,\n",
        "    eval_dataset=val_df0_dataset,\n",
        "    tokenizer = tokenizer,\n",
        "    compute_metrics=compute_metrics,\n",
        ")\n",
        "\n",
        "# Fine-tune the model\n",
        "trainer.train()"
      ],
      "metadata": {
        "id": "_3HU3kH02smy"
      },
      "execution_count": null,
      "outputs": []
    },
    {
      "cell_type": "code",
      "source": [
        "from torch.utils.data import DataLoader\n",
        "\n",
        "# Assuming you've already created your test_dataset\n",
        "test_loader = DataLoader(test_df0_dataset, batch_size=32, shuffle=False)"
      ],
      "metadata": {
        "id": "woHyGjrS2smy"
      },
      "execution_count": null,
      "outputs": []
    },
    {
      "cell_type": "code",
      "source": [
        "model1 = AutoModelForSequenceClassification.from_pretrained(\"/kaggle/working/results/checkpoint-1125\", num_labels=2)\n",
        "model1.to(device)"
      ],
      "metadata": {
        "id": "HSoJiTnY2smy"
      },
      "execution_count": null,
      "outputs": []
    },
    {
      "cell_type": "code",
      "source": [
        "import torch\n",
        "import numpy as np\n",
        "\n",
        "model1.eval()  # Set the model to evaluation mode\n",
        "all_predictions = []\n",
        "all_true_labels = []\n",
        "\n",
        "with torch.no_grad():\n",
        "    for batch in test_loader:\n",
        "        input_ids = batch['input_ids'].to(device)\n",
        "        attention_mask = batch['attention_mask'].to(device)\n",
        "        labels = batch['labels'].to(device)\n",
        "\n",
        "        outputs = model1(input_ids, attention_mask=attention_mask)\n",
        "        _, predictions = torch.max(outputs.logits, dim=1)\n",
        "\n",
        "        all_predictions.extend(predictions.cpu().numpy())\n",
        "        all_true_labels.extend(labels.cpu().numpy())\n",
        "\n",
        "# Convert to numpy arrays\n",
        "y_pred = np.array(all_predictions)\n",
        "y_true = np.array(all_true_labels)"
      ],
      "metadata": {
        "id": "XEsUelcc2smz"
      },
      "execution_count": null,
      "outputs": []
    },
    {
      "cell_type": "code",
      "source": [
        "from sklearn.metrics import classification_report, confusion_matrix\n",
        "import seaborn as sns\n",
        "import matplotlib.pyplot as plt\n",
        "\n",
        "# Print classification report\n",
        "print(classification_report(y_true, y_pred))\n",
        "\n",
        "# Create confusion matrix\n",
        "cm = confusion_matrix(y_true, y_pred)\n",
        "\n",
        "# Plot confusion matrix\n",
        "plt.figure(figsize=(10, 8))\n",
        "sns.heatmap(cm, annot=True, fmt='d', cmap='Blues')\n",
        "plt.xlabel('Predicted')\n",
        "plt.ylabel('True')\n",
        "plt.title('Confusion Matrix')\n",
        "plt.show()"
      ],
      "metadata": {
        "id": "D_cuBr8q2smz"
      },
      "execution_count": null,
      "outputs": []
    },
    {
      "cell_type": "markdown",
      "source": [
        "#### Seed 3"
      ],
      "metadata": {
        "id": "xJ1b6jWh2smz"
      }
    },
    {
      "cell_type": "code",
      "source": [
        "# Don't Show Warning Messages\n",
        "import os\n",
        "import warnings\n",
        "warnings.filterwarnings('ignore')\n",
        "os.environ[\"WANDB_DISABLED\"] = \"true\""
      ],
      "metadata": {
        "id": "hxpvE7fv2smz"
      },
      "execution_count": null,
      "outputs": []
    },
    {
      "cell_type": "code",
      "source": [
        "from transformers import set_seed, Trainer\n",
        "\n",
        "# Set the seed for reproducibility\n",
        "set_seed(54226614)"
      ],
      "metadata": {
        "id": "n5h0eZWk2sm0"
      },
      "execution_count": null,
      "outputs": []
    },
    {
      "cell_type": "code",
      "source": [
        "def model_init() :\n",
        "    return BertForSequenceClassification.from_pretrained(\"google-bert/bert-base-uncased\",num_labels = 2)"
      ],
      "metadata": {
        "id": "1mIcRlbp2sm1"
      },
      "execution_count": null,
      "outputs": []
    },
    {
      "cell_type": "code",
      "source": [
        "training_args = TrainingArguments(\n",
        "    eval_strategy=\"epoch\",\n",
        "    output_dir=\"./results\",\n",
        "    learning_rate=2e-5,\n",
        "    per_device_train_batch_size=16,\n",
        "    per_device_eval_batch_size=16,\n",
        "    num_train_epochs=3,\n",
        "    weight_decay=0.01,\n",
        "    seed = 54226614\n",
        ")\n",
        "\n",
        "# Initialize Trainer\n",
        "trainer = Trainer(\n",
        "    model_init = model_init,\n",
        "    args=training_args,\n",
        "    train_dataset=train_df0_dataset,\n",
        "    eval_dataset=val_df0_dataset,\n",
        "    tokenizer = tokenizer,\n",
        "    compute_metrics=compute_metrics,\n",
        ")\n",
        "\n",
        "# Fine-tune the model\n",
        "trainer.train()"
      ],
      "metadata": {
        "id": "p2I-6Qsf2sm1"
      },
      "execution_count": null,
      "outputs": []
    },
    {
      "cell_type": "code",
      "source": [
        "from torch.utils.data import DataLoader\n",
        "\n",
        "# Assuming you've already created your test_dataset\n",
        "test_loader = DataLoader(test_df0_dataset, batch_size=32, shuffle=False)"
      ],
      "metadata": {
        "id": "M5lJoj_j2sm2"
      },
      "execution_count": null,
      "outputs": []
    },
    {
      "cell_type": "code",
      "source": [
        "model1 = AutoModelForSequenceClassification.from_pretrained(\"/kaggle/working/results/checkpoint-1125\", num_labels=2)\n",
        "model1.to(device)"
      ],
      "metadata": {
        "id": "2iAut5xF2sm2"
      },
      "execution_count": null,
      "outputs": []
    },
    {
      "cell_type": "code",
      "source": [
        "import torch\n",
        "import numpy as np\n",
        "\n",
        "model1.eval()  # Set the model to evaluation mode\n",
        "all_predictions = []\n",
        "all_true_labels = []\n",
        "\n",
        "with torch.no_grad():\n",
        "    for batch in test_loader:\n",
        "        input_ids = batch['input_ids'].to(device)\n",
        "        attention_mask = batch['attention_mask'].to(device)\n",
        "        labels = batch['labels'].to(device)\n",
        "\n",
        "        outputs = model1(input_ids, attention_mask=attention_mask)\n",
        "        _, predictions = torch.max(outputs.logits, dim=1)\n",
        "\n",
        "        all_predictions.extend(predictions.cpu().numpy())\n",
        "        all_true_labels.extend(labels.cpu().numpy())\n",
        "\n",
        "# Convert to numpy arrays\n",
        "y_pred = np.array(all_predictions)\n",
        "y_true = np.array(all_true_labels)"
      ],
      "metadata": {
        "id": "A-gZWzpB2sm3"
      },
      "execution_count": null,
      "outputs": []
    },
    {
      "cell_type": "code",
      "source": [
        "from sklearn.metrics import classification_report, confusion_matrix\n",
        "import seaborn as sns\n",
        "import matplotlib.pyplot as plt\n",
        "\n",
        "# Print classification report\n",
        "print(classification_report(y_true, y_pred))\n",
        "\n",
        "# Create confusion matrix\n",
        "cm = confusion_matrix(y_true, y_pred)\n",
        "\n",
        "# Plot confusion matrix\n",
        "plt.figure(figsize=(10, 8))\n",
        "sns.heatmap(cm, annot=True, fmt='d', cmap='Blues')\n",
        "plt.xlabel('Predicted')\n",
        "plt.ylabel('True')\n",
        "plt.title('Confusion Matrix')\n",
        "plt.show()"
      ],
      "metadata": {
        "id": "2d9r5v7o2sm4"
      },
      "execution_count": null,
      "outputs": []
    },
    {
      "cell_type": "markdown",
      "source": [
        "### Dataset 1"
      ],
      "metadata": {
        "id": "F-zJZnW82sm4"
      }
    },
    {
      "cell_type": "markdown",
      "source": [
        "#### Seed 1"
      ],
      "metadata": {
        "id": "hLWIBOQZ2sm4"
      }
    },
    {
      "cell_type": "code",
      "source": [
        "# Don't Show Warning Messages\n",
        "import os\n",
        "import warnings\n",
        "warnings.filterwarnings('ignore')\n",
        "os.environ[\"WANDB_DISABLED\"] = \"true\""
      ],
      "metadata": {
        "id": "1YE7K9zF2sm4"
      },
      "execution_count": null,
      "outputs": []
    },
    {
      "cell_type": "code",
      "source": [
        "from transformers import set_seed, Trainer\n",
        "\n",
        "# Set the seed for reproducibility\n",
        "set_seed(20240917)"
      ],
      "metadata": {
        "id": "hPXdyUv62sm5"
      },
      "execution_count": null,
      "outputs": []
    },
    {
      "cell_type": "code",
      "source": [
        "def model_init() :\n",
        "    return BertForSequenceClassification.from_pretrained(\"google-bert/bert-base-uncased\",num_labels = 2)"
      ],
      "metadata": {
        "id": "m0hkKWvQ2sm5"
      },
      "execution_count": null,
      "outputs": []
    },
    {
      "cell_type": "code",
      "source": [
        "training_args = TrainingArguments(\n",
        "    eval_strategy=\"epoch\",\n",
        "    output_dir=\"./results\",\n",
        "    learning_rate=2e-5,\n",
        "    per_device_train_batch_size=16,\n",
        "    per_device_eval_batch_size=16,\n",
        "    num_train_epochs=3,\n",
        "    weight_decay=0.01,\n",
        "    seed = 20240917\n",
        ")\n",
        "\n",
        "# Initialize Trainer\n",
        "trainer = Trainer(\n",
        "    model_init = model_init,\n",
        "    args=training_args,\n",
        "    train_dataset=train_df1_dataset,\n",
        "    eval_dataset=val_df1_dataset,\n",
        "    tokenizer = tokenizer,\n",
        "    compute_metrics=compute_metrics,\n",
        ")\n",
        "\n",
        "# Fine-tune the model\n",
        "trainer.train()"
      ],
      "metadata": {
        "id": "XUYX459Z2sm5"
      },
      "execution_count": null,
      "outputs": []
    },
    {
      "cell_type": "code",
      "source": [
        "from torch.utils.data import DataLoader\n",
        "\n",
        "# Assuming you've already created your test_dataset\n",
        "test_loader = DataLoader(test_df1_dataset, batch_size=32, shuffle=False)"
      ],
      "metadata": {
        "id": "Us69FsTn2sm5"
      },
      "execution_count": null,
      "outputs": []
    },
    {
      "cell_type": "code",
      "source": [
        "model1 = AutoModelForSequenceClassification.from_pretrained(\"/kaggle/working/results/checkpoint-1125\", num_labels=2)\n",
        "model1.to(device)"
      ],
      "metadata": {
        "id": "-To5KMk72sm6"
      },
      "execution_count": null,
      "outputs": []
    },
    {
      "cell_type": "code",
      "source": [
        "import torch\n",
        "import numpy as np\n",
        "\n",
        "model1.eval()  # Set the model to evaluation mode\n",
        "all_predictions = []\n",
        "all_true_labels = []\n",
        "\n",
        "with torch.no_grad():\n",
        "    for batch in test_loader:\n",
        "        input_ids = batch['input_ids'].to(device)\n",
        "        attention_mask = batch['attention_mask'].to(device)\n",
        "        labels = batch['labels'].to(device)\n",
        "\n",
        "        outputs = model1(input_ids, attention_mask=attention_mask)\n",
        "        _, predictions = torch.max(outputs.logits, dim=1)\n",
        "\n",
        "        all_predictions.extend(predictions.cpu().numpy())\n",
        "        all_true_labels.extend(labels.cpu().numpy())\n",
        "\n",
        "# Convert to numpy arrays\n",
        "y_pred = np.array(all_predictions)\n",
        "y_true = np.array(all_true_labels)"
      ],
      "metadata": {
        "id": "BXiGd1Hr2sm6"
      },
      "execution_count": null,
      "outputs": []
    },
    {
      "cell_type": "code",
      "source": [
        "from sklearn.metrics import classification_report, confusion_matrix\n",
        "import seaborn as sns\n",
        "import matplotlib.pyplot as plt\n",
        "\n",
        "# Print classification report\n",
        "print(classification_report(y_true, y_pred))\n",
        "\n",
        "# Create confusion matrix\n",
        "cm = confusion_matrix(y_true, y_pred)\n",
        "\n",
        "# Plot confusion matrix\n",
        "plt.figure(figsize=(10, 8))\n",
        "sns.heatmap(cm, annot=True, fmt='d', cmap='Blues')\n",
        "plt.xlabel('Predicted')\n",
        "plt.ylabel('True')\n",
        "plt.title('Confusion Matrix')\n",
        "plt.show()"
      ],
      "metadata": {
        "id": "dh1hUU3J2sm7"
      },
      "execution_count": null,
      "outputs": []
    },
    {
      "cell_type": "markdown",
      "source": [
        "#### Seed 2"
      ],
      "metadata": {
        "id": "NiJoW2uH2sm8"
      }
    },
    {
      "cell_type": "code",
      "source": [
        "# Don't Show Warning Messages\n",
        "import os\n",
        "import warnings\n",
        "warnings.filterwarnings('ignore')\n",
        "os.environ[\"WANDB_DISABLED\"] = \"true\""
      ],
      "metadata": {
        "id": "Zds0ll1y2sm8"
      },
      "execution_count": null,
      "outputs": []
    },
    {
      "cell_type": "code",
      "source": [
        "from transformers import set_seed, Trainer\n",
        "\n",
        "# Set the seed for reproducibility\n",
        "set_seed(68820831)"
      ],
      "metadata": {
        "id": "_V_Z5GBG2sm9"
      },
      "execution_count": null,
      "outputs": []
    },
    {
      "cell_type": "code",
      "source": [
        "def model_init() :\n",
        "    return BertForSequenceClassification.from_pretrained(\"google-bert/bert-base-uncased\",num_labels = 2)"
      ],
      "metadata": {
        "id": "p76vtSHM2sm9"
      },
      "execution_count": null,
      "outputs": []
    },
    {
      "cell_type": "code",
      "source": [
        "training_args = TrainingArguments(\n",
        "    eval_strategy=\"epoch\",\n",
        "    output_dir=\"./results\",\n",
        "    learning_rate=2e-5,\n",
        "    per_device_train_batch_size=16,\n",
        "    per_device_eval_batch_size=16,\n",
        "    num_train_epochs=3,\n",
        "    weight_decay=0.01,\n",
        "    seed = 68820831\n",
        ")\n",
        "\n",
        "# Initialize Trainer\n",
        "trainer = Trainer(\n",
        "    model_init = model_init,\n",
        "    args=training_args,\n",
        "    train_dataset=train_df1_dataset,\n",
        "    eval_dataset=val_df1_dataset,\n",
        "    tokenizer = tokenizer,\n",
        "    compute_metrics=compute_metrics,\n",
        ")\n",
        "\n",
        "# Fine-tune the model\n",
        "trainer.train()"
      ],
      "metadata": {
        "id": "8aMt4n1O2sm9"
      },
      "execution_count": null,
      "outputs": []
    },
    {
      "cell_type": "code",
      "source": [
        "from torch.utils.data import DataLoader\n",
        "\n",
        "# Assuming you've already created your test_dataset\n",
        "test_loader = DataLoader(test_df1_dataset, batch_size=32, shuffle=False)"
      ],
      "metadata": {
        "id": "6pE0zCFi2sm9"
      },
      "execution_count": null,
      "outputs": []
    },
    {
      "cell_type": "code",
      "source": [
        "model1 = AutoModelForSequenceClassification.from_pretrained(\"/kaggle/working/results/checkpoint-1125\", num_labels=2)\n",
        "model1.to(device)"
      ],
      "metadata": {
        "id": "Sa__RM1_2sm-"
      },
      "execution_count": null,
      "outputs": []
    },
    {
      "cell_type": "code",
      "source": [
        "import torch\n",
        "import numpy as np\n",
        "\n",
        "model1.eval()  # Set the model to evaluation mode\n",
        "all_predictions = []\n",
        "all_true_labels = []\n",
        "\n",
        "with torch.no_grad():\n",
        "    for batch in test_loader:\n",
        "        input_ids = batch['input_ids'].to(device)\n",
        "        attention_mask = batch['attention_mask'].to(device)\n",
        "        labels = batch['labels'].to(device)\n",
        "\n",
        "        outputs = model1(input_ids, attention_mask=attention_mask)\n",
        "        _, predictions = torch.max(outputs.logits, dim=1)\n",
        "\n",
        "        all_predictions.extend(predictions.cpu().numpy())\n",
        "        all_true_labels.extend(labels.cpu().numpy())\n",
        "\n",
        "# Convert to numpy arrays\n",
        "y_pred = np.array(all_predictions)\n",
        "y_true = np.array(all_true_labels)"
      ],
      "metadata": {
        "id": "POSA2zxe2sm-"
      },
      "execution_count": null,
      "outputs": []
    },
    {
      "cell_type": "code",
      "source": [
        "from sklearn.metrics import classification_report, confusion_matrix\n",
        "import seaborn as sns\n",
        "import matplotlib.pyplot as plt\n",
        "\n",
        "# Print classification report\n",
        "print(classification_report(y_true, y_pred))\n",
        "\n",
        "# Create confusion matrix\n",
        "cm = confusion_matrix(y_true, y_pred)\n",
        "\n",
        "# Plot confusion matrix\n",
        "plt.figure(figsize=(10, 8))\n",
        "sns.heatmap(cm, annot=True, fmt='d', cmap='Blues')\n",
        "plt.xlabel('Predicted')\n",
        "plt.ylabel('True')\n",
        "plt.title('Confusion Matrix')\n",
        "plt.show()"
      ],
      "metadata": {
        "id": "IdnBXErz2sm_"
      },
      "execution_count": null,
      "outputs": []
    },
    {
      "cell_type": "markdown",
      "source": [
        "#### Seed 3"
      ],
      "metadata": {
        "id": "e4F_VGyL2snA"
      }
    },
    {
      "cell_type": "code",
      "source": [
        "# Don't Show Warning Messages\n",
        "import os\n",
        "import warnings\n",
        "warnings.filterwarnings('ignore')\n",
        "os.environ[\"WANDB_DISABLED\"] = \"true\""
      ],
      "metadata": {
        "id": "BSCzW1vE2snA"
      },
      "execution_count": null,
      "outputs": []
    },
    {
      "cell_type": "code",
      "source": [
        "from transformers import set_seed, Trainer\n",
        "\n",
        "# Set the seed for reproducibility\n",
        "set_seed(54226614)"
      ],
      "metadata": {
        "id": "Ta3P2SzK2snA"
      },
      "execution_count": null,
      "outputs": []
    },
    {
      "cell_type": "code",
      "source": [
        "def model_init() :\n",
        "    return BertForSequenceClassification.from_pretrained(\"google-bert/bert-base-uncased\",num_labels = 2)"
      ],
      "metadata": {
        "id": "7tQyB-qw2snB"
      },
      "execution_count": null,
      "outputs": []
    },
    {
      "cell_type": "code",
      "source": [
        "training_args = TrainingArguments(\n",
        "    eval_strategy=\"epoch\",\n",
        "    output_dir=\"./results\",\n",
        "    learning_rate=2e-5,\n",
        "    per_device_train_batch_size=16,\n",
        "    per_device_eval_batch_size=16,\n",
        "    num_train_epochs=3,\n",
        "    weight_decay=0.01,\n",
        "    seed = 54226614\n",
        ")\n",
        "\n",
        "# Initialize Trainer\n",
        "trainer = Trainer(\n",
        "    model_init = model_init,\n",
        "    args=training_args,\n",
        "    train_dataset=train_df1_dataset,\n",
        "    eval_dataset=val_df1_dataset,\n",
        "    tokenizer = tokenizer,\n",
        "    compute_metrics=compute_metrics,\n",
        ")\n",
        "\n",
        "# Fine-tune the model\n",
        "trainer.train()"
      ],
      "metadata": {
        "id": "Kp8pu-aG2snB"
      },
      "execution_count": null,
      "outputs": []
    },
    {
      "cell_type": "code",
      "source": [
        "from torch.utils.data import DataLoader\n",
        "\n",
        "# Assuming you've already created your test_dataset\n",
        "test_loader = DataLoader(test_df1_dataset, batch_size=32, shuffle=False)"
      ],
      "metadata": {
        "id": "OQXcCim-2snB"
      },
      "execution_count": null,
      "outputs": []
    },
    {
      "cell_type": "code",
      "source": [
        "model1 = AutoModelForSequenceClassification.from_pretrained(\"/kaggle/working/results/checkpoint-1125\", num_labels=2)\n",
        "model1.to(device)"
      ],
      "metadata": {
        "id": "pBLWQela2snB"
      },
      "execution_count": null,
      "outputs": []
    },
    {
      "cell_type": "code",
      "source": [
        "import torch\n",
        "import numpy as np\n",
        "\n",
        "model1.eval()  # Set the model to evaluation mode\n",
        "all_predictions = []\n",
        "all_true_labels = []\n",
        "\n",
        "with torch.no_grad():\n",
        "    for batch in test_loader:\n",
        "        input_ids = batch['input_ids'].to(device)\n",
        "        attention_mask = batch['attention_mask'].to(device)\n",
        "        labels = batch['labels'].to(device)\n",
        "\n",
        "        outputs = model1(input_ids, attention_mask=attention_mask)\n",
        "        _, predictions = torch.max(outputs.logits, dim=1)\n",
        "\n",
        "        all_predictions.extend(predictions.cpu().numpy())\n",
        "        all_true_labels.extend(labels.cpu().numpy())\n",
        "\n",
        "# Convert to numpy arrays\n",
        "y_pred = np.array(all_predictions)\n",
        "y_true = np.array(all_true_labels)"
      ],
      "metadata": {
        "id": "m-OH5wTs2snB"
      },
      "execution_count": null,
      "outputs": []
    },
    {
      "cell_type": "code",
      "source": [
        "from sklearn.metrics import classification_report, confusion_matrix\n",
        "import seaborn as sns\n",
        "import matplotlib.pyplot as plt\n",
        "\n",
        "# Print classification report\n",
        "print(classification_report(y_true, y_pred))\n",
        "\n",
        "# Create confusion matrix\n",
        "cm = confusion_matrix(y_true, y_pred)\n",
        "\n",
        "# Plot confusion matrix\n",
        "plt.figure(figsize=(10, 8))\n",
        "sns.heatmap(cm, annot=True, fmt='d', cmap='Blues')\n",
        "plt.xlabel('Predicted')\n",
        "plt.ylabel('True')\n",
        "plt.title('Confusion Matrix')\n",
        "plt.show()"
      ],
      "metadata": {
        "id": "zn-_FMFX2snC"
      },
      "execution_count": null,
      "outputs": []
    },
    {
      "cell_type": "code",
      "source": [],
      "metadata": {
        "id": "pvXFab0Ly6t0"
      },
      "execution_count": null,
      "outputs": []
    },
    {
      "cell_type": "markdown",
      "source": [
        "## DistilBERT"
      ],
      "metadata": {
        "id": "Rs7n_a4Qy7n8"
      }
    },
    {
      "cell_type": "code",
      "source": [
        "from transformers import AutoModelForSequenceClassification, TrainingArguments, Trainer,AutoTokenizer\n",
        "\n",
        "model = AutoModelForSequenceClassification.from_pretrained(\"distilbert-base-uncased\", num_labels=2)\n",
        "tokenizer = AutoTokenizer.from_pretrained(\"distilbert-base-uncased\")"
      ],
      "metadata": {
        "id": "52TGdYWSy9Wx"
      },
      "execution_count": null,
      "outputs": []
    },
    {
      "cell_type": "code",
      "source": [
        "import torch\n",
        "from torch.utils.data import Dataset\n",
        "\n",
        "# Custom dataset class\n",
        "class CustomDataset(Dataset):\n",
        "    def __init__(self, texts, labels, tokenizer, max_len=512):\n",
        "        self.texts = texts\n",
        "        self.labels = labels\n",
        "        self.tokenizer = tokenizer\n",
        "        self.max_len = max_len\n",
        "\n",
        "    def __len__(self):\n",
        "        return len(self.texts)\n",
        "\n",
        "    def __getitem__(self, index):\n",
        "        text = self.texts.iloc[index]\n",
        "        label = self.labels.iloc[index]\n",
        "        encoding = self.tokenizer(\n",
        "            text,\n",
        "            truncation=True,\n",
        "            padding='max_length',\n",
        "            max_length=self.max_len,\n",
        "            return_tensors='pt'\n",
        "        )\n",
        "        return {\n",
        "            'input_ids': encoding['input_ids'].flatten(),\n",
        "            'attention_mask': encoding['attention_mask'].flatten(),\n",
        "            'labels': torch.tensor(label, dtype=torch.long)\n",
        "        }\n",
        "\n",
        "train_df0_dataset = CustomDataset(X_train['text'], y_train, tokenizer)\n",
        "train_df1_dataset = CustomDataset(X_train1['text'], y_train1, tokenizer)\n",
        "\n",
        "# For validation datasets\n",
        "val_df0_dataset = CustomDataset(X_val['text'], y_val, tokenizer)\n",
        "val_df1_dataset = CustomDataset(X_val1['text'], y_val1, tokenizer)\n",
        "\n",
        "# For test datasets\n",
        "test_df0_dataset = CustomDataset(X_test['text'], y_test, tokenizer)\n",
        "test_df1_dataset = CustomDataset(X_test1['text'], y_test1, tokenizer)"
      ],
      "metadata": {
        "id": "_gUjZTpdzRqN"
      },
      "execution_count": null,
      "outputs": []
    },
    {
      "cell_type": "code",
      "source": [
        "import torch\n",
        "\n",
        "# Check if GPU is available\n",
        "if torch.cuda.is_available():\n",
        "    device = torch.device(\"cuda\")\n",
        "    print(\"GPU is available. Using GPU:\", torch.cuda.get_device_name(0))\n",
        "else:\n",
        "    device = torch.device(\"cpu\")\n",
        "    print(\"GPU not available. Using CPU instead.\")\n",
        "\n",
        "model.to(device)"
      ],
      "metadata": {
        "id": "U4MFaZJ-ztxA"
      },
      "execution_count": null,
      "outputs": []
    },
    {
      "cell_type": "code",
      "source": [
        "def compute_metrics(eval_pred):\n",
        "    logits, labels = eval_pred\n",
        "    predictions = np.argmax(logits, axis=1)\n",
        "    return metric.compute(predictions=predictions, references=labels)"
      ],
      "metadata": {
        "id": "rkfYJkx9z0Wk"
      },
      "execution_count": null,
      "outputs": []
    },
    {
      "cell_type": "code",
      "source": [
        "import numpy as np\n",
        "import evaluate\n",
        "\n",
        "metric = evaluate.load(\"accuracy\")"
      ],
      "metadata": {
        "id": "xe2nDD1q0Bio"
      },
      "execution_count": null,
      "outputs": []
    },
    {
      "cell_type": "markdown",
      "source": [
        "### Dataset 0"
      ],
      "metadata": {
        "id": "Zaxf1Mq20HiU"
      }
    },
    {
      "cell_type": "markdown",
      "source": [
        "#### Seed 1"
      ],
      "metadata": {
        "id": "4GM50JYL1Thn"
      }
    },
    {
      "cell_type": "code",
      "source": [
        "# Don't Show Warning Messages\n",
        "import os\n",
        "import warnings\n",
        "warnings.filterwarnings('ignore')\n",
        "os.environ[\"WANDB_DISABLED\"] = \"true\""
      ],
      "metadata": {
        "id": "308Cz2AG0CPG"
      },
      "execution_count": null,
      "outputs": []
    },
    {
      "cell_type": "code",
      "source": [
        "from transformers import set_seed, Trainer\n",
        "\n",
        "# Set the seed for reproducibility\n",
        "set_seed(20240917)"
      ],
      "metadata": {
        "id": "oJmsv_650MTl"
      },
      "execution_count": null,
      "outputs": []
    },
    {
      "cell_type": "code",
      "source": [
        "def model_init() :\n",
        "    return AutoModelForSequenceClassification.from_pretrained(\"distilbert-base-uncased\", num_labels=2)"
      ],
      "metadata": {
        "id": "AioYf86V0OkN"
      },
      "execution_count": null,
      "outputs": []
    },
    {
      "cell_type": "code",
      "source": [
        "training_args = TrainingArguments(\n",
        "    eval_strategy=\"epoch\",\n",
        "    output_dir=\"./results\",\n",
        "    learning_rate=2e-5,\n",
        "    per_device_train_batch_size=16,\n",
        "    per_device_eval_batch_size=16,\n",
        "    num_train_epochs=3,\n",
        "    weight_decay=0.01,\n",
        "    seed = 20240917\n",
        ")\n",
        "\n",
        "# Initialize Trainer\n",
        "trainer = Trainer(\n",
        "    model_init = model_init,\n",
        "    args=training_args,\n",
        "    train_dataset=train_df0_dataset,\n",
        "    eval_dataset=val_df0_dataset,\n",
        "    tokenizer = tokenizer,\n",
        "    compute_metrics=compute_metrics,\n",
        ")\n",
        "\n",
        "# Fine-tune the model\n",
        "trainer.train()"
      ],
      "metadata": {
        "id": "GmgsSRBK0RD0"
      },
      "execution_count": null,
      "outputs": []
    },
    {
      "cell_type": "code",
      "source": [
        "from torch.utils.data import DataLoader\n",
        "\n",
        "# Assuming you've already created your test_dataset\n",
        "test_loader = DataLoader(test_df0_dataset, batch_size=32, shuffle=False)"
      ],
      "metadata": {
        "id": "AeSjSQky0kA_"
      },
      "execution_count": null,
      "outputs": []
    },
    {
      "cell_type": "code",
      "source": [
        "model1 = AutoModelForSequenceClassification.from_pretrained(\"/kaggle/working/results/checkpoint-1125\", num_labels=2)\n",
        "model1.to(device)"
      ],
      "metadata": {
        "id": "gEqjQgvB00Gw"
      },
      "execution_count": null,
      "outputs": []
    },
    {
      "cell_type": "code",
      "source": [
        "import torch\n",
        "import numpy as np\n",
        "\n",
        "model1.eval()  # Set the model to evaluation mode\n",
        "all_predictions = []\n",
        "all_true_labels = []\n",
        "\n",
        "with torch.no_grad():\n",
        "    for batch in test_loader:\n",
        "        input_ids = batch['input_ids'].to(device)\n",
        "        attention_mask = batch['attention_mask'].to(device)\n",
        "        labels = batch['labels'].to(device)\n",
        "\n",
        "        outputs = model1(input_ids, attention_mask=attention_mask)\n",
        "        _, predictions = torch.max(outputs.logits, dim=1)\n",
        "\n",
        "        all_predictions.extend(predictions.cpu().numpy())\n",
        "        all_true_labels.extend(labels.cpu().numpy())\n",
        "\n",
        "# Convert to numpy arrays\n",
        "y_pred = np.array(all_predictions)\n",
        "y_true = np.array(all_true_labels)"
      ],
      "metadata": {
        "id": "kmoHP1am0nTB"
      },
      "execution_count": null,
      "outputs": []
    },
    {
      "cell_type": "code",
      "source": [
        "from sklearn.metrics import classification_report, confusion_matrix\n",
        "import seaborn as sns\n",
        "import matplotlib.pyplot as plt\n",
        "\n",
        "# Print classification report\n",
        "print(classification_report(y_true, y_pred))\n",
        "\n",
        "# Create confusion matrix\n",
        "cm = confusion_matrix(y_true, y_pred)\n",
        "\n",
        "# Plot confusion matrix\n",
        "plt.figure(figsize=(10, 8))\n",
        "sns.heatmap(cm, annot=True, fmt='d', cmap='Blues')\n",
        "plt.xlabel('Predicted')\n",
        "plt.ylabel('True')\n",
        "plt.title('Confusion Matrix')\n",
        "plt.show()"
      ],
      "metadata": {
        "id": "ss9V_76D0oJw"
      },
      "execution_count": null,
      "outputs": []
    },
    {
      "cell_type": "markdown",
      "source": [
        "#### Seed 2"
      ],
      "metadata": {
        "id": "3xAQjOzF1dCw"
      }
    },
    {
      "cell_type": "code",
      "source": [
        "# Don't Show Warning Messages\n",
        "import os\n",
        "import warnings\n",
        "warnings.filterwarnings('ignore')\n",
        "os.environ[\"WANDB_DISABLED\"] = \"true\""
      ],
      "metadata": {
        "id": "WL-yuvc51dCw"
      },
      "execution_count": null,
      "outputs": []
    },
    {
      "cell_type": "code",
      "source": [
        "from transformers import set_seed, Trainer\n",
        "\n",
        "# Set the seed for reproducibility\n",
        "set_seed(68820831)"
      ],
      "metadata": {
        "id": "ZB6ljJRg1dCx"
      },
      "execution_count": null,
      "outputs": []
    },
    {
      "cell_type": "code",
      "source": [
        "def model_init() :\n",
        "    return AutoModelForSequenceClassification.from_pretrained(\"distilbert-base-uncased\", num_labels=2)"
      ],
      "metadata": {
        "id": "HNiP-PBv1dCx"
      },
      "execution_count": null,
      "outputs": []
    },
    {
      "cell_type": "code",
      "source": [
        "training_args = TrainingArguments(\n",
        "    eval_strategy=\"epoch\",\n",
        "    output_dir=\"./results\",\n",
        "    learning_rate=2e-5,\n",
        "    per_device_train_batch_size=16,\n",
        "    per_device_eval_batch_size=16,\n",
        "    num_train_epochs=3,\n",
        "    weight_decay=0.01,\n",
        "    seed = 68820831\n",
        ")\n",
        "\n",
        "# Initialize Trainer\n",
        "trainer = Trainer(\n",
        "    model_init = model_init,\n",
        "    args=training_args,\n",
        "    train_dataset=train_df0_dataset,\n",
        "    eval_dataset=val_df0_dataset,\n",
        "    tokenizer = tokenizer,\n",
        "    compute_metrics=compute_metrics,\n",
        ")\n",
        "\n",
        "# Fine-tune the model\n",
        "trainer.train()"
      ],
      "metadata": {
        "id": "zoEUNhzl1dCx"
      },
      "execution_count": null,
      "outputs": []
    },
    {
      "cell_type": "code",
      "source": [
        "from torch.utils.data import DataLoader\n",
        "\n",
        "# Assuming you've already created your test_dataset\n",
        "test_loader = DataLoader(test_df0_dataset, batch_size=32, shuffle=False)"
      ],
      "metadata": {
        "id": "fxHb0sS61dCx"
      },
      "execution_count": null,
      "outputs": []
    },
    {
      "cell_type": "code",
      "source": [
        "model1 = AutoModelForSequenceClassification.from_pretrained(\"/kaggle/working/results/checkpoint-1125\", num_labels=2)\n",
        "model1.to(device)"
      ],
      "metadata": {
        "id": "5WNR-Fbs1dCx"
      },
      "execution_count": null,
      "outputs": []
    },
    {
      "cell_type": "code",
      "source": [
        "import torch\n",
        "import numpy as np\n",
        "\n",
        "model1.eval()  # Set the model to evaluation mode\n",
        "all_predictions = []\n",
        "all_true_labels = []\n",
        "\n",
        "with torch.no_grad():\n",
        "    for batch in test_loader:\n",
        "        input_ids = batch['input_ids'].to(device)\n",
        "        attention_mask = batch['attention_mask'].to(device)\n",
        "        labels = batch['labels'].to(device)\n",
        "\n",
        "        outputs = model1(input_ids, attention_mask=attention_mask)\n",
        "        _, predictions = torch.max(outputs.logits, dim=1)\n",
        "\n",
        "        all_predictions.extend(predictions.cpu().numpy())\n",
        "        all_true_labels.extend(labels.cpu().numpy())\n",
        "\n",
        "# Convert to numpy arrays\n",
        "y_pred = np.array(all_predictions)\n",
        "y_true = np.array(all_true_labels)"
      ],
      "metadata": {
        "id": "loWlkl7G1dCy"
      },
      "execution_count": null,
      "outputs": []
    },
    {
      "cell_type": "code",
      "source": [
        "from sklearn.metrics import classification_report, confusion_matrix\n",
        "import seaborn as sns\n",
        "import matplotlib.pyplot as plt\n",
        "\n",
        "# Print classification report\n",
        "print(classification_report(y_true, y_pred))\n",
        "\n",
        "# Create confusion matrix\n",
        "cm = confusion_matrix(y_true, y_pred)\n",
        "\n",
        "# Plot confusion matrix\n",
        "plt.figure(figsize=(10, 8))\n",
        "sns.heatmap(cm, annot=True, fmt='d', cmap='Blues')\n",
        "plt.xlabel('Predicted')\n",
        "plt.ylabel('True')\n",
        "plt.title('Confusion Matrix')\n",
        "plt.show()"
      ],
      "metadata": {
        "id": "HqbqYr5D1dCy"
      },
      "execution_count": null,
      "outputs": []
    },
    {
      "cell_type": "markdown",
      "source": [
        "#### Seed 3"
      ],
      "metadata": {
        "id": "qnDsNug11ecD"
      }
    },
    {
      "cell_type": "code",
      "source": [
        "# Don't Show Warning Messages\n",
        "import os\n",
        "import warnings\n",
        "warnings.filterwarnings('ignore')\n",
        "os.environ[\"WANDB_DISABLED\"] = \"true\""
      ],
      "metadata": {
        "id": "ep6VJ_cB1ecD"
      },
      "execution_count": null,
      "outputs": []
    },
    {
      "cell_type": "code",
      "source": [
        "from transformers import set_seed, Trainer\n",
        "\n",
        "# Set the seed for reproducibility\n",
        "set_seed(54226614)"
      ],
      "metadata": {
        "id": "SqiJfy401ecE"
      },
      "execution_count": null,
      "outputs": []
    },
    {
      "cell_type": "code",
      "source": [
        "def model_init() :\n",
        "    return AutoModelForSequenceClassification.from_pretrained(\"distilbert-base-uncased\", num_labels=2)"
      ],
      "metadata": {
        "id": "c_35jU2F1ecE"
      },
      "execution_count": null,
      "outputs": []
    },
    {
      "cell_type": "code",
      "source": [
        "training_args = TrainingArguments(\n",
        "    eval_strategy=\"epoch\",\n",
        "    output_dir=\"./results\",\n",
        "    learning_rate=2e-5,\n",
        "    per_device_train_batch_size=16,\n",
        "    per_device_eval_batch_size=16,\n",
        "    num_train_epochs=3,\n",
        "    weight_decay=0.01,\n",
        "    seed = 54226614\n",
        ")\n",
        "\n",
        "# Initialize Trainer\n",
        "trainer = Trainer(\n",
        "    model_init = model_init,\n",
        "    args=training_args,\n",
        "    train_dataset=train_df0_dataset,\n",
        "    eval_dataset=val_df0_dataset,\n",
        "    tokenizer = tokenizer,\n",
        "    compute_metrics=compute_metrics,\n",
        ")\n",
        "\n",
        "# Fine-tune the model\n",
        "trainer.train()"
      ],
      "metadata": {
        "id": "aO4sdO_R1ecE"
      },
      "execution_count": null,
      "outputs": []
    },
    {
      "cell_type": "code",
      "source": [
        "from torch.utils.data import DataLoader\n",
        "\n",
        "# Assuming you've already created your test_dataset\n",
        "test_loader = DataLoader(test_df0_dataset, batch_size=32, shuffle=False)"
      ],
      "metadata": {
        "id": "7s74U4c11ecE"
      },
      "execution_count": null,
      "outputs": []
    },
    {
      "cell_type": "code",
      "source": [
        "model1 = AutoModelForSequenceClassification.from_pretrained(\"/kaggle/working/results/checkpoint-1125\", num_labels=2)\n",
        "model1.to(device)"
      ],
      "metadata": {
        "id": "erCsLw-91ecF"
      },
      "execution_count": null,
      "outputs": []
    },
    {
      "cell_type": "code",
      "source": [
        "import torch\n",
        "import numpy as np\n",
        "\n",
        "model1.eval()  # Set the model to evaluation mode\n",
        "all_predictions = []\n",
        "all_true_labels = []\n",
        "\n",
        "with torch.no_grad():\n",
        "    for batch in test_loader:\n",
        "        input_ids = batch['input_ids'].to(device)\n",
        "        attention_mask = batch['attention_mask'].to(device)\n",
        "        labels = batch['labels'].to(device)\n",
        "\n",
        "        outputs = model1(input_ids, attention_mask=attention_mask)\n",
        "        _, predictions = torch.max(outputs.logits, dim=1)\n",
        "\n",
        "        all_predictions.extend(predictions.cpu().numpy())\n",
        "        all_true_labels.extend(labels.cpu().numpy())\n",
        "\n",
        "# Convert to numpy arrays\n",
        "y_pred = np.array(all_predictions)\n",
        "y_true = np.array(all_true_labels)"
      ],
      "metadata": {
        "id": "mZ6sRbT21ecG"
      },
      "execution_count": null,
      "outputs": []
    },
    {
      "cell_type": "code",
      "source": [
        "from sklearn.metrics import classification_report, confusion_matrix\n",
        "import seaborn as sns\n",
        "import matplotlib.pyplot as plt\n",
        "\n",
        "# Print classification report\n",
        "print(classification_report(y_true, y_pred))\n",
        "\n",
        "# Create confusion matrix\n",
        "cm = confusion_matrix(y_true, y_pred)\n",
        "\n",
        "# Plot confusion matrix\n",
        "plt.figure(figsize=(10, 8))\n",
        "sns.heatmap(cm, annot=True, fmt='d', cmap='Blues')\n",
        "plt.xlabel('Predicted')\n",
        "plt.ylabel('True')\n",
        "plt.title('Confusion Matrix')\n",
        "plt.show()"
      ],
      "metadata": {
        "id": "LhJvXqhD1ecG"
      },
      "execution_count": null,
      "outputs": []
    },
    {
      "cell_type": "markdown",
      "source": [
        "### Dataset 1"
      ],
      "metadata": {
        "id": "O6N5uC0c17nn"
      }
    },
    {
      "cell_type": "markdown",
      "source": [
        "#### Seed 1"
      ],
      "metadata": {
        "id": "-1Ou2DTX17no"
      }
    },
    {
      "cell_type": "code",
      "source": [
        "# Don't Show Warning Messages\n",
        "import os\n",
        "import warnings\n",
        "warnings.filterwarnings('ignore')\n",
        "os.environ[\"WANDB_DISABLED\"] = \"true\""
      ],
      "metadata": {
        "id": "W3CoFapz17no"
      },
      "execution_count": null,
      "outputs": []
    },
    {
      "cell_type": "code",
      "source": [
        "from transformers import set_seed, Trainer\n",
        "\n",
        "# Set the seed for reproducibility\n",
        "set_seed(20240917)"
      ],
      "metadata": {
        "id": "JuTh_KoH17no"
      },
      "execution_count": null,
      "outputs": []
    },
    {
      "cell_type": "code",
      "source": [
        "def model_init() :\n",
        "    return AutoModelForSequenceClassification.from_pretrained(\"distilbert-base-uncased\", num_labels=2)"
      ],
      "metadata": {
        "id": "uxlAT4sc17no"
      },
      "execution_count": null,
      "outputs": []
    },
    {
      "cell_type": "code",
      "source": [
        "training_args = TrainingArguments(\n",
        "    eval_strategy=\"epoch\",\n",
        "    output_dir=\"./results\",\n",
        "    learning_rate=2e-5,\n",
        "    per_device_train_batch_size=16,\n",
        "    per_device_eval_batch_size=16,\n",
        "    num_train_epochs=3,\n",
        "    weight_decay=0.01,\n",
        "    seed = 20240917\n",
        ")\n",
        "\n",
        "# Initialize Trainer\n",
        "trainer = Trainer(\n",
        "    model_init = model_init,\n",
        "    args=training_args,\n",
        "    train_dataset=train_df1_dataset,\n",
        "    eval_dataset=val_df1_dataset,\n",
        "    tokenizer = tokenizer,\n",
        "    compute_metrics=compute_metrics,\n",
        ")\n",
        "\n",
        "# Fine-tune the model\n",
        "trainer.train()"
      ],
      "metadata": {
        "id": "MyQ1tqXy17no"
      },
      "execution_count": null,
      "outputs": []
    },
    {
      "cell_type": "code",
      "source": [
        "from torch.utils.data import DataLoader\n",
        "\n",
        "# Assuming you've already created your test_dataset\n",
        "test_loader = DataLoader(test_df1_dataset, batch_size=32, shuffle=False)"
      ],
      "metadata": {
        "id": "Wh4bvbgM17np"
      },
      "execution_count": null,
      "outputs": []
    },
    {
      "cell_type": "code",
      "source": [
        "model1 = AutoModelForSequenceClassification.from_pretrained(\"/kaggle/working/results/checkpoint-1125\", num_labels=2)\n",
        "model1.to(device)"
      ],
      "metadata": {
        "id": "ubqzaO4K17np"
      },
      "execution_count": null,
      "outputs": []
    },
    {
      "cell_type": "code",
      "source": [
        "import torch\n",
        "import numpy as np\n",
        "\n",
        "model1.eval()  # Set the model to evaluation mode\n",
        "all_predictions = []\n",
        "all_true_labels = []\n",
        "\n",
        "with torch.no_grad():\n",
        "    for batch in test_loader:\n",
        "        input_ids = batch['input_ids'].to(device)\n",
        "        attention_mask = batch['attention_mask'].to(device)\n",
        "        labels = batch['labels'].to(device)\n",
        "\n",
        "        outputs = model1(input_ids, attention_mask=attention_mask)\n",
        "        _, predictions = torch.max(outputs.logits, dim=1)\n",
        "\n",
        "        all_predictions.extend(predictions.cpu().numpy())\n",
        "        all_true_labels.extend(labels.cpu().numpy())\n",
        "\n",
        "# Convert to numpy arrays\n",
        "y_pred = np.array(all_predictions)\n",
        "y_true = np.array(all_true_labels)"
      ],
      "metadata": {
        "id": "gR6qHDF117np"
      },
      "execution_count": null,
      "outputs": []
    },
    {
      "cell_type": "code",
      "source": [
        "from sklearn.metrics import classification_report, confusion_matrix\n",
        "import seaborn as sns\n",
        "import matplotlib.pyplot as plt\n",
        "\n",
        "# Print classification report\n",
        "print(classification_report(y_true, y_pred))\n",
        "\n",
        "# Create confusion matrix\n",
        "cm = confusion_matrix(y_true, y_pred)\n",
        "\n",
        "# Plot confusion matrix\n",
        "plt.figure(figsize=(10, 8))\n",
        "sns.heatmap(cm, annot=True, fmt='d', cmap='Blues')\n",
        "plt.xlabel('Predicted')\n",
        "plt.ylabel('True')\n",
        "plt.title('Confusion Matrix')\n",
        "plt.show()"
      ],
      "metadata": {
        "id": "zLCDLv0v17np"
      },
      "execution_count": null,
      "outputs": []
    },
    {
      "cell_type": "markdown",
      "source": [
        "#### Seed 2"
      ],
      "metadata": {
        "id": "U6GRezl717np"
      }
    },
    {
      "cell_type": "code",
      "source": [
        "# Don't Show Warning Messages\n",
        "import os\n",
        "import warnings\n",
        "warnings.filterwarnings('ignore')\n",
        "os.environ[\"WANDB_DISABLED\"] = \"true\""
      ],
      "metadata": {
        "id": "FW3SfS2p17np"
      },
      "execution_count": null,
      "outputs": []
    },
    {
      "cell_type": "code",
      "source": [
        "from transformers import set_seed, Trainer\n",
        "\n",
        "# Set the seed for reproducibility\n",
        "set_seed(68820831)"
      ],
      "metadata": {
        "id": "OmOBhtC317nq"
      },
      "execution_count": null,
      "outputs": []
    },
    {
      "cell_type": "code",
      "source": [
        "def model_init() :\n",
        "    return AutoModelForSequenceClassification.from_pretrained(\"distilbert-base-uncased\", num_labels=2)"
      ],
      "metadata": {
        "id": "msfh45Fs17nq"
      },
      "execution_count": null,
      "outputs": []
    },
    {
      "cell_type": "code",
      "source": [
        "training_args = TrainingArguments(\n",
        "    eval_strategy=\"epoch\",\n",
        "    output_dir=\"./results\",\n",
        "    learning_rate=2e-5,\n",
        "    per_device_train_batch_size=16,\n",
        "    per_device_eval_batch_size=16,\n",
        "    num_train_epochs=3,\n",
        "    weight_decay=0.01,\n",
        "    seed = 68820831\n",
        ")\n",
        "\n",
        "# Initialize Trainer\n",
        "trainer = Trainer(\n",
        "    model_init = model_init,\n",
        "    args=training_args,\n",
        "    train_dataset=train_df1_dataset,\n",
        "    eval_dataset=val_df1_dataset,\n",
        "    tokenizer = tokenizer,\n",
        "    compute_metrics=compute_metrics,\n",
        ")\n",
        "\n",
        "# Fine-tune the model\n",
        "trainer.train()"
      ],
      "metadata": {
        "id": "-aOZv85l17nq"
      },
      "execution_count": null,
      "outputs": []
    },
    {
      "cell_type": "code",
      "source": [
        "from torch.utils.data import DataLoader\n",
        "\n",
        "# Assuming you've already created your test_dataset\n",
        "test_loader = DataLoader(test_df1_dataset, batch_size=32, shuffle=False)"
      ],
      "metadata": {
        "id": "0gxzAtTa17nq"
      },
      "execution_count": null,
      "outputs": []
    },
    {
      "cell_type": "code",
      "source": [
        "model1 = AutoModelForSequenceClassification.from_pretrained(\"/kaggle/working/results/checkpoint-1125\", num_labels=2)\n",
        "model1.to(device)"
      ],
      "metadata": {
        "id": "vpYN6rjP17nq"
      },
      "execution_count": null,
      "outputs": []
    },
    {
      "cell_type": "code",
      "source": [
        "import torch\n",
        "import numpy as np\n",
        "\n",
        "model1.eval()  # Set the model to evaluation mode\n",
        "all_predictions = []\n",
        "all_true_labels = []\n",
        "\n",
        "with torch.no_grad():\n",
        "    for batch in test_loader:\n",
        "        input_ids = batch['input_ids'].to(device)\n",
        "        attention_mask = batch['attention_mask'].to(device)\n",
        "        labels = batch['labels'].to(device)\n",
        "\n",
        "        outputs = model1(input_ids, attention_mask=attention_mask)\n",
        "        _, predictions = torch.max(outputs.logits, dim=1)\n",
        "\n",
        "        all_predictions.extend(predictions.cpu().numpy())\n",
        "        all_true_labels.extend(labels.cpu().numpy())\n",
        "\n",
        "# Convert to numpy arrays\n",
        "y_pred = np.array(all_predictions)\n",
        "y_true = np.array(all_true_labels)"
      ],
      "metadata": {
        "id": "_HbY4jqI17nr"
      },
      "execution_count": null,
      "outputs": []
    },
    {
      "cell_type": "code",
      "source": [
        "from sklearn.metrics import classification_report, confusion_matrix\n",
        "import seaborn as sns\n",
        "import matplotlib.pyplot as plt\n",
        "\n",
        "# Print classification report\n",
        "print(classification_report(y_true, y_pred))\n",
        "\n",
        "# Create confusion matrix\n",
        "cm = confusion_matrix(y_true, y_pred)\n",
        "\n",
        "# Plot confusion matrix\n",
        "plt.figure(figsize=(10, 8))\n",
        "sns.heatmap(cm, annot=True, fmt='d', cmap='Blues')\n",
        "plt.xlabel('Predicted')\n",
        "plt.ylabel('True')\n",
        "plt.title('Confusion Matrix')\n",
        "plt.show()"
      ],
      "metadata": {
        "id": "XDr37CT817nr"
      },
      "execution_count": null,
      "outputs": []
    },
    {
      "cell_type": "markdown",
      "source": [
        "#### Seed 3"
      ],
      "metadata": {
        "id": "lzV2uyAK17nr"
      }
    },
    {
      "cell_type": "code",
      "source": [
        "# Don't Show Warning Messages\n",
        "import os\n",
        "import warnings\n",
        "warnings.filterwarnings('ignore')\n",
        "os.environ[\"WANDB_DISABLED\"] = \"true\""
      ],
      "metadata": {
        "id": "Yl6d_Yvq17nr"
      },
      "execution_count": null,
      "outputs": []
    },
    {
      "cell_type": "code",
      "source": [
        "from transformers import set_seed, Trainer\n",
        "\n",
        "# Set the seed for reproducibility\n",
        "set_seed(54226614)"
      ],
      "metadata": {
        "id": "q4gEKMqg17nr"
      },
      "execution_count": null,
      "outputs": []
    },
    {
      "cell_type": "code",
      "source": [
        "def model_init() :\n",
        "    return AutoModelForSequenceClassification.from_pretrained(\"distilbert-base-uncased\", num_labels=2)"
      ],
      "metadata": {
        "id": "ZufPgsl_17nr"
      },
      "execution_count": null,
      "outputs": []
    },
    {
      "cell_type": "code",
      "source": [
        "training_args = TrainingArguments(\n",
        "    eval_strategy=\"epoch\",\n",
        "    output_dir=\"./results\",\n",
        "    learning_rate=2e-5,\n",
        "    per_device_train_batch_size=16,\n",
        "    per_device_eval_batch_size=16,\n",
        "    num_train_epochs=3,\n",
        "    weight_decay=0.01,\n",
        "    seed = 54226614\n",
        ")\n",
        "\n",
        "# Initialize Trainer\n",
        "trainer = Trainer(\n",
        "    model_init = model_init,\n",
        "    args=training_args,\n",
        "    train_dataset=train_df1_dataset,\n",
        "    eval_dataset=val_df1_dataset,\n",
        "    tokenizer = tokenizer,\n",
        "    compute_metrics=compute_metrics,\n",
        ")\n",
        "\n",
        "# Fine-tune the model\n",
        "trainer.train()"
      ],
      "metadata": {
        "id": "EpizGob017ns"
      },
      "execution_count": null,
      "outputs": []
    },
    {
      "cell_type": "code",
      "source": [
        "from torch.utils.data import DataLoader\n",
        "\n",
        "# Assuming you've already created your test_dataset\n",
        "test_loader = DataLoader(test_df1_dataset, batch_size=32, shuffle=False)"
      ],
      "metadata": {
        "id": "L5Vegr2k17ns"
      },
      "execution_count": null,
      "outputs": []
    },
    {
      "cell_type": "code",
      "source": [
        "model1 = AutoModelForSequenceClassification.from_pretrained(\"/kaggle/working/results/checkpoint-1125\", num_labels=2)\n",
        "model1.to(device)"
      ],
      "metadata": {
        "id": "6YIjd-XT17ns"
      },
      "execution_count": null,
      "outputs": []
    },
    {
      "cell_type": "code",
      "source": [
        "import torch\n",
        "import numpy as np\n",
        "\n",
        "model1.eval()  # Set the model to evaluation mode\n",
        "all_predictions = []\n",
        "all_true_labels = []\n",
        "\n",
        "with torch.no_grad():\n",
        "    for batch in test_loader:\n",
        "        input_ids = batch['input_ids'].to(device)\n",
        "        attention_mask = batch['attention_mask'].to(device)\n",
        "        labels = batch['labels'].to(device)\n",
        "\n",
        "        outputs = model1(input_ids, attention_mask=attention_mask)\n",
        "        _, predictions = torch.max(outputs.logits, dim=1)\n",
        "\n",
        "        all_predictions.extend(predictions.cpu().numpy())\n",
        "        all_true_labels.extend(labels.cpu().numpy())\n",
        "\n",
        "# Convert to numpy arrays\n",
        "y_pred = np.array(all_predictions)\n",
        "y_true = np.array(all_true_labels)"
      ],
      "metadata": {
        "id": "D8EUK_y817ns"
      },
      "execution_count": null,
      "outputs": []
    },
    {
      "cell_type": "code",
      "source": [
        "from sklearn.metrics import classification_report, confusion_matrix\n",
        "import seaborn as sns\n",
        "import matplotlib.pyplot as plt\n",
        "\n",
        "# Print classification report\n",
        "print(classification_report(y_true, y_pred))\n",
        "\n",
        "# Create confusion matrix\n",
        "cm = confusion_matrix(y_true, y_pred)\n",
        "\n",
        "# Plot confusion matrix\n",
        "plt.figure(figsize=(10, 8))\n",
        "sns.heatmap(cm, annot=True, fmt='d', cmap='Blues')\n",
        "plt.xlabel('Predicted')\n",
        "plt.ylabel('True')\n",
        "plt.title('Confusion Matrix')\n",
        "plt.show()"
      ],
      "metadata": {
        "id": "57XV_epC17ns"
      },
      "execution_count": null,
      "outputs": []
    },
    {
      "cell_type": "markdown",
      "source": [
        "## RoBERTa"
      ],
      "metadata": {
        "id": "ytIZuqRzy97x"
      }
    },
    {
      "cell_type": "code",
      "source": [
        "from transformers import RobertaTokenizer, RobertaForSequenceClassification, Trainer, TrainingArguments\n",
        "\n",
        "model = RobertaForSequenceClassification.from_pretrained(\"FacebookAI/roberta-base\", num_labels=2)\n",
        "tokenizer = RobertaTokenizer.from_pretrained(\"FacebookAI/roberta-base\")"
      ],
      "metadata": {
        "id": "NzkiBt8M2UeI"
      },
      "execution_count": null,
      "outputs": []
    },
    {
      "cell_type": "code",
      "source": [
        "import torch\n",
        "from torch.utils.data import Dataset\n",
        "\n",
        "# Custom dataset class\n",
        "class CustomDataset(Dataset):\n",
        "    def __init__(self, texts, labels, tokenizer, max_len=512):\n",
        "        self.texts = texts\n",
        "        self.labels = labels\n",
        "        self.tokenizer = tokenizer\n",
        "        self.max_len = max_len\n",
        "\n",
        "    def __len__(self):\n",
        "        return len(self.texts)\n",
        "\n",
        "    def __getitem__(self, index):\n",
        "        text = self.texts.iloc[index]\n",
        "        label = self.labels.iloc[index]\n",
        "        encoding = self.tokenizer(\n",
        "            text,\n",
        "            truncation=True,\n",
        "            padding='max_length',\n",
        "            max_length=self.max_len,\n",
        "            return_tensors='pt'\n",
        "        )\n",
        "        return {\n",
        "            'input_ids': encoding['input_ids'].flatten(),\n",
        "            'attention_mask': encoding['attention_mask'].flatten(),\n",
        "            'labels': torch.tensor(label, dtype=torch.long)\n",
        "        }\n",
        "\n",
        "train_df0_dataset = CustomDataset(X_train['text'], y_train, tokenizer)\n",
        "train_df1_dataset = CustomDataset(X_train1['text'], y_train1, tokenizer)\n",
        "\n",
        "# For validation datasets\n",
        "val_df0_dataset = CustomDataset(X_val['text'], y_val, tokenizer)\n",
        "val_df1_dataset = CustomDataset(X_val1['text'], y_val1, tokenizer)\n",
        "\n",
        "# For test datasets\n",
        "test_df0_dataset = CustomDataset(X_test['text'], y_test, tokenizer)\n",
        "test_df1_dataset = CustomDataset(X_test1['text'], y_test1, tokenizer)"
      ],
      "metadata": {
        "id": "s6umAWnF2UeI"
      },
      "execution_count": null,
      "outputs": []
    },
    {
      "cell_type": "code",
      "source": [
        "import torch\n",
        "\n",
        "# Check if GPU is available\n",
        "if torch.cuda.is_available():\n",
        "    device = torch.device(\"cuda\")\n",
        "    print(\"GPU is available. Using GPU:\", torch.cuda.get_device_name(0))\n",
        "else:\n",
        "    device = torch.device(\"cpu\")\n",
        "    print(\"GPU not available. Using CPU instead.\")\n",
        "\n",
        "model.to(device)"
      ],
      "metadata": {
        "id": "b1PIdrQv2UeI"
      },
      "execution_count": null,
      "outputs": []
    },
    {
      "cell_type": "code",
      "source": [
        "def compute_metrics(eval_pred):\n",
        "    logits, labels = eval_pred\n",
        "    predictions = np.argmax(logits, axis=1)\n",
        "    return metric.compute(predictions=predictions, references=labels)"
      ],
      "metadata": {
        "id": "iu8gYNze2UeI"
      },
      "execution_count": null,
      "outputs": []
    },
    {
      "cell_type": "code",
      "source": [
        "import numpy as np\n",
        "import evaluate\n",
        "\n",
        "metric = evaluate.load(\"accuracy\")"
      ],
      "metadata": {
        "id": "v7LheiIK2UeI"
      },
      "execution_count": null,
      "outputs": []
    },
    {
      "cell_type": "markdown",
      "source": [
        "### Dataset 0"
      ],
      "metadata": {
        "id": "e5qnYjR32UeI"
      }
    },
    {
      "cell_type": "markdown",
      "source": [
        "#### Seed 1"
      ],
      "metadata": {
        "id": "hIf9Tb962UeJ"
      }
    },
    {
      "cell_type": "code",
      "source": [
        "# Don't Show Warning Messages\n",
        "import os\n",
        "import warnings\n",
        "warnings.filterwarnings('ignore')\n",
        "os.environ[\"WANDB_DISABLED\"] = \"true\""
      ],
      "metadata": {
        "id": "0TY9vwjT2UeJ"
      },
      "execution_count": null,
      "outputs": []
    },
    {
      "cell_type": "code",
      "source": [
        "from transformers import set_seed, Trainer\n",
        "\n",
        "# Set the seed for reproducibility\n",
        "set_seed(20240917)"
      ],
      "metadata": {
        "id": "EgKCQoOJ2UeJ"
      },
      "execution_count": null,
      "outputs": []
    },
    {
      "cell_type": "code",
      "source": [
        "def model_init() :\n",
        "    return RobertaForSequenceClassification.from_pretrained(\"FacebookAI/roberta-base\", num_labels=2)"
      ],
      "metadata": {
        "id": "sj3_HHpz2UeJ"
      },
      "execution_count": null,
      "outputs": []
    },
    {
      "cell_type": "code",
      "source": [
        "training_args = TrainingArguments(\n",
        "    eval_strategy=\"epoch\",\n",
        "    output_dir=\"./results\",\n",
        "    learning_rate=2e-5,\n",
        "    per_device_train_batch_size=16,\n",
        "    per_device_eval_batch_size=16,\n",
        "    num_train_epochs=3,\n",
        "    weight_decay=0.01,\n",
        "    seed = 20240917\n",
        ")\n",
        "\n",
        "# Initialize Trainer\n",
        "trainer = Trainer(\n",
        "    model_init = model_init,\n",
        "    args=training_args,\n",
        "    train_dataset=train_df0_dataset,\n",
        "    eval_dataset=val_df0_dataset,\n",
        "    tokenizer = tokenizer,\n",
        "    compute_metrics=compute_metrics,\n",
        ")\n",
        "\n",
        "# Fine-tune the model\n",
        "trainer.train()"
      ],
      "metadata": {
        "id": "ru0yO8yc2UeJ"
      },
      "execution_count": null,
      "outputs": []
    },
    {
      "cell_type": "code",
      "source": [
        "from torch.utils.data import DataLoader\n",
        "\n",
        "# Assuming you've already created your test_dataset\n",
        "test_loader = DataLoader(test_df0_dataset, batch_size=32, shuffle=False)"
      ],
      "metadata": {
        "id": "4RDzjwDn2UeK"
      },
      "execution_count": null,
      "outputs": []
    },
    {
      "cell_type": "code",
      "source": [
        "model1 = AutoModelForSequenceClassification.from_pretrained(\"/kaggle/working/results/checkpoint-1125\", num_labels=2)\n",
        "model1.to(device)"
      ],
      "metadata": {
        "id": "QHdt8wcw2UeK"
      },
      "execution_count": null,
      "outputs": []
    },
    {
      "cell_type": "code",
      "source": [
        "import torch\n",
        "import numpy as np\n",
        "\n",
        "model1.eval()  # Set the model to evaluation mode\n",
        "all_predictions = []\n",
        "all_true_labels = []\n",
        "\n",
        "with torch.no_grad():\n",
        "    for batch in test_loader:\n",
        "        input_ids = batch['input_ids'].to(device)\n",
        "        attention_mask = batch['attention_mask'].to(device)\n",
        "        labels = batch['labels'].to(device)\n",
        "\n",
        "        outputs = model1(input_ids, attention_mask=attention_mask)\n",
        "        _, predictions = torch.max(outputs.logits, dim=1)\n",
        "\n",
        "        all_predictions.extend(predictions.cpu().numpy())\n",
        "        all_true_labels.extend(labels.cpu().numpy())\n",
        "\n",
        "# Convert to numpy arrays\n",
        "y_pred = np.array(all_predictions)\n",
        "y_true = np.array(all_true_labels)"
      ],
      "metadata": {
        "id": "nMSq5Rds2UeK"
      },
      "execution_count": null,
      "outputs": []
    },
    {
      "cell_type": "code",
      "source": [
        "from sklearn.metrics import classification_report, confusion_matrix\n",
        "import seaborn as sns\n",
        "import matplotlib.pyplot as plt\n",
        "\n",
        "# Print classification report\n",
        "print(classification_report(y_true, y_pred))\n",
        "\n",
        "# Create confusion matrix\n",
        "cm = confusion_matrix(y_true, y_pred)\n",
        "\n",
        "# Plot confusion matrix\n",
        "plt.figure(figsize=(10, 8))\n",
        "sns.heatmap(cm, annot=True, fmt='d', cmap='Blues')\n",
        "plt.xlabel('Predicted')\n",
        "plt.ylabel('True')\n",
        "plt.title('Confusion Matrix')\n",
        "plt.show()"
      ],
      "metadata": {
        "id": "AcDvpdIC2UeK"
      },
      "execution_count": null,
      "outputs": []
    },
    {
      "cell_type": "markdown",
      "source": [
        "#### Seed 2"
      ],
      "metadata": {
        "id": "_J5moh6V2UeL"
      }
    },
    {
      "cell_type": "code",
      "source": [
        "# Don't Show Warning Messages\n",
        "import os\n",
        "import warnings\n",
        "warnings.filterwarnings('ignore')\n",
        "os.environ[\"WANDB_DISABLED\"] = \"true\""
      ],
      "metadata": {
        "id": "qVTkZbcg2UeL"
      },
      "execution_count": null,
      "outputs": []
    },
    {
      "cell_type": "code",
      "source": [
        "from transformers import set_seed, Trainer\n",
        "\n",
        "# Set the seed for reproducibility\n",
        "set_seed(68820831)"
      ],
      "metadata": {
        "id": "0iMU5ZHl2UeL"
      },
      "execution_count": null,
      "outputs": []
    },
    {
      "cell_type": "code",
      "source": [
        "def model_init() :\n",
        "    return RobertaForSequenceClassification.from_pretrained(\"FacebookAI/roberta-base\", num_labels=2)"
      ],
      "metadata": {
        "id": "T34oHMZM2UeM"
      },
      "execution_count": null,
      "outputs": []
    },
    {
      "cell_type": "code",
      "source": [
        "training_args = TrainingArguments(\n",
        "    eval_strategy=\"epoch\",\n",
        "    output_dir=\"./results\",\n",
        "    learning_rate=2e-5,\n",
        "    per_device_train_batch_size=16,\n",
        "    per_device_eval_batch_size=16,\n",
        "    num_train_epochs=3,\n",
        "    weight_decay=0.01,\n",
        "    seed = 68820831\n",
        ")\n",
        "\n",
        "# Initialize Trainer\n",
        "trainer = Trainer(\n",
        "    model_init = model_init,\n",
        "    args=training_args,\n",
        "    train_dataset=train_df0_dataset,\n",
        "    eval_dataset=val_df0_dataset,\n",
        "    tokenizer = tokenizer,\n",
        "    compute_metrics=compute_metrics,\n",
        ")\n",
        "\n",
        "# Fine-tune the model\n",
        "trainer.train()"
      ],
      "metadata": {
        "id": "TKfVfoQy2UeM"
      },
      "execution_count": null,
      "outputs": []
    },
    {
      "cell_type": "code",
      "source": [
        "from torch.utils.data import DataLoader\n",
        "\n",
        "# Assuming you've already created your test_dataset\n",
        "test_loader = DataLoader(test_df0_dataset, batch_size=32, shuffle=False)"
      ],
      "metadata": {
        "id": "XbuKv9XX2UeM"
      },
      "execution_count": null,
      "outputs": []
    },
    {
      "cell_type": "code",
      "source": [
        "model1 = AutoModelForSequenceClassification.from_pretrained(\"/kaggle/working/results/checkpoint-1125\", num_labels=2)\n",
        "model1.to(device)"
      ],
      "metadata": {
        "id": "34REb4PQ2UeM"
      },
      "execution_count": null,
      "outputs": []
    },
    {
      "cell_type": "code",
      "source": [
        "import torch\n",
        "import numpy as np\n",
        "\n",
        "model1.eval()  # Set the model to evaluation mode\n",
        "all_predictions = []\n",
        "all_true_labels = []\n",
        "\n",
        "with torch.no_grad():\n",
        "    for batch in test_loader:\n",
        "        input_ids = batch['input_ids'].to(device)\n",
        "        attention_mask = batch['attention_mask'].to(device)\n",
        "        labels = batch['labels'].to(device)\n",
        "\n",
        "        outputs = model1(input_ids, attention_mask=attention_mask)\n",
        "        _, predictions = torch.max(outputs.logits, dim=1)\n",
        "\n",
        "        all_predictions.extend(predictions.cpu().numpy())\n",
        "        all_true_labels.extend(labels.cpu().numpy())\n",
        "\n",
        "# Convert to numpy arrays\n",
        "y_pred = np.array(all_predictions)\n",
        "y_true = np.array(all_true_labels)"
      ],
      "metadata": {
        "id": "9WLZoWLG2UeN"
      },
      "execution_count": null,
      "outputs": []
    },
    {
      "cell_type": "code",
      "source": [
        "from sklearn.metrics import classification_report, confusion_matrix\n",
        "import seaborn as sns\n",
        "import matplotlib.pyplot as plt\n",
        "\n",
        "# Print classification report\n",
        "print(classification_report(y_true, y_pred))\n",
        "\n",
        "# Create confusion matrix\n",
        "cm = confusion_matrix(y_true, y_pred)\n",
        "\n",
        "# Plot confusion matrix\n",
        "plt.figure(figsize=(10, 8))\n",
        "sns.heatmap(cm, annot=True, fmt='d', cmap='Blues')\n",
        "plt.xlabel('Predicted')\n",
        "plt.ylabel('True')\n",
        "plt.title('Confusion Matrix')\n",
        "plt.show()"
      ],
      "metadata": {
        "id": "CKIpwFmJ2UeN"
      },
      "execution_count": null,
      "outputs": []
    },
    {
      "cell_type": "markdown",
      "source": [
        "#### Seed 3"
      ],
      "metadata": {
        "id": "MtTmSIie2UeO"
      }
    },
    {
      "cell_type": "code",
      "source": [
        "# Don't Show Warning Messages\n",
        "import os\n",
        "import warnings\n",
        "warnings.filterwarnings('ignore')\n",
        "os.environ[\"WANDB_DISABLED\"] = \"true\""
      ],
      "metadata": {
        "id": "QNHVwp_A2UeO"
      },
      "execution_count": null,
      "outputs": []
    },
    {
      "cell_type": "code",
      "source": [
        "from transformers import set_seed, Trainer\n",
        "\n",
        "# Set the seed for reproducibility\n",
        "set_seed(54226614)"
      ],
      "metadata": {
        "id": "SB2XgEL32UeO"
      },
      "execution_count": null,
      "outputs": []
    },
    {
      "cell_type": "code",
      "source": [
        "def model_init() :\n",
        "    return RobertaForSequenceClassification.from_pretrained(\"FacebookAI/roberta-base\", num_labels=2)"
      ],
      "metadata": {
        "id": "8W2_zXFJ2UeO"
      },
      "execution_count": null,
      "outputs": []
    },
    {
      "cell_type": "code",
      "source": [
        "training_args = TrainingArguments(\n",
        "    eval_strategy=\"epoch\",\n",
        "    output_dir=\"./results\",\n",
        "    learning_rate=2e-5,\n",
        "    per_device_train_batch_size=16,\n",
        "    per_device_eval_batch_size=16,\n",
        "    num_train_epochs=3,\n",
        "    weight_decay=0.01,\n",
        "    seed = 54226614\n",
        ")\n",
        "\n",
        "# Initialize Trainer\n",
        "trainer = Trainer(\n",
        "    model_init = model_init,\n",
        "    args=training_args,\n",
        "    train_dataset=train_df0_dataset,\n",
        "    eval_dataset=val_df0_dataset,\n",
        "    tokenizer = tokenizer,\n",
        "    compute_metrics=compute_metrics,\n",
        ")\n",
        "\n",
        "# Fine-tune the model\n",
        "trainer.train()"
      ],
      "metadata": {
        "id": "5DjslTMJ2UeO"
      },
      "execution_count": null,
      "outputs": []
    },
    {
      "cell_type": "code",
      "source": [
        "from torch.utils.data import DataLoader\n",
        "\n",
        "# Assuming you've already created your test_dataset\n",
        "test_loader = DataLoader(test_df0_dataset, batch_size=32, shuffle=False)"
      ],
      "metadata": {
        "id": "g0aLA7Kv2UeO"
      },
      "execution_count": null,
      "outputs": []
    },
    {
      "cell_type": "code",
      "source": [
        "model1 = AutoModelForSequenceClassification.from_pretrained(\"/kaggle/working/results/checkpoint-1125\", num_labels=2)\n",
        "model1.to(device)"
      ],
      "metadata": {
        "id": "NvQNbyvm2UeP"
      },
      "execution_count": null,
      "outputs": []
    },
    {
      "cell_type": "code",
      "source": [
        "import torch\n",
        "import numpy as np\n",
        "\n",
        "model1.eval()  # Set the model to evaluation mode\n",
        "all_predictions = []\n",
        "all_true_labels = []\n",
        "\n",
        "with torch.no_grad():\n",
        "    for batch in test_loader:\n",
        "        input_ids = batch['input_ids'].to(device)\n",
        "        attention_mask = batch['attention_mask'].to(device)\n",
        "        labels = batch['labels'].to(device)\n",
        "\n",
        "        outputs = model1(input_ids, attention_mask=attention_mask)\n",
        "        _, predictions = torch.max(outputs.logits, dim=1)\n",
        "\n",
        "        all_predictions.extend(predictions.cpu().numpy())\n",
        "        all_true_labels.extend(labels.cpu().numpy())\n",
        "\n",
        "# Convert to numpy arrays\n",
        "y_pred = np.array(all_predictions)\n",
        "y_true = np.array(all_true_labels)"
      ],
      "metadata": {
        "id": "392BVdwi2UeP"
      },
      "execution_count": null,
      "outputs": []
    },
    {
      "cell_type": "code",
      "source": [
        "from sklearn.metrics import classification_report, confusion_matrix\n",
        "import seaborn as sns\n",
        "import matplotlib.pyplot as plt\n",
        "\n",
        "# Print classification report\n",
        "print(classification_report(y_true, y_pred))\n",
        "\n",
        "# Create confusion matrix\n",
        "cm = confusion_matrix(y_true, y_pred)\n",
        "\n",
        "# Plot confusion matrix\n",
        "plt.figure(figsize=(10, 8))\n",
        "sns.heatmap(cm, annot=True, fmt='d', cmap='Blues')\n",
        "plt.xlabel('Predicted')\n",
        "plt.ylabel('True')\n",
        "plt.title('Confusion Matrix')\n",
        "plt.show()"
      ],
      "metadata": {
        "id": "31YZ_rre2UeP"
      },
      "execution_count": null,
      "outputs": []
    },
    {
      "cell_type": "markdown",
      "source": [
        "### Dataset 1"
      ],
      "metadata": {
        "id": "IuKOa_k52UeP"
      }
    },
    {
      "cell_type": "markdown",
      "source": [
        "#### Seed 1"
      ],
      "metadata": {
        "id": "u6FpdHdK2UeQ"
      }
    },
    {
      "cell_type": "code",
      "source": [
        "# Don't Show Warning Messages\n",
        "import os\n",
        "import warnings\n",
        "warnings.filterwarnings('ignore')\n",
        "os.environ[\"WANDB_DISABLED\"] = \"true\""
      ],
      "metadata": {
        "id": "6GIZnDTX2UeQ"
      },
      "execution_count": null,
      "outputs": []
    },
    {
      "cell_type": "code",
      "source": [
        "from transformers import set_seed, Trainer\n",
        "\n",
        "# Set the seed for reproducibility\n",
        "set_seed(20240917)"
      ],
      "metadata": {
        "id": "L9DV2TFU2UeQ"
      },
      "execution_count": null,
      "outputs": []
    },
    {
      "cell_type": "code",
      "source": [
        "def model_init() :\n",
        "    return RobertaForSequenceClassification.from_pretrained(\"FacebookAI/roberta-base\", num_labels=2)"
      ],
      "metadata": {
        "id": "-YgVgMdI2UeQ"
      },
      "execution_count": null,
      "outputs": []
    },
    {
      "cell_type": "code",
      "source": [
        "training_args = TrainingArguments(\n",
        "    eval_strategy=\"epoch\",\n",
        "    output_dir=\"./results\",\n",
        "    learning_rate=2e-5,\n",
        "    per_device_train_batch_size=16,\n",
        "    per_device_eval_batch_size=16,\n",
        "    num_train_epochs=3,\n",
        "    weight_decay=0.01,\n",
        "    seed = 20240917\n",
        ")\n",
        "\n",
        "# Initialize Trainer\n",
        "trainer = Trainer(\n",
        "    model_init = model_init,\n",
        "    args=training_args,\n",
        "    train_dataset=train_df1_dataset,\n",
        "    eval_dataset=val_df1_dataset,\n",
        "    tokenizer = tokenizer,\n",
        "    compute_metrics=compute_metrics,\n",
        ")\n",
        "\n",
        "# Fine-tune the model\n",
        "trainer.train()"
      ],
      "metadata": {
        "id": "8si90elH2UeQ"
      },
      "execution_count": null,
      "outputs": []
    },
    {
      "cell_type": "code",
      "source": [
        "from torch.utils.data import DataLoader\n",
        "\n",
        "# Assuming you've already created your test_dataset\n",
        "test_loader = DataLoader(test_df1_dataset, batch_size=32, shuffle=False)"
      ],
      "metadata": {
        "id": "e0mMCzkm2UeQ"
      },
      "execution_count": null,
      "outputs": []
    },
    {
      "cell_type": "code",
      "source": [
        "model1 = AutoModelForSequenceClassification.from_pretrained(\"/kaggle/working/results/checkpoint-1125\", num_labels=2)\n",
        "model1.to(device)"
      ],
      "metadata": {
        "id": "QA02Hk5U2UeR"
      },
      "execution_count": null,
      "outputs": []
    },
    {
      "cell_type": "code",
      "source": [
        "import torch\n",
        "import numpy as np\n",
        "\n",
        "model1.eval()  # Set the model to evaluation mode\n",
        "all_predictions = []\n",
        "all_true_labels = []\n",
        "\n",
        "with torch.no_grad():\n",
        "    for batch in test_loader:\n",
        "        input_ids = batch['input_ids'].to(device)\n",
        "        attention_mask = batch['attention_mask'].to(device)\n",
        "        labels = batch['labels'].to(device)\n",
        "\n",
        "        outputs = model1(input_ids, attention_mask=attention_mask)\n",
        "        _, predictions = torch.max(outputs.logits, dim=1)\n",
        "\n",
        "        all_predictions.extend(predictions.cpu().numpy())\n",
        "        all_true_labels.extend(labels.cpu().numpy())\n",
        "\n",
        "# Convert to numpy arrays\n",
        "y_pred = np.array(all_predictions)\n",
        "y_true = np.array(all_true_labels)"
      ],
      "metadata": {
        "id": "8fq7FzCU2UeR"
      },
      "execution_count": null,
      "outputs": []
    },
    {
      "cell_type": "code",
      "source": [
        "from sklearn.metrics import classification_report, confusion_matrix\n",
        "import seaborn as sns\n",
        "import matplotlib.pyplot as plt\n",
        "\n",
        "# Print classification report\n",
        "print(classification_report(y_true, y_pred))\n",
        "\n",
        "# Create confusion matrix\n",
        "cm = confusion_matrix(y_true, y_pred)\n",
        "\n",
        "# Plot confusion matrix\n",
        "plt.figure(figsize=(10, 8))\n",
        "sns.heatmap(cm, annot=True, fmt='d', cmap='Blues')\n",
        "plt.xlabel('Predicted')\n",
        "plt.ylabel('True')\n",
        "plt.title('Confusion Matrix')\n",
        "plt.show()"
      ],
      "metadata": {
        "id": "zzpWOoc22UeR"
      },
      "execution_count": null,
      "outputs": []
    },
    {
      "cell_type": "markdown",
      "source": [
        "#### Seed 2"
      ],
      "metadata": {
        "id": "Ay2FN2aJ2UeR"
      }
    },
    {
      "cell_type": "code",
      "source": [
        "# Don't Show Warning Messages\n",
        "import os\n",
        "import warnings\n",
        "warnings.filterwarnings('ignore')\n",
        "os.environ[\"WANDB_DISABLED\"] = \"true\""
      ],
      "metadata": {
        "id": "B9vL6rBi2UeR"
      },
      "execution_count": null,
      "outputs": []
    },
    {
      "cell_type": "code",
      "source": [
        "from transformers import set_seed, Trainer\n",
        "\n",
        "# Set the seed for reproducibility\n",
        "set_seed(68820831)"
      ],
      "metadata": {
        "id": "sf5gacWw2UeS"
      },
      "execution_count": null,
      "outputs": []
    },
    {
      "cell_type": "code",
      "source": [
        "def model_init() :\n",
        "    return RobertaForSequenceClassification.from_pretrained(\"FacebookAI/roberta-base\", num_labels=2)"
      ],
      "metadata": {
        "id": "nf1Tf3Qj2UeS"
      },
      "execution_count": null,
      "outputs": []
    },
    {
      "cell_type": "code",
      "source": [
        "training_args = TrainingArguments(\n",
        "    eval_strategy=\"epoch\",\n",
        "    output_dir=\"./results\",\n",
        "    learning_rate=2e-5,\n",
        "    per_device_train_batch_size=16,\n",
        "    per_device_eval_batch_size=16,\n",
        "    num_train_epochs=3,\n",
        "    weight_decay=0.01,\n",
        "    seed = 68820831\n",
        ")\n",
        "\n",
        "# Initialize Trainer\n",
        "trainer = Trainer(\n",
        "    model_init = model_init,\n",
        "    args=training_args,\n",
        "    train_dataset=train_df1_dataset,\n",
        "    eval_dataset=val_df1_dataset,\n",
        "    tokenizer = tokenizer,\n",
        "    compute_metrics=compute_metrics,\n",
        ")\n",
        "\n",
        "# Fine-tune the model\n",
        "trainer.train()"
      ],
      "metadata": {
        "id": "hv3pv_Qj2UeS"
      },
      "execution_count": null,
      "outputs": []
    },
    {
      "cell_type": "code",
      "source": [
        "from torch.utils.data import DataLoader\n",
        "\n",
        "# Assuming you've already created your test_dataset\n",
        "test_loader = DataLoader(test_df1_dataset, batch_size=32, shuffle=False)"
      ],
      "metadata": {
        "id": "wEPRY2D02UeS"
      },
      "execution_count": null,
      "outputs": []
    },
    {
      "cell_type": "code",
      "source": [
        "model1 = AutoModelForSequenceClassification.from_pretrained(\"/kaggle/working/results/checkpoint-1125\", num_labels=2)\n",
        "model1.to(device)"
      ],
      "metadata": {
        "id": "LGyngRW-2UeS"
      },
      "execution_count": null,
      "outputs": []
    },
    {
      "cell_type": "code",
      "source": [
        "import torch\n",
        "import numpy as np\n",
        "\n",
        "model1.eval()  # Set the model to evaluation mode\n",
        "all_predictions = []\n",
        "all_true_labels = []\n",
        "\n",
        "with torch.no_grad():\n",
        "    for batch in test_loader:\n",
        "        input_ids = batch['input_ids'].to(device)\n",
        "        attention_mask = batch['attention_mask'].to(device)\n",
        "        labels = batch['labels'].to(device)\n",
        "\n",
        "        outputs = model1(input_ids, attention_mask=attention_mask)\n",
        "        _, predictions = torch.max(outputs.logits, dim=1)\n",
        "\n",
        "        all_predictions.extend(predictions.cpu().numpy())\n",
        "        all_true_labels.extend(labels.cpu().numpy())\n",
        "\n",
        "# Convert to numpy arrays\n",
        "y_pred = np.array(all_predictions)\n",
        "y_true = np.array(all_true_labels)"
      ],
      "metadata": {
        "id": "SGlRO1l72UeT"
      },
      "execution_count": null,
      "outputs": []
    },
    {
      "cell_type": "code",
      "source": [
        "from sklearn.metrics import classification_report, confusion_matrix\n",
        "import seaborn as sns\n",
        "import matplotlib.pyplot as plt\n",
        "\n",
        "# Print classification report\n",
        "print(classification_report(y_true, y_pred))\n",
        "\n",
        "# Create confusion matrix\n",
        "cm = confusion_matrix(y_true, y_pred)\n",
        "\n",
        "# Plot confusion matrix\n",
        "plt.figure(figsize=(10, 8))\n",
        "sns.heatmap(cm, annot=True, fmt='d', cmap='Blues')\n",
        "plt.xlabel('Predicted')\n",
        "plt.ylabel('True')\n",
        "plt.title('Confusion Matrix')\n",
        "plt.show()"
      ],
      "metadata": {
        "id": "wjyH-PxJ2UeT"
      },
      "execution_count": null,
      "outputs": []
    },
    {
      "cell_type": "markdown",
      "source": [
        "#### Seed 3"
      ],
      "metadata": {
        "id": "6hbRQXfM2UeT"
      }
    },
    {
      "cell_type": "code",
      "source": [
        "# Don't Show Warning Messages\n",
        "import os\n",
        "import warnings\n",
        "warnings.filterwarnings('ignore')\n",
        "os.environ[\"WANDB_DISABLED\"] = \"true\""
      ],
      "metadata": {
        "id": "6j2K-p3Y2UeT"
      },
      "execution_count": null,
      "outputs": []
    },
    {
      "cell_type": "code",
      "source": [
        "from transformers import set_seed, Trainer\n",
        "\n",
        "# Set the seed for reproducibility\n",
        "set_seed(54226614)"
      ],
      "metadata": {
        "id": "Ka98F-sK2UeT"
      },
      "execution_count": null,
      "outputs": []
    },
    {
      "cell_type": "code",
      "source": [
        "def model_init() :\n",
        "    return RobertaForSequenceClassification.from_pretrained(\"FacebookAI/roberta-base\", num_labels=2)"
      ],
      "metadata": {
        "id": "8hXTc4-s2UeT"
      },
      "execution_count": null,
      "outputs": []
    },
    {
      "cell_type": "code",
      "source": [
        "training_args = TrainingArguments(\n",
        "    eval_strategy=\"epoch\",\n",
        "    output_dir=\"./results\",\n",
        "    learning_rate=2e-5,\n",
        "    per_device_train_batch_size=16,\n",
        "    per_device_eval_batch_size=16,\n",
        "    num_train_epochs=3,\n",
        "    weight_decay=0.01,\n",
        "    seed = 54226614\n",
        ")\n",
        "\n",
        "# Initialize Trainer\n",
        "trainer = Trainer(\n",
        "    model_init = model_init,\n",
        "    args=training_args,\n",
        "    train_dataset=train_df1_dataset,\n",
        "    eval_dataset=val_df1_dataset,\n",
        "    tokenizer = tokenizer,\n",
        "    compute_metrics=compute_metrics,\n",
        ")\n",
        "\n",
        "# Fine-tune the model\n",
        "trainer.train()"
      ],
      "metadata": {
        "id": "mRrHXwqp2UeU"
      },
      "execution_count": null,
      "outputs": []
    },
    {
      "cell_type": "code",
      "source": [
        "from torch.utils.data import DataLoader\n",
        "\n",
        "# Assuming you've already created your test_dataset\n",
        "test_loader = DataLoader(test_df1_dataset, batch_size=32, shuffle=False)"
      ],
      "metadata": {
        "id": "N6XgauRZ2UeU"
      },
      "execution_count": null,
      "outputs": []
    },
    {
      "cell_type": "code",
      "source": [
        "model1 = AutoModelForSequenceClassification.from_pretrained(\"/kaggle/working/results/checkpoint-1125\", num_labels=2)\n",
        "model1.to(device)"
      ],
      "metadata": {
        "id": "ZHs6DXbw2UeU"
      },
      "execution_count": null,
      "outputs": []
    },
    {
      "cell_type": "code",
      "source": [
        "import torch\n",
        "import numpy as np\n",
        "\n",
        "model1.eval()  # Set the model to evaluation mode\n",
        "all_predictions = []\n",
        "all_true_labels = []\n",
        "\n",
        "with torch.no_grad():\n",
        "    for batch in test_loader:\n",
        "        input_ids = batch['input_ids'].to(device)\n",
        "        attention_mask = batch['attention_mask'].to(device)\n",
        "        labels = batch['labels'].to(device)\n",
        "\n",
        "        outputs = model1(input_ids, attention_mask=attention_mask)\n",
        "        _, predictions = torch.max(outputs.logits, dim=1)\n",
        "\n",
        "        all_predictions.extend(predictions.cpu().numpy())\n",
        "        all_true_labels.extend(labels.cpu().numpy())\n",
        "\n",
        "# Convert to numpy arrays\n",
        "y_pred = np.array(all_predictions)\n",
        "y_true = np.array(all_true_labels)"
      ],
      "metadata": {
        "id": "Du1EnLVk2UeU"
      },
      "execution_count": null,
      "outputs": []
    },
    {
      "cell_type": "code",
      "source": [
        "from sklearn.metrics import classification_report, confusion_matrix\n",
        "import seaborn as sns\n",
        "import matplotlib.pyplot as plt\n",
        "\n",
        "# Print classification report\n",
        "print(classification_report(y_true, y_pred))\n",
        "\n",
        "# Create confusion matrix\n",
        "cm = confusion_matrix(y_true, y_pred)\n",
        "\n",
        "# Plot confusion matrix\n",
        "plt.figure(figsize=(10, 8))\n",
        "sns.heatmap(cm, annot=True, fmt='d', cmap='Blues')\n",
        "plt.xlabel('Predicted')\n",
        "plt.ylabel('True')\n",
        "plt.title('Confusion Matrix')\n",
        "plt.show()"
      ],
      "metadata": {
        "id": "He10z8_B2UeU"
      },
      "execution_count": null,
      "outputs": []
    },
    {
      "cell_type": "markdown",
      "source": [
        "## ALBERT"
      ],
      "metadata": {
        "id": "rEXHycwfzAV_"
      }
    },
    {
      "cell_type": "code",
      "source": [
        "from transformers import AlbertTokenizer, AlbertForSequenceClassification\n",
        "\n",
        "tokenizer = AlbertTokenizer.from_pretrained(\"albert/albert-xlarge-v2\")\n",
        "model = AlbertForSequenceClassification.from_pretrained(\"albert/albert-xlarge-v2\",num_labels = 2)"
      ],
      "metadata": {
        "id": "MBRKtYHq2fbk"
      },
      "execution_count": null,
      "outputs": []
    },
    {
      "cell_type": "code",
      "source": [
        "import torch\n",
        "from torch.utils.data import Dataset\n",
        "\n",
        "# Custom dataset class\n",
        "class CustomDataset(Dataset):\n",
        "    def __init__(self, texts, labels, tokenizer, max_len=512):\n",
        "        self.texts = texts\n",
        "        self.labels = labels\n",
        "        self.tokenizer = tokenizer\n",
        "        self.max_len = max_len\n",
        "\n",
        "    def __len__(self):\n",
        "        return len(self.texts)\n",
        "\n",
        "    def __getitem__(self, index):\n",
        "        text = self.texts.iloc[index]\n",
        "        label = self.labels.iloc[index]\n",
        "        encoding = self.tokenizer(\n",
        "            text,\n",
        "            truncation=True,\n",
        "            padding='max_length',\n",
        "            max_length=self.max_len,\n",
        "            return_tensors='pt'\n",
        "        )\n",
        "        return {\n",
        "            'input_ids': encoding['input_ids'].flatten(),\n",
        "            'attention_mask': encoding['attention_mask'].flatten(),\n",
        "            'labels': torch.tensor(label, dtype=torch.long)\n",
        "        }\n",
        "\n",
        "train_df0_dataset = CustomDataset(X_train['text'], y_train, tokenizer)\n",
        "train_df1_dataset = CustomDataset(X_train1['text'], y_train1, tokenizer)\n",
        "\n",
        "# For validation datasets\n",
        "val_df0_dataset = CustomDataset(X_val['text'], y_val, tokenizer)\n",
        "val_df1_dataset = CustomDataset(X_val1['text'], y_val1, tokenizer)\n",
        "\n",
        "# For test datasets\n",
        "test_df0_dataset = CustomDataset(X_test['text'], y_test, tokenizer)\n",
        "test_df1_dataset = CustomDataset(X_test1['text'], y_test1, tokenizer)"
      ],
      "metadata": {
        "id": "nvXofCvt2fbk"
      },
      "execution_count": null,
      "outputs": []
    },
    {
      "cell_type": "code",
      "source": [
        "import torch\n",
        "\n",
        "# Check if GPU is available\n",
        "if torch.cuda.is_available():\n",
        "    device = torch.device(\"cuda\")\n",
        "    print(\"GPU is available. Using GPU:\", torch.cuda.get_device_name(0))\n",
        "else:\n",
        "    device = torch.device(\"cpu\")\n",
        "    print(\"GPU not available. Using CPU instead.\")\n",
        "\n",
        "model.to(device)"
      ],
      "metadata": {
        "id": "HKwbzN232fbl"
      },
      "execution_count": null,
      "outputs": []
    },
    {
      "cell_type": "code",
      "source": [
        "def compute_metrics(eval_pred):\n",
        "    logits, labels = eval_pred\n",
        "    predictions = np.argmax(logits, axis=1)\n",
        "    return metric.compute(predictions=predictions, references=labels)"
      ],
      "metadata": {
        "id": "dkjQ2_uQ2fbl"
      },
      "execution_count": null,
      "outputs": []
    },
    {
      "cell_type": "code",
      "source": [
        "import numpy as np\n",
        "import evaluate\n",
        "\n",
        "metric = evaluate.load(\"accuracy\")"
      ],
      "metadata": {
        "id": "CM3gGD6M2fbl"
      },
      "execution_count": null,
      "outputs": []
    },
    {
      "cell_type": "markdown",
      "source": [
        "### Dataset 0"
      ],
      "metadata": {
        "id": "yKhYS-8O2fbl"
      }
    },
    {
      "cell_type": "markdown",
      "source": [
        "#### Seed 1"
      ],
      "metadata": {
        "id": "EyC69TCJ2fbl"
      }
    },
    {
      "cell_type": "code",
      "source": [
        "# Don't Show Warning Messages\n",
        "import os\n",
        "import warnings\n",
        "warnings.filterwarnings('ignore')\n",
        "os.environ[\"WANDB_DISABLED\"] = \"true\""
      ],
      "metadata": {
        "id": "gT1AYpYy2fbl"
      },
      "execution_count": null,
      "outputs": []
    },
    {
      "cell_type": "code",
      "source": [
        "from transformers import set_seed, Trainer\n",
        "\n",
        "# Set the seed for reproducibility\n",
        "set_seed(20240917)"
      ],
      "metadata": {
        "id": "3FROVTke2fbm"
      },
      "execution_count": null,
      "outputs": []
    },
    {
      "cell_type": "code",
      "source": [
        "def model_init() :\n",
        "    return AlbertForSequenceClassification.from_pretrained(\"albert/albert-xlarge-v2\",num_labels = 2)"
      ],
      "metadata": {
        "id": "rVuhpzlQ2fbm"
      },
      "execution_count": null,
      "outputs": []
    },
    {
      "cell_type": "code",
      "source": [
        "training_args = TrainingArguments(\n",
        "    eval_strategy=\"epoch\",\n",
        "    output_dir=\"./results\",\n",
        "    learning_rate=2e-5,\n",
        "    per_device_train_batch_size=16,\n",
        "    per_device_eval_batch_size=16,\n",
        "    num_train_epochs=3,\n",
        "    weight_decay=0.01,\n",
        "    seed = 20240917\n",
        ")\n",
        "\n",
        "# Initialize Trainer\n",
        "trainer = Trainer(\n",
        "    model_init = model_init,\n",
        "    args=training_args,\n",
        "    train_dataset=train_df0_dataset,\n",
        "    eval_dataset=val_df0_dataset,\n",
        "    tokenizer = tokenizer,\n",
        "    compute_metrics=compute_metrics,\n",
        ")\n",
        "\n",
        "# Fine-tune the model\n",
        "trainer.train()"
      ],
      "metadata": {
        "id": "rVbycwjj2fbm"
      },
      "execution_count": null,
      "outputs": []
    },
    {
      "cell_type": "code",
      "source": [
        "from torch.utils.data import DataLoader\n",
        "\n",
        "# Assuming you've already created your test_dataset\n",
        "test_loader = DataLoader(test_df0_dataset, batch_size=32, shuffle=False)"
      ],
      "metadata": {
        "id": "qiFyJayc2fbm"
      },
      "execution_count": null,
      "outputs": []
    },
    {
      "cell_type": "code",
      "source": [
        "model1 = AutoModelForSequenceClassification.from_pretrained(\"/kaggle/working/results/checkpoint-1125\", num_labels=2)\n",
        "model1.to(device)"
      ],
      "metadata": {
        "id": "YWXPPnFU2fbm"
      },
      "execution_count": null,
      "outputs": []
    },
    {
      "cell_type": "code",
      "source": [
        "import torch\n",
        "import numpy as np\n",
        "\n",
        "model1.eval()  # Set the model to evaluation mode\n",
        "all_predictions = []\n",
        "all_true_labels = []\n",
        "\n",
        "with torch.no_grad():\n",
        "    for batch in test_loader:\n",
        "        input_ids = batch['input_ids'].to(device)\n",
        "        attention_mask = batch['attention_mask'].to(device)\n",
        "        labels = batch['labels'].to(device)\n",
        "\n",
        "        outputs = model1(input_ids, attention_mask=attention_mask)\n",
        "        _, predictions = torch.max(outputs.logits, dim=1)\n",
        "\n",
        "        all_predictions.extend(predictions.cpu().numpy())\n",
        "        all_true_labels.extend(labels.cpu().numpy())\n",
        "\n",
        "# Convert to numpy arrays\n",
        "y_pred = np.array(all_predictions)\n",
        "y_true = np.array(all_true_labels)"
      ],
      "metadata": {
        "id": "3XcjUOEi2fbm"
      },
      "execution_count": null,
      "outputs": []
    },
    {
      "cell_type": "code",
      "source": [
        "from sklearn.metrics import classification_report, confusion_matrix\n",
        "import seaborn as sns\n",
        "import matplotlib.pyplot as plt\n",
        "\n",
        "# Print classification report\n",
        "print(classification_report(y_true, y_pred))\n",
        "\n",
        "# Create confusion matrix\n",
        "cm = confusion_matrix(y_true, y_pred)\n",
        "\n",
        "# Plot confusion matrix\n",
        "plt.figure(figsize=(10, 8))\n",
        "sns.heatmap(cm, annot=True, fmt='d', cmap='Blues')\n",
        "plt.xlabel('Predicted')\n",
        "plt.ylabel('True')\n",
        "plt.title('Confusion Matrix')\n",
        "plt.show()"
      ],
      "metadata": {
        "id": "qDxupA0A2fbn"
      },
      "execution_count": null,
      "outputs": []
    },
    {
      "cell_type": "markdown",
      "source": [
        "#### Seed 2"
      ],
      "metadata": {
        "id": "dRmDo_iK2fbn"
      }
    },
    {
      "cell_type": "code",
      "source": [
        "# Don't Show Warning Messages\n",
        "import os\n",
        "import warnings\n",
        "warnings.filterwarnings('ignore')\n",
        "os.environ[\"WANDB_DISABLED\"] = \"true\""
      ],
      "metadata": {
        "id": "eo6qVaqm2fbn"
      },
      "execution_count": null,
      "outputs": []
    },
    {
      "cell_type": "code",
      "source": [
        "from transformers import set_seed, Trainer\n",
        "\n",
        "# Set the seed for reproducibility\n",
        "set_seed(68820831)"
      ],
      "metadata": {
        "id": "c3a4FeYx2fbn"
      },
      "execution_count": null,
      "outputs": []
    },
    {
      "cell_type": "code",
      "source": [
        "def model_init() :\n",
        "    return AlbertForSequenceClassification.from_pretrained(\"albert/albert-xlarge-v2\",num_labels = 2)"
      ],
      "metadata": {
        "id": "pztiHV3r2fbn"
      },
      "execution_count": null,
      "outputs": []
    },
    {
      "cell_type": "code",
      "source": [
        "training_args = TrainingArguments(\n",
        "    eval_strategy=\"epoch\",\n",
        "    output_dir=\"./results\",\n",
        "    learning_rate=2e-5,\n",
        "    per_device_train_batch_size=16,\n",
        "    per_device_eval_batch_size=16,\n",
        "    num_train_epochs=3,\n",
        "    weight_decay=0.01,\n",
        "    seed = 68820831\n",
        ")\n",
        "\n",
        "# Initialize Trainer\n",
        "trainer = Trainer(\n",
        "    model_init = model_init,\n",
        "    args=training_args,\n",
        "    train_dataset=train_df0_dataset,\n",
        "    eval_dataset=val_df0_dataset,\n",
        "    tokenizer = tokenizer,\n",
        "    compute_metrics=compute_metrics,\n",
        ")\n",
        "\n",
        "# Fine-tune the model\n",
        "trainer.train()"
      ],
      "metadata": {
        "id": "ZWHeTvG92fbo"
      },
      "execution_count": null,
      "outputs": []
    },
    {
      "cell_type": "code",
      "source": [
        "from torch.utils.data import DataLoader\n",
        "\n",
        "# Assuming you've already created your test_dataset\n",
        "test_loader = DataLoader(test_df0_dataset, batch_size=32, shuffle=False)"
      ],
      "metadata": {
        "id": "6aIJAd_F2fbo"
      },
      "execution_count": null,
      "outputs": []
    },
    {
      "cell_type": "code",
      "source": [
        "model1 = AutoModelForSequenceClassification.from_pretrained(\"/kaggle/working/results/checkpoint-1125\", num_labels=2)\n",
        "model1.to(device)"
      ],
      "metadata": {
        "id": "Wip_2ZmI2fbo"
      },
      "execution_count": null,
      "outputs": []
    },
    {
      "cell_type": "code",
      "source": [
        "import torch\n",
        "import numpy as np\n",
        "\n",
        "model1.eval()  # Set the model to evaluation mode\n",
        "all_predictions = []\n",
        "all_true_labels = []\n",
        "\n",
        "with torch.no_grad():\n",
        "    for batch in test_loader:\n",
        "        input_ids = batch['input_ids'].to(device)\n",
        "        attention_mask = batch['attention_mask'].to(device)\n",
        "        labels = batch['labels'].to(device)\n",
        "\n",
        "        outputs = model1(input_ids, attention_mask=attention_mask)\n",
        "        _, predictions = torch.max(outputs.logits, dim=1)\n",
        "\n",
        "        all_predictions.extend(predictions.cpu().numpy())\n",
        "        all_true_labels.extend(labels.cpu().numpy())\n",
        "\n",
        "# Convert to numpy arrays\n",
        "y_pred = np.array(all_predictions)\n",
        "y_true = np.array(all_true_labels)"
      ],
      "metadata": {
        "id": "GAJbpowE2fbo"
      },
      "execution_count": null,
      "outputs": []
    },
    {
      "cell_type": "code",
      "source": [
        "from sklearn.metrics import classification_report, confusion_matrix\n",
        "import seaborn as sns\n",
        "import matplotlib.pyplot as plt\n",
        "\n",
        "# Print classification report\n",
        "print(classification_report(y_true, y_pred))\n",
        "\n",
        "# Create confusion matrix\n",
        "cm = confusion_matrix(y_true, y_pred)\n",
        "\n",
        "# Plot confusion matrix\n",
        "plt.figure(figsize=(10, 8))\n",
        "sns.heatmap(cm, annot=True, fmt='d', cmap='Blues')\n",
        "plt.xlabel('Predicted')\n",
        "plt.ylabel('True')\n",
        "plt.title('Confusion Matrix')\n",
        "plt.show()"
      ],
      "metadata": {
        "id": "RgK7qUQp2fbo"
      },
      "execution_count": null,
      "outputs": []
    },
    {
      "cell_type": "markdown",
      "source": [
        "#### Seed 3"
      ],
      "metadata": {
        "id": "mFfRFXmS2fbo"
      }
    },
    {
      "cell_type": "code",
      "source": [
        "# Don't Show Warning Messages\n",
        "import os\n",
        "import warnings\n",
        "warnings.filterwarnings('ignore')\n",
        "os.environ[\"WANDB_DISABLED\"] = \"true\""
      ],
      "metadata": {
        "id": "oF3W2tN22fbp"
      },
      "execution_count": null,
      "outputs": []
    },
    {
      "cell_type": "code",
      "source": [
        "from transformers import set_seed, Trainer\n",
        "\n",
        "# Set the seed for reproducibility\n",
        "set_seed(54226614)"
      ],
      "metadata": {
        "id": "QhQjsvMb2fbq"
      },
      "execution_count": null,
      "outputs": []
    },
    {
      "cell_type": "code",
      "source": [
        "def model_init() :\n",
        "    return AlbertForSequenceClassification.from_pretrained(\"albert/albert-xlarge-v2\",num_labels = 2)"
      ],
      "metadata": {
        "id": "qfgTIUmw2fbq"
      },
      "execution_count": null,
      "outputs": []
    },
    {
      "cell_type": "code",
      "source": [
        "training_args = TrainingArguments(\n",
        "    eval_strategy=\"epoch\",\n",
        "    output_dir=\"./results\",\n",
        "    learning_rate=2e-5,\n",
        "    per_device_train_batch_size=16,\n",
        "    per_device_eval_batch_size=16,\n",
        "    num_train_epochs=3,\n",
        "    weight_decay=0.01,\n",
        "    seed = 54226614\n",
        ")\n",
        "\n",
        "# Initialize Trainer\n",
        "trainer = Trainer(\n",
        "    model_init = model_init,\n",
        "    args=training_args,\n",
        "    train_dataset=train_df0_dataset,\n",
        "    eval_dataset=val_df0_dataset,\n",
        "    tokenizer = tokenizer,\n",
        "    compute_metrics=compute_metrics,\n",
        ")\n",
        "\n",
        "# Fine-tune the model\n",
        "trainer.train()"
      ],
      "metadata": {
        "id": "WQSCGY2F2fbq"
      },
      "execution_count": null,
      "outputs": []
    },
    {
      "cell_type": "code",
      "source": [
        "from torch.utils.data import DataLoader\n",
        "\n",
        "# Assuming you've already created your test_dataset\n",
        "test_loader = DataLoader(test_df0_dataset, batch_size=32, shuffle=False)"
      ],
      "metadata": {
        "id": "9-0GtWEJ2fbr"
      },
      "execution_count": null,
      "outputs": []
    },
    {
      "cell_type": "code",
      "source": [
        "model1 = AutoModelForSequenceClassification.from_pretrained(\"/kaggle/working/results/checkpoint-1125\", num_labels=2)\n",
        "model1.to(device)"
      ],
      "metadata": {
        "id": "xwjlA-3b2fbr"
      },
      "execution_count": null,
      "outputs": []
    },
    {
      "cell_type": "code",
      "source": [
        "import torch\n",
        "import numpy as np\n",
        "\n",
        "model1.eval()  # Set the model to evaluation mode\n",
        "all_predictions = []\n",
        "all_true_labels = []\n",
        "\n",
        "with torch.no_grad():\n",
        "    for batch in test_loader:\n",
        "        input_ids = batch['input_ids'].to(device)\n",
        "        attention_mask = batch['attention_mask'].to(device)\n",
        "        labels = batch['labels'].to(device)\n",
        "\n",
        "        outputs = model1(input_ids, attention_mask=attention_mask)\n",
        "        _, predictions = torch.max(outputs.logits, dim=1)\n",
        "\n",
        "        all_predictions.extend(predictions.cpu().numpy())\n",
        "        all_true_labels.extend(labels.cpu().numpy())\n",
        "\n",
        "# Convert to numpy arrays\n",
        "y_pred = np.array(all_predictions)\n",
        "y_true = np.array(all_true_labels)"
      ],
      "metadata": {
        "id": "AVyUX6JO2fbr"
      },
      "execution_count": null,
      "outputs": []
    },
    {
      "cell_type": "code",
      "source": [
        "from sklearn.metrics import classification_report, confusion_matrix\n",
        "import seaborn as sns\n",
        "import matplotlib.pyplot as plt\n",
        "\n",
        "# Print classification report\n",
        "print(classification_report(y_true, y_pred))\n",
        "\n",
        "# Create confusion matrix\n",
        "cm = confusion_matrix(y_true, y_pred)\n",
        "\n",
        "# Plot confusion matrix\n",
        "plt.figure(figsize=(10, 8))\n",
        "sns.heatmap(cm, annot=True, fmt='d', cmap='Blues')\n",
        "plt.xlabel('Predicted')\n",
        "plt.ylabel('True')\n",
        "plt.title('Confusion Matrix')\n",
        "plt.show()"
      ],
      "metadata": {
        "id": "Oxli9adt2fbr"
      },
      "execution_count": null,
      "outputs": []
    },
    {
      "cell_type": "markdown",
      "source": [
        "### Dataset 1"
      ],
      "metadata": {
        "id": "jKyAwKLi2fbs"
      }
    },
    {
      "cell_type": "markdown",
      "source": [
        "#### Seed 1"
      ],
      "metadata": {
        "id": "sdYHxO6d2fbs"
      }
    },
    {
      "cell_type": "code",
      "source": [
        "# Don't Show Warning Messages\n",
        "import os\n",
        "import warnings\n",
        "warnings.filterwarnings('ignore')\n",
        "os.environ[\"WANDB_DISABLED\"] = \"true\""
      ],
      "metadata": {
        "id": "2CuOWjZT2fbs"
      },
      "execution_count": null,
      "outputs": []
    },
    {
      "cell_type": "code",
      "source": [
        "from transformers import set_seed, Trainer\n",
        "\n",
        "# Set the seed for reproducibility\n",
        "set_seed(20240917)"
      ],
      "metadata": {
        "id": "kpHakUcf2fbs"
      },
      "execution_count": null,
      "outputs": []
    },
    {
      "cell_type": "code",
      "source": [
        "def model_init() :\n",
        "    return AlbertForSequenceClassification.from_pretrained(\"albert/albert-xlarge-v2\",num_labels = 2)"
      ],
      "metadata": {
        "id": "dJDHQXh-2fbs"
      },
      "execution_count": null,
      "outputs": []
    },
    {
      "cell_type": "code",
      "source": [
        "training_args = TrainingArguments(\n",
        "    eval_strategy=\"epoch\",\n",
        "    output_dir=\"./results\",\n",
        "    learning_rate=2e-5,\n",
        "    per_device_train_batch_size=16,\n",
        "    per_device_eval_batch_size=16,\n",
        "    num_train_epochs=3,\n",
        "    weight_decay=0.01,\n",
        "    seed = 20240917\n",
        ")\n",
        "\n",
        "# Initialize Trainer\n",
        "trainer = Trainer(\n",
        "    model_init = model_init,\n",
        "    args=training_args,\n",
        "    train_dataset=train_df1_dataset,\n",
        "    eval_dataset=val_df1_dataset,\n",
        "    tokenizer = tokenizer,\n",
        "    compute_metrics=compute_metrics,\n",
        ")\n",
        "\n",
        "# Fine-tune the model\n",
        "trainer.train()"
      ],
      "metadata": {
        "id": "5SLaVrTI2fbt"
      },
      "execution_count": null,
      "outputs": []
    },
    {
      "cell_type": "code",
      "source": [
        "from torch.utils.data import DataLoader\n",
        "\n",
        "# Assuming you've already created your test_dataset\n",
        "test_loader = DataLoader(test_df1_dataset, batch_size=32, shuffle=False)"
      ],
      "metadata": {
        "id": "MoZgZWl42fbt"
      },
      "execution_count": null,
      "outputs": []
    },
    {
      "cell_type": "code",
      "source": [
        "model1 = AutoModelForSequenceClassification.from_pretrained(\"/kaggle/working/results/checkpoint-1125\", num_labels=2)\n",
        "model1.to(device)"
      ],
      "metadata": {
        "id": "uBh7zeL22fbt"
      },
      "execution_count": null,
      "outputs": []
    },
    {
      "cell_type": "code",
      "source": [
        "import torch\n",
        "import numpy as np\n",
        "\n",
        "model1.eval()  # Set the model to evaluation mode\n",
        "all_predictions = []\n",
        "all_true_labels = []\n",
        "\n",
        "with torch.no_grad():\n",
        "    for batch in test_loader:\n",
        "        input_ids = batch['input_ids'].to(device)\n",
        "        attention_mask = batch['attention_mask'].to(device)\n",
        "        labels = batch['labels'].to(device)\n",
        "\n",
        "        outputs = model1(input_ids, attention_mask=attention_mask)\n",
        "        _, predictions = torch.max(outputs.logits, dim=1)\n",
        "\n",
        "        all_predictions.extend(predictions.cpu().numpy())\n",
        "        all_true_labels.extend(labels.cpu().numpy())\n",
        "\n",
        "# Convert to numpy arrays\n",
        "y_pred = np.array(all_predictions)\n",
        "y_true = np.array(all_true_labels)"
      ],
      "metadata": {
        "id": "rftPzmKQ2fbt"
      },
      "execution_count": null,
      "outputs": []
    },
    {
      "cell_type": "code",
      "source": [
        "from sklearn.metrics import classification_report, confusion_matrix\n",
        "import seaborn as sns\n",
        "import matplotlib.pyplot as plt\n",
        "\n",
        "# Print classification report\n",
        "print(classification_report(y_true, y_pred))\n",
        "\n",
        "# Create confusion matrix\n",
        "cm = confusion_matrix(y_true, y_pred)\n",
        "\n",
        "# Plot confusion matrix\n",
        "plt.figure(figsize=(10, 8))\n",
        "sns.heatmap(cm, annot=True, fmt='d', cmap='Blues')\n",
        "plt.xlabel('Predicted')\n",
        "plt.ylabel('True')\n",
        "plt.title('Confusion Matrix')\n",
        "plt.show()"
      ],
      "metadata": {
        "id": "HAvuhQgA2fbt"
      },
      "execution_count": null,
      "outputs": []
    },
    {
      "cell_type": "markdown",
      "source": [
        "#### Seed 2"
      ],
      "metadata": {
        "id": "eZVPFxuA2fbt"
      }
    },
    {
      "cell_type": "code",
      "source": [
        "# Don't Show Warning Messages\n",
        "import os\n",
        "import warnings\n",
        "warnings.filterwarnings('ignore')\n",
        "os.environ[\"WANDB_DISABLED\"] = \"true\""
      ],
      "metadata": {
        "id": "S-KzSlZO2fbu"
      },
      "execution_count": null,
      "outputs": []
    },
    {
      "cell_type": "code",
      "source": [
        "from transformers import set_seed, Trainer\n",
        "\n",
        "# Set the seed for reproducibility\n",
        "set_seed(68820831)"
      ],
      "metadata": {
        "id": "-tVmTkcn2fbu"
      },
      "execution_count": null,
      "outputs": []
    },
    {
      "cell_type": "code",
      "source": [
        "def model_init() :\n",
        "    return AlbertForSequenceClassification.from_pretrained(\"albert/albert-xlarge-v2\",num_labels = 2)"
      ],
      "metadata": {
        "id": "lUag2EQ42fbu"
      },
      "execution_count": null,
      "outputs": []
    },
    {
      "cell_type": "code",
      "source": [
        "training_args = TrainingArguments(\n",
        "    eval_strategy=\"epoch\",\n",
        "    output_dir=\"./results\",\n",
        "    learning_rate=2e-5,\n",
        "    per_device_train_batch_size=16,\n",
        "    per_device_eval_batch_size=16,\n",
        "    num_train_epochs=3,\n",
        "    weight_decay=0.01,\n",
        "    seed = 68820831\n",
        ")\n",
        "\n",
        "# Initialize Trainer\n",
        "trainer = Trainer(\n",
        "    model_init = model_init,\n",
        "    args=training_args,\n",
        "    train_dataset=train_df1_dataset,\n",
        "    eval_dataset=val_df1_dataset,\n",
        "    tokenizer = tokenizer,\n",
        "    compute_metrics=compute_metrics,\n",
        ")\n",
        "\n",
        "# Fine-tune the model\n",
        "trainer.train()"
      ],
      "metadata": {
        "id": "xipD1pbJ2fbu"
      },
      "execution_count": null,
      "outputs": []
    },
    {
      "cell_type": "code",
      "source": [
        "from torch.utils.data import DataLoader\n",
        "\n",
        "# Assuming you've already created your test_dataset\n",
        "test_loader = DataLoader(test_df1_dataset, batch_size=32, shuffle=False)"
      ],
      "metadata": {
        "id": "uPt9qAEi2fbu"
      },
      "execution_count": null,
      "outputs": []
    },
    {
      "cell_type": "code",
      "source": [
        "model1 = AutoModelForSequenceClassification.from_pretrained(\"/kaggle/working/results/checkpoint-1125\", num_labels=2)\n",
        "model1.to(device)"
      ],
      "metadata": {
        "id": "tsbKnAhk2fbu"
      },
      "execution_count": null,
      "outputs": []
    },
    {
      "cell_type": "code",
      "source": [
        "import torch\n",
        "import numpy as np\n",
        "\n",
        "model1.eval()  # Set the model to evaluation mode\n",
        "all_predictions = []\n",
        "all_true_labels = []\n",
        "\n",
        "with torch.no_grad():\n",
        "    for batch in test_loader:\n",
        "        input_ids = batch['input_ids'].to(device)\n",
        "        attention_mask = batch['attention_mask'].to(device)\n",
        "        labels = batch['labels'].to(device)\n",
        "\n",
        "        outputs = model1(input_ids, attention_mask=attention_mask)\n",
        "        _, predictions = torch.max(outputs.logits, dim=1)\n",
        "\n",
        "        all_predictions.extend(predictions.cpu().numpy())\n",
        "        all_true_labels.extend(labels.cpu().numpy())\n",
        "\n",
        "# Convert to numpy arrays\n",
        "y_pred = np.array(all_predictions)\n",
        "y_true = np.array(all_true_labels)"
      ],
      "metadata": {
        "id": "_j5_w2yc2fbv"
      },
      "execution_count": null,
      "outputs": []
    },
    {
      "cell_type": "code",
      "source": [
        "from sklearn.metrics import classification_report, confusion_matrix\n",
        "import seaborn as sns\n",
        "import matplotlib.pyplot as plt\n",
        "\n",
        "# Print classification report\n",
        "print(classification_report(y_true, y_pred))\n",
        "\n",
        "# Create confusion matrix\n",
        "cm = confusion_matrix(y_true, y_pred)\n",
        "\n",
        "# Plot confusion matrix\n",
        "plt.figure(figsize=(10, 8))\n",
        "sns.heatmap(cm, annot=True, fmt='d', cmap='Blues')\n",
        "plt.xlabel('Predicted')\n",
        "plt.ylabel('True')\n",
        "plt.title('Confusion Matrix')\n",
        "plt.show()"
      ],
      "metadata": {
        "id": "hN1oTVJR2fbv"
      },
      "execution_count": null,
      "outputs": []
    },
    {
      "cell_type": "markdown",
      "source": [
        "#### Seed 3"
      ],
      "metadata": {
        "id": "b4U92v8B2fbv"
      }
    },
    {
      "cell_type": "code",
      "source": [
        "# Don't Show Warning Messages\n",
        "import os\n",
        "import warnings\n",
        "warnings.filterwarnings('ignore')\n",
        "os.environ[\"WANDB_DISABLED\"] = \"true\""
      ],
      "metadata": {
        "id": "CzHrvnwt2fbv"
      },
      "execution_count": null,
      "outputs": []
    },
    {
      "cell_type": "code",
      "source": [
        "from transformers import set_seed, Trainer\n",
        "\n",
        "# Set the seed for reproducibility\n",
        "set_seed(54226614)"
      ],
      "metadata": {
        "id": "Q36LeLty2fbv"
      },
      "execution_count": null,
      "outputs": []
    },
    {
      "cell_type": "code",
      "source": [
        "def model_init() :\n",
        "    return AlbertForSequenceClassification.from_pretrained(\"albert/albert-xlarge-v2\",num_labels = 2)"
      ],
      "metadata": {
        "id": "pV-LFKxH2fbv"
      },
      "execution_count": null,
      "outputs": []
    },
    {
      "cell_type": "code",
      "source": [
        "training_args = TrainingArguments(\n",
        "    eval_strategy=\"epoch\",\n",
        "    output_dir=\"./results\",\n",
        "    learning_rate=2e-5,\n",
        "    per_device_train_batch_size=16,\n",
        "    per_device_eval_batch_size=16,\n",
        "    num_train_epochs=3,\n",
        "    weight_decay=0.01,\n",
        "    seed = 54226614\n",
        ")\n",
        "\n",
        "# Initialize Trainer\n",
        "trainer = Trainer(\n",
        "    model_init = model_init,\n",
        "    args=training_args,\n",
        "    train_dataset=train_df1_dataset,\n",
        "    eval_dataset=val_df1_dataset,\n",
        "    tokenizer = tokenizer,\n",
        "    compute_metrics=compute_metrics,\n",
        ")\n",
        "\n",
        "# Fine-tune the model\n",
        "trainer.train()"
      ],
      "metadata": {
        "id": "_CSILAJv2fbv"
      },
      "execution_count": null,
      "outputs": []
    },
    {
      "cell_type": "code",
      "source": [
        "from torch.utils.data import DataLoader\n",
        "\n",
        "# Assuming you've already created your test_dataset\n",
        "test_loader = DataLoader(test_df1_dataset, batch_size=32, shuffle=False)"
      ],
      "metadata": {
        "id": "7iEeqnVj2fbw"
      },
      "execution_count": null,
      "outputs": []
    },
    {
      "cell_type": "code",
      "source": [
        "model1 = AutoModelForSequenceClassification.from_pretrained(\"/kaggle/working/results/checkpoint-1125\", num_labels=2)\n",
        "model1.to(device)"
      ],
      "metadata": {
        "id": "z81BYta52fbw"
      },
      "execution_count": null,
      "outputs": []
    },
    {
      "cell_type": "code",
      "source": [
        "import torch\n",
        "import numpy as np\n",
        "\n",
        "model1.eval()  # Set the model to evaluation mode\n",
        "all_predictions = []\n",
        "all_true_labels = []\n",
        "\n",
        "with torch.no_grad():\n",
        "    for batch in test_loader:\n",
        "        input_ids = batch['input_ids'].to(device)\n",
        "        attention_mask = batch['attention_mask'].to(device)\n",
        "        labels = batch['labels'].to(device)\n",
        "\n",
        "        outputs = model1(input_ids, attention_mask=attention_mask)\n",
        "        _, predictions = torch.max(outputs.logits, dim=1)\n",
        "\n",
        "        all_predictions.extend(predictions.cpu().numpy())\n",
        "        all_true_labels.extend(labels.cpu().numpy())\n",
        "\n",
        "# Convert to numpy arrays\n",
        "y_pred = np.array(all_predictions)\n",
        "y_true = np.array(all_true_labels)"
      ],
      "metadata": {
        "id": "2vOS5ESt2fbw"
      },
      "execution_count": null,
      "outputs": []
    },
    {
      "cell_type": "code",
      "source": [
        "from sklearn.metrics import classification_report, confusion_matrix\n",
        "import seaborn as sns\n",
        "import matplotlib.pyplot as plt\n",
        "\n",
        "# Print classification report\n",
        "print(classification_report(y_true, y_pred))\n",
        "\n",
        "# Create confusion matrix\n",
        "cm = confusion_matrix(y_true, y_pred)\n",
        "\n",
        "# Plot confusion matrix\n",
        "plt.figure(figsize=(10, 8))\n",
        "sns.heatmap(cm, annot=True, fmt='d', cmap='Blues')\n",
        "plt.xlabel('Predicted')\n",
        "plt.ylabel('True')\n",
        "plt.title('Confusion Matrix')\n",
        "plt.show()"
      ],
      "metadata": {
        "id": "0S2g8Cfa2fbw"
      },
      "execution_count": null,
      "outputs": []
    },
    {
      "cell_type": "markdown",
      "source": [
        "# Other text preprocessing method"
      ],
      "metadata": {
        "id": "HrWi1Sja7Cat"
      }
    },
    {
      "cell_type": "markdown",
      "source": [
        "## Removing punctuation"
      ],
      "metadata": {
        "id": "-NmCWAU27JBS"
      }
    },
    {
      "cell_type": "code",
      "source": [
        "df2 = df1.copy()\n",
        "df2.head()"
      ],
      "metadata": {
        "colab": {
          "base_uri": "https://localhost:8080/",
          "height": 206
        },
        "id": "S8O1IzAP7HLb",
        "outputId": "08690226-ed7d-419d-bcad-6bbd13a21623"
      },
      "execution_count": 109,
      "outputs": [
        {
          "output_type": "execute_result",
          "data": {
            "text/plain": [
              "                                                text  label  \\\n",
              "0  Phones Modern humans today are always on their...      0   \n",
              "1  This essay will explain if drivers should or s...      0   \n",
              "2  Driving while the use of cellular devices Toda...      0   \n",
              "3  Phones & Driving Drivers should not be able to...      0   \n",
              "4  Cell Phone Operation While Driving The ability...      0   \n",
              "\n",
              "          prompt_name           source                          stratify_key  \n",
              "0  Phones and driving  persuade_corpus  Phones and driving_persuade_corpus_0  \n",
              "1  Phones and driving  persuade_corpus  Phones and driving_persuade_corpus_0  \n",
              "2  Phones and driving  persuade_corpus  Phones and driving_persuade_corpus_0  \n",
              "3  Phones and driving  persuade_corpus  Phones and driving_persuade_corpus_0  \n",
              "4  Phones and driving  persuade_corpus  Phones and driving_persuade_corpus_0  "
            ],
            "text/html": [
              "\n",
              "  <div id=\"df-611e7642-6ead-40d7-8a80-4c6d061734f6\" class=\"colab-df-container\">\n",
              "    <div>\n",
              "<style scoped>\n",
              "    .dataframe tbody tr th:only-of-type {\n",
              "        vertical-align: middle;\n",
              "    }\n",
              "\n",
              "    .dataframe tbody tr th {\n",
              "        vertical-align: top;\n",
              "    }\n",
              "\n",
              "    .dataframe thead th {\n",
              "        text-align: right;\n",
              "    }\n",
              "</style>\n",
              "<table border=\"1\" class=\"dataframe\">\n",
              "  <thead>\n",
              "    <tr style=\"text-align: right;\">\n",
              "      <th></th>\n",
              "      <th>text</th>\n",
              "      <th>label</th>\n",
              "      <th>prompt_name</th>\n",
              "      <th>source</th>\n",
              "      <th>stratify_key</th>\n",
              "    </tr>\n",
              "  </thead>\n",
              "  <tbody>\n",
              "    <tr>\n",
              "      <th>0</th>\n",
              "      <td>Phones Modern humans today are always on their...</td>\n",
              "      <td>0</td>\n",
              "      <td>Phones and driving</td>\n",
              "      <td>persuade_corpus</td>\n",
              "      <td>Phones and driving_persuade_corpus_0</td>\n",
              "    </tr>\n",
              "    <tr>\n",
              "      <th>1</th>\n",
              "      <td>This essay will explain if drivers should or s...</td>\n",
              "      <td>0</td>\n",
              "      <td>Phones and driving</td>\n",
              "      <td>persuade_corpus</td>\n",
              "      <td>Phones and driving_persuade_corpus_0</td>\n",
              "    </tr>\n",
              "    <tr>\n",
              "      <th>2</th>\n",
              "      <td>Driving while the use of cellular devices Toda...</td>\n",
              "      <td>0</td>\n",
              "      <td>Phones and driving</td>\n",
              "      <td>persuade_corpus</td>\n",
              "      <td>Phones and driving_persuade_corpus_0</td>\n",
              "    </tr>\n",
              "    <tr>\n",
              "      <th>3</th>\n",
              "      <td>Phones &amp; Driving Drivers should not be able to...</td>\n",
              "      <td>0</td>\n",
              "      <td>Phones and driving</td>\n",
              "      <td>persuade_corpus</td>\n",
              "      <td>Phones and driving_persuade_corpus_0</td>\n",
              "    </tr>\n",
              "    <tr>\n",
              "      <th>4</th>\n",
              "      <td>Cell Phone Operation While Driving The ability...</td>\n",
              "      <td>0</td>\n",
              "      <td>Phones and driving</td>\n",
              "      <td>persuade_corpus</td>\n",
              "      <td>Phones and driving_persuade_corpus_0</td>\n",
              "    </tr>\n",
              "  </tbody>\n",
              "</table>\n",
              "</div>\n",
              "    <div class=\"colab-df-buttons\">\n",
              "\n",
              "  <div class=\"colab-df-container\">\n",
              "    <button class=\"colab-df-convert\" onclick=\"convertToInteractive('df-611e7642-6ead-40d7-8a80-4c6d061734f6')\"\n",
              "            title=\"Convert this dataframe to an interactive table.\"\n",
              "            style=\"display:none;\">\n",
              "\n",
              "  <svg xmlns=\"http://www.w3.org/2000/svg\" height=\"24px\" viewBox=\"0 -960 960 960\">\n",
              "    <path d=\"M120-120v-720h720v720H120Zm60-500h600v-160H180v160Zm220 220h160v-160H400v160Zm0 220h160v-160H400v160ZM180-400h160v-160H180v160Zm440 0h160v-160H620v160ZM180-180h160v-160H180v160Zm440 0h160v-160H620v160Z\"/>\n",
              "  </svg>\n",
              "    </button>\n",
              "\n",
              "  <style>\n",
              "    .colab-df-container {\n",
              "      display:flex;\n",
              "      gap: 12px;\n",
              "    }\n",
              "\n",
              "    .colab-df-convert {\n",
              "      background-color: #E8F0FE;\n",
              "      border: none;\n",
              "      border-radius: 50%;\n",
              "      cursor: pointer;\n",
              "      display: none;\n",
              "      fill: #1967D2;\n",
              "      height: 32px;\n",
              "      padding: 0 0 0 0;\n",
              "      width: 32px;\n",
              "    }\n",
              "\n",
              "    .colab-df-convert:hover {\n",
              "      background-color: #E2EBFA;\n",
              "      box-shadow: 0px 1px 2px rgba(60, 64, 67, 0.3), 0px 1px 3px 1px rgba(60, 64, 67, 0.15);\n",
              "      fill: #174EA6;\n",
              "    }\n",
              "\n",
              "    .colab-df-buttons div {\n",
              "      margin-bottom: 4px;\n",
              "    }\n",
              "\n",
              "    [theme=dark] .colab-df-convert {\n",
              "      background-color: #3B4455;\n",
              "      fill: #D2E3FC;\n",
              "    }\n",
              "\n",
              "    [theme=dark] .colab-df-convert:hover {\n",
              "      background-color: #434B5C;\n",
              "      box-shadow: 0px 1px 3px 1px rgba(0, 0, 0, 0.15);\n",
              "      filter: drop-shadow(0px 1px 2px rgba(0, 0, 0, 0.3));\n",
              "      fill: #FFFFFF;\n",
              "    }\n",
              "  </style>\n",
              "\n",
              "    <script>\n",
              "      const buttonEl =\n",
              "        document.querySelector('#df-611e7642-6ead-40d7-8a80-4c6d061734f6 button.colab-df-convert');\n",
              "      buttonEl.style.display =\n",
              "        google.colab.kernel.accessAllowed ? 'block' : 'none';\n",
              "\n",
              "      async function convertToInteractive(key) {\n",
              "        const element = document.querySelector('#df-611e7642-6ead-40d7-8a80-4c6d061734f6');\n",
              "        const dataTable =\n",
              "          await google.colab.kernel.invokeFunction('convertToInteractive',\n",
              "                                                    [key], {});\n",
              "        if (!dataTable) return;\n",
              "\n",
              "        const docLinkHtml = 'Like what you see? Visit the ' +\n",
              "          '<a target=\"_blank\" href=https://colab.research.google.com/notebooks/data_table.ipynb>data table notebook</a>'\n",
              "          + ' to learn more about interactive tables.';\n",
              "        element.innerHTML = '';\n",
              "        dataTable['output_type'] = 'display_data';\n",
              "        await google.colab.output.renderOutput(dataTable, element);\n",
              "        const docLink = document.createElement('div');\n",
              "        docLink.innerHTML = docLinkHtml;\n",
              "        element.appendChild(docLink);\n",
              "      }\n",
              "    </script>\n",
              "  </div>\n",
              "\n",
              "\n",
              "<div id=\"df-49ef33a2-7715-4670-885f-58cffaa8aec4\">\n",
              "  <button class=\"colab-df-quickchart\" onclick=\"quickchart('df-49ef33a2-7715-4670-885f-58cffaa8aec4')\"\n",
              "            title=\"Suggest charts\"\n",
              "            style=\"display:none;\">\n",
              "\n",
              "<svg xmlns=\"http://www.w3.org/2000/svg\" height=\"24px\"viewBox=\"0 0 24 24\"\n",
              "     width=\"24px\">\n",
              "    <g>\n",
              "        <path d=\"M19 3H5c-1.1 0-2 .9-2 2v14c0 1.1.9 2 2 2h14c1.1 0 2-.9 2-2V5c0-1.1-.9-2-2-2zM9 17H7v-7h2v7zm4 0h-2V7h2v10zm4 0h-2v-4h2v4z\"/>\n",
              "    </g>\n",
              "</svg>\n",
              "  </button>\n",
              "\n",
              "<style>\n",
              "  .colab-df-quickchart {\n",
              "      --bg-color: #E8F0FE;\n",
              "      --fill-color: #1967D2;\n",
              "      --hover-bg-color: #E2EBFA;\n",
              "      --hover-fill-color: #174EA6;\n",
              "      --disabled-fill-color: #AAA;\n",
              "      --disabled-bg-color: #DDD;\n",
              "  }\n",
              "\n",
              "  [theme=dark] .colab-df-quickchart {\n",
              "      --bg-color: #3B4455;\n",
              "      --fill-color: #D2E3FC;\n",
              "      --hover-bg-color: #434B5C;\n",
              "      --hover-fill-color: #FFFFFF;\n",
              "      --disabled-bg-color: #3B4455;\n",
              "      --disabled-fill-color: #666;\n",
              "  }\n",
              "\n",
              "  .colab-df-quickchart {\n",
              "    background-color: var(--bg-color);\n",
              "    border: none;\n",
              "    border-radius: 50%;\n",
              "    cursor: pointer;\n",
              "    display: none;\n",
              "    fill: var(--fill-color);\n",
              "    height: 32px;\n",
              "    padding: 0;\n",
              "    width: 32px;\n",
              "  }\n",
              "\n",
              "  .colab-df-quickchart:hover {\n",
              "    background-color: var(--hover-bg-color);\n",
              "    box-shadow: 0 1px 2px rgba(60, 64, 67, 0.3), 0 1px 3px 1px rgba(60, 64, 67, 0.15);\n",
              "    fill: var(--button-hover-fill-color);\n",
              "  }\n",
              "\n",
              "  .colab-df-quickchart-complete:disabled,\n",
              "  .colab-df-quickchart-complete:disabled:hover {\n",
              "    background-color: var(--disabled-bg-color);\n",
              "    fill: var(--disabled-fill-color);\n",
              "    box-shadow: none;\n",
              "  }\n",
              "\n",
              "  .colab-df-spinner {\n",
              "    border: 2px solid var(--fill-color);\n",
              "    border-color: transparent;\n",
              "    border-bottom-color: var(--fill-color);\n",
              "    animation:\n",
              "      spin 1s steps(1) infinite;\n",
              "  }\n",
              "\n",
              "  @keyframes spin {\n",
              "    0% {\n",
              "      border-color: transparent;\n",
              "      border-bottom-color: var(--fill-color);\n",
              "      border-left-color: var(--fill-color);\n",
              "    }\n",
              "    20% {\n",
              "      border-color: transparent;\n",
              "      border-left-color: var(--fill-color);\n",
              "      border-top-color: var(--fill-color);\n",
              "    }\n",
              "    30% {\n",
              "      border-color: transparent;\n",
              "      border-left-color: var(--fill-color);\n",
              "      border-top-color: var(--fill-color);\n",
              "      border-right-color: var(--fill-color);\n",
              "    }\n",
              "    40% {\n",
              "      border-color: transparent;\n",
              "      border-right-color: var(--fill-color);\n",
              "      border-top-color: var(--fill-color);\n",
              "    }\n",
              "    60% {\n",
              "      border-color: transparent;\n",
              "      border-right-color: var(--fill-color);\n",
              "    }\n",
              "    80% {\n",
              "      border-color: transparent;\n",
              "      border-right-color: var(--fill-color);\n",
              "      border-bottom-color: var(--fill-color);\n",
              "    }\n",
              "    90% {\n",
              "      border-color: transparent;\n",
              "      border-bottom-color: var(--fill-color);\n",
              "    }\n",
              "  }\n",
              "</style>\n",
              "\n",
              "  <script>\n",
              "    async function quickchart(key) {\n",
              "      const quickchartButtonEl =\n",
              "        document.querySelector('#' + key + ' button');\n",
              "      quickchartButtonEl.disabled = true;  // To prevent multiple clicks.\n",
              "      quickchartButtonEl.classList.add('colab-df-spinner');\n",
              "      try {\n",
              "        const charts = await google.colab.kernel.invokeFunction(\n",
              "            'suggestCharts', [key], {});\n",
              "      } catch (error) {\n",
              "        console.error('Error during call to suggestCharts:', error);\n",
              "      }\n",
              "      quickchartButtonEl.classList.remove('colab-df-spinner');\n",
              "      quickchartButtonEl.classList.add('colab-df-quickchart-complete');\n",
              "    }\n",
              "    (() => {\n",
              "      let quickchartButtonEl =\n",
              "        document.querySelector('#df-49ef33a2-7715-4670-885f-58cffaa8aec4 button');\n",
              "      quickchartButtonEl.style.display =\n",
              "        google.colab.kernel.accessAllowed ? 'block' : 'none';\n",
              "    })();\n",
              "  </script>\n",
              "</div>\n",
              "\n",
              "    </div>\n",
              "  </div>\n"
            ],
            "application/vnd.google.colaboratory.intrinsic+json": {
              "type": "dataframe",
              "variable_name": "df2",
              "summary": "{\n  \"name\": \"df2\",\n  \"rows\": 65328,\n  \"fields\": [\n    {\n      \"column\": \"text\",\n      \"properties\": {\n        \"dtype\": \"string\",\n        \"num_unique_values\": 65321,\n        \"samples\": [\n          \"The cowboy who rode the waves is a metaphorical story that many people can relate to. It is about a person who is determined to overcome obstacles and reach their goal, no matter how difficult it may seem. The cowboy imagery is often associated with ruggedness, independence, and a spirit of adventure. These are all qualities that people aspire to possess, especially in the face of challenges. In this essay, we will explore the cowboy who rode the waves and the lessons that can be learned from this inspiring story. At first glance, the idea of a cowboy riding the waves may seem strange. Cowboys are known for their rugged appearance, cowboy hats, and wide-brimmed buckaroos, not for their ability to ride waves on a surfboard. However, the cowboy who rode the waves represents a symbolic journey that transcends physical limits. It is a story about a person who is determined to overcome adversity and reach their dreams, even if it means stepping outside of their comfort zone. The journey of the cowboy who rode the waves can be seen as a metaphor for the struggles that we all face in life. Life can be unpredictable, and we often encounter unexpected challenges. We may struggle with our jobs, relationships, finances, or health. In these moments, it is easy to feel overwhelmed and helpless. However, like the cowboy who rode the waves, we must find the strength to push through and persevere. One of the key lessons that can be learned from the story of the cowboy who rode the waves is the importance of resilience. Resilience is the ability to bounce back from difficult situations and to keep moving forward. It is the willingness to take risks and to try new things, even if they seem impossible at first. The cowboy who rode the waves demonstrates the power of resilience and shows us that anything is possible if we are willing to believe in ourselves and take action. Another lesson that can be learned from this story is the importance of perseverance. Life is full of obstacles, and it can be easy to give up when things get tough. However, the cowboy who rode the waves shows us that perseverance is essential when it comes to achieving our dreams. Even when the waves were crashing, the cowboy continued to ride, determined to reach the other side. In this story, perseverance is a powerful reminder that nothing worth achieving comes easy. The story of the cowboy who rode the waves is an inspiring tale of determination and resilience. It shows us that anything is possible if we are willing to believe in ourselves and push through the challenges that come our way. This story can help us develop the strength and perseverance we need to overcome obstacles and achieve our goals. By embracing the cowboy spirit, we can live a life of adventure and fulfillment, and never stop riding the waves.\",\n          \"School can be tiring and stressful on every high school student and I know most of us can agree on that. There is a way to make school easier and comfortable. Many have debated over if online learning is actually beneficial and much easier than normal school. Instead of being in a classroom you would be on a video confrontation or following instructions from a text. Although some say online learning is not beneficial in reality it is very beneficial. Online learning can cause some problems, for example when your at home you intend to get more distracted with your phone,TV, food, and anything else at your home. Distraction isn't the only issue that you can come across with, technology is not perfect many things could happen that could set you back for that day of learning. Many students prefer classrooms over online learning due to the 1 on 1 help with a teacher. In online learning you won't be able to get that 1 on 1 learning unless through video chat. Getting help from a classmate will also not be availabe and you will have to rely more on yourself and the teacher through online learning. Even with some downsides to online learning there are more positives then negatives. At home there is more comfort than in a classroom and the more comfortable you are the better you learn. The best part of learning at home is that you have control on the way you want to learn, if you know that your phone is a problem turn it off while learning and take brain breaks something that most teachers don't allow. Everyone knows themselves better than anyone else, so you know how you learn or work the best. For example let's say you work the best while listening to music, well at home you will be able to do that or let's say you are a person that can't learn or concentrate while being hungry, at home you will be able to eat snacks or food and keep you learning. Waking up every morning and going to school can be tiring and affect your ability to learn, but if you were to take online classes you would be able to get that extra sleep in and wake up with more energy and learn much easier. Especially in high school many students stay up late to study or to finish a project that's due the next day and end up going to school drowsy and tired. With online learning you will get more time to fully understand a certain topic and spend more time evaluating your work, but in school you have bells so every class is timed which rushes the teachers on teaching and rushes the students on getting it. Online learning will also present a more flexible schedule for students, most students today are busy with other things like sports, work, and etc. In conclusion online learning is a much better way of learning and beneficial for the students and teachers. The students have more control on the way they learn and how they get to learn which comes with more positives than negatives. Students will be able to have more time, comfort, understanding of the topic, and sleep to come back the next day ready to learn. Although some say that online learning is not beneficial it's actually more beneficial for students.\",\n          \"Have you ever been faced with a difficult decision and asked multiple people for advice? Was it helpful when making your choice? Many people have, and found that asking more than one person for advice helped them make a better decision. Seeking multiple opinions can assist you in making a better choice by, helping you better evaluate your options, learning from others experiences and, exposing you to multiple viewpoints. Asking multiple people for advice can help you better evaluate your options. Others who are wiser might understand the implications of the choices more and could help you come to an informed decision. If you do not understand your choices you will not be able to make a knowledgeable decision. When asking multiple people for advice you will receive more knowledge on the topic, and the more you know the better your decision will be. By understanding each choice and its effects, you will be able to make a wiser decision. You will also learn from others experiences by seeking multiple opinions. Each person is shaped by his or her life experiences and will have different wisdom to share. By seeking advice from multiple people you will receive knowledge and opinions derived from experience. This information will show you some of the possible outcomes of your choices and will help you choose what is best. Learning from people who have been in a similar situation will help you come to a better decision. When asking for advice from more than one person you will be exposed to multiple viewpoints. Being exposed to differing opinions might enlighten you and help you discover something you had not thought of. Seeking multiple opinions can change the way you perceive your choices and help you come to a decision. Looking at a situation from multiple points of view will allow you to see all of the possibilities of your choice. Being exposed to multiple viewpoints will help you make a better decision. When faced with a difficult decision people sometimes confer with more than one other person. By asking for advice from multiple people, they are helping themselves make an educated decision. Seeking multiple opinions can expose you to the knowledge, experience, and opinions of others. In conclusion seeking the advice of multiple people when making a decision will help you make the right choice.\"\n        ],\n        \"semantic_type\": \"\",\n        \"description\": \"\"\n      }\n    },\n    {\n      \"column\": \"label\",\n      \"properties\": {\n        \"dtype\": \"number\",\n        \"std\": 0,\n        \"min\": 0,\n        \"max\": 1,\n        \"num_unique_values\": 2,\n        \"samples\": [\n          1,\n          0\n        ],\n        \"semantic_type\": \"\",\n        \"description\": \"\"\n      }\n    },\n    {\n      \"column\": \"prompt_name\",\n      \"properties\": {\n        \"dtype\": \"category\",\n        \"num_unique_values\": 15,\n        \"samples\": [\n          \"Grades for extracurricular activities\",\n          \"Does the electoral college work?\"\n        ],\n        \"semantic_type\": \"\",\n        \"description\": \"\"\n      }\n    },\n    {\n      \"column\": \"source\",\n      \"properties\": {\n        \"dtype\": \"category\",\n        \"num_unique_values\": 28,\n        \"samples\": [\n          \"radek_500\",\n          \"text-davinci-001\"\n        ],\n        \"semantic_type\": \"\",\n        \"description\": \"\"\n      }\n    },\n    {\n      \"column\": \"stratify_key\",\n      \"properties\": {\n        \"dtype\": \"category\",\n        \"num_unique_values\": 250,\n        \"samples\": [\n          \"Mandatory extracurricular activities_palm-text-bison1_1\",\n          \"Facial action coding system_persuade_corpus_0\"\n        ],\n        \"semantic_type\": \"\",\n        \"description\": \"\"\n      }\n    }\n  ]\n}"
            }
          },
          "metadata": {},
          "execution_count": 109
        }
      ]
    },
    {
      "cell_type": "code",
      "source": [
        "# Remove punctuation from the 'text' column\n",
        "import string\n",
        "df2['text'] = df2['text'].apply(lambda x: x.translate(str.maketrans('', '', string.punctuation)))\n",
        "df2.head()"
      ],
      "metadata": {
        "colab": {
          "base_uri": "https://localhost:8080/",
          "height": 206
        },
        "collapsed": true,
        "id": "_mhAjOxO9mZe",
        "outputId": "4d2016a1-b475-40d0-e3d0-b0732e815a79"
      },
      "execution_count": 110,
      "outputs": [
        {
          "output_type": "execute_result",
          "data": {
            "text/plain": [
              "                                                text  label  \\\n",
              "0  Phones Modern humans today are always on their...      0   \n",
              "1  This essay will explain if drivers should or s...      0   \n",
              "2  Driving while the use of cellular devices Toda...      0   \n",
              "3  Phones  Driving Drivers should not be able to ...      0   \n",
              "4  Cell Phone Operation While Driving The ability...      0   \n",
              "\n",
              "          prompt_name           source                          stratify_key  \n",
              "0  Phones and driving  persuade_corpus  Phones and driving_persuade_corpus_0  \n",
              "1  Phones and driving  persuade_corpus  Phones and driving_persuade_corpus_0  \n",
              "2  Phones and driving  persuade_corpus  Phones and driving_persuade_corpus_0  \n",
              "3  Phones and driving  persuade_corpus  Phones and driving_persuade_corpus_0  \n",
              "4  Phones and driving  persuade_corpus  Phones and driving_persuade_corpus_0  "
            ],
            "text/html": [
              "\n",
              "  <div id=\"df-776776f8-022a-4de4-9aa9-0875e6dba68e\" class=\"colab-df-container\">\n",
              "    <div>\n",
              "<style scoped>\n",
              "    .dataframe tbody tr th:only-of-type {\n",
              "        vertical-align: middle;\n",
              "    }\n",
              "\n",
              "    .dataframe tbody tr th {\n",
              "        vertical-align: top;\n",
              "    }\n",
              "\n",
              "    .dataframe thead th {\n",
              "        text-align: right;\n",
              "    }\n",
              "</style>\n",
              "<table border=\"1\" class=\"dataframe\">\n",
              "  <thead>\n",
              "    <tr style=\"text-align: right;\">\n",
              "      <th></th>\n",
              "      <th>text</th>\n",
              "      <th>label</th>\n",
              "      <th>prompt_name</th>\n",
              "      <th>source</th>\n",
              "      <th>stratify_key</th>\n",
              "    </tr>\n",
              "  </thead>\n",
              "  <tbody>\n",
              "    <tr>\n",
              "      <th>0</th>\n",
              "      <td>Phones Modern humans today are always on their...</td>\n",
              "      <td>0</td>\n",
              "      <td>Phones and driving</td>\n",
              "      <td>persuade_corpus</td>\n",
              "      <td>Phones and driving_persuade_corpus_0</td>\n",
              "    </tr>\n",
              "    <tr>\n",
              "      <th>1</th>\n",
              "      <td>This essay will explain if drivers should or s...</td>\n",
              "      <td>0</td>\n",
              "      <td>Phones and driving</td>\n",
              "      <td>persuade_corpus</td>\n",
              "      <td>Phones and driving_persuade_corpus_0</td>\n",
              "    </tr>\n",
              "    <tr>\n",
              "      <th>2</th>\n",
              "      <td>Driving while the use of cellular devices Toda...</td>\n",
              "      <td>0</td>\n",
              "      <td>Phones and driving</td>\n",
              "      <td>persuade_corpus</td>\n",
              "      <td>Phones and driving_persuade_corpus_0</td>\n",
              "    </tr>\n",
              "    <tr>\n",
              "      <th>3</th>\n",
              "      <td>Phones  Driving Drivers should not be able to ...</td>\n",
              "      <td>0</td>\n",
              "      <td>Phones and driving</td>\n",
              "      <td>persuade_corpus</td>\n",
              "      <td>Phones and driving_persuade_corpus_0</td>\n",
              "    </tr>\n",
              "    <tr>\n",
              "      <th>4</th>\n",
              "      <td>Cell Phone Operation While Driving The ability...</td>\n",
              "      <td>0</td>\n",
              "      <td>Phones and driving</td>\n",
              "      <td>persuade_corpus</td>\n",
              "      <td>Phones and driving_persuade_corpus_0</td>\n",
              "    </tr>\n",
              "  </tbody>\n",
              "</table>\n",
              "</div>\n",
              "    <div class=\"colab-df-buttons\">\n",
              "\n",
              "  <div class=\"colab-df-container\">\n",
              "    <button class=\"colab-df-convert\" onclick=\"convertToInteractive('df-776776f8-022a-4de4-9aa9-0875e6dba68e')\"\n",
              "            title=\"Convert this dataframe to an interactive table.\"\n",
              "            style=\"display:none;\">\n",
              "\n",
              "  <svg xmlns=\"http://www.w3.org/2000/svg\" height=\"24px\" viewBox=\"0 -960 960 960\">\n",
              "    <path d=\"M120-120v-720h720v720H120Zm60-500h600v-160H180v160Zm220 220h160v-160H400v160Zm0 220h160v-160H400v160ZM180-400h160v-160H180v160Zm440 0h160v-160H620v160ZM180-180h160v-160H180v160Zm440 0h160v-160H620v160Z\"/>\n",
              "  </svg>\n",
              "    </button>\n",
              "\n",
              "  <style>\n",
              "    .colab-df-container {\n",
              "      display:flex;\n",
              "      gap: 12px;\n",
              "    }\n",
              "\n",
              "    .colab-df-convert {\n",
              "      background-color: #E8F0FE;\n",
              "      border: none;\n",
              "      border-radius: 50%;\n",
              "      cursor: pointer;\n",
              "      display: none;\n",
              "      fill: #1967D2;\n",
              "      height: 32px;\n",
              "      padding: 0 0 0 0;\n",
              "      width: 32px;\n",
              "    }\n",
              "\n",
              "    .colab-df-convert:hover {\n",
              "      background-color: #E2EBFA;\n",
              "      box-shadow: 0px 1px 2px rgba(60, 64, 67, 0.3), 0px 1px 3px 1px rgba(60, 64, 67, 0.15);\n",
              "      fill: #174EA6;\n",
              "    }\n",
              "\n",
              "    .colab-df-buttons div {\n",
              "      margin-bottom: 4px;\n",
              "    }\n",
              "\n",
              "    [theme=dark] .colab-df-convert {\n",
              "      background-color: #3B4455;\n",
              "      fill: #D2E3FC;\n",
              "    }\n",
              "\n",
              "    [theme=dark] .colab-df-convert:hover {\n",
              "      background-color: #434B5C;\n",
              "      box-shadow: 0px 1px 3px 1px rgba(0, 0, 0, 0.15);\n",
              "      filter: drop-shadow(0px 1px 2px rgba(0, 0, 0, 0.3));\n",
              "      fill: #FFFFFF;\n",
              "    }\n",
              "  </style>\n",
              "\n",
              "    <script>\n",
              "      const buttonEl =\n",
              "        document.querySelector('#df-776776f8-022a-4de4-9aa9-0875e6dba68e button.colab-df-convert');\n",
              "      buttonEl.style.display =\n",
              "        google.colab.kernel.accessAllowed ? 'block' : 'none';\n",
              "\n",
              "      async function convertToInteractive(key) {\n",
              "        const element = document.querySelector('#df-776776f8-022a-4de4-9aa9-0875e6dba68e');\n",
              "        const dataTable =\n",
              "          await google.colab.kernel.invokeFunction('convertToInteractive',\n",
              "                                                    [key], {});\n",
              "        if (!dataTable) return;\n",
              "\n",
              "        const docLinkHtml = 'Like what you see? Visit the ' +\n",
              "          '<a target=\"_blank\" href=https://colab.research.google.com/notebooks/data_table.ipynb>data table notebook</a>'\n",
              "          + ' to learn more about interactive tables.';\n",
              "        element.innerHTML = '';\n",
              "        dataTable['output_type'] = 'display_data';\n",
              "        await google.colab.output.renderOutput(dataTable, element);\n",
              "        const docLink = document.createElement('div');\n",
              "        docLink.innerHTML = docLinkHtml;\n",
              "        element.appendChild(docLink);\n",
              "      }\n",
              "    </script>\n",
              "  </div>\n",
              "\n",
              "\n",
              "<div id=\"df-2a46e03a-ff9b-440d-ab17-a94e3da621af\">\n",
              "  <button class=\"colab-df-quickchart\" onclick=\"quickchart('df-2a46e03a-ff9b-440d-ab17-a94e3da621af')\"\n",
              "            title=\"Suggest charts\"\n",
              "            style=\"display:none;\">\n",
              "\n",
              "<svg xmlns=\"http://www.w3.org/2000/svg\" height=\"24px\"viewBox=\"0 0 24 24\"\n",
              "     width=\"24px\">\n",
              "    <g>\n",
              "        <path d=\"M19 3H5c-1.1 0-2 .9-2 2v14c0 1.1.9 2 2 2h14c1.1 0 2-.9 2-2V5c0-1.1-.9-2-2-2zM9 17H7v-7h2v7zm4 0h-2V7h2v10zm4 0h-2v-4h2v4z\"/>\n",
              "    </g>\n",
              "</svg>\n",
              "  </button>\n",
              "\n",
              "<style>\n",
              "  .colab-df-quickchart {\n",
              "      --bg-color: #E8F0FE;\n",
              "      --fill-color: #1967D2;\n",
              "      --hover-bg-color: #E2EBFA;\n",
              "      --hover-fill-color: #174EA6;\n",
              "      --disabled-fill-color: #AAA;\n",
              "      --disabled-bg-color: #DDD;\n",
              "  }\n",
              "\n",
              "  [theme=dark] .colab-df-quickchart {\n",
              "      --bg-color: #3B4455;\n",
              "      --fill-color: #D2E3FC;\n",
              "      --hover-bg-color: #434B5C;\n",
              "      --hover-fill-color: #FFFFFF;\n",
              "      --disabled-bg-color: #3B4455;\n",
              "      --disabled-fill-color: #666;\n",
              "  }\n",
              "\n",
              "  .colab-df-quickchart {\n",
              "    background-color: var(--bg-color);\n",
              "    border: none;\n",
              "    border-radius: 50%;\n",
              "    cursor: pointer;\n",
              "    display: none;\n",
              "    fill: var(--fill-color);\n",
              "    height: 32px;\n",
              "    padding: 0;\n",
              "    width: 32px;\n",
              "  }\n",
              "\n",
              "  .colab-df-quickchart:hover {\n",
              "    background-color: var(--hover-bg-color);\n",
              "    box-shadow: 0 1px 2px rgba(60, 64, 67, 0.3), 0 1px 3px 1px rgba(60, 64, 67, 0.15);\n",
              "    fill: var(--button-hover-fill-color);\n",
              "  }\n",
              "\n",
              "  .colab-df-quickchart-complete:disabled,\n",
              "  .colab-df-quickchart-complete:disabled:hover {\n",
              "    background-color: var(--disabled-bg-color);\n",
              "    fill: var(--disabled-fill-color);\n",
              "    box-shadow: none;\n",
              "  }\n",
              "\n",
              "  .colab-df-spinner {\n",
              "    border: 2px solid var(--fill-color);\n",
              "    border-color: transparent;\n",
              "    border-bottom-color: var(--fill-color);\n",
              "    animation:\n",
              "      spin 1s steps(1) infinite;\n",
              "  }\n",
              "\n",
              "  @keyframes spin {\n",
              "    0% {\n",
              "      border-color: transparent;\n",
              "      border-bottom-color: var(--fill-color);\n",
              "      border-left-color: var(--fill-color);\n",
              "    }\n",
              "    20% {\n",
              "      border-color: transparent;\n",
              "      border-left-color: var(--fill-color);\n",
              "      border-top-color: var(--fill-color);\n",
              "    }\n",
              "    30% {\n",
              "      border-color: transparent;\n",
              "      border-left-color: var(--fill-color);\n",
              "      border-top-color: var(--fill-color);\n",
              "      border-right-color: var(--fill-color);\n",
              "    }\n",
              "    40% {\n",
              "      border-color: transparent;\n",
              "      border-right-color: var(--fill-color);\n",
              "      border-top-color: var(--fill-color);\n",
              "    }\n",
              "    60% {\n",
              "      border-color: transparent;\n",
              "      border-right-color: var(--fill-color);\n",
              "    }\n",
              "    80% {\n",
              "      border-color: transparent;\n",
              "      border-right-color: var(--fill-color);\n",
              "      border-bottom-color: var(--fill-color);\n",
              "    }\n",
              "    90% {\n",
              "      border-color: transparent;\n",
              "      border-bottom-color: var(--fill-color);\n",
              "    }\n",
              "  }\n",
              "</style>\n",
              "\n",
              "  <script>\n",
              "    async function quickchart(key) {\n",
              "      const quickchartButtonEl =\n",
              "        document.querySelector('#' + key + ' button');\n",
              "      quickchartButtonEl.disabled = true;  // To prevent multiple clicks.\n",
              "      quickchartButtonEl.classList.add('colab-df-spinner');\n",
              "      try {\n",
              "        const charts = await google.colab.kernel.invokeFunction(\n",
              "            'suggestCharts', [key], {});\n",
              "      } catch (error) {\n",
              "        console.error('Error during call to suggestCharts:', error);\n",
              "      }\n",
              "      quickchartButtonEl.classList.remove('colab-df-spinner');\n",
              "      quickchartButtonEl.classList.add('colab-df-quickchart-complete');\n",
              "    }\n",
              "    (() => {\n",
              "      let quickchartButtonEl =\n",
              "        document.querySelector('#df-2a46e03a-ff9b-440d-ab17-a94e3da621af button');\n",
              "      quickchartButtonEl.style.display =\n",
              "        google.colab.kernel.accessAllowed ? 'block' : 'none';\n",
              "    })();\n",
              "  </script>\n",
              "</div>\n",
              "\n",
              "    </div>\n",
              "  </div>\n"
            ],
            "application/vnd.google.colaboratory.intrinsic+json": {
              "type": "dataframe",
              "variable_name": "df2",
              "summary": "{\n  \"name\": \"df2\",\n  \"rows\": 65328,\n  \"fields\": [\n    {\n      \"column\": \"text\",\n      \"properties\": {\n        \"dtype\": \"string\",\n        \"num_unique_values\": 65270,\n        \"samples\": [\n          \"Hey Mrs Johnson I think its super important for students to participate in community service Like its not just about doing stuff for others its about learning stuff too When we help others we learn empathy and stuff like that Plus its just cool to give back to the community So like there are tons of things we could do to help out We could volunteer at the local animal shelter I know Id rather play with puppies than sit in a classroom all day Or we could help out at the food bank I know my family sometimes struggles to afford food so it would be awesome to help others who are in the same boat Another thing we could do is clean up the park I know there are always trash and stuff scattered around and it would be so cool to make it look nice again Plus it would be a great way to get some exercise and fresh air I think its also important to help out in our own community Like we could organize a fundraiser for a family whos going through a tough time Or we could even just do random acts of kindness like buying someones coffee or something It doesnt have to be a big deal but it can make a big difference So yeah I think students should definitely be encouraged to participate in community service Its not only good for the community but its good for us too We learn important stuff and its just a cool way to give back Thanks for reading Mrs Johnson\",\n          \"Twenty five years ago something strange happened on mars People may have heard about The Face on Mars and thinked that it was formed by alien life Scientists believed the face was an alien artifact  It actually was not Scientists from NASA say that it was either a butte or mesalandforms common in the american west This subject today is still a pop icon It has starred in a Hollywood film  appeared in books and magazines  radio talk shows and it even haunted grocery stores checkout lines for 25 years After that  everyone was not satisfied The face on mars is located at 41 degrees north and was winter in april 1998  a cloudy time of year The camera had to peer through wispy clouds to see the face People say it is not a a natural landform  they think it was from alien matter wich is not true because NASA explained in the article that it was just a Martian mesa It was common around Cyodonia So once the scientists sent pictures to us over time you can see the face fades out over time This means that it did have formed shadows giving illusions of the eyes  mouth  and nose To conclude it was not a face it was a Mesa\",\n          \"When I was in high school I always enjoyed storytelling more than anything else I loved getting lost in a good book or debating a friend about the finer points of a movie So when I was given an assignment to argue whether the use of a technology to read the emotional expressions of students in a classroom is valuable I was a little hesitant Its not that I dont think the technology isnt valuable I just think that there are other ways to learn about emotions than by having a computer read them For example I remember one time in high school when we were reading The Great Gatsby Our teacher had us get up and act out different scenes from the book It was so much more fun than just sitting in a classroom and listening to a lecture I think that using technology to read the emotional expressions of students can be valuable but I also think that there are other ways to learn about emotions I remember one time in high school when we were reading The Great Gatsby Our teacher had us get up and act out different scenes from the book It was so much more fun than just sitting in a classroom and listening to a lecture\"\n        ],\n        \"semantic_type\": \"\",\n        \"description\": \"\"\n      }\n    },\n    {\n      \"column\": \"label\",\n      \"properties\": {\n        \"dtype\": \"number\",\n        \"std\": 0,\n        \"min\": 0,\n        \"max\": 1,\n        \"num_unique_values\": 2,\n        \"samples\": [\n          1,\n          0\n        ],\n        \"semantic_type\": \"\",\n        \"description\": \"\"\n      }\n    },\n    {\n      \"column\": \"prompt_name\",\n      \"properties\": {\n        \"dtype\": \"category\",\n        \"num_unique_values\": 15,\n        \"samples\": [\n          \"Grades for extracurricular activities\",\n          \"Does the electoral college work?\"\n        ],\n        \"semantic_type\": \"\",\n        \"description\": \"\"\n      }\n    },\n    {\n      \"column\": \"source\",\n      \"properties\": {\n        \"dtype\": \"category\",\n        \"num_unique_values\": 28,\n        \"samples\": [\n          \"radek_500\",\n          \"text-davinci-001\"\n        ],\n        \"semantic_type\": \"\",\n        \"description\": \"\"\n      }\n    },\n    {\n      \"column\": \"stratify_key\",\n      \"properties\": {\n        \"dtype\": \"category\",\n        \"num_unique_values\": 250,\n        \"samples\": [\n          \"Mandatory extracurricular activities_palm-text-bison1_1\",\n          \"Facial action coding system_persuade_corpus_0\"\n        ],\n        \"semantic_type\": \"\",\n        \"description\": \"\"\n      }\n    }\n  ]\n}"
            }
          },
          "metadata": {},
          "execution_count": 110
        }
      ]
    },
    {
      "cell_type": "markdown",
      "source": [
        "## Stemming"
      ],
      "metadata": {
        "id": "5vhDeThI7Ppe"
      }
    },
    {
      "cell_type": "code",
      "source": [
        "df3 = df1.copy()\n",
        "df3.head()"
      ],
      "metadata": {
        "colab": {
          "base_uri": "https://localhost:8080/",
          "height": 206
        },
        "id": "AYz9rQi8-aR9",
        "outputId": "1f38030e-54f8-45f3-aee3-90ed49adabb1"
      },
      "execution_count": 111,
      "outputs": [
        {
          "output_type": "execute_result",
          "data": {
            "text/plain": [
              "                                                text  label  \\\n",
              "0  Phones Modern humans today are always on their...      0   \n",
              "1  This essay will explain if drivers should or s...      0   \n",
              "2  Driving while the use of cellular devices Toda...      0   \n",
              "3  Phones & Driving Drivers should not be able to...      0   \n",
              "4  Cell Phone Operation While Driving The ability...      0   \n",
              "\n",
              "          prompt_name           source                          stratify_key  \n",
              "0  Phones and driving  persuade_corpus  Phones and driving_persuade_corpus_0  \n",
              "1  Phones and driving  persuade_corpus  Phones and driving_persuade_corpus_0  \n",
              "2  Phones and driving  persuade_corpus  Phones and driving_persuade_corpus_0  \n",
              "3  Phones and driving  persuade_corpus  Phones and driving_persuade_corpus_0  \n",
              "4  Phones and driving  persuade_corpus  Phones and driving_persuade_corpus_0  "
            ],
            "text/html": [
              "\n",
              "  <div id=\"df-318fdeb4-2c37-4518-9c80-719be8e798e0\" class=\"colab-df-container\">\n",
              "    <div>\n",
              "<style scoped>\n",
              "    .dataframe tbody tr th:only-of-type {\n",
              "        vertical-align: middle;\n",
              "    }\n",
              "\n",
              "    .dataframe tbody tr th {\n",
              "        vertical-align: top;\n",
              "    }\n",
              "\n",
              "    .dataframe thead th {\n",
              "        text-align: right;\n",
              "    }\n",
              "</style>\n",
              "<table border=\"1\" class=\"dataframe\">\n",
              "  <thead>\n",
              "    <tr style=\"text-align: right;\">\n",
              "      <th></th>\n",
              "      <th>text</th>\n",
              "      <th>label</th>\n",
              "      <th>prompt_name</th>\n",
              "      <th>source</th>\n",
              "      <th>stratify_key</th>\n",
              "    </tr>\n",
              "  </thead>\n",
              "  <tbody>\n",
              "    <tr>\n",
              "      <th>0</th>\n",
              "      <td>Phones Modern humans today are always on their...</td>\n",
              "      <td>0</td>\n",
              "      <td>Phones and driving</td>\n",
              "      <td>persuade_corpus</td>\n",
              "      <td>Phones and driving_persuade_corpus_0</td>\n",
              "    </tr>\n",
              "    <tr>\n",
              "      <th>1</th>\n",
              "      <td>This essay will explain if drivers should or s...</td>\n",
              "      <td>0</td>\n",
              "      <td>Phones and driving</td>\n",
              "      <td>persuade_corpus</td>\n",
              "      <td>Phones and driving_persuade_corpus_0</td>\n",
              "    </tr>\n",
              "    <tr>\n",
              "      <th>2</th>\n",
              "      <td>Driving while the use of cellular devices Toda...</td>\n",
              "      <td>0</td>\n",
              "      <td>Phones and driving</td>\n",
              "      <td>persuade_corpus</td>\n",
              "      <td>Phones and driving_persuade_corpus_0</td>\n",
              "    </tr>\n",
              "    <tr>\n",
              "      <th>3</th>\n",
              "      <td>Phones &amp; Driving Drivers should not be able to...</td>\n",
              "      <td>0</td>\n",
              "      <td>Phones and driving</td>\n",
              "      <td>persuade_corpus</td>\n",
              "      <td>Phones and driving_persuade_corpus_0</td>\n",
              "    </tr>\n",
              "    <tr>\n",
              "      <th>4</th>\n",
              "      <td>Cell Phone Operation While Driving The ability...</td>\n",
              "      <td>0</td>\n",
              "      <td>Phones and driving</td>\n",
              "      <td>persuade_corpus</td>\n",
              "      <td>Phones and driving_persuade_corpus_0</td>\n",
              "    </tr>\n",
              "  </tbody>\n",
              "</table>\n",
              "</div>\n",
              "    <div class=\"colab-df-buttons\">\n",
              "\n",
              "  <div class=\"colab-df-container\">\n",
              "    <button class=\"colab-df-convert\" onclick=\"convertToInteractive('df-318fdeb4-2c37-4518-9c80-719be8e798e0')\"\n",
              "            title=\"Convert this dataframe to an interactive table.\"\n",
              "            style=\"display:none;\">\n",
              "\n",
              "  <svg xmlns=\"http://www.w3.org/2000/svg\" height=\"24px\" viewBox=\"0 -960 960 960\">\n",
              "    <path d=\"M120-120v-720h720v720H120Zm60-500h600v-160H180v160Zm220 220h160v-160H400v160Zm0 220h160v-160H400v160ZM180-400h160v-160H180v160Zm440 0h160v-160H620v160ZM180-180h160v-160H180v160Zm440 0h160v-160H620v160Z\"/>\n",
              "  </svg>\n",
              "    </button>\n",
              "\n",
              "  <style>\n",
              "    .colab-df-container {\n",
              "      display:flex;\n",
              "      gap: 12px;\n",
              "    }\n",
              "\n",
              "    .colab-df-convert {\n",
              "      background-color: #E8F0FE;\n",
              "      border: none;\n",
              "      border-radius: 50%;\n",
              "      cursor: pointer;\n",
              "      display: none;\n",
              "      fill: #1967D2;\n",
              "      height: 32px;\n",
              "      padding: 0 0 0 0;\n",
              "      width: 32px;\n",
              "    }\n",
              "\n",
              "    .colab-df-convert:hover {\n",
              "      background-color: #E2EBFA;\n",
              "      box-shadow: 0px 1px 2px rgba(60, 64, 67, 0.3), 0px 1px 3px 1px rgba(60, 64, 67, 0.15);\n",
              "      fill: #174EA6;\n",
              "    }\n",
              "\n",
              "    .colab-df-buttons div {\n",
              "      margin-bottom: 4px;\n",
              "    }\n",
              "\n",
              "    [theme=dark] .colab-df-convert {\n",
              "      background-color: #3B4455;\n",
              "      fill: #D2E3FC;\n",
              "    }\n",
              "\n",
              "    [theme=dark] .colab-df-convert:hover {\n",
              "      background-color: #434B5C;\n",
              "      box-shadow: 0px 1px 3px 1px rgba(0, 0, 0, 0.15);\n",
              "      filter: drop-shadow(0px 1px 2px rgba(0, 0, 0, 0.3));\n",
              "      fill: #FFFFFF;\n",
              "    }\n",
              "  </style>\n",
              "\n",
              "    <script>\n",
              "      const buttonEl =\n",
              "        document.querySelector('#df-318fdeb4-2c37-4518-9c80-719be8e798e0 button.colab-df-convert');\n",
              "      buttonEl.style.display =\n",
              "        google.colab.kernel.accessAllowed ? 'block' : 'none';\n",
              "\n",
              "      async function convertToInteractive(key) {\n",
              "        const element = document.querySelector('#df-318fdeb4-2c37-4518-9c80-719be8e798e0');\n",
              "        const dataTable =\n",
              "          await google.colab.kernel.invokeFunction('convertToInteractive',\n",
              "                                                    [key], {});\n",
              "        if (!dataTable) return;\n",
              "\n",
              "        const docLinkHtml = 'Like what you see? Visit the ' +\n",
              "          '<a target=\"_blank\" href=https://colab.research.google.com/notebooks/data_table.ipynb>data table notebook</a>'\n",
              "          + ' to learn more about interactive tables.';\n",
              "        element.innerHTML = '';\n",
              "        dataTable['output_type'] = 'display_data';\n",
              "        await google.colab.output.renderOutput(dataTable, element);\n",
              "        const docLink = document.createElement('div');\n",
              "        docLink.innerHTML = docLinkHtml;\n",
              "        element.appendChild(docLink);\n",
              "      }\n",
              "    </script>\n",
              "  </div>\n",
              "\n",
              "\n",
              "<div id=\"df-5c883947-2dc7-41f7-b937-14b64e1ac722\">\n",
              "  <button class=\"colab-df-quickchart\" onclick=\"quickchart('df-5c883947-2dc7-41f7-b937-14b64e1ac722')\"\n",
              "            title=\"Suggest charts\"\n",
              "            style=\"display:none;\">\n",
              "\n",
              "<svg xmlns=\"http://www.w3.org/2000/svg\" height=\"24px\"viewBox=\"0 0 24 24\"\n",
              "     width=\"24px\">\n",
              "    <g>\n",
              "        <path d=\"M19 3H5c-1.1 0-2 .9-2 2v14c0 1.1.9 2 2 2h14c1.1 0 2-.9 2-2V5c0-1.1-.9-2-2-2zM9 17H7v-7h2v7zm4 0h-2V7h2v10zm4 0h-2v-4h2v4z\"/>\n",
              "    </g>\n",
              "</svg>\n",
              "  </button>\n",
              "\n",
              "<style>\n",
              "  .colab-df-quickchart {\n",
              "      --bg-color: #E8F0FE;\n",
              "      --fill-color: #1967D2;\n",
              "      --hover-bg-color: #E2EBFA;\n",
              "      --hover-fill-color: #174EA6;\n",
              "      --disabled-fill-color: #AAA;\n",
              "      --disabled-bg-color: #DDD;\n",
              "  }\n",
              "\n",
              "  [theme=dark] .colab-df-quickchart {\n",
              "      --bg-color: #3B4455;\n",
              "      --fill-color: #D2E3FC;\n",
              "      --hover-bg-color: #434B5C;\n",
              "      --hover-fill-color: #FFFFFF;\n",
              "      --disabled-bg-color: #3B4455;\n",
              "      --disabled-fill-color: #666;\n",
              "  }\n",
              "\n",
              "  .colab-df-quickchart {\n",
              "    background-color: var(--bg-color);\n",
              "    border: none;\n",
              "    border-radius: 50%;\n",
              "    cursor: pointer;\n",
              "    display: none;\n",
              "    fill: var(--fill-color);\n",
              "    height: 32px;\n",
              "    padding: 0;\n",
              "    width: 32px;\n",
              "  }\n",
              "\n",
              "  .colab-df-quickchart:hover {\n",
              "    background-color: var(--hover-bg-color);\n",
              "    box-shadow: 0 1px 2px rgba(60, 64, 67, 0.3), 0 1px 3px 1px rgba(60, 64, 67, 0.15);\n",
              "    fill: var(--button-hover-fill-color);\n",
              "  }\n",
              "\n",
              "  .colab-df-quickchart-complete:disabled,\n",
              "  .colab-df-quickchart-complete:disabled:hover {\n",
              "    background-color: var(--disabled-bg-color);\n",
              "    fill: var(--disabled-fill-color);\n",
              "    box-shadow: none;\n",
              "  }\n",
              "\n",
              "  .colab-df-spinner {\n",
              "    border: 2px solid var(--fill-color);\n",
              "    border-color: transparent;\n",
              "    border-bottom-color: var(--fill-color);\n",
              "    animation:\n",
              "      spin 1s steps(1) infinite;\n",
              "  }\n",
              "\n",
              "  @keyframes spin {\n",
              "    0% {\n",
              "      border-color: transparent;\n",
              "      border-bottom-color: var(--fill-color);\n",
              "      border-left-color: var(--fill-color);\n",
              "    }\n",
              "    20% {\n",
              "      border-color: transparent;\n",
              "      border-left-color: var(--fill-color);\n",
              "      border-top-color: var(--fill-color);\n",
              "    }\n",
              "    30% {\n",
              "      border-color: transparent;\n",
              "      border-left-color: var(--fill-color);\n",
              "      border-top-color: var(--fill-color);\n",
              "      border-right-color: var(--fill-color);\n",
              "    }\n",
              "    40% {\n",
              "      border-color: transparent;\n",
              "      border-right-color: var(--fill-color);\n",
              "      border-top-color: var(--fill-color);\n",
              "    }\n",
              "    60% {\n",
              "      border-color: transparent;\n",
              "      border-right-color: var(--fill-color);\n",
              "    }\n",
              "    80% {\n",
              "      border-color: transparent;\n",
              "      border-right-color: var(--fill-color);\n",
              "      border-bottom-color: var(--fill-color);\n",
              "    }\n",
              "    90% {\n",
              "      border-color: transparent;\n",
              "      border-bottom-color: var(--fill-color);\n",
              "    }\n",
              "  }\n",
              "</style>\n",
              "\n",
              "  <script>\n",
              "    async function quickchart(key) {\n",
              "      const quickchartButtonEl =\n",
              "        document.querySelector('#' + key + ' button');\n",
              "      quickchartButtonEl.disabled = true;  // To prevent multiple clicks.\n",
              "      quickchartButtonEl.classList.add('colab-df-spinner');\n",
              "      try {\n",
              "        const charts = await google.colab.kernel.invokeFunction(\n",
              "            'suggestCharts', [key], {});\n",
              "      } catch (error) {\n",
              "        console.error('Error during call to suggestCharts:', error);\n",
              "      }\n",
              "      quickchartButtonEl.classList.remove('colab-df-spinner');\n",
              "      quickchartButtonEl.classList.add('colab-df-quickchart-complete');\n",
              "    }\n",
              "    (() => {\n",
              "      let quickchartButtonEl =\n",
              "        document.querySelector('#df-5c883947-2dc7-41f7-b937-14b64e1ac722 button');\n",
              "      quickchartButtonEl.style.display =\n",
              "        google.colab.kernel.accessAllowed ? 'block' : 'none';\n",
              "    })();\n",
              "  </script>\n",
              "</div>\n",
              "\n",
              "    </div>\n",
              "  </div>\n"
            ],
            "application/vnd.google.colaboratory.intrinsic+json": {
              "type": "dataframe",
              "variable_name": "df3",
              "summary": "{\n  \"name\": \"df3\",\n  \"rows\": 65328,\n  \"fields\": [\n    {\n      \"column\": \"text\",\n      \"properties\": {\n        \"dtype\": \"string\",\n        \"num_unique_values\": 65321,\n        \"samples\": [\n          \"The cowboy who rode the waves is a metaphorical story that many people can relate to. It is about a person who is determined to overcome obstacles and reach their goal, no matter how difficult it may seem. The cowboy imagery is often associated with ruggedness, independence, and a spirit of adventure. These are all qualities that people aspire to possess, especially in the face of challenges. In this essay, we will explore the cowboy who rode the waves and the lessons that can be learned from this inspiring story. At first glance, the idea of a cowboy riding the waves may seem strange. Cowboys are known for their rugged appearance, cowboy hats, and wide-brimmed buckaroos, not for their ability to ride waves on a surfboard. However, the cowboy who rode the waves represents a symbolic journey that transcends physical limits. It is a story about a person who is determined to overcome adversity and reach their dreams, even if it means stepping outside of their comfort zone. The journey of the cowboy who rode the waves can be seen as a metaphor for the struggles that we all face in life. Life can be unpredictable, and we often encounter unexpected challenges. We may struggle with our jobs, relationships, finances, or health. In these moments, it is easy to feel overwhelmed and helpless. However, like the cowboy who rode the waves, we must find the strength to push through and persevere. One of the key lessons that can be learned from the story of the cowboy who rode the waves is the importance of resilience. Resilience is the ability to bounce back from difficult situations and to keep moving forward. It is the willingness to take risks and to try new things, even if they seem impossible at first. The cowboy who rode the waves demonstrates the power of resilience and shows us that anything is possible if we are willing to believe in ourselves and take action. Another lesson that can be learned from this story is the importance of perseverance. Life is full of obstacles, and it can be easy to give up when things get tough. However, the cowboy who rode the waves shows us that perseverance is essential when it comes to achieving our dreams. Even when the waves were crashing, the cowboy continued to ride, determined to reach the other side. In this story, perseverance is a powerful reminder that nothing worth achieving comes easy. The story of the cowboy who rode the waves is an inspiring tale of determination and resilience. It shows us that anything is possible if we are willing to believe in ourselves and push through the challenges that come our way. This story can help us develop the strength and perseverance we need to overcome obstacles and achieve our goals. By embracing the cowboy spirit, we can live a life of adventure and fulfillment, and never stop riding the waves.\",\n          \"School can be tiring and stressful on every high school student and I know most of us can agree on that. There is a way to make school easier and comfortable. Many have debated over if online learning is actually beneficial and much easier than normal school. Instead of being in a classroom you would be on a video confrontation or following instructions from a text. Although some say online learning is not beneficial in reality it is very beneficial. Online learning can cause some problems, for example when your at home you intend to get more distracted with your phone,TV, food, and anything else at your home. Distraction isn't the only issue that you can come across with, technology is not perfect many things could happen that could set you back for that day of learning. Many students prefer classrooms over online learning due to the 1 on 1 help with a teacher. In online learning you won't be able to get that 1 on 1 learning unless through video chat. Getting help from a classmate will also not be availabe and you will have to rely more on yourself and the teacher through online learning. Even with some downsides to online learning there are more positives then negatives. At home there is more comfort than in a classroom and the more comfortable you are the better you learn. The best part of learning at home is that you have control on the way you want to learn, if you know that your phone is a problem turn it off while learning and take brain breaks something that most teachers don't allow. Everyone knows themselves better than anyone else, so you know how you learn or work the best. For example let's say you work the best while listening to music, well at home you will be able to do that or let's say you are a person that can't learn or concentrate while being hungry, at home you will be able to eat snacks or food and keep you learning. Waking up every morning and going to school can be tiring and affect your ability to learn, but if you were to take online classes you would be able to get that extra sleep in and wake up with more energy and learn much easier. Especially in high school many students stay up late to study or to finish a project that's due the next day and end up going to school drowsy and tired. With online learning you will get more time to fully understand a certain topic and spend more time evaluating your work, but in school you have bells so every class is timed which rushes the teachers on teaching and rushes the students on getting it. Online learning will also present a more flexible schedule for students, most students today are busy with other things like sports, work, and etc. In conclusion online learning is a much better way of learning and beneficial for the students and teachers. The students have more control on the way they learn and how they get to learn which comes with more positives than negatives. Students will be able to have more time, comfort, understanding of the topic, and sleep to come back the next day ready to learn. Although some say that online learning is not beneficial it's actually more beneficial for students.\",\n          \"Have you ever been faced with a difficult decision and asked multiple people for advice? Was it helpful when making your choice? Many people have, and found that asking more than one person for advice helped them make a better decision. Seeking multiple opinions can assist you in making a better choice by, helping you better evaluate your options, learning from others experiences and, exposing you to multiple viewpoints. Asking multiple people for advice can help you better evaluate your options. Others who are wiser might understand the implications of the choices more and could help you come to an informed decision. If you do not understand your choices you will not be able to make a knowledgeable decision. When asking multiple people for advice you will receive more knowledge on the topic, and the more you know the better your decision will be. By understanding each choice and its effects, you will be able to make a wiser decision. You will also learn from others experiences by seeking multiple opinions. Each person is shaped by his or her life experiences and will have different wisdom to share. By seeking advice from multiple people you will receive knowledge and opinions derived from experience. This information will show you some of the possible outcomes of your choices and will help you choose what is best. Learning from people who have been in a similar situation will help you come to a better decision. When asking for advice from more than one person you will be exposed to multiple viewpoints. Being exposed to differing opinions might enlighten you and help you discover something you had not thought of. Seeking multiple opinions can change the way you perceive your choices and help you come to a decision. Looking at a situation from multiple points of view will allow you to see all of the possibilities of your choice. Being exposed to multiple viewpoints will help you make a better decision. When faced with a difficult decision people sometimes confer with more than one other person. By asking for advice from multiple people, they are helping themselves make an educated decision. Seeking multiple opinions can expose you to the knowledge, experience, and opinions of others. In conclusion seeking the advice of multiple people when making a decision will help you make the right choice.\"\n        ],\n        \"semantic_type\": \"\",\n        \"description\": \"\"\n      }\n    },\n    {\n      \"column\": \"label\",\n      \"properties\": {\n        \"dtype\": \"number\",\n        \"std\": 0,\n        \"min\": 0,\n        \"max\": 1,\n        \"num_unique_values\": 2,\n        \"samples\": [\n          1,\n          0\n        ],\n        \"semantic_type\": \"\",\n        \"description\": \"\"\n      }\n    },\n    {\n      \"column\": \"prompt_name\",\n      \"properties\": {\n        \"dtype\": \"category\",\n        \"num_unique_values\": 15,\n        \"samples\": [\n          \"Grades for extracurricular activities\",\n          \"Does the electoral college work?\"\n        ],\n        \"semantic_type\": \"\",\n        \"description\": \"\"\n      }\n    },\n    {\n      \"column\": \"source\",\n      \"properties\": {\n        \"dtype\": \"category\",\n        \"num_unique_values\": 28,\n        \"samples\": [\n          \"radek_500\",\n          \"text-davinci-001\"\n        ],\n        \"semantic_type\": \"\",\n        \"description\": \"\"\n      }\n    },\n    {\n      \"column\": \"stratify_key\",\n      \"properties\": {\n        \"dtype\": \"category\",\n        \"num_unique_values\": 250,\n        \"samples\": [\n          \"Mandatory extracurricular activities_palm-text-bison1_1\",\n          \"Facial action coding system_persuade_corpus_0\"\n        ],\n        \"semantic_type\": \"\",\n        \"description\": \"\"\n      }\n    }\n  ]\n}"
            }
          },
          "metadata": {},
          "execution_count": 111
        }
      ]
    },
    {
      "cell_type": "code",
      "source": [
        "from nltk.stem import PorterStemmer\n",
        "from nltk.tokenize import word_tokenize\n",
        "import nltk\n",
        "\n",
        "# Download necessary NLTK data (only needs to be run once)\n",
        "nltk.download('punkt')"
      ],
      "metadata": {
        "colab": {
          "base_uri": "https://localhost:8080/"
        },
        "id": "jkAYb7eT7bas",
        "outputId": "cf08aa7f-370a-4515-bec2-e0176dfa8cbd"
      },
      "execution_count": 112,
      "outputs": [
        {
          "output_type": "stream",
          "name": "stderr",
          "text": [
            "[nltk_data] Downloading package punkt to /root/nltk_data...\n",
            "[nltk_data]   Unzipping tokenizers/punkt.zip.\n"
          ]
        },
        {
          "output_type": "execute_result",
          "data": {
            "text/plain": [
              "True"
            ]
          },
          "metadata": {},
          "execution_count": 112
        }
      ]
    },
    {
      "cell_type": "code",
      "source": [
        "# Initialize the stemmer\n",
        "stemmer = PorterStemmer()\n",
        "\n",
        "# Function to remove punctuation and apply stemming\n",
        "def stem_text(text):\n",
        "    # Remove punctuation\n",
        "    text = text.translate(str.maketrans('', '', string.punctuation))\n",
        "    # Tokenize the text\n",
        "    words = word_tokenize(text)\n",
        "    # Apply stemming to each word\n",
        "    stemmed_words = [stemmer.stem(word) for word in words]\n",
        "    # Join the stemmed words back into a sentence\n",
        "    return ' '.join(stemmed_words)\n",
        "\n",
        "# Apply the function to the 'text' column\n",
        "df3['text'] = df3['text'].apply(stem_text)"
      ],
      "metadata": {
        "id": "ZNm09lgU-S6I"
      },
      "execution_count": 113,
      "outputs": []
    },
    {
      "cell_type": "code",
      "source": [
        "df3.head()"
      ],
      "metadata": {
        "colab": {
          "base_uri": "https://localhost:8080/",
          "height": 206
        },
        "id": "vG_xXcU7-joL",
        "outputId": "9145884d-a82d-4291-f1cd-e3ae0b0ddcfa"
      },
      "execution_count": 114,
      "outputs": [
        {
          "output_type": "execute_result",
          "data": {
            "text/plain": [
              "                                                text  label  \\\n",
              "0  phone modern human today are alway on their ph...      0   \n",
              "1  thi essay will explain if driver should or sho...      0   \n",
              "2  drive while the use of cellular devic today mo...      0   \n",
              "3  phone drive driver should not be abl to use ph...      0   \n",
              "4  cell phone oper while drive the abil to stay c...      0   \n",
              "\n",
              "          prompt_name           source                          stratify_key  \n",
              "0  Phones and driving  persuade_corpus  Phones and driving_persuade_corpus_0  \n",
              "1  Phones and driving  persuade_corpus  Phones and driving_persuade_corpus_0  \n",
              "2  Phones and driving  persuade_corpus  Phones and driving_persuade_corpus_0  \n",
              "3  Phones and driving  persuade_corpus  Phones and driving_persuade_corpus_0  \n",
              "4  Phones and driving  persuade_corpus  Phones and driving_persuade_corpus_0  "
            ],
            "text/html": [
              "\n",
              "  <div id=\"df-85f85f73-2421-4157-89d0-6cac21bb1899\" class=\"colab-df-container\">\n",
              "    <div>\n",
              "<style scoped>\n",
              "    .dataframe tbody tr th:only-of-type {\n",
              "        vertical-align: middle;\n",
              "    }\n",
              "\n",
              "    .dataframe tbody tr th {\n",
              "        vertical-align: top;\n",
              "    }\n",
              "\n",
              "    .dataframe thead th {\n",
              "        text-align: right;\n",
              "    }\n",
              "</style>\n",
              "<table border=\"1\" class=\"dataframe\">\n",
              "  <thead>\n",
              "    <tr style=\"text-align: right;\">\n",
              "      <th></th>\n",
              "      <th>text</th>\n",
              "      <th>label</th>\n",
              "      <th>prompt_name</th>\n",
              "      <th>source</th>\n",
              "      <th>stratify_key</th>\n",
              "    </tr>\n",
              "  </thead>\n",
              "  <tbody>\n",
              "    <tr>\n",
              "      <th>0</th>\n",
              "      <td>phone modern human today are alway on their ph...</td>\n",
              "      <td>0</td>\n",
              "      <td>Phones and driving</td>\n",
              "      <td>persuade_corpus</td>\n",
              "      <td>Phones and driving_persuade_corpus_0</td>\n",
              "    </tr>\n",
              "    <tr>\n",
              "      <th>1</th>\n",
              "      <td>thi essay will explain if driver should or sho...</td>\n",
              "      <td>0</td>\n",
              "      <td>Phones and driving</td>\n",
              "      <td>persuade_corpus</td>\n",
              "      <td>Phones and driving_persuade_corpus_0</td>\n",
              "    </tr>\n",
              "    <tr>\n",
              "      <th>2</th>\n",
              "      <td>drive while the use of cellular devic today mo...</td>\n",
              "      <td>0</td>\n",
              "      <td>Phones and driving</td>\n",
              "      <td>persuade_corpus</td>\n",
              "      <td>Phones and driving_persuade_corpus_0</td>\n",
              "    </tr>\n",
              "    <tr>\n",
              "      <th>3</th>\n",
              "      <td>phone drive driver should not be abl to use ph...</td>\n",
              "      <td>0</td>\n",
              "      <td>Phones and driving</td>\n",
              "      <td>persuade_corpus</td>\n",
              "      <td>Phones and driving_persuade_corpus_0</td>\n",
              "    </tr>\n",
              "    <tr>\n",
              "      <th>4</th>\n",
              "      <td>cell phone oper while drive the abil to stay c...</td>\n",
              "      <td>0</td>\n",
              "      <td>Phones and driving</td>\n",
              "      <td>persuade_corpus</td>\n",
              "      <td>Phones and driving_persuade_corpus_0</td>\n",
              "    </tr>\n",
              "  </tbody>\n",
              "</table>\n",
              "</div>\n",
              "    <div class=\"colab-df-buttons\">\n",
              "\n",
              "  <div class=\"colab-df-container\">\n",
              "    <button class=\"colab-df-convert\" onclick=\"convertToInteractive('df-85f85f73-2421-4157-89d0-6cac21bb1899')\"\n",
              "            title=\"Convert this dataframe to an interactive table.\"\n",
              "            style=\"display:none;\">\n",
              "\n",
              "  <svg xmlns=\"http://www.w3.org/2000/svg\" height=\"24px\" viewBox=\"0 -960 960 960\">\n",
              "    <path d=\"M120-120v-720h720v720H120Zm60-500h600v-160H180v160Zm220 220h160v-160H400v160Zm0 220h160v-160H400v160ZM180-400h160v-160H180v160Zm440 0h160v-160H620v160ZM180-180h160v-160H180v160Zm440 0h160v-160H620v160Z\"/>\n",
              "  </svg>\n",
              "    </button>\n",
              "\n",
              "  <style>\n",
              "    .colab-df-container {\n",
              "      display:flex;\n",
              "      gap: 12px;\n",
              "    }\n",
              "\n",
              "    .colab-df-convert {\n",
              "      background-color: #E8F0FE;\n",
              "      border: none;\n",
              "      border-radius: 50%;\n",
              "      cursor: pointer;\n",
              "      display: none;\n",
              "      fill: #1967D2;\n",
              "      height: 32px;\n",
              "      padding: 0 0 0 0;\n",
              "      width: 32px;\n",
              "    }\n",
              "\n",
              "    .colab-df-convert:hover {\n",
              "      background-color: #E2EBFA;\n",
              "      box-shadow: 0px 1px 2px rgba(60, 64, 67, 0.3), 0px 1px 3px 1px rgba(60, 64, 67, 0.15);\n",
              "      fill: #174EA6;\n",
              "    }\n",
              "\n",
              "    .colab-df-buttons div {\n",
              "      margin-bottom: 4px;\n",
              "    }\n",
              "\n",
              "    [theme=dark] .colab-df-convert {\n",
              "      background-color: #3B4455;\n",
              "      fill: #D2E3FC;\n",
              "    }\n",
              "\n",
              "    [theme=dark] .colab-df-convert:hover {\n",
              "      background-color: #434B5C;\n",
              "      box-shadow: 0px 1px 3px 1px rgba(0, 0, 0, 0.15);\n",
              "      filter: drop-shadow(0px 1px 2px rgba(0, 0, 0, 0.3));\n",
              "      fill: #FFFFFF;\n",
              "    }\n",
              "  </style>\n",
              "\n",
              "    <script>\n",
              "      const buttonEl =\n",
              "        document.querySelector('#df-85f85f73-2421-4157-89d0-6cac21bb1899 button.colab-df-convert');\n",
              "      buttonEl.style.display =\n",
              "        google.colab.kernel.accessAllowed ? 'block' : 'none';\n",
              "\n",
              "      async function convertToInteractive(key) {\n",
              "        const element = document.querySelector('#df-85f85f73-2421-4157-89d0-6cac21bb1899');\n",
              "        const dataTable =\n",
              "          await google.colab.kernel.invokeFunction('convertToInteractive',\n",
              "                                                    [key], {});\n",
              "        if (!dataTable) return;\n",
              "\n",
              "        const docLinkHtml = 'Like what you see? Visit the ' +\n",
              "          '<a target=\"_blank\" href=https://colab.research.google.com/notebooks/data_table.ipynb>data table notebook</a>'\n",
              "          + ' to learn more about interactive tables.';\n",
              "        element.innerHTML = '';\n",
              "        dataTable['output_type'] = 'display_data';\n",
              "        await google.colab.output.renderOutput(dataTable, element);\n",
              "        const docLink = document.createElement('div');\n",
              "        docLink.innerHTML = docLinkHtml;\n",
              "        element.appendChild(docLink);\n",
              "      }\n",
              "    </script>\n",
              "  </div>\n",
              "\n",
              "\n",
              "<div id=\"df-cf058d64-7a33-4abd-9e5a-41c22288894b\">\n",
              "  <button class=\"colab-df-quickchart\" onclick=\"quickchart('df-cf058d64-7a33-4abd-9e5a-41c22288894b')\"\n",
              "            title=\"Suggest charts\"\n",
              "            style=\"display:none;\">\n",
              "\n",
              "<svg xmlns=\"http://www.w3.org/2000/svg\" height=\"24px\"viewBox=\"0 0 24 24\"\n",
              "     width=\"24px\">\n",
              "    <g>\n",
              "        <path d=\"M19 3H5c-1.1 0-2 .9-2 2v14c0 1.1.9 2 2 2h14c1.1 0 2-.9 2-2V5c0-1.1-.9-2-2-2zM9 17H7v-7h2v7zm4 0h-2V7h2v10zm4 0h-2v-4h2v4z\"/>\n",
              "    </g>\n",
              "</svg>\n",
              "  </button>\n",
              "\n",
              "<style>\n",
              "  .colab-df-quickchart {\n",
              "      --bg-color: #E8F0FE;\n",
              "      --fill-color: #1967D2;\n",
              "      --hover-bg-color: #E2EBFA;\n",
              "      --hover-fill-color: #174EA6;\n",
              "      --disabled-fill-color: #AAA;\n",
              "      --disabled-bg-color: #DDD;\n",
              "  }\n",
              "\n",
              "  [theme=dark] .colab-df-quickchart {\n",
              "      --bg-color: #3B4455;\n",
              "      --fill-color: #D2E3FC;\n",
              "      --hover-bg-color: #434B5C;\n",
              "      --hover-fill-color: #FFFFFF;\n",
              "      --disabled-bg-color: #3B4455;\n",
              "      --disabled-fill-color: #666;\n",
              "  }\n",
              "\n",
              "  .colab-df-quickchart {\n",
              "    background-color: var(--bg-color);\n",
              "    border: none;\n",
              "    border-radius: 50%;\n",
              "    cursor: pointer;\n",
              "    display: none;\n",
              "    fill: var(--fill-color);\n",
              "    height: 32px;\n",
              "    padding: 0;\n",
              "    width: 32px;\n",
              "  }\n",
              "\n",
              "  .colab-df-quickchart:hover {\n",
              "    background-color: var(--hover-bg-color);\n",
              "    box-shadow: 0 1px 2px rgba(60, 64, 67, 0.3), 0 1px 3px 1px rgba(60, 64, 67, 0.15);\n",
              "    fill: var(--button-hover-fill-color);\n",
              "  }\n",
              "\n",
              "  .colab-df-quickchart-complete:disabled,\n",
              "  .colab-df-quickchart-complete:disabled:hover {\n",
              "    background-color: var(--disabled-bg-color);\n",
              "    fill: var(--disabled-fill-color);\n",
              "    box-shadow: none;\n",
              "  }\n",
              "\n",
              "  .colab-df-spinner {\n",
              "    border: 2px solid var(--fill-color);\n",
              "    border-color: transparent;\n",
              "    border-bottom-color: var(--fill-color);\n",
              "    animation:\n",
              "      spin 1s steps(1) infinite;\n",
              "  }\n",
              "\n",
              "  @keyframes spin {\n",
              "    0% {\n",
              "      border-color: transparent;\n",
              "      border-bottom-color: var(--fill-color);\n",
              "      border-left-color: var(--fill-color);\n",
              "    }\n",
              "    20% {\n",
              "      border-color: transparent;\n",
              "      border-left-color: var(--fill-color);\n",
              "      border-top-color: var(--fill-color);\n",
              "    }\n",
              "    30% {\n",
              "      border-color: transparent;\n",
              "      border-left-color: var(--fill-color);\n",
              "      border-top-color: var(--fill-color);\n",
              "      border-right-color: var(--fill-color);\n",
              "    }\n",
              "    40% {\n",
              "      border-color: transparent;\n",
              "      border-right-color: var(--fill-color);\n",
              "      border-top-color: var(--fill-color);\n",
              "    }\n",
              "    60% {\n",
              "      border-color: transparent;\n",
              "      border-right-color: var(--fill-color);\n",
              "    }\n",
              "    80% {\n",
              "      border-color: transparent;\n",
              "      border-right-color: var(--fill-color);\n",
              "      border-bottom-color: var(--fill-color);\n",
              "    }\n",
              "    90% {\n",
              "      border-color: transparent;\n",
              "      border-bottom-color: var(--fill-color);\n",
              "    }\n",
              "  }\n",
              "</style>\n",
              "\n",
              "  <script>\n",
              "    async function quickchart(key) {\n",
              "      const quickchartButtonEl =\n",
              "        document.querySelector('#' + key + ' button');\n",
              "      quickchartButtonEl.disabled = true;  // To prevent multiple clicks.\n",
              "      quickchartButtonEl.classList.add('colab-df-spinner');\n",
              "      try {\n",
              "        const charts = await google.colab.kernel.invokeFunction(\n",
              "            'suggestCharts', [key], {});\n",
              "      } catch (error) {\n",
              "        console.error('Error during call to suggestCharts:', error);\n",
              "      }\n",
              "      quickchartButtonEl.classList.remove('colab-df-spinner');\n",
              "      quickchartButtonEl.classList.add('colab-df-quickchart-complete');\n",
              "    }\n",
              "    (() => {\n",
              "      let quickchartButtonEl =\n",
              "        document.querySelector('#df-cf058d64-7a33-4abd-9e5a-41c22288894b button');\n",
              "      quickchartButtonEl.style.display =\n",
              "        google.colab.kernel.accessAllowed ? 'block' : 'none';\n",
              "    })();\n",
              "  </script>\n",
              "</div>\n",
              "\n",
              "    </div>\n",
              "  </div>\n"
            ],
            "application/vnd.google.colaboratory.intrinsic+json": {
              "type": "dataframe",
              "variable_name": "df3",
              "summary": "{\n  \"name\": \"df3\",\n  \"rows\": 65328,\n  \"fields\": [\n    {\n      \"column\": \"text\",\n      \"properties\": {\n        \"dtype\": \"string\",\n        \"num_unique_values\": 65251,\n        \"samples\": [\n          \"the author suggest that studi venu is worthi becaus it use to be just like earth and ther alot of thing we still need to discov becaus it could be habbit for human to lie on it later in life and if with the right tecnolog we could explor and learn about the planet more in paragraph 4 the text state if our sister planet is so inhosit whi are scientist even discusi further visit to it surfac astronom are fascin by venu becaus it may well onc have been the most earth like planet in our solar system long ago venu wa probabl cover larg with ocean and could have support variou form of life just like earth today venu still ha some earth like featur that are analog to those on earth also in paragraph 5 the text state solar power would be plenti and radiat would exceed earth level not easi condit but surviabl for human thisa rpove that venu is worth the pursuit despit the danger it present\",\n          \"driverless car also known as autonom vehicl are a type of car that can oper without the need for a human driver they are equip with advanc sensor camera and ai technolog that allow them to recogn their surround navig the road and make decis in realtim one of the key benefit of driverless car is increas safeti unlik human driver autonom vehicl can oper without the distract of text eat or talk on the phone they can also react to potenti accid faster than a human driver potenti save live in danger situat anoth benefit of driverless car is increas effici by remov the need for a human driver traffic flow can be optim and the overal travel time can be reduc thi can lead to a reduct in fuel consumpt and co2 emiss therefor contribut to a more sustain transport system howev there are also challeng associ with driverless car includ the cost of develop and mainten the need for new infrastructur and the impact on the job market the cost of develop autonom vehicl is high and the initi cost to implement them on a larg scale could be prohibit for mani govern addit there may be a need to modifi and rebuild exist infrastructur to accommod autonom vehicl which could be costli and timeconsum the impact of driverless car on the job market is also a concern with autonom vehicl potenti replac human driver mani job could be lost in the transport industri while thi could happen it could also creat new job in field such as softwar develop mainten and logist it import to consid the overal impact on the job market befor widespread adopt of driverless car overal driverless car have the potenti to revolution the transport industri they offer increas safeti and effici but there are challeng associ with the implement of thi new technolog that need to be overcom as we consid the futur of transport the role of driverless car should be serious consid as a potenti solut to mani of the challeng we face in the industri today in conclus driverless car are a promis technolog that will revolution how we move around increas safeti and effici while decreas congest and carbon emiss howev their widespread adopt also requir address concern relat to cost infrastructur and job market impact as we move forward with thi technolog it is import to care consid these challeng and ensur that it is implement in a way that benefit societi as a whole\",\n          \"venu the second planet in our solar system from the sun ha long been a subject of fascin for scientist explor and dreamer alik as the earth sister planet venu share mani of the same characterist that make our home planet so special yet it is also a world of mysteri beauti and danger in thi essay we will explor the variou aspect of venu and what make it such a uniqu and intrigu planet to studi first let consid the size and composit of venu like earth venu is a terrestri planet mean it is primarili compos of rock and metal howev venu is significantli smaller than earth with a diamet of approxim 7500 mile compar to earth 79175 mile despit thi venu ha a thick atmospher which add to it mysteri allur the atmospher of venu is compos mainli of carbon dioxid with cloud of sulfur acid that can reach altitud of up to 37 mile one of the most strike featur of venu is it incred dens atmospher which is more than 90 time denser than earth thi high densiti is what trap heat on venu make it the hottest planet in our solar system the averag surfac temperatur on venu is around 900 degre fahrenheit with some area reach temperatur of up to 960 degre thi extrem heat is what creat the runaway greenhous effect that trap so much heat on venu make it more like a stove than a planet the dens atmospher of venu also rais some interest question about it potenti for support life while the extrem heat and high pressur make it difficult to imagin life thrive on venu scientist have discov that some microorgan on earth are capabl of surviv in similar condit therefor it is possibl that venu may onc have had life or may even still have some form of life hidden beneath it surfac anoth fascin aspect of venu is it rotat while earth rotat counterclockwis on it axi venu rotat clockwis thi is known as retrograd rotat and is rel unusu in the solar system it is believ that thi strang rotat may be due to a collis between venu and a larg impactor earli in it histori in addit to it mysteri rotat behavior venu also ha some interest geolog featur like earth venu ha volcano mountain and valley howev due to it thick atmospher and extrem heat venu also ha some uniqu geolog process for exampl lava flow on venu are not like those on earth as they are carri by cloud of hot ga in the atmospher final venu ha been the subject of mani mission and scientif studi in the 1970 the soviet union sent the venera mission to venu which includ the famou venera 7 lander which wa the first spacecraft to land on anoth planet more recent nasa magellan spacecraft orbit venu for over a decad map 100 percent of the planet surfac in conclus venu is a fascin planet that ha captur the imagin of explor scientist and dreamer for centuri it similar and differ\"\n        ],\n        \"semantic_type\": \"\",\n        \"description\": \"\"\n      }\n    },\n    {\n      \"column\": \"label\",\n      \"properties\": {\n        \"dtype\": \"number\",\n        \"std\": 0,\n        \"min\": 0,\n        \"max\": 1,\n        \"num_unique_values\": 2,\n        \"samples\": [\n          1,\n          0\n        ],\n        \"semantic_type\": \"\",\n        \"description\": \"\"\n      }\n    },\n    {\n      \"column\": \"prompt_name\",\n      \"properties\": {\n        \"dtype\": \"category\",\n        \"num_unique_values\": 15,\n        \"samples\": [\n          \"Grades for extracurricular activities\",\n          \"Does the electoral college work?\"\n        ],\n        \"semantic_type\": \"\",\n        \"description\": \"\"\n      }\n    },\n    {\n      \"column\": \"source\",\n      \"properties\": {\n        \"dtype\": \"category\",\n        \"num_unique_values\": 28,\n        \"samples\": [\n          \"radek_500\",\n          \"text-davinci-001\"\n        ],\n        \"semantic_type\": \"\",\n        \"description\": \"\"\n      }\n    },\n    {\n      \"column\": \"stratify_key\",\n      \"properties\": {\n        \"dtype\": \"category\",\n        \"num_unique_values\": 250,\n        \"samples\": [\n          \"Mandatory extracurricular activities_palm-text-bison1_1\",\n          \"Facial action coding system_persuade_corpus_0\"\n        ],\n        \"semantic_type\": \"\",\n        \"description\": \"\"\n      }\n    }\n  ]\n}"
            }
          },
          "metadata": {},
          "execution_count": 114
        }
      ]
    },
    {
      "cell_type": "markdown",
      "source": [
        "## Removing stopword"
      ],
      "metadata": {
        "id": "4Cn67Ux17TBZ"
      }
    },
    {
      "cell_type": "code",
      "source": [
        "df4 = df1.copy()\n",
        "df4.head()"
      ],
      "metadata": {
        "colab": {
          "base_uri": "https://localhost:8080/",
          "height": 206
        },
        "id": "LzlbaiXh_X0i",
        "outputId": "f345bfbe-17b3-47d0-c5dc-7707a9096d77"
      },
      "execution_count": 115,
      "outputs": [
        {
          "output_type": "execute_result",
          "data": {
            "text/plain": [
              "                                                text  label  \\\n",
              "0  Phones Modern humans today are always on their...      0   \n",
              "1  This essay will explain if drivers should or s...      0   \n",
              "2  Driving while the use of cellular devices Toda...      0   \n",
              "3  Phones & Driving Drivers should not be able to...      0   \n",
              "4  Cell Phone Operation While Driving The ability...      0   \n",
              "\n",
              "          prompt_name           source                          stratify_key  \n",
              "0  Phones and driving  persuade_corpus  Phones and driving_persuade_corpus_0  \n",
              "1  Phones and driving  persuade_corpus  Phones and driving_persuade_corpus_0  \n",
              "2  Phones and driving  persuade_corpus  Phones and driving_persuade_corpus_0  \n",
              "3  Phones and driving  persuade_corpus  Phones and driving_persuade_corpus_0  \n",
              "4  Phones and driving  persuade_corpus  Phones and driving_persuade_corpus_0  "
            ],
            "text/html": [
              "\n",
              "  <div id=\"df-124ccc27-ab24-458f-806d-fa5d1822bb50\" class=\"colab-df-container\">\n",
              "    <div>\n",
              "<style scoped>\n",
              "    .dataframe tbody tr th:only-of-type {\n",
              "        vertical-align: middle;\n",
              "    }\n",
              "\n",
              "    .dataframe tbody tr th {\n",
              "        vertical-align: top;\n",
              "    }\n",
              "\n",
              "    .dataframe thead th {\n",
              "        text-align: right;\n",
              "    }\n",
              "</style>\n",
              "<table border=\"1\" class=\"dataframe\">\n",
              "  <thead>\n",
              "    <tr style=\"text-align: right;\">\n",
              "      <th></th>\n",
              "      <th>text</th>\n",
              "      <th>label</th>\n",
              "      <th>prompt_name</th>\n",
              "      <th>source</th>\n",
              "      <th>stratify_key</th>\n",
              "    </tr>\n",
              "  </thead>\n",
              "  <tbody>\n",
              "    <tr>\n",
              "      <th>0</th>\n",
              "      <td>Phones Modern humans today are always on their...</td>\n",
              "      <td>0</td>\n",
              "      <td>Phones and driving</td>\n",
              "      <td>persuade_corpus</td>\n",
              "      <td>Phones and driving_persuade_corpus_0</td>\n",
              "    </tr>\n",
              "    <tr>\n",
              "      <th>1</th>\n",
              "      <td>This essay will explain if drivers should or s...</td>\n",
              "      <td>0</td>\n",
              "      <td>Phones and driving</td>\n",
              "      <td>persuade_corpus</td>\n",
              "      <td>Phones and driving_persuade_corpus_0</td>\n",
              "    </tr>\n",
              "    <tr>\n",
              "      <th>2</th>\n",
              "      <td>Driving while the use of cellular devices Toda...</td>\n",
              "      <td>0</td>\n",
              "      <td>Phones and driving</td>\n",
              "      <td>persuade_corpus</td>\n",
              "      <td>Phones and driving_persuade_corpus_0</td>\n",
              "    </tr>\n",
              "    <tr>\n",
              "      <th>3</th>\n",
              "      <td>Phones &amp; Driving Drivers should not be able to...</td>\n",
              "      <td>0</td>\n",
              "      <td>Phones and driving</td>\n",
              "      <td>persuade_corpus</td>\n",
              "      <td>Phones and driving_persuade_corpus_0</td>\n",
              "    </tr>\n",
              "    <tr>\n",
              "      <th>4</th>\n",
              "      <td>Cell Phone Operation While Driving The ability...</td>\n",
              "      <td>0</td>\n",
              "      <td>Phones and driving</td>\n",
              "      <td>persuade_corpus</td>\n",
              "      <td>Phones and driving_persuade_corpus_0</td>\n",
              "    </tr>\n",
              "  </tbody>\n",
              "</table>\n",
              "</div>\n",
              "    <div class=\"colab-df-buttons\">\n",
              "\n",
              "  <div class=\"colab-df-container\">\n",
              "    <button class=\"colab-df-convert\" onclick=\"convertToInteractive('df-124ccc27-ab24-458f-806d-fa5d1822bb50')\"\n",
              "            title=\"Convert this dataframe to an interactive table.\"\n",
              "            style=\"display:none;\">\n",
              "\n",
              "  <svg xmlns=\"http://www.w3.org/2000/svg\" height=\"24px\" viewBox=\"0 -960 960 960\">\n",
              "    <path d=\"M120-120v-720h720v720H120Zm60-500h600v-160H180v160Zm220 220h160v-160H400v160Zm0 220h160v-160H400v160ZM180-400h160v-160H180v160Zm440 0h160v-160H620v160ZM180-180h160v-160H180v160Zm440 0h160v-160H620v160Z\"/>\n",
              "  </svg>\n",
              "    </button>\n",
              "\n",
              "  <style>\n",
              "    .colab-df-container {\n",
              "      display:flex;\n",
              "      gap: 12px;\n",
              "    }\n",
              "\n",
              "    .colab-df-convert {\n",
              "      background-color: #E8F0FE;\n",
              "      border: none;\n",
              "      border-radius: 50%;\n",
              "      cursor: pointer;\n",
              "      display: none;\n",
              "      fill: #1967D2;\n",
              "      height: 32px;\n",
              "      padding: 0 0 0 0;\n",
              "      width: 32px;\n",
              "    }\n",
              "\n",
              "    .colab-df-convert:hover {\n",
              "      background-color: #E2EBFA;\n",
              "      box-shadow: 0px 1px 2px rgba(60, 64, 67, 0.3), 0px 1px 3px 1px rgba(60, 64, 67, 0.15);\n",
              "      fill: #174EA6;\n",
              "    }\n",
              "\n",
              "    .colab-df-buttons div {\n",
              "      margin-bottom: 4px;\n",
              "    }\n",
              "\n",
              "    [theme=dark] .colab-df-convert {\n",
              "      background-color: #3B4455;\n",
              "      fill: #D2E3FC;\n",
              "    }\n",
              "\n",
              "    [theme=dark] .colab-df-convert:hover {\n",
              "      background-color: #434B5C;\n",
              "      box-shadow: 0px 1px 3px 1px rgba(0, 0, 0, 0.15);\n",
              "      filter: drop-shadow(0px 1px 2px rgba(0, 0, 0, 0.3));\n",
              "      fill: #FFFFFF;\n",
              "    }\n",
              "  </style>\n",
              "\n",
              "    <script>\n",
              "      const buttonEl =\n",
              "        document.querySelector('#df-124ccc27-ab24-458f-806d-fa5d1822bb50 button.colab-df-convert');\n",
              "      buttonEl.style.display =\n",
              "        google.colab.kernel.accessAllowed ? 'block' : 'none';\n",
              "\n",
              "      async function convertToInteractive(key) {\n",
              "        const element = document.querySelector('#df-124ccc27-ab24-458f-806d-fa5d1822bb50');\n",
              "        const dataTable =\n",
              "          await google.colab.kernel.invokeFunction('convertToInteractive',\n",
              "                                                    [key], {});\n",
              "        if (!dataTable) return;\n",
              "\n",
              "        const docLinkHtml = 'Like what you see? Visit the ' +\n",
              "          '<a target=\"_blank\" href=https://colab.research.google.com/notebooks/data_table.ipynb>data table notebook</a>'\n",
              "          + ' to learn more about interactive tables.';\n",
              "        element.innerHTML = '';\n",
              "        dataTable['output_type'] = 'display_data';\n",
              "        await google.colab.output.renderOutput(dataTable, element);\n",
              "        const docLink = document.createElement('div');\n",
              "        docLink.innerHTML = docLinkHtml;\n",
              "        element.appendChild(docLink);\n",
              "      }\n",
              "    </script>\n",
              "  </div>\n",
              "\n",
              "\n",
              "<div id=\"df-674eebdf-5cb2-42cd-9e22-1f9eaeecb990\">\n",
              "  <button class=\"colab-df-quickchart\" onclick=\"quickchart('df-674eebdf-5cb2-42cd-9e22-1f9eaeecb990')\"\n",
              "            title=\"Suggest charts\"\n",
              "            style=\"display:none;\">\n",
              "\n",
              "<svg xmlns=\"http://www.w3.org/2000/svg\" height=\"24px\"viewBox=\"0 0 24 24\"\n",
              "     width=\"24px\">\n",
              "    <g>\n",
              "        <path d=\"M19 3H5c-1.1 0-2 .9-2 2v14c0 1.1.9 2 2 2h14c1.1 0 2-.9 2-2V5c0-1.1-.9-2-2-2zM9 17H7v-7h2v7zm4 0h-2V7h2v10zm4 0h-2v-4h2v4z\"/>\n",
              "    </g>\n",
              "</svg>\n",
              "  </button>\n",
              "\n",
              "<style>\n",
              "  .colab-df-quickchart {\n",
              "      --bg-color: #E8F0FE;\n",
              "      --fill-color: #1967D2;\n",
              "      --hover-bg-color: #E2EBFA;\n",
              "      --hover-fill-color: #174EA6;\n",
              "      --disabled-fill-color: #AAA;\n",
              "      --disabled-bg-color: #DDD;\n",
              "  }\n",
              "\n",
              "  [theme=dark] .colab-df-quickchart {\n",
              "      --bg-color: #3B4455;\n",
              "      --fill-color: #D2E3FC;\n",
              "      --hover-bg-color: #434B5C;\n",
              "      --hover-fill-color: #FFFFFF;\n",
              "      --disabled-bg-color: #3B4455;\n",
              "      --disabled-fill-color: #666;\n",
              "  }\n",
              "\n",
              "  .colab-df-quickchart {\n",
              "    background-color: var(--bg-color);\n",
              "    border: none;\n",
              "    border-radius: 50%;\n",
              "    cursor: pointer;\n",
              "    display: none;\n",
              "    fill: var(--fill-color);\n",
              "    height: 32px;\n",
              "    padding: 0;\n",
              "    width: 32px;\n",
              "  }\n",
              "\n",
              "  .colab-df-quickchart:hover {\n",
              "    background-color: var(--hover-bg-color);\n",
              "    box-shadow: 0 1px 2px rgba(60, 64, 67, 0.3), 0 1px 3px 1px rgba(60, 64, 67, 0.15);\n",
              "    fill: var(--button-hover-fill-color);\n",
              "  }\n",
              "\n",
              "  .colab-df-quickchart-complete:disabled,\n",
              "  .colab-df-quickchart-complete:disabled:hover {\n",
              "    background-color: var(--disabled-bg-color);\n",
              "    fill: var(--disabled-fill-color);\n",
              "    box-shadow: none;\n",
              "  }\n",
              "\n",
              "  .colab-df-spinner {\n",
              "    border: 2px solid var(--fill-color);\n",
              "    border-color: transparent;\n",
              "    border-bottom-color: var(--fill-color);\n",
              "    animation:\n",
              "      spin 1s steps(1) infinite;\n",
              "  }\n",
              "\n",
              "  @keyframes spin {\n",
              "    0% {\n",
              "      border-color: transparent;\n",
              "      border-bottom-color: var(--fill-color);\n",
              "      border-left-color: var(--fill-color);\n",
              "    }\n",
              "    20% {\n",
              "      border-color: transparent;\n",
              "      border-left-color: var(--fill-color);\n",
              "      border-top-color: var(--fill-color);\n",
              "    }\n",
              "    30% {\n",
              "      border-color: transparent;\n",
              "      border-left-color: var(--fill-color);\n",
              "      border-top-color: var(--fill-color);\n",
              "      border-right-color: var(--fill-color);\n",
              "    }\n",
              "    40% {\n",
              "      border-color: transparent;\n",
              "      border-right-color: var(--fill-color);\n",
              "      border-top-color: var(--fill-color);\n",
              "    }\n",
              "    60% {\n",
              "      border-color: transparent;\n",
              "      border-right-color: var(--fill-color);\n",
              "    }\n",
              "    80% {\n",
              "      border-color: transparent;\n",
              "      border-right-color: var(--fill-color);\n",
              "      border-bottom-color: var(--fill-color);\n",
              "    }\n",
              "    90% {\n",
              "      border-color: transparent;\n",
              "      border-bottom-color: var(--fill-color);\n",
              "    }\n",
              "  }\n",
              "</style>\n",
              "\n",
              "  <script>\n",
              "    async function quickchart(key) {\n",
              "      const quickchartButtonEl =\n",
              "        document.querySelector('#' + key + ' button');\n",
              "      quickchartButtonEl.disabled = true;  // To prevent multiple clicks.\n",
              "      quickchartButtonEl.classList.add('colab-df-spinner');\n",
              "      try {\n",
              "        const charts = await google.colab.kernel.invokeFunction(\n",
              "            'suggestCharts', [key], {});\n",
              "      } catch (error) {\n",
              "        console.error('Error during call to suggestCharts:', error);\n",
              "      }\n",
              "      quickchartButtonEl.classList.remove('colab-df-spinner');\n",
              "      quickchartButtonEl.classList.add('colab-df-quickchart-complete');\n",
              "    }\n",
              "    (() => {\n",
              "      let quickchartButtonEl =\n",
              "        document.querySelector('#df-674eebdf-5cb2-42cd-9e22-1f9eaeecb990 button');\n",
              "      quickchartButtonEl.style.display =\n",
              "        google.colab.kernel.accessAllowed ? 'block' : 'none';\n",
              "    })();\n",
              "  </script>\n",
              "</div>\n",
              "\n",
              "    </div>\n",
              "  </div>\n"
            ],
            "application/vnd.google.colaboratory.intrinsic+json": {
              "type": "dataframe",
              "variable_name": "df4",
              "summary": "{\n  \"name\": \"df4\",\n  \"rows\": 65328,\n  \"fields\": [\n    {\n      \"column\": \"text\",\n      \"properties\": {\n        \"dtype\": \"string\",\n        \"num_unique_values\": 65321,\n        \"samples\": [\n          \"The cowboy who rode the waves is a metaphorical story that many people can relate to. It is about a person who is determined to overcome obstacles and reach their goal, no matter how difficult it may seem. The cowboy imagery is often associated with ruggedness, independence, and a spirit of adventure. These are all qualities that people aspire to possess, especially in the face of challenges. In this essay, we will explore the cowboy who rode the waves and the lessons that can be learned from this inspiring story. At first glance, the idea of a cowboy riding the waves may seem strange. Cowboys are known for their rugged appearance, cowboy hats, and wide-brimmed buckaroos, not for their ability to ride waves on a surfboard. However, the cowboy who rode the waves represents a symbolic journey that transcends physical limits. It is a story about a person who is determined to overcome adversity and reach their dreams, even if it means stepping outside of their comfort zone. The journey of the cowboy who rode the waves can be seen as a metaphor for the struggles that we all face in life. Life can be unpredictable, and we often encounter unexpected challenges. We may struggle with our jobs, relationships, finances, or health. In these moments, it is easy to feel overwhelmed and helpless. However, like the cowboy who rode the waves, we must find the strength to push through and persevere. One of the key lessons that can be learned from the story of the cowboy who rode the waves is the importance of resilience. Resilience is the ability to bounce back from difficult situations and to keep moving forward. It is the willingness to take risks and to try new things, even if they seem impossible at first. The cowboy who rode the waves demonstrates the power of resilience and shows us that anything is possible if we are willing to believe in ourselves and take action. Another lesson that can be learned from this story is the importance of perseverance. Life is full of obstacles, and it can be easy to give up when things get tough. However, the cowboy who rode the waves shows us that perseverance is essential when it comes to achieving our dreams. Even when the waves were crashing, the cowboy continued to ride, determined to reach the other side. In this story, perseverance is a powerful reminder that nothing worth achieving comes easy. The story of the cowboy who rode the waves is an inspiring tale of determination and resilience. It shows us that anything is possible if we are willing to believe in ourselves and push through the challenges that come our way. This story can help us develop the strength and perseverance we need to overcome obstacles and achieve our goals. By embracing the cowboy spirit, we can live a life of adventure and fulfillment, and never stop riding the waves.\",\n          \"School can be tiring and stressful on every high school student and I know most of us can agree on that. There is a way to make school easier and comfortable. Many have debated over if online learning is actually beneficial and much easier than normal school. Instead of being in a classroom you would be on a video confrontation or following instructions from a text. Although some say online learning is not beneficial in reality it is very beneficial. Online learning can cause some problems, for example when your at home you intend to get more distracted with your phone,TV, food, and anything else at your home. Distraction isn't the only issue that you can come across with, technology is not perfect many things could happen that could set you back for that day of learning. Many students prefer classrooms over online learning due to the 1 on 1 help with a teacher. In online learning you won't be able to get that 1 on 1 learning unless through video chat. Getting help from a classmate will also not be availabe and you will have to rely more on yourself and the teacher through online learning. Even with some downsides to online learning there are more positives then negatives. At home there is more comfort than in a classroom and the more comfortable you are the better you learn. The best part of learning at home is that you have control on the way you want to learn, if you know that your phone is a problem turn it off while learning and take brain breaks something that most teachers don't allow. Everyone knows themselves better than anyone else, so you know how you learn or work the best. For example let's say you work the best while listening to music, well at home you will be able to do that or let's say you are a person that can't learn or concentrate while being hungry, at home you will be able to eat snacks or food and keep you learning. Waking up every morning and going to school can be tiring and affect your ability to learn, but if you were to take online classes you would be able to get that extra sleep in and wake up with more energy and learn much easier. Especially in high school many students stay up late to study or to finish a project that's due the next day and end up going to school drowsy and tired. With online learning you will get more time to fully understand a certain topic and spend more time evaluating your work, but in school you have bells so every class is timed which rushes the teachers on teaching and rushes the students on getting it. Online learning will also present a more flexible schedule for students, most students today are busy with other things like sports, work, and etc. In conclusion online learning is a much better way of learning and beneficial for the students and teachers. The students have more control on the way they learn and how they get to learn which comes with more positives than negatives. Students will be able to have more time, comfort, understanding of the topic, and sleep to come back the next day ready to learn. Although some say that online learning is not beneficial it's actually more beneficial for students.\",\n          \"Have you ever been faced with a difficult decision and asked multiple people for advice? Was it helpful when making your choice? Many people have, and found that asking more than one person for advice helped them make a better decision. Seeking multiple opinions can assist you in making a better choice by, helping you better evaluate your options, learning from others experiences and, exposing you to multiple viewpoints. Asking multiple people for advice can help you better evaluate your options. Others who are wiser might understand the implications of the choices more and could help you come to an informed decision. If you do not understand your choices you will not be able to make a knowledgeable decision. When asking multiple people for advice you will receive more knowledge on the topic, and the more you know the better your decision will be. By understanding each choice and its effects, you will be able to make a wiser decision. You will also learn from others experiences by seeking multiple opinions. Each person is shaped by his or her life experiences and will have different wisdom to share. By seeking advice from multiple people you will receive knowledge and opinions derived from experience. This information will show you some of the possible outcomes of your choices and will help you choose what is best. Learning from people who have been in a similar situation will help you come to a better decision. When asking for advice from more than one person you will be exposed to multiple viewpoints. Being exposed to differing opinions might enlighten you and help you discover something you had not thought of. Seeking multiple opinions can change the way you perceive your choices and help you come to a decision. Looking at a situation from multiple points of view will allow you to see all of the possibilities of your choice. Being exposed to multiple viewpoints will help you make a better decision. When faced with a difficult decision people sometimes confer with more than one other person. By asking for advice from multiple people, they are helping themselves make an educated decision. Seeking multiple opinions can expose you to the knowledge, experience, and opinions of others. In conclusion seeking the advice of multiple people when making a decision will help you make the right choice.\"\n        ],\n        \"semantic_type\": \"\",\n        \"description\": \"\"\n      }\n    },\n    {\n      \"column\": \"label\",\n      \"properties\": {\n        \"dtype\": \"number\",\n        \"std\": 0,\n        \"min\": 0,\n        \"max\": 1,\n        \"num_unique_values\": 2,\n        \"samples\": [\n          1,\n          0\n        ],\n        \"semantic_type\": \"\",\n        \"description\": \"\"\n      }\n    },\n    {\n      \"column\": \"prompt_name\",\n      \"properties\": {\n        \"dtype\": \"category\",\n        \"num_unique_values\": 15,\n        \"samples\": [\n          \"Grades for extracurricular activities\",\n          \"Does the electoral college work?\"\n        ],\n        \"semantic_type\": \"\",\n        \"description\": \"\"\n      }\n    },\n    {\n      \"column\": \"source\",\n      \"properties\": {\n        \"dtype\": \"category\",\n        \"num_unique_values\": 28,\n        \"samples\": [\n          \"radek_500\",\n          \"text-davinci-001\"\n        ],\n        \"semantic_type\": \"\",\n        \"description\": \"\"\n      }\n    },\n    {\n      \"column\": \"stratify_key\",\n      \"properties\": {\n        \"dtype\": \"category\",\n        \"num_unique_values\": 250,\n        \"samples\": [\n          \"Mandatory extracurricular activities_palm-text-bison1_1\",\n          \"Facial action coding system_persuade_corpus_0\"\n        ],\n        \"semantic_type\": \"\",\n        \"description\": \"\"\n      }\n    }\n  ]\n}"
            }
          },
          "metadata": {},
          "execution_count": 115
        }
      ]
    },
    {
      "cell_type": "code",
      "source": [
        "from nltk.corpus import stopwords\n",
        "nltk.download('stopwords')"
      ],
      "metadata": {
        "colab": {
          "base_uri": "https://localhost:8080/"
        },
        "id": "eCBxzZmx7bvi",
        "outputId": "8e2241e1-d694-4940-fd38-957c7c145ff9"
      },
      "execution_count": 116,
      "outputs": [
        {
          "output_type": "stream",
          "name": "stderr",
          "text": [
            "[nltk_data] Downloading package stopwords to /root/nltk_data...\n",
            "[nltk_data]   Unzipping corpora/stopwords.zip.\n"
          ]
        },
        {
          "output_type": "execute_result",
          "data": {
            "text/plain": [
              "True"
            ]
          },
          "metadata": {},
          "execution_count": 116
        }
      ]
    },
    {
      "cell_type": "code",
      "source": [
        "# Initialize stopwords list\n",
        "stop_words = set(stopwords.words('english'))\n",
        "\n",
        "# Function to clean text (remove punctuation and stopwords)\n",
        "def clean_text(text):\n",
        "    # Remove punctuation\n",
        "    text = text.translate(str.maketrans('', '', string.punctuation))\n",
        "    # Tokenize the text\n",
        "    words = word_tokenize(text)\n",
        "    # Remove stopwords\n",
        "    filtered_words = [word for word in words if word.lower() not in stop_words]\n",
        "    # Join the filtered words back into a sentence\n",
        "    return ' '.join(filtered_words)\n",
        "\n",
        "# Apply the function to the 'text' column\n",
        "df4['text'] = df4['text'].apply(clean_text)"
      ],
      "metadata": {
        "id": "zlfiEmlQ_H6U"
      },
      "execution_count": 117,
      "outputs": []
    },
    {
      "cell_type": "code",
      "source": [
        "df4.head()"
      ],
      "metadata": {
        "colab": {
          "base_uri": "https://localhost:8080/",
          "height": 206
        },
        "id": "giqnCdtYDTSD",
        "outputId": "34a6803d-a166-4a58-e894-b77b1a5b264c"
      },
      "execution_count": 118,
      "outputs": [
        {
          "output_type": "execute_result",
          "data": {
            "text/plain": [
              "                                                text  label  \\\n",
              "0  Phones Modern humans today always phone always...      0   \n",
              "1  essay explain drivers able use electronic devi...      0   \n",
              "2  Driving use cellular devices Today society tho...      0   \n",
              "3  Phones Driving Drivers able use phones operati...      0   \n",
              "4  Cell Phone Operation Driving ability stay conn...      0   \n",
              "\n",
              "          prompt_name           source                          stratify_key  \n",
              "0  Phones and driving  persuade_corpus  Phones and driving_persuade_corpus_0  \n",
              "1  Phones and driving  persuade_corpus  Phones and driving_persuade_corpus_0  \n",
              "2  Phones and driving  persuade_corpus  Phones and driving_persuade_corpus_0  \n",
              "3  Phones and driving  persuade_corpus  Phones and driving_persuade_corpus_0  \n",
              "4  Phones and driving  persuade_corpus  Phones and driving_persuade_corpus_0  "
            ],
            "text/html": [
              "\n",
              "  <div id=\"df-8e1c3815-adf4-49a5-b33d-d84b5ccc4541\" class=\"colab-df-container\">\n",
              "    <div>\n",
              "<style scoped>\n",
              "    .dataframe tbody tr th:only-of-type {\n",
              "        vertical-align: middle;\n",
              "    }\n",
              "\n",
              "    .dataframe tbody tr th {\n",
              "        vertical-align: top;\n",
              "    }\n",
              "\n",
              "    .dataframe thead th {\n",
              "        text-align: right;\n",
              "    }\n",
              "</style>\n",
              "<table border=\"1\" class=\"dataframe\">\n",
              "  <thead>\n",
              "    <tr style=\"text-align: right;\">\n",
              "      <th></th>\n",
              "      <th>text</th>\n",
              "      <th>label</th>\n",
              "      <th>prompt_name</th>\n",
              "      <th>source</th>\n",
              "      <th>stratify_key</th>\n",
              "    </tr>\n",
              "  </thead>\n",
              "  <tbody>\n",
              "    <tr>\n",
              "      <th>0</th>\n",
              "      <td>Phones Modern humans today always phone always...</td>\n",
              "      <td>0</td>\n",
              "      <td>Phones and driving</td>\n",
              "      <td>persuade_corpus</td>\n",
              "      <td>Phones and driving_persuade_corpus_0</td>\n",
              "    </tr>\n",
              "    <tr>\n",
              "      <th>1</th>\n",
              "      <td>essay explain drivers able use electronic devi...</td>\n",
              "      <td>0</td>\n",
              "      <td>Phones and driving</td>\n",
              "      <td>persuade_corpus</td>\n",
              "      <td>Phones and driving_persuade_corpus_0</td>\n",
              "    </tr>\n",
              "    <tr>\n",
              "      <th>2</th>\n",
              "      <td>Driving use cellular devices Today society tho...</td>\n",
              "      <td>0</td>\n",
              "      <td>Phones and driving</td>\n",
              "      <td>persuade_corpus</td>\n",
              "      <td>Phones and driving_persuade_corpus_0</td>\n",
              "    </tr>\n",
              "    <tr>\n",
              "      <th>3</th>\n",
              "      <td>Phones Driving Drivers able use phones operati...</td>\n",
              "      <td>0</td>\n",
              "      <td>Phones and driving</td>\n",
              "      <td>persuade_corpus</td>\n",
              "      <td>Phones and driving_persuade_corpus_0</td>\n",
              "    </tr>\n",
              "    <tr>\n",
              "      <th>4</th>\n",
              "      <td>Cell Phone Operation Driving ability stay conn...</td>\n",
              "      <td>0</td>\n",
              "      <td>Phones and driving</td>\n",
              "      <td>persuade_corpus</td>\n",
              "      <td>Phones and driving_persuade_corpus_0</td>\n",
              "    </tr>\n",
              "  </tbody>\n",
              "</table>\n",
              "</div>\n",
              "    <div class=\"colab-df-buttons\">\n",
              "\n",
              "  <div class=\"colab-df-container\">\n",
              "    <button class=\"colab-df-convert\" onclick=\"convertToInteractive('df-8e1c3815-adf4-49a5-b33d-d84b5ccc4541')\"\n",
              "            title=\"Convert this dataframe to an interactive table.\"\n",
              "            style=\"display:none;\">\n",
              "\n",
              "  <svg xmlns=\"http://www.w3.org/2000/svg\" height=\"24px\" viewBox=\"0 -960 960 960\">\n",
              "    <path d=\"M120-120v-720h720v720H120Zm60-500h600v-160H180v160Zm220 220h160v-160H400v160Zm0 220h160v-160H400v160ZM180-400h160v-160H180v160Zm440 0h160v-160H620v160ZM180-180h160v-160H180v160Zm440 0h160v-160H620v160Z\"/>\n",
              "  </svg>\n",
              "    </button>\n",
              "\n",
              "  <style>\n",
              "    .colab-df-container {\n",
              "      display:flex;\n",
              "      gap: 12px;\n",
              "    }\n",
              "\n",
              "    .colab-df-convert {\n",
              "      background-color: #E8F0FE;\n",
              "      border: none;\n",
              "      border-radius: 50%;\n",
              "      cursor: pointer;\n",
              "      display: none;\n",
              "      fill: #1967D2;\n",
              "      height: 32px;\n",
              "      padding: 0 0 0 0;\n",
              "      width: 32px;\n",
              "    }\n",
              "\n",
              "    .colab-df-convert:hover {\n",
              "      background-color: #E2EBFA;\n",
              "      box-shadow: 0px 1px 2px rgba(60, 64, 67, 0.3), 0px 1px 3px 1px rgba(60, 64, 67, 0.15);\n",
              "      fill: #174EA6;\n",
              "    }\n",
              "\n",
              "    .colab-df-buttons div {\n",
              "      margin-bottom: 4px;\n",
              "    }\n",
              "\n",
              "    [theme=dark] .colab-df-convert {\n",
              "      background-color: #3B4455;\n",
              "      fill: #D2E3FC;\n",
              "    }\n",
              "\n",
              "    [theme=dark] .colab-df-convert:hover {\n",
              "      background-color: #434B5C;\n",
              "      box-shadow: 0px 1px 3px 1px rgba(0, 0, 0, 0.15);\n",
              "      filter: drop-shadow(0px 1px 2px rgba(0, 0, 0, 0.3));\n",
              "      fill: #FFFFFF;\n",
              "    }\n",
              "  </style>\n",
              "\n",
              "    <script>\n",
              "      const buttonEl =\n",
              "        document.querySelector('#df-8e1c3815-adf4-49a5-b33d-d84b5ccc4541 button.colab-df-convert');\n",
              "      buttonEl.style.display =\n",
              "        google.colab.kernel.accessAllowed ? 'block' : 'none';\n",
              "\n",
              "      async function convertToInteractive(key) {\n",
              "        const element = document.querySelector('#df-8e1c3815-adf4-49a5-b33d-d84b5ccc4541');\n",
              "        const dataTable =\n",
              "          await google.colab.kernel.invokeFunction('convertToInteractive',\n",
              "                                                    [key], {});\n",
              "        if (!dataTable) return;\n",
              "\n",
              "        const docLinkHtml = 'Like what you see? Visit the ' +\n",
              "          '<a target=\"_blank\" href=https://colab.research.google.com/notebooks/data_table.ipynb>data table notebook</a>'\n",
              "          + ' to learn more about interactive tables.';\n",
              "        element.innerHTML = '';\n",
              "        dataTable['output_type'] = 'display_data';\n",
              "        await google.colab.output.renderOutput(dataTable, element);\n",
              "        const docLink = document.createElement('div');\n",
              "        docLink.innerHTML = docLinkHtml;\n",
              "        element.appendChild(docLink);\n",
              "      }\n",
              "    </script>\n",
              "  </div>\n",
              "\n",
              "\n",
              "<div id=\"df-2a28a8e2-257b-434b-bc25-57fe0fdc7a13\">\n",
              "  <button class=\"colab-df-quickchart\" onclick=\"quickchart('df-2a28a8e2-257b-434b-bc25-57fe0fdc7a13')\"\n",
              "            title=\"Suggest charts\"\n",
              "            style=\"display:none;\">\n",
              "\n",
              "<svg xmlns=\"http://www.w3.org/2000/svg\" height=\"24px\"viewBox=\"0 0 24 24\"\n",
              "     width=\"24px\">\n",
              "    <g>\n",
              "        <path d=\"M19 3H5c-1.1 0-2 .9-2 2v14c0 1.1.9 2 2 2h14c1.1 0 2-.9 2-2V5c0-1.1-.9-2-2-2zM9 17H7v-7h2v7zm4 0h-2V7h2v10zm4 0h-2v-4h2v4z\"/>\n",
              "    </g>\n",
              "</svg>\n",
              "  </button>\n",
              "\n",
              "<style>\n",
              "  .colab-df-quickchart {\n",
              "      --bg-color: #E8F0FE;\n",
              "      --fill-color: #1967D2;\n",
              "      --hover-bg-color: #E2EBFA;\n",
              "      --hover-fill-color: #174EA6;\n",
              "      --disabled-fill-color: #AAA;\n",
              "      --disabled-bg-color: #DDD;\n",
              "  }\n",
              "\n",
              "  [theme=dark] .colab-df-quickchart {\n",
              "      --bg-color: #3B4455;\n",
              "      --fill-color: #D2E3FC;\n",
              "      --hover-bg-color: #434B5C;\n",
              "      --hover-fill-color: #FFFFFF;\n",
              "      --disabled-bg-color: #3B4455;\n",
              "      --disabled-fill-color: #666;\n",
              "  }\n",
              "\n",
              "  .colab-df-quickchart {\n",
              "    background-color: var(--bg-color);\n",
              "    border: none;\n",
              "    border-radius: 50%;\n",
              "    cursor: pointer;\n",
              "    display: none;\n",
              "    fill: var(--fill-color);\n",
              "    height: 32px;\n",
              "    padding: 0;\n",
              "    width: 32px;\n",
              "  }\n",
              "\n",
              "  .colab-df-quickchart:hover {\n",
              "    background-color: var(--hover-bg-color);\n",
              "    box-shadow: 0 1px 2px rgba(60, 64, 67, 0.3), 0 1px 3px 1px rgba(60, 64, 67, 0.15);\n",
              "    fill: var(--button-hover-fill-color);\n",
              "  }\n",
              "\n",
              "  .colab-df-quickchart-complete:disabled,\n",
              "  .colab-df-quickchart-complete:disabled:hover {\n",
              "    background-color: var(--disabled-bg-color);\n",
              "    fill: var(--disabled-fill-color);\n",
              "    box-shadow: none;\n",
              "  }\n",
              "\n",
              "  .colab-df-spinner {\n",
              "    border: 2px solid var(--fill-color);\n",
              "    border-color: transparent;\n",
              "    border-bottom-color: var(--fill-color);\n",
              "    animation:\n",
              "      spin 1s steps(1) infinite;\n",
              "  }\n",
              "\n",
              "  @keyframes spin {\n",
              "    0% {\n",
              "      border-color: transparent;\n",
              "      border-bottom-color: var(--fill-color);\n",
              "      border-left-color: var(--fill-color);\n",
              "    }\n",
              "    20% {\n",
              "      border-color: transparent;\n",
              "      border-left-color: var(--fill-color);\n",
              "      border-top-color: var(--fill-color);\n",
              "    }\n",
              "    30% {\n",
              "      border-color: transparent;\n",
              "      border-left-color: var(--fill-color);\n",
              "      border-top-color: var(--fill-color);\n",
              "      border-right-color: var(--fill-color);\n",
              "    }\n",
              "    40% {\n",
              "      border-color: transparent;\n",
              "      border-right-color: var(--fill-color);\n",
              "      border-top-color: var(--fill-color);\n",
              "    }\n",
              "    60% {\n",
              "      border-color: transparent;\n",
              "      border-right-color: var(--fill-color);\n",
              "    }\n",
              "    80% {\n",
              "      border-color: transparent;\n",
              "      border-right-color: var(--fill-color);\n",
              "      border-bottom-color: var(--fill-color);\n",
              "    }\n",
              "    90% {\n",
              "      border-color: transparent;\n",
              "      border-bottom-color: var(--fill-color);\n",
              "    }\n",
              "  }\n",
              "</style>\n",
              "\n",
              "  <script>\n",
              "    async function quickchart(key) {\n",
              "      const quickchartButtonEl =\n",
              "        document.querySelector('#' + key + ' button');\n",
              "      quickchartButtonEl.disabled = true;  // To prevent multiple clicks.\n",
              "      quickchartButtonEl.classList.add('colab-df-spinner');\n",
              "      try {\n",
              "        const charts = await google.colab.kernel.invokeFunction(\n",
              "            'suggestCharts', [key], {});\n",
              "      } catch (error) {\n",
              "        console.error('Error during call to suggestCharts:', error);\n",
              "      }\n",
              "      quickchartButtonEl.classList.remove('colab-df-spinner');\n",
              "      quickchartButtonEl.classList.add('colab-df-quickchart-complete');\n",
              "    }\n",
              "    (() => {\n",
              "      let quickchartButtonEl =\n",
              "        document.querySelector('#df-2a28a8e2-257b-434b-bc25-57fe0fdc7a13 button');\n",
              "      quickchartButtonEl.style.display =\n",
              "        google.colab.kernel.accessAllowed ? 'block' : 'none';\n",
              "    })();\n",
              "  </script>\n",
              "</div>\n",
              "\n",
              "    </div>\n",
              "  </div>\n"
            ],
            "application/vnd.google.colaboratory.intrinsic+json": {
              "type": "dataframe",
              "variable_name": "df4",
              "summary": "{\n  \"name\": \"df4\",\n  \"rows\": 65328,\n  \"fields\": [\n    {\n      \"column\": \"text\",\n      \"properties\": {\n        \"dtype\": \"string\",\n        \"num_unique_values\": 65259,\n        \"samples\": [\n          \"America students far top performing world time spent classrooms among highest American Education System gone mostly unchanged decades world evolves technologically ideologically American students still stuck seven hour school day primitive learning methods Recently however schools began adopt online curriculum allow students work home Online courses benefit students giving break school learning motivate preparing future technology Sitting desk seven hours day conducive learning giving students days online work per week attentive productive school studies show shorter work days beneficial also apply school days Especially children many people struggle sit one spot focus long make traditional school day ineffective kids Online classes however allow students take break need breaks help eliminate boredom help students take material finish work Additionally school environment may also stressful place students home may offer comfort kids need work effectively graduation teachers still push students work Many kids struggle independence babysat school online courses introduce need discipline time management essential skills vital success students overcoming urges slackoff procrastinate students become stronger learn tackle challenges result better performance school also real world really matters ultimately adds lots value purpose school today preparation adulthood twenty years ago computers school extremely rare Today almost every student teacher computer pocket Technology future schools represent future Many colleges offer degrees obtainable entirely online remotely Additionally many employers offer teleworking days employees work home computers school systems inability adapt evolving trends render students disadvantage graduation world evolves education Online classes offer myriad benefits help students currently schoolwork future careers may argue online classes involved enough offer much freedom students missing need change Schools stay forever innovation outgrown classroom\",\n          \"Dear concerned citizen writing express opinion Electoral College system used elect President United States argue Electoral College outdated unfair believe still crucial part democratic process Firstly Electoral College ensures President elected system checks balances system state allocated certain number electoral votes based population candidate wins votes state receives states electoral votes means candidate must win majority popular vote rather plurality become President helps prevent tyranny majority ensure President accountable people whole Secondly Electoral College encourages candidates campaign wide range states rather focusing heavily populated areas helps ensure President elected broad coalition support rather relying narrow base loyal followers particularly important diverse country like United States different regions different priorities interests Thirdly Electoral College helps prevent election President support broad crosssection population recent years several instances winner popular vote presidency due electoral college system may seem undemocratic important remember President simply elected represent interests supporters serve interests entire country Finally argue Electoral College\",\n          \"citizens Bogot\\u00e1 world aware increasing pollution levels effects environment health One primary contributors pollution use automobiles effort combat issue city Bogot\\u00e1 initiated campaign limit use cars observance day without cars third consecutive year event success millions leaving cars home opting alternative transportation biking walking public transportation initiative remarkable event Bogot\\u00e1 drawn attention international municipal authorities events success also led participation Colombian cities Cali Valledupar carfree day initiative part broader urban improvement campaign began mid1990s Bogot\\u00e1 seen significant urban developments construction 118 miles bicycle paths Latin America improvement sidewalks reduced rushhour traffic development new parks sports centers shopping districts improvements transformed citys landscape lifestyle making enjoyable healthier place live Limiting car usage multiple advantages One reduction greenhouse gas emissions contribute climate change Cars leading cause air pollution urban areas lead respiratory problems cardiovascular disease even premature death reducing car usage improve air quality lead healthier population Another advantage limiting car usage reduction traffic congestion Traffic congestion lead wasted time fuel result increased stress levels drivers limiting car usage reduce traffic congestion lead efficient use time resources Finally limiting car usage encourage use alternative transportation methods biking walking public transportation methods environmentally friendly also provide opportunity exercise lead healthier lifestyle conclusion observance day without cars Bogot\\u00e1 remarkable success drawing attention international municipal authorities initiative part broader urban improvement campaign transformed citys landscape lifestyle Limiting car usage multiple advantages reducing greenhouse gas emissions reducing traffic congestion encouraging use alternative transportation methods citizens Bogot\\u00e1 world responsibility limit car usage contribute healthier sustainable environment\"\n        ],\n        \"semantic_type\": \"\",\n        \"description\": \"\"\n      }\n    },\n    {\n      \"column\": \"label\",\n      \"properties\": {\n        \"dtype\": \"number\",\n        \"std\": 0,\n        \"min\": 0,\n        \"max\": 1,\n        \"num_unique_values\": 2,\n        \"samples\": [\n          1,\n          0\n        ],\n        \"semantic_type\": \"\",\n        \"description\": \"\"\n      }\n    },\n    {\n      \"column\": \"prompt_name\",\n      \"properties\": {\n        \"dtype\": \"category\",\n        \"num_unique_values\": 15,\n        \"samples\": [\n          \"Grades for extracurricular activities\",\n          \"Does the electoral college work?\"\n        ],\n        \"semantic_type\": \"\",\n        \"description\": \"\"\n      }\n    },\n    {\n      \"column\": \"source\",\n      \"properties\": {\n        \"dtype\": \"category\",\n        \"num_unique_values\": 28,\n        \"samples\": [\n          \"radek_500\",\n          \"text-davinci-001\"\n        ],\n        \"semantic_type\": \"\",\n        \"description\": \"\"\n      }\n    },\n    {\n      \"column\": \"stratify_key\",\n      \"properties\": {\n        \"dtype\": \"category\",\n        \"num_unique_values\": 250,\n        \"samples\": [\n          \"Mandatory extracurricular activities_palm-text-bison1_1\",\n          \"Facial action coding system_persuade_corpus_0\"\n        ],\n        \"semantic_type\": \"\",\n        \"description\": \"\"\n      }\n    }\n  ]\n}"
            }
          },
          "metadata": {},
          "execution_count": 118
        }
      ]
    },
    {
      "cell_type": "markdown",
      "source": [
        "## Training / Validation / Test set"
      ],
      "metadata": {
        "id": "yZFbaitp7qlm"
      }
    },
    {
      "cell_type": "code",
      "source": [
        "import pandas as pd\n",
        "from sklearn.model_selection import train_test_split\n",
        "\n",
        "# Assuming your 3 DataFrames are stored in a list\n",
        "dfs = [df2, df3, df4]\n",
        "\n",
        "# Iterate over each DataFrame and process them\n",
        "for i, dfs in enumerate(dfs, start=1):\n",
        "\n",
        "    # Create the stratification key\n",
        "    dfs['stratify_key'] = dfs['prompt_name'].astype(str) + '_' + dfs['source'].astype(str) + '_' + dfs['label'].astype(str)\n",
        "\n",
        "    # Separate small groups with less than 2 records\n",
        "    group_counts = dfs['stratify_key'].value_counts()\n",
        "    small_groups = group_counts[group_counts < 2].index\n",
        "    df_small = dfs[dfs['stratify_key'].isin(small_groups)]\n",
        "    df_large = dfs[~dfs['stratify_key'].isin(small_groups)]\n",
        "\n",
        "    # Perform stratified sampling on the larger groups\n",
        "    df_large_sample, _ = train_test_split(\n",
        "        df_large,\n",
        "        train_size=12442,\n",
        "        stratify=df_large['stratify_key'],\n",
        "        random_state=20240930\n",
        "    )\n",
        "\n",
        "    # Combine the sampled large groups with small groups\n",
        "    df_sample = pd.concat([df_large_sample, df_small])\n",
        "\n",
        "    # View the sampled DataFrame\n",
        "    df_sample = df_sample[['text', 'label']]\n",
        "\n",
        "    # Define outcome name\n",
        "    outcomename = 'label'\n",
        "\n",
        "    # Redefine X and Y after sampling\n",
        "    X_sampled = df_sample.drop(columns=outcomename)\n",
        "    Y_sampled = df_sample[outcomename]\n",
        "\n",
        "    # Split into training and combined validation-test sets (80% train, 20% valid/test)\n",
        "    X_train, X_valid_test, y_train, y_valid_test = train_test_split(\n",
        "        X_sampled, Y_sampled, test_size=0.2, random_state=20240930, stratify=Y_sampled\n",
        "    )\n",
        "\n",
        "    # Split the combined validation-test set into separate validation and test sets (50% each of the remaining 20%)\n",
        "    X_val, X_test, y_val, y_test = train_test_split(\n",
        "        X_valid_test, y_valid_test, test_size=0.5, random_state=20240930, stratify=y_valid_test\n",
        "    )\n",
        "\n",
        "    # Assign each split to dynamically named variables (separate for features and labels)\n",
        "    globals()[f'X_train_df{i}'] = X_train\n",
        "    globals()[f'y_train_df{i}'] = y_train\n",
        "    globals()[f'X_val_df{i}'] = X_val\n",
        "    globals()[f'y_val_df{i}'] = y_val\n",
        "    globals()[f'X_test_df{i}'] = X_test\n",
        "    globals()[f'y_test_df{i}'] = y_test\n",
        "\n",
        "# Now you have variables like X_train_df1, y_train_df1, X_val_df1, ..., X_test_df3, y_test_df3"
      ],
      "metadata": {
        "id": "UWxPfw4p77V-"
      },
      "execution_count": 128,
      "outputs": []
    },
    {
      "cell_type": "code",
      "source": [
        "X_train.head()"
      ],
      "metadata": {
        "colab": {
          "base_uri": "https://localhost:8080/",
          "height": 206
        },
        "id": "t5VytLnhFsoQ",
        "outputId": "055de1d5-025c-4b4a-e914-714483e69f9a"
      },
      "execution_count": 165,
      "outputs": [
        {
          "output_type": "execute_result",
          "data": {
            "text/plain": [
              "                                                    text\n",
              "28721  Dear Principal Smith,   I am writing to expres...\n",
              "9940   Bases on the passage I think it would be a goo...\n",
              "31678  Character traits can be extremely important wh...\n",
              "11924  While being able to tell someone's emotions ca...\n",
              "60793  As technology progresses, automobiles are bein..."
            ],
            "text/html": [
              "\n",
              "  <div id=\"df-41c4ec11-51d5-4c52-80cd-60e3eaea97cf\" class=\"colab-df-container\">\n",
              "    <div>\n",
              "<style scoped>\n",
              "    .dataframe tbody tr th:only-of-type {\n",
              "        vertical-align: middle;\n",
              "    }\n",
              "\n",
              "    .dataframe tbody tr th {\n",
              "        vertical-align: top;\n",
              "    }\n",
              "\n",
              "    .dataframe thead th {\n",
              "        text-align: right;\n",
              "    }\n",
              "</style>\n",
              "<table border=\"1\" class=\"dataframe\">\n",
              "  <thead>\n",
              "    <tr style=\"text-align: right;\">\n",
              "      <th></th>\n",
              "      <th>text</th>\n",
              "    </tr>\n",
              "  </thead>\n",
              "  <tbody>\n",
              "    <tr>\n",
              "      <th>28721</th>\n",
              "      <td>Dear Principal Smith,   I am writing to expres...</td>\n",
              "    </tr>\n",
              "    <tr>\n",
              "      <th>9940</th>\n",
              "      <td>Bases on the passage I think it would be a goo...</td>\n",
              "    </tr>\n",
              "    <tr>\n",
              "      <th>31678</th>\n",
              "      <td>Character traits can be extremely important wh...</td>\n",
              "    </tr>\n",
              "    <tr>\n",
              "      <th>11924</th>\n",
              "      <td>While being able to tell someone's emotions ca...</td>\n",
              "    </tr>\n",
              "    <tr>\n",
              "      <th>60793</th>\n",
              "      <td>As technology progresses, automobiles are bein...</td>\n",
              "    </tr>\n",
              "  </tbody>\n",
              "</table>\n",
              "</div>\n",
              "    <div class=\"colab-df-buttons\">\n",
              "\n",
              "  <div class=\"colab-df-container\">\n",
              "    <button class=\"colab-df-convert\" onclick=\"convertToInteractive('df-41c4ec11-51d5-4c52-80cd-60e3eaea97cf')\"\n",
              "            title=\"Convert this dataframe to an interactive table.\"\n",
              "            style=\"display:none;\">\n",
              "\n",
              "  <svg xmlns=\"http://www.w3.org/2000/svg\" height=\"24px\" viewBox=\"0 -960 960 960\">\n",
              "    <path d=\"M120-120v-720h720v720H120Zm60-500h600v-160H180v160Zm220 220h160v-160H400v160Zm0 220h160v-160H400v160ZM180-400h160v-160H180v160Zm440 0h160v-160H620v160ZM180-180h160v-160H180v160Zm440 0h160v-160H620v160Z\"/>\n",
              "  </svg>\n",
              "    </button>\n",
              "\n",
              "  <style>\n",
              "    .colab-df-container {\n",
              "      display:flex;\n",
              "      gap: 12px;\n",
              "    }\n",
              "\n",
              "    .colab-df-convert {\n",
              "      background-color: #E8F0FE;\n",
              "      border: none;\n",
              "      border-radius: 50%;\n",
              "      cursor: pointer;\n",
              "      display: none;\n",
              "      fill: #1967D2;\n",
              "      height: 32px;\n",
              "      padding: 0 0 0 0;\n",
              "      width: 32px;\n",
              "    }\n",
              "\n",
              "    .colab-df-convert:hover {\n",
              "      background-color: #E2EBFA;\n",
              "      box-shadow: 0px 1px 2px rgba(60, 64, 67, 0.3), 0px 1px 3px 1px rgba(60, 64, 67, 0.15);\n",
              "      fill: #174EA6;\n",
              "    }\n",
              "\n",
              "    .colab-df-buttons div {\n",
              "      margin-bottom: 4px;\n",
              "    }\n",
              "\n",
              "    [theme=dark] .colab-df-convert {\n",
              "      background-color: #3B4455;\n",
              "      fill: #D2E3FC;\n",
              "    }\n",
              "\n",
              "    [theme=dark] .colab-df-convert:hover {\n",
              "      background-color: #434B5C;\n",
              "      box-shadow: 0px 1px 3px 1px rgba(0, 0, 0, 0.15);\n",
              "      filter: drop-shadow(0px 1px 2px rgba(0, 0, 0, 0.3));\n",
              "      fill: #FFFFFF;\n",
              "    }\n",
              "  </style>\n",
              "\n",
              "    <script>\n",
              "      const buttonEl =\n",
              "        document.querySelector('#df-41c4ec11-51d5-4c52-80cd-60e3eaea97cf button.colab-df-convert');\n",
              "      buttonEl.style.display =\n",
              "        google.colab.kernel.accessAllowed ? 'block' : 'none';\n",
              "\n",
              "      async function convertToInteractive(key) {\n",
              "        const element = document.querySelector('#df-41c4ec11-51d5-4c52-80cd-60e3eaea97cf');\n",
              "        const dataTable =\n",
              "          await google.colab.kernel.invokeFunction('convertToInteractive',\n",
              "                                                    [key], {});\n",
              "        if (!dataTable) return;\n",
              "\n",
              "        const docLinkHtml = 'Like what you see? Visit the ' +\n",
              "          '<a target=\"_blank\" href=https://colab.research.google.com/notebooks/data_table.ipynb>data table notebook</a>'\n",
              "          + ' to learn more about interactive tables.';\n",
              "        element.innerHTML = '';\n",
              "        dataTable['output_type'] = 'display_data';\n",
              "        await google.colab.output.renderOutput(dataTable, element);\n",
              "        const docLink = document.createElement('div');\n",
              "        docLink.innerHTML = docLinkHtml;\n",
              "        element.appendChild(docLink);\n",
              "      }\n",
              "    </script>\n",
              "  </div>\n",
              "\n",
              "\n",
              "<div id=\"df-2503e8cd-49b0-43f0-b9bf-ef92b35e8098\">\n",
              "  <button class=\"colab-df-quickchart\" onclick=\"quickchart('df-2503e8cd-49b0-43f0-b9bf-ef92b35e8098')\"\n",
              "            title=\"Suggest charts\"\n",
              "            style=\"display:none;\">\n",
              "\n",
              "<svg xmlns=\"http://www.w3.org/2000/svg\" height=\"24px\"viewBox=\"0 0 24 24\"\n",
              "     width=\"24px\">\n",
              "    <g>\n",
              "        <path d=\"M19 3H5c-1.1 0-2 .9-2 2v14c0 1.1.9 2 2 2h14c1.1 0 2-.9 2-2V5c0-1.1-.9-2-2-2zM9 17H7v-7h2v7zm4 0h-2V7h2v10zm4 0h-2v-4h2v4z\"/>\n",
              "    </g>\n",
              "</svg>\n",
              "  </button>\n",
              "\n",
              "<style>\n",
              "  .colab-df-quickchart {\n",
              "      --bg-color: #E8F0FE;\n",
              "      --fill-color: #1967D2;\n",
              "      --hover-bg-color: #E2EBFA;\n",
              "      --hover-fill-color: #174EA6;\n",
              "      --disabled-fill-color: #AAA;\n",
              "      --disabled-bg-color: #DDD;\n",
              "  }\n",
              "\n",
              "  [theme=dark] .colab-df-quickchart {\n",
              "      --bg-color: #3B4455;\n",
              "      --fill-color: #D2E3FC;\n",
              "      --hover-bg-color: #434B5C;\n",
              "      --hover-fill-color: #FFFFFF;\n",
              "      --disabled-bg-color: #3B4455;\n",
              "      --disabled-fill-color: #666;\n",
              "  }\n",
              "\n",
              "  .colab-df-quickchart {\n",
              "    background-color: var(--bg-color);\n",
              "    border: none;\n",
              "    border-radius: 50%;\n",
              "    cursor: pointer;\n",
              "    display: none;\n",
              "    fill: var(--fill-color);\n",
              "    height: 32px;\n",
              "    padding: 0;\n",
              "    width: 32px;\n",
              "  }\n",
              "\n",
              "  .colab-df-quickchart:hover {\n",
              "    background-color: var(--hover-bg-color);\n",
              "    box-shadow: 0 1px 2px rgba(60, 64, 67, 0.3), 0 1px 3px 1px rgba(60, 64, 67, 0.15);\n",
              "    fill: var(--button-hover-fill-color);\n",
              "  }\n",
              "\n",
              "  .colab-df-quickchart-complete:disabled,\n",
              "  .colab-df-quickchart-complete:disabled:hover {\n",
              "    background-color: var(--disabled-bg-color);\n",
              "    fill: var(--disabled-fill-color);\n",
              "    box-shadow: none;\n",
              "  }\n",
              "\n",
              "  .colab-df-spinner {\n",
              "    border: 2px solid var(--fill-color);\n",
              "    border-color: transparent;\n",
              "    border-bottom-color: var(--fill-color);\n",
              "    animation:\n",
              "      spin 1s steps(1) infinite;\n",
              "  }\n",
              "\n",
              "  @keyframes spin {\n",
              "    0% {\n",
              "      border-color: transparent;\n",
              "      border-bottom-color: var(--fill-color);\n",
              "      border-left-color: var(--fill-color);\n",
              "    }\n",
              "    20% {\n",
              "      border-color: transparent;\n",
              "      border-left-color: var(--fill-color);\n",
              "      border-top-color: var(--fill-color);\n",
              "    }\n",
              "    30% {\n",
              "      border-color: transparent;\n",
              "      border-left-color: var(--fill-color);\n",
              "      border-top-color: var(--fill-color);\n",
              "      border-right-color: var(--fill-color);\n",
              "    }\n",
              "    40% {\n",
              "      border-color: transparent;\n",
              "      border-right-color: var(--fill-color);\n",
              "      border-top-color: var(--fill-color);\n",
              "    }\n",
              "    60% {\n",
              "      border-color: transparent;\n",
              "      border-right-color: var(--fill-color);\n",
              "    }\n",
              "    80% {\n",
              "      border-color: transparent;\n",
              "      border-right-color: var(--fill-color);\n",
              "      border-bottom-color: var(--fill-color);\n",
              "    }\n",
              "    90% {\n",
              "      border-color: transparent;\n",
              "      border-bottom-color: var(--fill-color);\n",
              "    }\n",
              "  }\n",
              "</style>\n",
              "\n",
              "  <script>\n",
              "    async function quickchart(key) {\n",
              "      const quickchartButtonEl =\n",
              "        document.querySelector('#' + key + ' button');\n",
              "      quickchartButtonEl.disabled = true;  // To prevent multiple clicks.\n",
              "      quickchartButtonEl.classList.add('colab-df-spinner');\n",
              "      try {\n",
              "        const charts = await google.colab.kernel.invokeFunction(\n",
              "            'suggestCharts', [key], {});\n",
              "      } catch (error) {\n",
              "        console.error('Error during call to suggestCharts:', error);\n",
              "      }\n",
              "      quickchartButtonEl.classList.remove('colab-df-spinner');\n",
              "      quickchartButtonEl.classList.add('colab-df-quickchart-complete');\n",
              "    }\n",
              "    (() => {\n",
              "      let quickchartButtonEl =\n",
              "        document.querySelector('#df-2503e8cd-49b0-43f0-b9bf-ef92b35e8098 button');\n",
              "      quickchartButtonEl.style.display =\n",
              "        google.colab.kernel.accessAllowed ? 'block' : 'none';\n",
              "    })();\n",
              "  </script>\n",
              "</div>\n",
              "\n",
              "    </div>\n",
              "  </div>\n"
            ],
            "application/vnd.google.colaboratory.intrinsic+json": {
              "type": "dataframe",
              "variable_name": "X_train",
              "summary": "{\n  \"name\": \"X_train\",\n  \"rows\": 9960,\n  \"fields\": [\n    {\n      \"column\": \"text\",\n      \"properties\": {\n        \"dtype\": \"string\",\n        \"num_unique_values\": 9960,\n        \"samples\": [\n          \"  Venus is a dazzling yet intriguing natural satellite in our Solar System. Amongst its multitudinous attributes, it has been widely acclaimed for its breathtaking, swirling cloud formations, extreme surface temperatures, and dense atmosphere dominated by carbon dioxide, with a high-pressure environment reminiscent of the deep ocean trenches on Earth. However, scientists remain perplexed as it harbors characteristics of both Earth and another neighboring planet, thereby presenting a conundrum as they seek to unravel the complexities of its origins and nature.  In order to shed light on the mysteries enshrouding Venus, it's essential to comprehend its formation and evolution, which is shrouded in scientific debate. The popular model suggests that Venus was created alongside Earth and Mars around 4.6 billion years ago as a result of the gravitational collapse of a protoplanetary disk emanated from a Sun-like star. This disk's circum-stellar matter eventually clumped together, resulting in the formation of larger bodies, eventually leading to the birth of the three terrestrial planets.  Yet, a diverging theory, the Venusian Hades, proposes that Venus arrived on the scene much later, a mere 100 million years ago, after colliding with an asteroid which, in turn, shredded and scattered debris around the planet, igniting its formation. This hypothesis raises several other controversies, such as whether Venus has an actual core separate from Earth, or if it formed within a different part of the Solar System entirely. As scientists continue to unveil the mysteries surrounding the celestial bodies, new hypotheses might potentially arise, reshaping our understanding of the origins and evolution of our Solar System.  As we attempt to delve deeper into comprehending this enigmatic planet, understanding the nature of its atmosphere is also of the utmost importance. Venus' atmosphere is remarkably dense and made up of 96.5% carbon dioxide, which, in turn, contributes to the planet's infamous runaway greenhouse effect and its devastating surface temperatures of around 476\\u00b0C. It is estimated that these temperatures have led to the melting of its surface, causing it to resemble the surface of molten lava, leading to widespread theories that the planet may have once hosted a vast ocean that has since evaporated due to these extreme temperatures.  The planet's atmospheric pressure is also considerably elevated at a staggering 92 times the pressure experienced on Earth's surface, which is why, if we were to land there and tried to breathe, our bodies would not be able to function adequately due to the inability of our lungs to extract sufficient oxygen from the air. Furthermore, the atmosphere, which plays a significant role in the protection against solar radiation, is primarily driven by super-rotating winds which are approximately 360 Earth rotations each hour, resulting in the formation of massive, cloudy structures. These wind systems are powered by the absorption of CO2 by a layer of atmospheric sulfuric acid, which traps heat and contributes to an enduring, complex temperature inversion on the planet.  In attempting to unravel the enigmas of Venus, one cannot overlook its mysterious surface features. In the past, the planet has been observed using robotic explorers and orbiters to reveal topographical data of its surface terrain. For instance, images from these missions have revealed evidence of ancient volcanic landscapes, volcanic peaks, and vast surface flats that may resemble flooded landscapes. Additionally, the presence of tesserae - geological features characteristic of Earth's continental rocks, suggest that these continents might have hosted liquid water in the past, which further challenges our understanding of this planet's evolutionary history.  Lastly, it is also vital to acknowledge the possible presence of life not only on Earth but also on Venus. Venus shares several characteristics with Earth, which fuels speculation that the conditions on its surface at some point in the past may have supported diverse life forms such as microbial organisms. If our understanding of Venus' origins, structure, and past climate is accurate, it's possible that it once boasted a similar environment to Earth's, enabling life to develop and thrive \\u2013 only for it to be gradually destroyed due to the planet's evolving environmental conditions.  In conclusion, understanding the evolution of Venus is an interdisciplinary endeavor, requiring collaboration between scientists from various fields, such as astronomy, geology, and meteorology. As researchers delve deeper into the mysteries surrounding this planet, they continue to build on the current knowledge base and advance our understanding of the cosmos and the possibility that life can exist beyond Earth. In light of the increasing frequency of planetary probes and rovers, there's no limit to the potential discoveries about Earth's sister planet, Venus.\",\n          \"As an eighth-grade student, I have had the opportunity to participate in various projects and assignments throughout the school year. While some of these projects have been self-designed, I have found that projects designed by teachers are more effective and engaging. In this essay, I will analyze and explain the importance of having teachers design projects for students instead of having them design them on their own.  One of the main reasons why teachers should design projects for students is that it allows them to tailor the project to the students' needs and abilities. When students design their own projects, they may struggle to create a project that is challenging enough to keep them engaged while also being achievable for their skill level. Teachers, on the other hand, have a better understanding of their students' abilities and can design projects that are both challenging and achievable. This allows students to learn at their own pace and feel a sense of accomplishment when they complete the project.  Another reason why teachers should design projects for students is that it allows them to provide guidance and support throughout the project. When students design their own projects, they may struggle to find the resources and information they need to complete the project. Teachers, however, can provide guidance and support throughout the project, helping students to overcome any obstacles they may encounter. This allows students to learn valuable skills such as problem-solving and critical thinking, which they can use in the future.  In addition to providing guidance and support, teachers can also design projects that are relevant and meaningful to their students' lives. When students design their own projects, they may struggle to come up with a project that is relevant to their lives or that they are passionate about. Teachers, however, can design projects that are relevant to their students' lives and that they are passionate about. This allows students to see the value in the project and to feel more engaged and motivated to complete it.  Finally, teachers can design projects that are aligned with the curriculum and learning objectives. When students design their own projects, they may struggle to create a project that is aligned with the curriculum and learning objectives. Teachers, however, can design projects that are aligned with the curriculum and learning objectives, ensuring that students are learning the skills and knowledge they need to succeed.  In conclusion, having teachers design projects for students is important for a number of reasons. Teachers can tailor the project to the students' needs\",\n          \"The author of \\\"The Challenge of Exploring Venus\\\" effectively argues in favor of exploring Venus despite the numerous challenges and dangers associated with it. The author presents a well-structured and thought-out article, using evidence to support their argument and providing a clear explanation of the challenges and potential rewards of Venus exploration.  The author begins by highlighting the allure of space exploration and the unique set of challenges that Venus presents. They then delve into the harsh reality of Venus, describing the extreme temperatures and atmospheric pressure that make land-based missions nearly impossible. However, instead of dwelling on these challenges, the author quickly pivots to discussing technological innovations that could potentially overcome these obstacles. This approach effectively showcases the author's perspective that, despite the challenges, exploring Venus is still worthwhile.  The author further supports their argument by discussing the paradox of distant observation, which limits the extent to which orbiting or hovering missions can gather data about Venus's surface. This section effectively underscores the need for more direct exploration methods, which the author argues are feasible with advancements in technology.  The article's strongest point is the author's explanation of why exploring Venus is worth the risk. The author highlights the potential scientific gains, such as understanding planetary science and Earth's future, and the relative accessibility of Venus during certain orbits. These points effectively balance the risk and reward of exploring Venus, making a compelling argument for why we should continue to pursue this endeavor.  The author also effectively uses evidence to support their argument. They cite past attempts at exploring Venus and the challenges those missions faced, demonstrating the author's knowledge and understanding of the topic. Additionally, the author'suse of metaphors, such as comparing Venus to a \\\"hostile yet intriguing world,\\\" adds depth and interest to the article.  However, there are some areas where the author could improve. At times, the language used is overly complex, which may make it difficult for some readers to fully understand the concepts being discussed. Additionally, the article could benefit from more visual aids, such as diagrams or images, to help illustrate the challenges and potential solutions of Venus exploration.  In conclusion, the author of \\\"The Challenge of Exploring Venus\\\" effectively argues in favor of exploring Venus despite the associated dangers. The author presents a well-structured and thought-out article, using evidence to support their argument and providing a clear explanation of the challenges and potential rewards of Venus exploration. While there are some areas for improvement, the article overall makes a compelling case for why we should continue to pursue the exploration of Venus.\"\n        ],\n        \"semantic_type\": \"\",\n        \"description\": \"\"\n      }\n    }\n  ]\n}"
            }
          },
          "metadata": {},
          "execution_count": 165
        }
      ]
    },
    {
      "cell_type": "code",
      "source": [
        "X_train1.head()"
      ],
      "metadata": {
        "colab": {
          "base_uri": "https://localhost:8080/",
          "height": 206
        },
        "id": "fqMe094fEB4u",
        "outputId": "2e272781-223f-453e-8cd9-2aaf8e272b4d"
      },
      "execution_count": 166,
      "outputs": [
        {
          "output_type": "execute_result",
          "data": {
            "text/plain": [
              "                                                    text\n",
              "28721  Dear Principal Smith, I am writing to express ...\n",
              "9940   Bases on the passage I think it would be a goo...\n",
              "31678  Character traits can be extremely important wh...\n",
              "11924  While being able to tell someone's emotions ca...\n",
              "60793  As technology progresses, automobiles are bein..."
            ],
            "text/html": [
              "\n",
              "  <div id=\"df-503e969b-b124-439c-982a-671d4b4e6ddf\" class=\"colab-df-container\">\n",
              "    <div>\n",
              "<style scoped>\n",
              "    .dataframe tbody tr th:only-of-type {\n",
              "        vertical-align: middle;\n",
              "    }\n",
              "\n",
              "    .dataframe tbody tr th {\n",
              "        vertical-align: top;\n",
              "    }\n",
              "\n",
              "    .dataframe thead th {\n",
              "        text-align: right;\n",
              "    }\n",
              "</style>\n",
              "<table border=\"1\" class=\"dataframe\">\n",
              "  <thead>\n",
              "    <tr style=\"text-align: right;\">\n",
              "      <th></th>\n",
              "      <th>text</th>\n",
              "    </tr>\n",
              "  </thead>\n",
              "  <tbody>\n",
              "    <tr>\n",
              "      <th>28721</th>\n",
              "      <td>Dear Principal Smith, I am writing to express ...</td>\n",
              "    </tr>\n",
              "    <tr>\n",
              "      <th>9940</th>\n",
              "      <td>Bases on the passage I think it would be a goo...</td>\n",
              "    </tr>\n",
              "    <tr>\n",
              "      <th>31678</th>\n",
              "      <td>Character traits can be extremely important wh...</td>\n",
              "    </tr>\n",
              "    <tr>\n",
              "      <th>11924</th>\n",
              "      <td>While being able to tell someone's emotions ca...</td>\n",
              "    </tr>\n",
              "    <tr>\n",
              "      <th>60793</th>\n",
              "      <td>As technology progresses, automobiles are bein...</td>\n",
              "    </tr>\n",
              "  </tbody>\n",
              "</table>\n",
              "</div>\n",
              "    <div class=\"colab-df-buttons\">\n",
              "\n",
              "  <div class=\"colab-df-container\">\n",
              "    <button class=\"colab-df-convert\" onclick=\"convertToInteractive('df-503e969b-b124-439c-982a-671d4b4e6ddf')\"\n",
              "            title=\"Convert this dataframe to an interactive table.\"\n",
              "            style=\"display:none;\">\n",
              "\n",
              "  <svg xmlns=\"http://www.w3.org/2000/svg\" height=\"24px\" viewBox=\"0 -960 960 960\">\n",
              "    <path d=\"M120-120v-720h720v720H120Zm60-500h600v-160H180v160Zm220 220h160v-160H400v160Zm0 220h160v-160H400v160ZM180-400h160v-160H180v160Zm440 0h160v-160H620v160ZM180-180h160v-160H180v160Zm440 0h160v-160H620v160Z\"/>\n",
              "  </svg>\n",
              "    </button>\n",
              "\n",
              "  <style>\n",
              "    .colab-df-container {\n",
              "      display:flex;\n",
              "      gap: 12px;\n",
              "    }\n",
              "\n",
              "    .colab-df-convert {\n",
              "      background-color: #E8F0FE;\n",
              "      border: none;\n",
              "      border-radius: 50%;\n",
              "      cursor: pointer;\n",
              "      display: none;\n",
              "      fill: #1967D2;\n",
              "      height: 32px;\n",
              "      padding: 0 0 0 0;\n",
              "      width: 32px;\n",
              "    }\n",
              "\n",
              "    .colab-df-convert:hover {\n",
              "      background-color: #E2EBFA;\n",
              "      box-shadow: 0px 1px 2px rgba(60, 64, 67, 0.3), 0px 1px 3px 1px rgba(60, 64, 67, 0.15);\n",
              "      fill: #174EA6;\n",
              "    }\n",
              "\n",
              "    .colab-df-buttons div {\n",
              "      margin-bottom: 4px;\n",
              "    }\n",
              "\n",
              "    [theme=dark] .colab-df-convert {\n",
              "      background-color: #3B4455;\n",
              "      fill: #D2E3FC;\n",
              "    }\n",
              "\n",
              "    [theme=dark] .colab-df-convert:hover {\n",
              "      background-color: #434B5C;\n",
              "      box-shadow: 0px 1px 3px 1px rgba(0, 0, 0, 0.15);\n",
              "      filter: drop-shadow(0px 1px 2px rgba(0, 0, 0, 0.3));\n",
              "      fill: #FFFFFF;\n",
              "    }\n",
              "  </style>\n",
              "\n",
              "    <script>\n",
              "      const buttonEl =\n",
              "        document.querySelector('#df-503e969b-b124-439c-982a-671d4b4e6ddf button.colab-df-convert');\n",
              "      buttonEl.style.display =\n",
              "        google.colab.kernel.accessAllowed ? 'block' : 'none';\n",
              "\n",
              "      async function convertToInteractive(key) {\n",
              "        const element = document.querySelector('#df-503e969b-b124-439c-982a-671d4b4e6ddf');\n",
              "        const dataTable =\n",
              "          await google.colab.kernel.invokeFunction('convertToInteractive',\n",
              "                                                    [key], {});\n",
              "        if (!dataTable) return;\n",
              "\n",
              "        const docLinkHtml = 'Like what you see? Visit the ' +\n",
              "          '<a target=\"_blank\" href=https://colab.research.google.com/notebooks/data_table.ipynb>data table notebook</a>'\n",
              "          + ' to learn more about interactive tables.';\n",
              "        element.innerHTML = '';\n",
              "        dataTable['output_type'] = 'display_data';\n",
              "        await google.colab.output.renderOutput(dataTable, element);\n",
              "        const docLink = document.createElement('div');\n",
              "        docLink.innerHTML = docLinkHtml;\n",
              "        element.appendChild(docLink);\n",
              "      }\n",
              "    </script>\n",
              "  </div>\n",
              "\n",
              "\n",
              "<div id=\"df-39816e9f-b216-4a20-b782-46901620d044\">\n",
              "  <button class=\"colab-df-quickchart\" onclick=\"quickchart('df-39816e9f-b216-4a20-b782-46901620d044')\"\n",
              "            title=\"Suggest charts\"\n",
              "            style=\"display:none;\">\n",
              "\n",
              "<svg xmlns=\"http://www.w3.org/2000/svg\" height=\"24px\"viewBox=\"0 0 24 24\"\n",
              "     width=\"24px\">\n",
              "    <g>\n",
              "        <path d=\"M19 3H5c-1.1 0-2 .9-2 2v14c0 1.1.9 2 2 2h14c1.1 0 2-.9 2-2V5c0-1.1-.9-2-2-2zM9 17H7v-7h2v7zm4 0h-2V7h2v10zm4 0h-2v-4h2v4z\"/>\n",
              "    </g>\n",
              "</svg>\n",
              "  </button>\n",
              "\n",
              "<style>\n",
              "  .colab-df-quickchart {\n",
              "      --bg-color: #E8F0FE;\n",
              "      --fill-color: #1967D2;\n",
              "      --hover-bg-color: #E2EBFA;\n",
              "      --hover-fill-color: #174EA6;\n",
              "      --disabled-fill-color: #AAA;\n",
              "      --disabled-bg-color: #DDD;\n",
              "  }\n",
              "\n",
              "  [theme=dark] .colab-df-quickchart {\n",
              "      --bg-color: #3B4455;\n",
              "      --fill-color: #D2E3FC;\n",
              "      --hover-bg-color: #434B5C;\n",
              "      --hover-fill-color: #FFFFFF;\n",
              "      --disabled-bg-color: #3B4455;\n",
              "      --disabled-fill-color: #666;\n",
              "  }\n",
              "\n",
              "  .colab-df-quickchart {\n",
              "    background-color: var(--bg-color);\n",
              "    border: none;\n",
              "    border-radius: 50%;\n",
              "    cursor: pointer;\n",
              "    display: none;\n",
              "    fill: var(--fill-color);\n",
              "    height: 32px;\n",
              "    padding: 0;\n",
              "    width: 32px;\n",
              "  }\n",
              "\n",
              "  .colab-df-quickchart:hover {\n",
              "    background-color: var(--hover-bg-color);\n",
              "    box-shadow: 0 1px 2px rgba(60, 64, 67, 0.3), 0 1px 3px 1px rgba(60, 64, 67, 0.15);\n",
              "    fill: var(--button-hover-fill-color);\n",
              "  }\n",
              "\n",
              "  .colab-df-quickchart-complete:disabled,\n",
              "  .colab-df-quickchart-complete:disabled:hover {\n",
              "    background-color: var(--disabled-bg-color);\n",
              "    fill: var(--disabled-fill-color);\n",
              "    box-shadow: none;\n",
              "  }\n",
              "\n",
              "  .colab-df-spinner {\n",
              "    border: 2px solid var(--fill-color);\n",
              "    border-color: transparent;\n",
              "    border-bottom-color: var(--fill-color);\n",
              "    animation:\n",
              "      spin 1s steps(1) infinite;\n",
              "  }\n",
              "\n",
              "  @keyframes spin {\n",
              "    0% {\n",
              "      border-color: transparent;\n",
              "      border-bottom-color: var(--fill-color);\n",
              "      border-left-color: var(--fill-color);\n",
              "    }\n",
              "    20% {\n",
              "      border-color: transparent;\n",
              "      border-left-color: var(--fill-color);\n",
              "      border-top-color: var(--fill-color);\n",
              "    }\n",
              "    30% {\n",
              "      border-color: transparent;\n",
              "      border-left-color: var(--fill-color);\n",
              "      border-top-color: var(--fill-color);\n",
              "      border-right-color: var(--fill-color);\n",
              "    }\n",
              "    40% {\n",
              "      border-color: transparent;\n",
              "      border-right-color: var(--fill-color);\n",
              "      border-top-color: var(--fill-color);\n",
              "    }\n",
              "    60% {\n",
              "      border-color: transparent;\n",
              "      border-right-color: var(--fill-color);\n",
              "    }\n",
              "    80% {\n",
              "      border-color: transparent;\n",
              "      border-right-color: var(--fill-color);\n",
              "      border-bottom-color: var(--fill-color);\n",
              "    }\n",
              "    90% {\n",
              "      border-color: transparent;\n",
              "      border-bottom-color: var(--fill-color);\n",
              "    }\n",
              "  }\n",
              "</style>\n",
              "\n",
              "  <script>\n",
              "    async function quickchart(key) {\n",
              "      const quickchartButtonEl =\n",
              "        document.querySelector('#' + key + ' button');\n",
              "      quickchartButtonEl.disabled = true;  // To prevent multiple clicks.\n",
              "      quickchartButtonEl.classList.add('colab-df-spinner');\n",
              "      try {\n",
              "        const charts = await google.colab.kernel.invokeFunction(\n",
              "            'suggestCharts', [key], {});\n",
              "      } catch (error) {\n",
              "        console.error('Error during call to suggestCharts:', error);\n",
              "      }\n",
              "      quickchartButtonEl.classList.remove('colab-df-spinner');\n",
              "      quickchartButtonEl.classList.add('colab-df-quickchart-complete');\n",
              "    }\n",
              "    (() => {\n",
              "      let quickchartButtonEl =\n",
              "        document.querySelector('#df-39816e9f-b216-4a20-b782-46901620d044 button');\n",
              "      quickchartButtonEl.style.display =\n",
              "        google.colab.kernel.accessAllowed ? 'block' : 'none';\n",
              "    })();\n",
              "  </script>\n",
              "</div>\n",
              "\n",
              "    </div>\n",
              "  </div>\n"
            ],
            "application/vnd.google.colaboratory.intrinsic+json": {
              "type": "dataframe",
              "variable_name": "X_train1",
              "summary": "{\n  \"name\": \"X_train1\",\n  \"rows\": 9960,\n  \"fields\": [\n    {\n      \"column\": \"text\",\n      \"properties\": {\n        \"dtype\": \"string\",\n        \"num_unique_values\": 9960,\n        \"samples\": [\n          \"Venus is a dazzling yet intriguing natural satellite in our Solar System. Amongst its multitudinous attributes, it has been widely acclaimed for its breathtaking, swirling cloud formations, extreme surface temperatures, and dense atmosphere dominated by carbon dioxide, with a high-pressure environment reminiscent of the deep ocean trenches on Earth. However, scientists remain perplexed as it harbors characteristics of both Earth and another neighboring planet, thereby presenting a conundrum as they seek to unravel the complexities of its origins and nature. In order to shed light on the mysteries enshrouding Venus, it's essential to comprehend its formation and evolution, which is shrouded in scientific debate. The popular model suggests that Venus was created alongside Earth and Mars around 4.6 billion years ago as a result of the gravitational collapse of a protoplanetary disk emanated from a Sun-like star. This disk's circum-stellar matter eventually clumped together, resulting in the formation of larger bodies, eventually leading to the birth of the three terrestrial planets. Yet, a diverging theory, the Venusian Hades, proposes that Venus arrived on the scene much later, a mere 100 million years ago, after colliding with an asteroid which, in turn, shredded and scattered debris around the planet, igniting its formation. This hypothesis raises several other controversies, such as whether Venus has an actual core separate from Earth, or if it formed within a different part of the Solar System entirely. As scientists continue to unveil the mysteries surrounding the celestial bodies, new hypotheses might potentially arise, reshaping our understanding of the origins and evolution of our Solar System. As we attempt to delve deeper into comprehending this enigmatic planet, understanding the nature of its atmosphere is also of the utmost importance. Venus' atmosphere is remarkably dense and made up of 96.5% carbon dioxide, which, in turn, contributes to the planet's infamous runaway greenhouse effect and its devastating surface temperatures of around 476\\u00b0C. It is estimated that these temperatures have led to the melting of its surface, causing it to resemble the surface of molten lava, leading to widespread theories that the planet may have once hosted a vast ocean that has since evaporated due to these extreme temperatures. The planet's atmospheric pressure is also considerably elevated at a staggering 92 times the pressure experienced on Earth's surface, which is why, if we were to land there and tried to breathe, our bodies would not be able to function adequately due to the inability of our lungs to extract sufficient oxygen from the air. Furthermore, the atmosphere, which plays a significant role in the protection against solar radiation, is primarily driven by super-rotating winds which are approximately 360 Earth rotations each hour, resulting in the formation of massive, cloudy structures. These wind systems are powered by the absorption of CO2 by a layer of atmospheric sulfuric acid, which traps heat and contributes to an enduring, complex temperature inversion on the planet. In attempting to unravel the enigmas of Venus, one cannot overlook its mysterious surface features. In the past, the planet has been observed using robotic explorers and orbiters to reveal topographical data of its surface terrain. For instance, images from these missions have revealed evidence of ancient volcanic landscapes, volcanic peaks, and vast surface flats that may resemble flooded landscapes. Additionally, the presence of tesserae - geological features characteristic of Earth's continental rocks, suggest that these continents might have hosted liquid water in the past, which further challenges our understanding of this planet's evolutionary history. Lastly, it is also vital to acknowledge the possible presence of life not only on Earth but also on Venus. Venus shares several characteristics with Earth, which fuels speculation that the conditions on its surface at some point in the past may have supported diverse life forms such as microbial organisms. If our understanding of Venus' origins, structure, and past climate is accurate, it's possible that it once boasted a similar environment to Earth's, enabling life to develop and thrive \\u2013 only for it to be gradually destroyed due to the planet's evolving environmental conditions. In conclusion, understanding the evolution of Venus is an interdisciplinary endeavor, requiring collaboration between scientists from various fields, such as astronomy, geology, and meteorology. As researchers delve deeper into the mysteries surrounding this planet, they continue to build on the current knowledge base and advance our understanding of the cosmos and the possibility that life can exist beyond Earth. In light of the increasing frequency of planetary probes and rovers, there's no limit to the potential discoveries about Earth's sister planet, Venus.\",\n          \"As an eighth-grade student, I have had the opportunity to participate in various projects and assignments throughout the school year. While some of these projects have been self-designed, I have found that projects designed by teachers are more effective and engaging. In this essay, I will analyze and explain the importance of having teachers design projects for students instead of having them design them on their own. One of the main reasons why teachers should design projects for students is that it allows them to tailor the project to the students' needs and abilities. When students design their own projects, they may struggle to create a project that is challenging enough to keep them engaged while also being achievable for their skill level. Teachers, on the other hand, have a better understanding of their students' abilities and can design projects that are both challenging and achievable. This allows students to learn at their own pace and feel a sense of accomplishment when they complete the project. Another reason why teachers should design projects for students is that it allows them to provide guidance and support throughout the project. When students design their own projects, they may struggle to find the resources and information they need to complete the project. Teachers, however, can provide guidance and support throughout the project, helping students to overcome any obstacles they may encounter. This allows students to learn valuable skills such as problem-solving and critical thinking, which they can use in the future. In addition to providing guidance and support, teachers can also design projects that are relevant and meaningful to their students' lives. When students design their own projects, they may struggle to come up with a project that is relevant to their lives or that they are passionate about. Teachers, however, can design projects that are relevant to their students' lives and that they are passionate about. This allows students to see the value in the project and to feel more engaged and motivated to complete it. Finally, teachers can design projects that are aligned with the curriculum and learning objectives. When students design their own projects, they may struggle to create a project that is aligned with the curriculum and learning objectives. Teachers, however, can design projects that are aligned with the curriculum and learning objectives, ensuring that students are learning the skills and knowledge they need to succeed. In conclusion, having teachers design projects for students is important for a number of reasons. Teachers can tailor the project to the students' needs\",\n          \"The author of \\\"The Challenge of Exploring Venus\\\" effectively argues in favor of exploring Venus despite the numerous challenges and dangers associated with it. The author presents a well-structured and thought-out article, using evidence to support their argument and providing a clear explanation of the challenges and potential rewards of Venus exploration. The author begins by highlighting the allure of space exploration and the unique set of challenges that Venus presents. They then delve into the harsh reality of Venus, describing the extreme temperatures and atmospheric pressure that make land-based missions nearly impossible. However, instead of dwelling on these challenges, the author quickly pivots to discussing technological innovations that could potentially overcome these obstacles. This approach effectively showcases the author's perspective that, despite the challenges, exploring Venus is still worthwhile. The author further supports their argument by discussing the paradox of distant observation, which limits the extent to which orbiting or hovering missions can gather data about Venus's surface. This section effectively underscores the need for more direct exploration methods, which the author argues are feasible with advancements in technology. The article's strongest point is the author's explanation of why exploring Venus is worth the risk. The author highlights the potential scientific gains, such as understanding planetary science and Earth's future, and the relative accessibility of Venus during certain orbits. These points effectively balance the risk and reward of exploring Venus, making a compelling argument for why we should continue to pursue this endeavor. The author also effectively uses evidence to support their argument. They cite past attempts at exploring Venus and the challenges those missions faced, demonstrating the author's knowledge and understanding of the topic. Additionally, the author'suse of metaphors, such as comparing Venus to a \\\"hostile yet intriguing world,\\\" adds depth and interest to the article. However, there are some areas where the author could improve. At times, the language used is overly complex, which may make it difficult for some readers to fully understand the concepts being discussed. Additionally, the article could benefit from more visual aids, such as diagrams or images, to help illustrate the challenges and potential solutions of Venus exploration. In conclusion, the author of \\\"The Challenge of Exploring Venus\\\" effectively argues in favor of exploring Venus despite the associated dangers. The author presents a well-structured and thought-out article, using evidence to support their argument and providing a clear explanation of the challenges and potential rewards of Venus exploration. While there are some areas for improvement, the article overall makes a compelling case for why we should continue to pursue the exploration of Venus.\"\n        ],\n        \"semantic_type\": \"\",\n        \"description\": \"\"\n      }\n    }\n  ]\n}"
            }
          },
          "metadata": {},
          "execution_count": 166
        }
      ]
    },
    {
      "cell_type": "code",
      "source": [
        "X_train_df1.head()"
      ],
      "metadata": {
        "colab": {
          "base_uri": "https://localhost:8080/",
          "height": 206
        },
        "id": "TIpMntgsDhv1",
        "outputId": "1a8db00d-39af-4c45-d2d2-3be1200e44a8"
      },
      "execution_count": 167,
      "outputs": [
        {
          "output_type": "execute_result",
          "data": {
            "text/plain": [
              "                                                    text\n",
              "28721  Dear Principal Smith I am writing to express m...\n",
              "9940   Bases on the passage I think it would be a goo...\n",
              "31678  Character traits can be extremely important wh...\n",
              "11924  While being able to tell someones emotions can...\n",
              "60793  As technology progresses automobiles are being..."
            ],
            "text/html": [
              "\n",
              "  <div id=\"df-7b5bdb44-3c73-4a02-8785-6aa0171dbb65\" class=\"colab-df-container\">\n",
              "    <div>\n",
              "<style scoped>\n",
              "    .dataframe tbody tr th:only-of-type {\n",
              "        vertical-align: middle;\n",
              "    }\n",
              "\n",
              "    .dataframe tbody tr th {\n",
              "        vertical-align: top;\n",
              "    }\n",
              "\n",
              "    .dataframe thead th {\n",
              "        text-align: right;\n",
              "    }\n",
              "</style>\n",
              "<table border=\"1\" class=\"dataframe\">\n",
              "  <thead>\n",
              "    <tr style=\"text-align: right;\">\n",
              "      <th></th>\n",
              "      <th>text</th>\n",
              "    </tr>\n",
              "  </thead>\n",
              "  <tbody>\n",
              "    <tr>\n",
              "      <th>28721</th>\n",
              "      <td>Dear Principal Smith I am writing to express m...</td>\n",
              "    </tr>\n",
              "    <tr>\n",
              "      <th>9940</th>\n",
              "      <td>Bases on the passage I think it would be a goo...</td>\n",
              "    </tr>\n",
              "    <tr>\n",
              "      <th>31678</th>\n",
              "      <td>Character traits can be extremely important wh...</td>\n",
              "    </tr>\n",
              "    <tr>\n",
              "      <th>11924</th>\n",
              "      <td>While being able to tell someones emotions can...</td>\n",
              "    </tr>\n",
              "    <tr>\n",
              "      <th>60793</th>\n",
              "      <td>As technology progresses automobiles are being...</td>\n",
              "    </tr>\n",
              "  </tbody>\n",
              "</table>\n",
              "</div>\n",
              "    <div class=\"colab-df-buttons\">\n",
              "\n",
              "  <div class=\"colab-df-container\">\n",
              "    <button class=\"colab-df-convert\" onclick=\"convertToInteractive('df-7b5bdb44-3c73-4a02-8785-6aa0171dbb65')\"\n",
              "            title=\"Convert this dataframe to an interactive table.\"\n",
              "            style=\"display:none;\">\n",
              "\n",
              "  <svg xmlns=\"http://www.w3.org/2000/svg\" height=\"24px\" viewBox=\"0 -960 960 960\">\n",
              "    <path d=\"M120-120v-720h720v720H120Zm60-500h600v-160H180v160Zm220 220h160v-160H400v160Zm0 220h160v-160H400v160ZM180-400h160v-160H180v160Zm440 0h160v-160H620v160ZM180-180h160v-160H180v160Zm440 0h160v-160H620v160Z\"/>\n",
              "  </svg>\n",
              "    </button>\n",
              "\n",
              "  <style>\n",
              "    .colab-df-container {\n",
              "      display:flex;\n",
              "      gap: 12px;\n",
              "    }\n",
              "\n",
              "    .colab-df-convert {\n",
              "      background-color: #E8F0FE;\n",
              "      border: none;\n",
              "      border-radius: 50%;\n",
              "      cursor: pointer;\n",
              "      display: none;\n",
              "      fill: #1967D2;\n",
              "      height: 32px;\n",
              "      padding: 0 0 0 0;\n",
              "      width: 32px;\n",
              "    }\n",
              "\n",
              "    .colab-df-convert:hover {\n",
              "      background-color: #E2EBFA;\n",
              "      box-shadow: 0px 1px 2px rgba(60, 64, 67, 0.3), 0px 1px 3px 1px rgba(60, 64, 67, 0.15);\n",
              "      fill: #174EA6;\n",
              "    }\n",
              "\n",
              "    .colab-df-buttons div {\n",
              "      margin-bottom: 4px;\n",
              "    }\n",
              "\n",
              "    [theme=dark] .colab-df-convert {\n",
              "      background-color: #3B4455;\n",
              "      fill: #D2E3FC;\n",
              "    }\n",
              "\n",
              "    [theme=dark] .colab-df-convert:hover {\n",
              "      background-color: #434B5C;\n",
              "      box-shadow: 0px 1px 3px 1px rgba(0, 0, 0, 0.15);\n",
              "      filter: drop-shadow(0px 1px 2px rgba(0, 0, 0, 0.3));\n",
              "      fill: #FFFFFF;\n",
              "    }\n",
              "  </style>\n",
              "\n",
              "    <script>\n",
              "      const buttonEl =\n",
              "        document.querySelector('#df-7b5bdb44-3c73-4a02-8785-6aa0171dbb65 button.colab-df-convert');\n",
              "      buttonEl.style.display =\n",
              "        google.colab.kernel.accessAllowed ? 'block' : 'none';\n",
              "\n",
              "      async function convertToInteractive(key) {\n",
              "        const element = document.querySelector('#df-7b5bdb44-3c73-4a02-8785-6aa0171dbb65');\n",
              "        const dataTable =\n",
              "          await google.colab.kernel.invokeFunction('convertToInteractive',\n",
              "                                                    [key], {});\n",
              "        if (!dataTable) return;\n",
              "\n",
              "        const docLinkHtml = 'Like what you see? Visit the ' +\n",
              "          '<a target=\"_blank\" href=https://colab.research.google.com/notebooks/data_table.ipynb>data table notebook</a>'\n",
              "          + ' to learn more about interactive tables.';\n",
              "        element.innerHTML = '';\n",
              "        dataTable['output_type'] = 'display_data';\n",
              "        await google.colab.output.renderOutput(dataTable, element);\n",
              "        const docLink = document.createElement('div');\n",
              "        docLink.innerHTML = docLinkHtml;\n",
              "        element.appendChild(docLink);\n",
              "      }\n",
              "    </script>\n",
              "  </div>\n",
              "\n",
              "\n",
              "<div id=\"df-10b2021e-13ff-4747-9836-8245b62450a0\">\n",
              "  <button class=\"colab-df-quickchart\" onclick=\"quickchart('df-10b2021e-13ff-4747-9836-8245b62450a0')\"\n",
              "            title=\"Suggest charts\"\n",
              "            style=\"display:none;\">\n",
              "\n",
              "<svg xmlns=\"http://www.w3.org/2000/svg\" height=\"24px\"viewBox=\"0 0 24 24\"\n",
              "     width=\"24px\">\n",
              "    <g>\n",
              "        <path d=\"M19 3H5c-1.1 0-2 .9-2 2v14c0 1.1.9 2 2 2h14c1.1 0 2-.9 2-2V5c0-1.1-.9-2-2-2zM9 17H7v-7h2v7zm4 0h-2V7h2v10zm4 0h-2v-4h2v4z\"/>\n",
              "    </g>\n",
              "</svg>\n",
              "  </button>\n",
              "\n",
              "<style>\n",
              "  .colab-df-quickchart {\n",
              "      --bg-color: #E8F0FE;\n",
              "      --fill-color: #1967D2;\n",
              "      --hover-bg-color: #E2EBFA;\n",
              "      --hover-fill-color: #174EA6;\n",
              "      --disabled-fill-color: #AAA;\n",
              "      --disabled-bg-color: #DDD;\n",
              "  }\n",
              "\n",
              "  [theme=dark] .colab-df-quickchart {\n",
              "      --bg-color: #3B4455;\n",
              "      --fill-color: #D2E3FC;\n",
              "      --hover-bg-color: #434B5C;\n",
              "      --hover-fill-color: #FFFFFF;\n",
              "      --disabled-bg-color: #3B4455;\n",
              "      --disabled-fill-color: #666;\n",
              "  }\n",
              "\n",
              "  .colab-df-quickchart {\n",
              "    background-color: var(--bg-color);\n",
              "    border: none;\n",
              "    border-radius: 50%;\n",
              "    cursor: pointer;\n",
              "    display: none;\n",
              "    fill: var(--fill-color);\n",
              "    height: 32px;\n",
              "    padding: 0;\n",
              "    width: 32px;\n",
              "  }\n",
              "\n",
              "  .colab-df-quickchart:hover {\n",
              "    background-color: var(--hover-bg-color);\n",
              "    box-shadow: 0 1px 2px rgba(60, 64, 67, 0.3), 0 1px 3px 1px rgba(60, 64, 67, 0.15);\n",
              "    fill: var(--button-hover-fill-color);\n",
              "  }\n",
              "\n",
              "  .colab-df-quickchart-complete:disabled,\n",
              "  .colab-df-quickchart-complete:disabled:hover {\n",
              "    background-color: var(--disabled-bg-color);\n",
              "    fill: var(--disabled-fill-color);\n",
              "    box-shadow: none;\n",
              "  }\n",
              "\n",
              "  .colab-df-spinner {\n",
              "    border: 2px solid var(--fill-color);\n",
              "    border-color: transparent;\n",
              "    border-bottom-color: var(--fill-color);\n",
              "    animation:\n",
              "      spin 1s steps(1) infinite;\n",
              "  }\n",
              "\n",
              "  @keyframes spin {\n",
              "    0% {\n",
              "      border-color: transparent;\n",
              "      border-bottom-color: var(--fill-color);\n",
              "      border-left-color: var(--fill-color);\n",
              "    }\n",
              "    20% {\n",
              "      border-color: transparent;\n",
              "      border-left-color: var(--fill-color);\n",
              "      border-top-color: var(--fill-color);\n",
              "    }\n",
              "    30% {\n",
              "      border-color: transparent;\n",
              "      border-left-color: var(--fill-color);\n",
              "      border-top-color: var(--fill-color);\n",
              "      border-right-color: var(--fill-color);\n",
              "    }\n",
              "    40% {\n",
              "      border-color: transparent;\n",
              "      border-right-color: var(--fill-color);\n",
              "      border-top-color: var(--fill-color);\n",
              "    }\n",
              "    60% {\n",
              "      border-color: transparent;\n",
              "      border-right-color: var(--fill-color);\n",
              "    }\n",
              "    80% {\n",
              "      border-color: transparent;\n",
              "      border-right-color: var(--fill-color);\n",
              "      border-bottom-color: var(--fill-color);\n",
              "    }\n",
              "    90% {\n",
              "      border-color: transparent;\n",
              "      border-bottom-color: var(--fill-color);\n",
              "    }\n",
              "  }\n",
              "</style>\n",
              "\n",
              "  <script>\n",
              "    async function quickchart(key) {\n",
              "      const quickchartButtonEl =\n",
              "        document.querySelector('#' + key + ' button');\n",
              "      quickchartButtonEl.disabled = true;  // To prevent multiple clicks.\n",
              "      quickchartButtonEl.classList.add('colab-df-spinner');\n",
              "      try {\n",
              "        const charts = await google.colab.kernel.invokeFunction(\n",
              "            'suggestCharts', [key], {});\n",
              "      } catch (error) {\n",
              "        console.error('Error during call to suggestCharts:', error);\n",
              "      }\n",
              "      quickchartButtonEl.classList.remove('colab-df-spinner');\n",
              "      quickchartButtonEl.classList.add('colab-df-quickchart-complete');\n",
              "    }\n",
              "    (() => {\n",
              "      let quickchartButtonEl =\n",
              "        document.querySelector('#df-10b2021e-13ff-4747-9836-8245b62450a0 button');\n",
              "      quickchartButtonEl.style.display =\n",
              "        google.colab.kernel.accessAllowed ? 'block' : 'none';\n",
              "    })();\n",
              "  </script>\n",
              "</div>\n",
              "\n",
              "    </div>\n",
              "  </div>\n"
            ],
            "application/vnd.google.colaboratory.intrinsic+json": {
              "type": "dataframe",
              "variable_name": "X_train_df1",
              "summary": "{\n  \"name\": \"X_train_df1\",\n  \"rows\": 9960,\n  \"fields\": [\n    {\n      \"column\": \"text\",\n      \"properties\": {\n        \"dtype\": \"string\",\n        \"num_unique_values\": 9959,\n        \"samples\": [\n          \"Venus is a dazzling yet intriguing natural satellite in our Solar System Amongst its multitudinous attributes it has been widely acclaimed for its breathtaking swirling cloud formations extreme surface temperatures and dense atmosphere dominated by carbon dioxide with a highpressure environment reminiscent of the deep ocean trenches on Earth However scientists remain perplexed as it harbors characteristics of both Earth and another neighboring planet thereby presenting a conundrum as they seek to unravel the complexities of its origins and nature In order to shed light on the mysteries enshrouding Venus its essential to comprehend its formation and evolution which is shrouded in scientific debate The popular model suggests that Venus was created alongside Earth and Mars around 46 billion years ago as a result of the gravitational collapse of a protoplanetary disk emanated from a Sunlike star This disks circumstellar matter eventually clumped together resulting in the formation of larger bodies eventually leading to the birth of the three terrestrial planets Yet a diverging theory the Venusian Hades proposes that Venus arrived on the scene much later a mere 100 million years ago after colliding with an asteroid which in turn shredded and scattered debris around the planet igniting its formation This hypothesis raises several other controversies such as whether Venus has an actual core separate from Earth or if it formed within a different part of the Solar System entirely As scientists continue to unveil the mysteries surrounding the celestial bodies new hypotheses might potentially arise reshaping our understanding of the origins and evolution of our Solar System As we attempt to delve deeper into comprehending this enigmatic planet understanding the nature of its atmosphere is also of the utmost importance Venus atmosphere is remarkably dense and made up of 965 carbon dioxide which in turn contributes to the planets infamous runaway greenhouse effect and its devastating surface temperatures of around 476\\u00b0C It is estimated that these temperatures have led to the melting of its surface causing it to resemble the surface of molten lava leading to widespread theories that the planet may have once hosted a vast ocean that has since evaporated due to these extreme temperatures The planets atmospheric pressure is also considerably elevated at a staggering 92 times the pressure experienced on Earths surface which is why if we were to land there and tried to breathe our bodies would not be able to function adequately due to the inability of our lungs to extract sufficient oxygen from the air Furthermore the atmosphere which plays a significant role in the protection against solar radiation is primarily driven by superrotating winds which are approximately 360 Earth rotations each hour resulting in the formation of massive cloudy structures These wind systems are powered by the absorption of CO2 by a layer of atmospheric sulfuric acid which traps heat and contributes to an enduring complex temperature inversion on the planet In attempting to unravel the enigmas of Venus one cannot overlook its mysterious surface features In the past the planet has been observed using robotic explorers and orbiters to reveal topographical data of its surface terrain For instance images from these missions have revealed evidence of ancient volcanic landscapes volcanic peaks and vast surface flats that may resemble flooded landscapes Additionally the presence of tesserae  geological features characteristic of Earths continental rocks suggest that these continents might have hosted liquid water in the past which further challenges our understanding of this planets evolutionary history Lastly it is also vital to acknowledge the possible presence of life not only on Earth but also on Venus Venus shares several characteristics with Earth which fuels speculation that the conditions on its surface at some point in the past may have supported diverse life forms such as microbial organisms If our understanding of Venus origins structure and past climate is accurate its possible that it once boasted a similar environment to Earths enabling life to develop and thrive \\u2013 only for it to be gradually destroyed due to the planets evolving environmental conditions In conclusion understanding the evolution of Venus is an interdisciplinary endeavor requiring collaboration between scientists from various fields such as astronomy geology and meteorology As researchers delve deeper into the mysteries surrounding this planet they continue to build on the current knowledge base and advance our understanding of the cosmos and the possibility that life can exist beyond Earth In light of the increasing frequency of planetary probes and rovers theres no limit to the potential discoveries about Earths sister planet Venus\",\n          \"As you know there has been a growing concern about the impact of car usage on the environment public health and urban development In recent years many cities have been taking steps to reduce the number of cars on the road and promote more sustainable modes of transportation While some argue that limiting car usage will have negative economic impacts there are numerous reasons to believe that these efforts will ultimately benefit society as a whole First and foremost reducing the number of cars on the road will significantly reduce air pollution in urban areas Cars are one of the largest sources of air pollution in cities emitting harmful pollutants such as carbon monoxide nitrogen oxides and particulate matter By limiting car usage cities can reduce these emissions and create cleaner healthier environments for their citizens For example a study by the World Health Organization found that reducing air pollution in cities could prevent thousands of premature deaths each year Another benefit of limiting car usage is the reduction in greenhouse gas emissions Cars are a significant source of greenhouse gas emissions which contribute to climate change By promoting more sustainable modes of transportation such as public transit cycling and walking cities can reduce their carbon footprint and help mitigate the impacts of climate change For instance a study by the Institute for Transportation and Development Policy found that if cities around the world were to increase their share of trips made by cycling or walking by just 10 they could reduce greenhouse gas emissions by 12 Finally limiting car usage can help create more livable and sustainable cities Cars have long dominated urban planning with cities designed primarily around the needs of car users However this has led to cities with sprawling suburbs narrow sidewalks and poorly\",\n          \"The author of The Challenge of Exploring Venus effectively argues in favor of exploring Venus despite the numerous challenges and dangers associated with it The author presents a wellstructured and thoughtout article using evidence to support their argument and providing a clear explanation of the challenges and potential rewards of Venus exploration The author begins by highlighting the allure of space exploration and the unique set of challenges that Venus presents They then delve into the harsh reality of Venus describing the extreme temperatures and atmospheric pressure that make landbased missions nearly impossible However instead of dwelling on these challenges the author quickly pivots to discussing technological innovations that could potentially overcome these obstacles This approach effectively showcases the authors perspective that despite the challenges exploring Venus is still worthwhile The author further supports their argument by discussing the paradox of distant observation which limits the extent to which orbiting or hovering missions can gather data about Venuss surface This section effectively underscores the need for more direct exploration methods which the author argues are feasible with advancements in technology The articles strongest point is the authors explanation of why exploring Venus is worth the risk The author highlights the potential scientific gains such as understanding planetary science and Earths future and the relative accessibility of Venus during certain orbits These points effectively balance the risk and reward of exploring Venus making a compelling argument for why we should continue to pursue this endeavor The author also effectively uses evidence to support their argument They cite past attempts at exploring Venus and the challenges those missions faced demonstrating the authors knowledge and understanding of the topic Additionally the authorsuse of metaphors such as comparing Venus to a hostile yet intriguing world adds depth and interest to the article However there are some areas where the author could improve At times the language used is overly complex which may make it difficult for some readers to fully understand the concepts being discussed Additionally the article could benefit from more visual aids such as diagrams or images to help illustrate the challenges and potential solutions of Venus exploration In conclusion the author of The Challenge of Exploring Venus effectively argues in favor of exploring Venus despite the associated dangers The author presents a wellstructured and thoughtout article using evidence to support their argument and providing a clear explanation of the challenges and potential rewards of Venus exploration While there are some areas for improvement the article overall makes a compelling case for why we should continue to pursue the exploration of Venus\"\n        ],\n        \"semantic_type\": \"\",\n        \"description\": \"\"\n      }\n    }\n  ]\n}"
            }
          },
          "metadata": {},
          "execution_count": 167
        }
      ]
    },
    {
      "cell_type": "code",
      "source": [
        "X_train_df2.head()"
      ],
      "metadata": {
        "colab": {
          "base_uri": "https://localhost:8080/",
          "height": 206
        },
        "id": "XMlMW1xLDnb2",
        "outputId": "05b8d447-52dc-484e-b95c-9c8397d0d25c"
      },
      "execution_count": 168,
      "outputs": [
        {
          "output_type": "execute_result",
          "data": {
            "text/plain": [
              "                                                    text\n",
              "28721  dear princip smith i am write to express my vi...\n",
              "9940   base on the passag i think it would be a good ...\n",
              "31678  charact trait can be extrem import when it com...\n",
              "11924  while be abl to tell someon emot can be a bene...\n",
              "60793  as technolog progress automobil are be modifi ..."
            ],
            "text/html": [
              "\n",
              "  <div id=\"df-97bcf32b-e239-4f98-b17a-cc769012fd61\" class=\"colab-df-container\">\n",
              "    <div>\n",
              "<style scoped>\n",
              "    .dataframe tbody tr th:only-of-type {\n",
              "        vertical-align: middle;\n",
              "    }\n",
              "\n",
              "    .dataframe tbody tr th {\n",
              "        vertical-align: top;\n",
              "    }\n",
              "\n",
              "    .dataframe thead th {\n",
              "        text-align: right;\n",
              "    }\n",
              "</style>\n",
              "<table border=\"1\" class=\"dataframe\">\n",
              "  <thead>\n",
              "    <tr style=\"text-align: right;\">\n",
              "      <th></th>\n",
              "      <th>text</th>\n",
              "    </tr>\n",
              "  </thead>\n",
              "  <tbody>\n",
              "    <tr>\n",
              "      <th>28721</th>\n",
              "      <td>dear princip smith i am write to express my vi...</td>\n",
              "    </tr>\n",
              "    <tr>\n",
              "      <th>9940</th>\n",
              "      <td>base on the passag i think it would be a good ...</td>\n",
              "    </tr>\n",
              "    <tr>\n",
              "      <th>31678</th>\n",
              "      <td>charact trait can be extrem import when it com...</td>\n",
              "    </tr>\n",
              "    <tr>\n",
              "      <th>11924</th>\n",
              "      <td>while be abl to tell someon emot can be a bene...</td>\n",
              "    </tr>\n",
              "    <tr>\n",
              "      <th>60793</th>\n",
              "      <td>as technolog progress automobil are be modifi ...</td>\n",
              "    </tr>\n",
              "  </tbody>\n",
              "</table>\n",
              "</div>\n",
              "    <div class=\"colab-df-buttons\">\n",
              "\n",
              "  <div class=\"colab-df-container\">\n",
              "    <button class=\"colab-df-convert\" onclick=\"convertToInteractive('df-97bcf32b-e239-4f98-b17a-cc769012fd61')\"\n",
              "            title=\"Convert this dataframe to an interactive table.\"\n",
              "            style=\"display:none;\">\n",
              "\n",
              "  <svg xmlns=\"http://www.w3.org/2000/svg\" height=\"24px\" viewBox=\"0 -960 960 960\">\n",
              "    <path d=\"M120-120v-720h720v720H120Zm60-500h600v-160H180v160Zm220 220h160v-160H400v160Zm0 220h160v-160H400v160ZM180-400h160v-160H180v160Zm440 0h160v-160H620v160ZM180-180h160v-160H180v160Zm440 0h160v-160H620v160Z\"/>\n",
              "  </svg>\n",
              "    </button>\n",
              "\n",
              "  <style>\n",
              "    .colab-df-container {\n",
              "      display:flex;\n",
              "      gap: 12px;\n",
              "    }\n",
              "\n",
              "    .colab-df-convert {\n",
              "      background-color: #E8F0FE;\n",
              "      border: none;\n",
              "      border-radius: 50%;\n",
              "      cursor: pointer;\n",
              "      display: none;\n",
              "      fill: #1967D2;\n",
              "      height: 32px;\n",
              "      padding: 0 0 0 0;\n",
              "      width: 32px;\n",
              "    }\n",
              "\n",
              "    .colab-df-convert:hover {\n",
              "      background-color: #E2EBFA;\n",
              "      box-shadow: 0px 1px 2px rgba(60, 64, 67, 0.3), 0px 1px 3px 1px rgba(60, 64, 67, 0.15);\n",
              "      fill: #174EA6;\n",
              "    }\n",
              "\n",
              "    .colab-df-buttons div {\n",
              "      margin-bottom: 4px;\n",
              "    }\n",
              "\n",
              "    [theme=dark] .colab-df-convert {\n",
              "      background-color: #3B4455;\n",
              "      fill: #D2E3FC;\n",
              "    }\n",
              "\n",
              "    [theme=dark] .colab-df-convert:hover {\n",
              "      background-color: #434B5C;\n",
              "      box-shadow: 0px 1px 3px 1px rgba(0, 0, 0, 0.15);\n",
              "      filter: drop-shadow(0px 1px 2px rgba(0, 0, 0, 0.3));\n",
              "      fill: #FFFFFF;\n",
              "    }\n",
              "  </style>\n",
              "\n",
              "    <script>\n",
              "      const buttonEl =\n",
              "        document.querySelector('#df-97bcf32b-e239-4f98-b17a-cc769012fd61 button.colab-df-convert');\n",
              "      buttonEl.style.display =\n",
              "        google.colab.kernel.accessAllowed ? 'block' : 'none';\n",
              "\n",
              "      async function convertToInteractive(key) {\n",
              "        const element = document.querySelector('#df-97bcf32b-e239-4f98-b17a-cc769012fd61');\n",
              "        const dataTable =\n",
              "          await google.colab.kernel.invokeFunction('convertToInteractive',\n",
              "                                                    [key], {});\n",
              "        if (!dataTable) return;\n",
              "\n",
              "        const docLinkHtml = 'Like what you see? Visit the ' +\n",
              "          '<a target=\"_blank\" href=https://colab.research.google.com/notebooks/data_table.ipynb>data table notebook</a>'\n",
              "          + ' to learn more about interactive tables.';\n",
              "        element.innerHTML = '';\n",
              "        dataTable['output_type'] = 'display_data';\n",
              "        await google.colab.output.renderOutput(dataTable, element);\n",
              "        const docLink = document.createElement('div');\n",
              "        docLink.innerHTML = docLinkHtml;\n",
              "        element.appendChild(docLink);\n",
              "      }\n",
              "    </script>\n",
              "  </div>\n",
              "\n",
              "\n",
              "<div id=\"df-e38485c2-7ca3-4c8e-b2f4-181c44ea47fc\">\n",
              "  <button class=\"colab-df-quickchart\" onclick=\"quickchart('df-e38485c2-7ca3-4c8e-b2f4-181c44ea47fc')\"\n",
              "            title=\"Suggest charts\"\n",
              "            style=\"display:none;\">\n",
              "\n",
              "<svg xmlns=\"http://www.w3.org/2000/svg\" height=\"24px\"viewBox=\"0 0 24 24\"\n",
              "     width=\"24px\">\n",
              "    <g>\n",
              "        <path d=\"M19 3H5c-1.1 0-2 .9-2 2v14c0 1.1.9 2 2 2h14c1.1 0 2-.9 2-2V5c0-1.1-.9-2-2-2zM9 17H7v-7h2v7zm4 0h-2V7h2v10zm4 0h-2v-4h2v4z\"/>\n",
              "    </g>\n",
              "</svg>\n",
              "  </button>\n",
              "\n",
              "<style>\n",
              "  .colab-df-quickchart {\n",
              "      --bg-color: #E8F0FE;\n",
              "      --fill-color: #1967D2;\n",
              "      --hover-bg-color: #E2EBFA;\n",
              "      --hover-fill-color: #174EA6;\n",
              "      --disabled-fill-color: #AAA;\n",
              "      --disabled-bg-color: #DDD;\n",
              "  }\n",
              "\n",
              "  [theme=dark] .colab-df-quickchart {\n",
              "      --bg-color: #3B4455;\n",
              "      --fill-color: #D2E3FC;\n",
              "      --hover-bg-color: #434B5C;\n",
              "      --hover-fill-color: #FFFFFF;\n",
              "      --disabled-bg-color: #3B4455;\n",
              "      --disabled-fill-color: #666;\n",
              "  }\n",
              "\n",
              "  .colab-df-quickchart {\n",
              "    background-color: var(--bg-color);\n",
              "    border: none;\n",
              "    border-radius: 50%;\n",
              "    cursor: pointer;\n",
              "    display: none;\n",
              "    fill: var(--fill-color);\n",
              "    height: 32px;\n",
              "    padding: 0;\n",
              "    width: 32px;\n",
              "  }\n",
              "\n",
              "  .colab-df-quickchart:hover {\n",
              "    background-color: var(--hover-bg-color);\n",
              "    box-shadow: 0 1px 2px rgba(60, 64, 67, 0.3), 0 1px 3px 1px rgba(60, 64, 67, 0.15);\n",
              "    fill: var(--button-hover-fill-color);\n",
              "  }\n",
              "\n",
              "  .colab-df-quickchart-complete:disabled,\n",
              "  .colab-df-quickchart-complete:disabled:hover {\n",
              "    background-color: var(--disabled-bg-color);\n",
              "    fill: var(--disabled-fill-color);\n",
              "    box-shadow: none;\n",
              "  }\n",
              "\n",
              "  .colab-df-spinner {\n",
              "    border: 2px solid var(--fill-color);\n",
              "    border-color: transparent;\n",
              "    border-bottom-color: var(--fill-color);\n",
              "    animation:\n",
              "      spin 1s steps(1) infinite;\n",
              "  }\n",
              "\n",
              "  @keyframes spin {\n",
              "    0% {\n",
              "      border-color: transparent;\n",
              "      border-bottom-color: var(--fill-color);\n",
              "      border-left-color: var(--fill-color);\n",
              "    }\n",
              "    20% {\n",
              "      border-color: transparent;\n",
              "      border-left-color: var(--fill-color);\n",
              "      border-top-color: var(--fill-color);\n",
              "    }\n",
              "    30% {\n",
              "      border-color: transparent;\n",
              "      border-left-color: var(--fill-color);\n",
              "      border-top-color: var(--fill-color);\n",
              "      border-right-color: var(--fill-color);\n",
              "    }\n",
              "    40% {\n",
              "      border-color: transparent;\n",
              "      border-right-color: var(--fill-color);\n",
              "      border-top-color: var(--fill-color);\n",
              "    }\n",
              "    60% {\n",
              "      border-color: transparent;\n",
              "      border-right-color: var(--fill-color);\n",
              "    }\n",
              "    80% {\n",
              "      border-color: transparent;\n",
              "      border-right-color: var(--fill-color);\n",
              "      border-bottom-color: var(--fill-color);\n",
              "    }\n",
              "    90% {\n",
              "      border-color: transparent;\n",
              "      border-bottom-color: var(--fill-color);\n",
              "    }\n",
              "  }\n",
              "</style>\n",
              "\n",
              "  <script>\n",
              "    async function quickchart(key) {\n",
              "      const quickchartButtonEl =\n",
              "        document.querySelector('#' + key + ' button');\n",
              "      quickchartButtonEl.disabled = true;  // To prevent multiple clicks.\n",
              "      quickchartButtonEl.classList.add('colab-df-spinner');\n",
              "      try {\n",
              "        const charts = await google.colab.kernel.invokeFunction(\n",
              "            'suggestCharts', [key], {});\n",
              "      } catch (error) {\n",
              "        console.error('Error during call to suggestCharts:', error);\n",
              "      }\n",
              "      quickchartButtonEl.classList.remove('colab-df-spinner');\n",
              "      quickchartButtonEl.classList.add('colab-df-quickchart-complete');\n",
              "    }\n",
              "    (() => {\n",
              "      let quickchartButtonEl =\n",
              "        document.querySelector('#df-e38485c2-7ca3-4c8e-b2f4-181c44ea47fc button');\n",
              "      quickchartButtonEl.style.display =\n",
              "        google.colab.kernel.accessAllowed ? 'block' : 'none';\n",
              "    })();\n",
              "  </script>\n",
              "</div>\n",
              "\n",
              "    </div>\n",
              "  </div>\n"
            ],
            "application/vnd.google.colaboratory.intrinsic+json": {
              "type": "dataframe",
              "variable_name": "X_train_df2",
              "summary": "{\n  \"name\": \"X_train_df2\",\n  \"rows\": 9960,\n  \"fields\": [\n    {\n      \"column\": \"text\",\n      \"properties\": {\n        \"dtype\": \"string\",\n        \"num_unique_values\": 9958,\n        \"samples\": [\n          \"introduct the explor of venu is a topic that ha fascin scientist and research for year howev it is a mission that is fraught with challeng and danger in the challeng of explor venu the author argu that despit these challeng studi venu is a worthi pursuit in thi essay i will evalu how well the author support thi idea bodi the author support the idea that studi venu is a worthi pursuit by highlight the potenti benefit of such studi firstli the author note that studi venu could reveal import inform about the earth own climat thi is becaus venu is similar to earth in mani way includ it atmospher topographi and temperatur as such studi venu could help us better understand how these aspect of our planet have evolv and how they might chang in the futur secondli the author note that understand venuss extrem condit could help us develop technolog to better cope with the challeng of spaceflight for exampl venuss thick atmospher and high temperatur could be use to test materi for futur spacecraft or to develop more effici way to gener power in space evid from the articl support these claim for exampl the author note that earlier mission to venu such as the magellan spacecraft have alreadi help us learn import thing about the planet atmospher and climat more recent mission such as the venu express spacecraft are current collect data on the planet surfac and atmospher which could provid even more valuabl insight conclus in conclus the author provid compel evid to support the idea that studi venu is a worthi pursuit despit the challeng and danger it present by highlight the potenti benefit of such studi the author demonstr that there is much we can learn from explor thi fascin planet while the risk associ with explor venu are signific the potenti reward are equal impress therefor it is clear that studi venu is a worthi pursuit that deserv our full attent and resourc\",\n          \"in recent year take class from home ha becom increasingli popular propon of thi option argu that it allow for greater conveni and freedom allow student to adjust their learn to their own schedul addit onlin class can be lower in cost than tradit class and allow student to access materi from anywher in the world howev there are also some consider downsid to studi from home depend on the class it can be difficult to receiv person instruct and student may find it hard to stay motiv without the account that come from be in a tradit classroom environ addit there can be technolog issu when take class onlin such as internet disrupt or problem with program or materi overal the decis to take class onlin versu inperson come down to individu prefer and goal those who valu conveni or want to take on their studi commit at their own pace may find that onlin class are a great fit for them while those who want more direct instruct may want to stick with inperson class whichev student choos it is import to weigh both the pro and con befor make a decis\",\n          \"dear state senat i think that they should keep our despis method of choos the presid the way we choos our presid everi 8 year is okay noth is wrong with they way we chang our presid the elector vote ha done a great job with no complaint the way now ha been go for a long time and they shouldnt chang it the elector colleg consist of mani elector they consist of 538 elector major of the elector votesar 270 which is requir to elect the presid under the 23rd admend of the constitut the district of cloumbia is alloc 3 elector and treat like a state on purpos of the elector colleg each canid run for presid in your state ha hi or her own group of elector aft the presidenti elect your governor prepar a certif of ascertain list all of the candid who ran for presid n your state along with the name of their respect elector the certif of ascertain also declar the win presidenti canid in your state and show which elector will repres your state at the meet of the elector in decemb of the elect year under the elector colleg system voter vote not for the presid but forr aslat of elector who in turn elect the presid if you live in texa for instanc and want to vote for john kerryyoud vote for a slate of 34 democtrat elector pledg to kerri on the offchanc that those elector won the statewid electionthey would go to congress and kerri would get 34 elector vote it can be argu that the elector colleg method of select the presid may turn off potenti voter for a candiat who ha no hope of carri their statedemocrat on texasfor exampl or republican in california know their vote will have no effect they have less incent to pay attent to the campaign than they would have if the presid were pick up by popular vote sincerli propernam\"\n        ],\n        \"semantic_type\": \"\",\n        \"description\": \"\"\n      }\n    }\n  ]\n}"
            }
          },
          "metadata": {},
          "execution_count": 168
        }
      ]
    },
    {
      "cell_type": "code",
      "source": [
        "X_train_df3.head()"
      ],
      "metadata": {
        "colab": {
          "base_uri": "https://localhost:8080/",
          "height": 206
        },
        "id": "6XTUfIJTDq-Q",
        "outputId": "2f73192f-ffde-4339-b720-af3e9d8e95da"
      },
      "execution_count": 169,
      "outputs": [
        {
          "output_type": "execute_result",
          "data": {
            "text/plain": [
              "                                                    text\n",
              "28721  Dear Principal Smith writing express views pos...\n",
              "9940   Bases passage think would good idea technology...\n",
              "31678  Character traits extremely important comes tac...\n",
              "11924  able tell someones emotions benefitial factor ...\n",
              "60793  technology progresses automobiles modified cat..."
            ],
            "text/html": [
              "\n",
              "  <div id=\"df-580f7274-2d54-40d5-a068-171df3129a36\" class=\"colab-df-container\">\n",
              "    <div>\n",
              "<style scoped>\n",
              "    .dataframe tbody tr th:only-of-type {\n",
              "        vertical-align: middle;\n",
              "    }\n",
              "\n",
              "    .dataframe tbody tr th {\n",
              "        vertical-align: top;\n",
              "    }\n",
              "\n",
              "    .dataframe thead th {\n",
              "        text-align: right;\n",
              "    }\n",
              "</style>\n",
              "<table border=\"1\" class=\"dataframe\">\n",
              "  <thead>\n",
              "    <tr style=\"text-align: right;\">\n",
              "      <th></th>\n",
              "      <th>text</th>\n",
              "    </tr>\n",
              "  </thead>\n",
              "  <tbody>\n",
              "    <tr>\n",
              "      <th>28721</th>\n",
              "      <td>Dear Principal Smith writing express views pos...</td>\n",
              "    </tr>\n",
              "    <tr>\n",
              "      <th>9940</th>\n",
              "      <td>Bases passage think would good idea technology...</td>\n",
              "    </tr>\n",
              "    <tr>\n",
              "      <th>31678</th>\n",
              "      <td>Character traits extremely important comes tac...</td>\n",
              "    </tr>\n",
              "    <tr>\n",
              "      <th>11924</th>\n",
              "      <td>able tell someones emotions benefitial factor ...</td>\n",
              "    </tr>\n",
              "    <tr>\n",
              "      <th>60793</th>\n",
              "      <td>technology progresses automobiles modified cat...</td>\n",
              "    </tr>\n",
              "  </tbody>\n",
              "</table>\n",
              "</div>\n",
              "    <div class=\"colab-df-buttons\">\n",
              "\n",
              "  <div class=\"colab-df-container\">\n",
              "    <button class=\"colab-df-convert\" onclick=\"convertToInteractive('df-580f7274-2d54-40d5-a068-171df3129a36')\"\n",
              "            title=\"Convert this dataframe to an interactive table.\"\n",
              "            style=\"display:none;\">\n",
              "\n",
              "  <svg xmlns=\"http://www.w3.org/2000/svg\" height=\"24px\" viewBox=\"0 -960 960 960\">\n",
              "    <path d=\"M120-120v-720h720v720H120Zm60-500h600v-160H180v160Zm220 220h160v-160H400v160Zm0 220h160v-160H400v160ZM180-400h160v-160H180v160Zm440 0h160v-160H620v160ZM180-180h160v-160H180v160Zm440 0h160v-160H620v160Z\"/>\n",
              "  </svg>\n",
              "    </button>\n",
              "\n",
              "  <style>\n",
              "    .colab-df-container {\n",
              "      display:flex;\n",
              "      gap: 12px;\n",
              "    }\n",
              "\n",
              "    .colab-df-convert {\n",
              "      background-color: #E8F0FE;\n",
              "      border: none;\n",
              "      border-radius: 50%;\n",
              "      cursor: pointer;\n",
              "      display: none;\n",
              "      fill: #1967D2;\n",
              "      height: 32px;\n",
              "      padding: 0 0 0 0;\n",
              "      width: 32px;\n",
              "    }\n",
              "\n",
              "    .colab-df-convert:hover {\n",
              "      background-color: #E2EBFA;\n",
              "      box-shadow: 0px 1px 2px rgba(60, 64, 67, 0.3), 0px 1px 3px 1px rgba(60, 64, 67, 0.15);\n",
              "      fill: #174EA6;\n",
              "    }\n",
              "\n",
              "    .colab-df-buttons div {\n",
              "      margin-bottom: 4px;\n",
              "    }\n",
              "\n",
              "    [theme=dark] .colab-df-convert {\n",
              "      background-color: #3B4455;\n",
              "      fill: #D2E3FC;\n",
              "    }\n",
              "\n",
              "    [theme=dark] .colab-df-convert:hover {\n",
              "      background-color: #434B5C;\n",
              "      box-shadow: 0px 1px 3px 1px rgba(0, 0, 0, 0.15);\n",
              "      filter: drop-shadow(0px 1px 2px rgba(0, 0, 0, 0.3));\n",
              "      fill: #FFFFFF;\n",
              "    }\n",
              "  </style>\n",
              "\n",
              "    <script>\n",
              "      const buttonEl =\n",
              "        document.querySelector('#df-580f7274-2d54-40d5-a068-171df3129a36 button.colab-df-convert');\n",
              "      buttonEl.style.display =\n",
              "        google.colab.kernel.accessAllowed ? 'block' : 'none';\n",
              "\n",
              "      async function convertToInteractive(key) {\n",
              "        const element = document.querySelector('#df-580f7274-2d54-40d5-a068-171df3129a36');\n",
              "        const dataTable =\n",
              "          await google.colab.kernel.invokeFunction('convertToInteractive',\n",
              "                                                    [key], {});\n",
              "        if (!dataTable) return;\n",
              "\n",
              "        const docLinkHtml = 'Like what you see? Visit the ' +\n",
              "          '<a target=\"_blank\" href=https://colab.research.google.com/notebooks/data_table.ipynb>data table notebook</a>'\n",
              "          + ' to learn more about interactive tables.';\n",
              "        element.innerHTML = '';\n",
              "        dataTable['output_type'] = 'display_data';\n",
              "        await google.colab.output.renderOutput(dataTable, element);\n",
              "        const docLink = document.createElement('div');\n",
              "        docLink.innerHTML = docLinkHtml;\n",
              "        element.appendChild(docLink);\n",
              "      }\n",
              "    </script>\n",
              "  </div>\n",
              "\n",
              "\n",
              "<div id=\"df-b560dbac-d95c-4ee4-a993-6e874923a9c7\">\n",
              "  <button class=\"colab-df-quickchart\" onclick=\"quickchart('df-b560dbac-d95c-4ee4-a993-6e874923a9c7')\"\n",
              "            title=\"Suggest charts\"\n",
              "            style=\"display:none;\">\n",
              "\n",
              "<svg xmlns=\"http://www.w3.org/2000/svg\" height=\"24px\"viewBox=\"0 0 24 24\"\n",
              "     width=\"24px\">\n",
              "    <g>\n",
              "        <path d=\"M19 3H5c-1.1 0-2 .9-2 2v14c0 1.1.9 2 2 2h14c1.1 0 2-.9 2-2V5c0-1.1-.9-2-2-2zM9 17H7v-7h2v7zm4 0h-2V7h2v10zm4 0h-2v-4h2v4z\"/>\n",
              "    </g>\n",
              "</svg>\n",
              "  </button>\n",
              "\n",
              "<style>\n",
              "  .colab-df-quickchart {\n",
              "      --bg-color: #E8F0FE;\n",
              "      --fill-color: #1967D2;\n",
              "      --hover-bg-color: #E2EBFA;\n",
              "      --hover-fill-color: #174EA6;\n",
              "      --disabled-fill-color: #AAA;\n",
              "      --disabled-bg-color: #DDD;\n",
              "  }\n",
              "\n",
              "  [theme=dark] .colab-df-quickchart {\n",
              "      --bg-color: #3B4455;\n",
              "      --fill-color: #D2E3FC;\n",
              "      --hover-bg-color: #434B5C;\n",
              "      --hover-fill-color: #FFFFFF;\n",
              "      --disabled-bg-color: #3B4455;\n",
              "      --disabled-fill-color: #666;\n",
              "  }\n",
              "\n",
              "  .colab-df-quickchart {\n",
              "    background-color: var(--bg-color);\n",
              "    border: none;\n",
              "    border-radius: 50%;\n",
              "    cursor: pointer;\n",
              "    display: none;\n",
              "    fill: var(--fill-color);\n",
              "    height: 32px;\n",
              "    padding: 0;\n",
              "    width: 32px;\n",
              "  }\n",
              "\n",
              "  .colab-df-quickchart:hover {\n",
              "    background-color: var(--hover-bg-color);\n",
              "    box-shadow: 0 1px 2px rgba(60, 64, 67, 0.3), 0 1px 3px 1px rgba(60, 64, 67, 0.15);\n",
              "    fill: var(--button-hover-fill-color);\n",
              "  }\n",
              "\n",
              "  .colab-df-quickchart-complete:disabled,\n",
              "  .colab-df-quickchart-complete:disabled:hover {\n",
              "    background-color: var(--disabled-bg-color);\n",
              "    fill: var(--disabled-fill-color);\n",
              "    box-shadow: none;\n",
              "  }\n",
              "\n",
              "  .colab-df-spinner {\n",
              "    border: 2px solid var(--fill-color);\n",
              "    border-color: transparent;\n",
              "    border-bottom-color: var(--fill-color);\n",
              "    animation:\n",
              "      spin 1s steps(1) infinite;\n",
              "  }\n",
              "\n",
              "  @keyframes spin {\n",
              "    0% {\n",
              "      border-color: transparent;\n",
              "      border-bottom-color: var(--fill-color);\n",
              "      border-left-color: var(--fill-color);\n",
              "    }\n",
              "    20% {\n",
              "      border-color: transparent;\n",
              "      border-left-color: var(--fill-color);\n",
              "      border-top-color: var(--fill-color);\n",
              "    }\n",
              "    30% {\n",
              "      border-color: transparent;\n",
              "      border-left-color: var(--fill-color);\n",
              "      border-top-color: var(--fill-color);\n",
              "      border-right-color: var(--fill-color);\n",
              "    }\n",
              "    40% {\n",
              "      border-color: transparent;\n",
              "      border-right-color: var(--fill-color);\n",
              "      border-top-color: var(--fill-color);\n",
              "    }\n",
              "    60% {\n",
              "      border-color: transparent;\n",
              "      border-right-color: var(--fill-color);\n",
              "    }\n",
              "    80% {\n",
              "      border-color: transparent;\n",
              "      border-right-color: var(--fill-color);\n",
              "      border-bottom-color: var(--fill-color);\n",
              "    }\n",
              "    90% {\n",
              "      border-color: transparent;\n",
              "      border-bottom-color: var(--fill-color);\n",
              "    }\n",
              "  }\n",
              "</style>\n",
              "\n",
              "  <script>\n",
              "    async function quickchart(key) {\n",
              "      const quickchartButtonEl =\n",
              "        document.querySelector('#' + key + ' button');\n",
              "      quickchartButtonEl.disabled = true;  // To prevent multiple clicks.\n",
              "      quickchartButtonEl.classList.add('colab-df-spinner');\n",
              "      try {\n",
              "        const charts = await google.colab.kernel.invokeFunction(\n",
              "            'suggestCharts', [key], {});\n",
              "      } catch (error) {\n",
              "        console.error('Error during call to suggestCharts:', error);\n",
              "      }\n",
              "      quickchartButtonEl.classList.remove('colab-df-spinner');\n",
              "      quickchartButtonEl.classList.add('colab-df-quickchart-complete');\n",
              "    }\n",
              "    (() => {\n",
              "      let quickchartButtonEl =\n",
              "        document.querySelector('#df-b560dbac-d95c-4ee4-a993-6e874923a9c7 button');\n",
              "      quickchartButtonEl.style.display =\n",
              "        google.colab.kernel.accessAllowed ? 'block' : 'none';\n",
              "    })();\n",
              "  </script>\n",
              "</div>\n",
              "\n",
              "    </div>\n",
              "  </div>\n"
            ],
            "application/vnd.google.colaboratory.intrinsic+json": {
              "type": "dataframe",
              "variable_name": "X_train_df3",
              "summary": "{\n  \"name\": \"X_train_df3\",\n  \"rows\": 9960,\n  \"fields\": [\n    {\n      \"column\": \"text\",\n      \"properties\": {\n        \"dtype\": \"string\",\n        \"num_unique_values\": 9959,\n        \"samples\": [\n          \"Venus dazzling yet intriguing natural satellite Solar System Amongst multitudinous attributes widely acclaimed breathtaking swirling cloud formations extreme surface temperatures dense atmosphere dominated carbon dioxide highpressure environment reminiscent deep ocean trenches Earth However scientists remain perplexed harbors characteristics Earth another neighboring planet thereby presenting conundrum seek unravel complexities origins nature order shed light mysteries enshrouding Venus essential comprehend formation evolution shrouded scientific debate popular model suggests Venus created alongside Earth Mars around 46 billion years ago result gravitational collapse protoplanetary disk emanated Sunlike star disks circumstellar matter eventually clumped together resulting formation larger bodies eventually leading birth three terrestrial planets Yet diverging theory Venusian Hades proposes Venus arrived scene much later mere 100 million years ago colliding asteroid turn shredded scattered debris around planet igniting formation hypothesis raises several controversies whether Venus actual core separate Earth formed within different part Solar System entirely scientists continue unveil mysteries surrounding celestial bodies new hypotheses might potentially arise reshaping understanding origins evolution Solar System attempt delve deeper comprehending enigmatic planet understanding nature atmosphere also utmost importance Venus atmosphere remarkably dense made 965 carbon dioxide turn contributes planets infamous runaway greenhouse effect devastating surface temperatures around 476\\u00b0C estimated temperatures led melting surface causing resemble surface molten lava leading widespread theories planet may hosted vast ocean since evaporated due extreme temperatures planets atmospheric pressure also considerably elevated staggering 92 times pressure experienced Earths surface land tried breathe bodies would able function adequately due inability lungs extract sufficient oxygen air Furthermore atmosphere plays significant role protection solar radiation primarily driven superrotating winds approximately 360 Earth rotations hour resulting formation massive cloudy structures wind systems powered absorption CO2 layer atmospheric sulfuric acid traps heat contributes enduring complex temperature inversion planet attempting unravel enigmas Venus one overlook mysterious surface features past planet observed using robotic explorers orbiters reveal topographical data surface terrain instance images missions revealed evidence ancient volcanic landscapes volcanic peaks vast surface flats may resemble flooded landscapes Additionally presence tesserae geological features characteristic Earths continental rocks suggest continents might hosted liquid water past challenges understanding planets evolutionary history Lastly also vital acknowledge possible presence life Earth also Venus Venus shares several characteristics Earth fuels speculation conditions surface point past may supported diverse life forms microbial organisms understanding Venus origins structure past climate accurate possible boasted similar environment Earths enabling life develop thrive \\u2013 gradually destroyed due planets evolving environmental conditions conclusion understanding evolution Venus interdisciplinary endeavor requiring collaboration scientists various fields astronomy geology meteorology researchers delve deeper mysteries surrounding planet continue build current knowledge base advance understanding cosmos possibility life exist beyond Earth light increasing frequency planetary probes rovers theres limit potential discoveries Earths sister planet Venus\",\n          \"know growing concern impact car usage environment public health urban development recent years many cities taking steps reduce number cars road promote sustainable modes transportation argue limiting car usage negative economic impacts numerous reasons believe efforts ultimately benefit society whole First foremost reducing number cars road significantly reduce air pollution urban areas Cars one largest sources air pollution cities emitting harmful pollutants carbon monoxide nitrogen oxides particulate matter limiting car usage cities reduce emissions create cleaner healthier environments citizens example study World Health Organization found reducing air pollution cities could prevent thousands premature deaths year Another benefit limiting car usage reduction greenhouse gas emissions Cars significant source greenhouse gas emissions contribute climate change promoting sustainable modes transportation public transit cycling walking cities reduce carbon footprint help mitigate impacts climate change instance study Institute Transportation Development Policy found cities around world increase share trips made cycling walking 10 could reduce greenhouse gas emissions 12 Finally limiting car usage help create livable sustainable cities Cars long dominated urban planning cities designed primarily around needs car users However led cities sprawling suburbs narrow sidewalks poorly\",\n          \"author Challenge Exploring Venus effectively argues favor exploring Venus despite numerous challenges dangers associated author presents wellstructured thoughtout article using evidence support argument providing clear explanation challenges potential rewards Venus exploration author begins highlighting allure space exploration unique set challenges Venus presents delve harsh reality Venus describing extreme temperatures atmospheric pressure make landbased missions nearly impossible However instead dwelling challenges author quickly pivots discussing technological innovations could potentially overcome obstacles approach effectively showcases authors perspective despite challenges exploring Venus still worthwhile author supports argument discussing paradox distant observation limits extent orbiting hovering missions gather data Venuss surface section effectively underscores need direct exploration methods author argues feasible advancements technology articles strongest point authors explanation exploring Venus worth risk author highlights potential scientific gains understanding planetary science Earths future relative accessibility Venus certain orbits points effectively balance risk reward exploring Venus making compelling argument continue pursue endeavor author also effectively uses evidence support argument cite past attempts exploring Venus challenges missions faced demonstrating authors knowledge understanding topic Additionally authorsuse metaphors comparing Venus hostile yet intriguing world adds depth interest article However areas author could improve times language used overly complex may make difficult readers fully understand concepts discussed Additionally article could benefit visual aids diagrams images help illustrate challenges potential solutions Venus exploration conclusion author Challenge Exploring Venus effectively argues favor exploring Venus despite associated dangers author presents wellstructured thoughtout article using evidence support argument providing clear explanation challenges potential rewards Venus exploration areas improvement article overall makes compelling case continue pursue exploration Venus\"\n        ],\n        \"semantic_type\": \"\",\n        \"description\": \"\"\n      }\n    }\n  ]\n}"
            }
          },
          "metadata": {},
          "execution_count": 169
        }
      ]
    },
    {
      "cell_type": "markdown",
      "source": [
        "## LSTM"
      ],
      "metadata": {
        "id": "TCTkScOW7qls"
      }
    },
    {
      "cell_type": "code",
      "source": [],
      "metadata": {
        "id": "Jf5ZAhg97qls"
      },
      "execution_count": null,
      "outputs": []
    },
    {
      "cell_type": "markdown",
      "source": [
        "## Bi-LSTM"
      ],
      "metadata": {
        "id": "pqJ5ZLVo7qls"
      }
    },
    {
      "cell_type": "code",
      "source": [],
      "metadata": {
        "id": "W0RqQCmy7qls"
      },
      "execution_count": null,
      "outputs": []
    },
    {
      "cell_type": "markdown",
      "source": [
        "## BERT"
      ],
      "metadata": {
        "id": "1BJyAF-p7qlt"
      }
    },
    {
      "cell_type": "code",
      "source": [
        "!pip install evaluate"
      ],
      "metadata": {
        "id": "XrO4Hf837qlt"
      },
      "execution_count": null,
      "outputs": []
    },
    {
      "cell_type": "code",
      "source": [
        "# Load model directly\n",
        "from transformers import BertForSequenceClassification, TrainingArguments, Trainer,AutoTokenizer\n",
        "\n",
        "tokenizer = AutoTokenizer.from_pretrained(\"google-bert/bert-base-uncased\")\n",
        "model = BertForSequenceClassification.from_pretrained(\"google-bert/bert-base-uncased\",num_labels = 2)"
      ],
      "metadata": {
        "id": "zGPspuZI7qlt"
      },
      "execution_count": null,
      "outputs": []
    },
    {
      "cell_type": "code",
      "source": [
        "import torch\n",
        "from torch.utils.data import Dataset\n",
        "\n",
        "# Custom dataset class\n",
        "class CustomDataset(Dataset):\n",
        "    def __init__(self, texts, labels, tokenizer, max_len=512):\n",
        "        self.texts = texts\n",
        "        self.labels = labels\n",
        "        self.tokenizer = tokenizer\n",
        "        self.max_len = max_len\n",
        "\n",
        "    def __len__(self):\n",
        "        return len(self.texts)\n",
        "\n",
        "    def __getitem__(self, index):\n",
        "        text = self.texts.iloc[index]\n",
        "        label = self.labels.iloc[index]\n",
        "        encoding = self.tokenizer(\n",
        "            text,\n",
        "            truncation=True,\n",
        "            padding='max_length',\n",
        "            max_length=self.max_len,\n",
        "            return_tensors='pt'\n",
        "        )\n",
        "        return {\n",
        "            'input_ids': encoding['input_ids'].flatten(),\n",
        "            'attention_mask': encoding['attention_mask'].flatten(),\n",
        "            'labels': torch.tensor(label, dtype=torch.long)\n",
        "        }\n",
        "\n",
        "train_df1_dataset = CustomDataset(X_train_df1['text'], y_train_df1, tokenizer)\n",
        "train_df2_dataset = CustomDataset(X_train_df2['text'], y_train_df2, tokenizer)\n",
        "train_df3_dataset = CustomDataset(X_train_df3['text'], y_train_df3, tokenizer)\n",
        "\n",
        "# For validation datasets\n",
        "val_df1_dataset = CustomDataset(X_val_df1['text'], y_val_df1, tokenizer)\n",
        "val_df2_dataset = CustomDataset(X_val_df2['text'], y_val_df2, tokenizer)\n",
        "val_df3_dataset = CustomDataset(X_val_df3['text'], y_val_df3, tokenizer)\n",
        "\n",
        "# For test datasets\n",
        "test_df1_dataset = CustomDataset(X_test_df1['text'], y_test_df1, tokenizer)\n",
        "test_df2_dataset = CustomDataset(X_test_df2['text'], y_test_df2, tokenizer)\n",
        "test_df3_dataset = CustomDataset(X_test_df3['text'], y_test_df3, tokenizer)"
      ],
      "metadata": {
        "id": "JZM_k8v17qlt"
      },
      "execution_count": null,
      "outputs": []
    },
    {
      "cell_type": "code",
      "source": [
        "import torch\n",
        "\n",
        "# Check if GPU is available\n",
        "if torch.cuda.is_available():\n",
        "    device = torch.device(\"cuda\")\n",
        "    print(\"GPU is available. Using GPU:\", torch.cuda.get_device_name(0))\n",
        "else:\n",
        "    device = torch.device(\"cpu\")\n",
        "    print(\"GPU not available. Using CPU instead.\")\n",
        "\n",
        "model.to(device)"
      ],
      "metadata": {
        "id": "a9EkEbcP7qlt"
      },
      "execution_count": null,
      "outputs": []
    },
    {
      "cell_type": "code",
      "source": [
        "def compute_metrics(eval_pred):\n",
        "    logits, labels = eval_pred\n",
        "    predictions = np.argmax(logits, axis=1)\n",
        "    return metric.compute(predictions=predictions, references=labels)"
      ],
      "metadata": {
        "id": "a3l7_FlI7qlu"
      },
      "execution_count": null,
      "outputs": []
    },
    {
      "cell_type": "code",
      "source": [
        "import numpy as np\n",
        "import evaluate\n",
        "\n",
        "metric = evaluate.load(\"accuracy\")"
      ],
      "metadata": {
        "id": "Yf53wxcZ7qlu"
      },
      "execution_count": null,
      "outputs": []
    },
    {
      "cell_type": "markdown",
      "source": [
        "### Dataset 1"
      ],
      "metadata": {
        "id": "aHU67Qor7qlu"
      }
    },
    {
      "cell_type": "markdown",
      "source": [
        "#### Seed 1"
      ],
      "metadata": {
        "id": "xgLm3O_B7qlu"
      }
    },
    {
      "cell_type": "code",
      "source": [
        "# Don't Show Warning Messages\n",
        "import os\n",
        "import warnings\n",
        "warnings.filterwarnings('ignore')\n",
        "os.environ[\"WANDB_DISABLED\"] = \"true\""
      ],
      "metadata": {
        "id": "LZ6Urw3e7qlu"
      },
      "execution_count": null,
      "outputs": []
    },
    {
      "cell_type": "code",
      "source": [
        "from transformers import set_seed, Trainer\n",
        "\n",
        "# Set the seed for reproducibility\n",
        "set_seed(20240917)"
      ],
      "metadata": {
        "id": "kurBNb7W7qlu"
      },
      "execution_count": null,
      "outputs": []
    },
    {
      "cell_type": "code",
      "source": [
        "def model_init() :\n",
        "    return BertForSequenceClassification.from_pretrained(\"google-bert/bert-base-uncased\",num_labels = 2)"
      ],
      "metadata": {
        "id": "KTItcLrO7qlv"
      },
      "execution_count": null,
      "outputs": []
    },
    {
      "cell_type": "code",
      "source": [
        "training_args = TrainingArguments(\n",
        "    eval_strategy=\"epoch\",\n",
        "    output_dir=\"./results\",\n",
        "    learning_rate=2e-5,\n",
        "    per_device_train_batch_size=16,\n",
        "    per_device_eval_batch_size=16,\n",
        "    num_train_epochs=3,\n",
        "    weight_decay=0.01,\n",
        "    seed = 20240917\n",
        ")\n",
        "\n",
        "# Initialize Trainer\n",
        "trainer = Trainer(\n",
        "    model_init = model_init,\n",
        "    args=training_args,\n",
        "    train_dataset=train_df0_dataset,\n",
        "    eval_dataset=val_df0_dataset,\n",
        "    tokenizer = tokenizer,\n",
        "    compute_metrics=compute_metrics,\n",
        ")\n",
        "\n",
        "# Fine-tune the model\n",
        "trainer.train()"
      ],
      "metadata": {
        "id": "ECslxumr7qlv"
      },
      "execution_count": null,
      "outputs": []
    },
    {
      "cell_type": "code",
      "source": [
        "from torch.utils.data import DataLoader\n",
        "\n",
        "# Assuming you've already created your test_dataset\n",
        "test_loader = DataLoader(test_df0_dataset, batch_size=32, shuffle=False)"
      ],
      "metadata": {
        "id": "TEAR8Nb67qlv"
      },
      "execution_count": null,
      "outputs": []
    },
    {
      "cell_type": "code",
      "source": [
        "model1 = AutoModelForSequenceClassification.from_pretrained(\"/kaggle/working/results/checkpoint-1125\", num_labels=2)\n",
        "model1.to(device)"
      ],
      "metadata": {
        "id": "JZGuf4q-7qlv"
      },
      "execution_count": null,
      "outputs": []
    },
    {
      "cell_type": "code",
      "source": [
        "import torch\n",
        "import numpy as np\n",
        "\n",
        "model1.eval()  # Set the model to evaluation mode\n",
        "all_predictions = []\n",
        "all_true_labels = []\n",
        "\n",
        "with torch.no_grad():\n",
        "    for batch in test_loader:\n",
        "        input_ids = batch['input_ids'].to(device)\n",
        "        attention_mask = batch['attention_mask'].to(device)\n",
        "        labels = batch['labels'].to(device)\n",
        "\n",
        "        outputs = model1(input_ids, attention_mask=attention_mask)\n",
        "        _, predictions = torch.max(outputs.logits, dim=1)\n",
        "\n",
        "        all_predictions.extend(predictions.cpu().numpy())\n",
        "        all_true_labels.extend(labels.cpu().numpy())\n",
        "\n",
        "# Convert to numpy arrays\n",
        "y_pred = np.array(all_predictions)\n",
        "y_true = np.array(all_true_labels)"
      ],
      "metadata": {
        "id": "gp8XWr5P7qlv"
      },
      "execution_count": null,
      "outputs": []
    },
    {
      "cell_type": "code",
      "source": [
        "from sklearn.metrics import classification_report, confusion_matrix\n",
        "import seaborn as sns\n",
        "import matplotlib.pyplot as plt\n",
        "\n",
        "# Print classification report\n",
        "print(classification_report(y_true, y_pred))\n",
        "\n",
        "# Create confusion matrix\n",
        "cm = confusion_matrix(y_true, y_pred)\n",
        "\n",
        "# Plot confusion matrix\n",
        "plt.figure(figsize=(10, 8))\n",
        "sns.heatmap(cm, annot=True, fmt='d', cmap='Blues')\n",
        "plt.xlabel('Predicted')\n",
        "plt.ylabel('True')\n",
        "plt.title('Confusion Matrix')\n",
        "plt.show()"
      ],
      "metadata": {
        "id": "xHRyGFHt7qlv"
      },
      "execution_count": null,
      "outputs": []
    },
    {
      "cell_type": "markdown",
      "source": [
        "#### Seed 2"
      ],
      "metadata": {
        "id": "K0wAAiIj7qlw"
      }
    },
    {
      "cell_type": "code",
      "source": [
        "# Don't Show Warning Messages\n",
        "import os\n",
        "import warnings\n",
        "warnings.filterwarnings('ignore')\n",
        "os.environ[\"WANDB_DISABLED\"] = \"true\""
      ],
      "metadata": {
        "id": "9fzWA_Ne7qlw"
      },
      "execution_count": null,
      "outputs": []
    },
    {
      "cell_type": "code",
      "source": [
        "from transformers import set_seed, Trainer\n",
        "\n",
        "# Set the seed for reproducibility\n",
        "set_seed(68820831)"
      ],
      "metadata": {
        "id": "nR20zUjd7qlw"
      },
      "execution_count": null,
      "outputs": []
    },
    {
      "cell_type": "code",
      "source": [
        "def model_init() :\n",
        "    return BertForSequenceClassification.from_pretrained(\"google-bert/bert-base-uncased\",num_labels = 2)"
      ],
      "metadata": {
        "id": "oY3pTnhr7qlw"
      },
      "execution_count": null,
      "outputs": []
    },
    {
      "cell_type": "code",
      "source": [
        "training_args = TrainingArguments(\n",
        "    eval_strategy=\"epoch\",\n",
        "    output_dir=\"./results\",\n",
        "    learning_rate=2e-5,\n",
        "    per_device_train_batch_size=16,\n",
        "    per_device_eval_batch_size=16,\n",
        "    num_train_epochs=3,\n",
        "    weight_decay=0.01,\n",
        "    seed = 68820831\n",
        ")\n",
        "\n",
        "# Initialize Trainer\n",
        "trainer = Trainer(\n",
        "    model_init = model_init,\n",
        "    args=training_args,\n",
        "    train_dataset=train_df0_dataset,\n",
        "    eval_dataset=val_df0_dataset,\n",
        "    tokenizer = tokenizer,\n",
        "    compute_metrics=compute_metrics,\n",
        ")\n",
        "\n",
        "# Fine-tune the model\n",
        "trainer.train()"
      ],
      "metadata": {
        "id": "yKLBs-OT7qlw"
      },
      "execution_count": null,
      "outputs": []
    },
    {
      "cell_type": "code",
      "source": [
        "from torch.utils.data import DataLoader\n",
        "\n",
        "# Assuming you've already created your test_dataset\n",
        "test_loader = DataLoader(test_df0_dataset, batch_size=32, shuffle=False)"
      ],
      "metadata": {
        "id": "QFRS8w2J7qlx"
      },
      "execution_count": null,
      "outputs": []
    },
    {
      "cell_type": "code",
      "source": [
        "model1 = AutoModelForSequenceClassification.from_pretrained(\"/kaggle/working/results/checkpoint-1125\", num_labels=2)\n",
        "model1.to(device)"
      ],
      "metadata": {
        "id": "MzzcWqRu7qlx"
      },
      "execution_count": null,
      "outputs": []
    },
    {
      "cell_type": "code",
      "source": [
        "import torch\n",
        "import numpy as np\n",
        "\n",
        "model1.eval()  # Set the model to evaluation mode\n",
        "all_predictions = []\n",
        "all_true_labels = []\n",
        "\n",
        "with torch.no_grad():\n",
        "    for batch in test_loader:\n",
        "        input_ids = batch['input_ids'].to(device)\n",
        "        attention_mask = batch['attention_mask'].to(device)\n",
        "        labels = batch['labels'].to(device)\n",
        "\n",
        "        outputs = model1(input_ids, attention_mask=attention_mask)\n",
        "        _, predictions = torch.max(outputs.logits, dim=1)\n",
        "\n",
        "        all_predictions.extend(predictions.cpu().numpy())\n",
        "        all_true_labels.extend(labels.cpu().numpy())\n",
        "\n",
        "# Convert to numpy arrays\n",
        "y_pred = np.array(all_predictions)\n",
        "y_true = np.array(all_true_labels)"
      ],
      "metadata": {
        "id": "j4ULJRdh7qlx"
      },
      "execution_count": null,
      "outputs": []
    },
    {
      "cell_type": "code",
      "source": [
        "from sklearn.metrics import classification_report, confusion_matrix\n",
        "import seaborn as sns\n",
        "import matplotlib.pyplot as plt\n",
        "\n",
        "# Print classification report\n",
        "print(classification_report(y_true, y_pred))\n",
        "\n",
        "# Create confusion matrix\n",
        "cm = confusion_matrix(y_true, y_pred)\n",
        "\n",
        "# Plot confusion matrix\n",
        "plt.figure(figsize=(10, 8))\n",
        "sns.heatmap(cm, annot=True, fmt='d', cmap='Blues')\n",
        "plt.xlabel('Predicted')\n",
        "plt.ylabel('True')\n",
        "plt.title('Confusion Matrix')\n",
        "plt.show()"
      ],
      "metadata": {
        "id": "Z7TwSxRu7qlx"
      },
      "execution_count": null,
      "outputs": []
    },
    {
      "cell_type": "markdown",
      "source": [
        "#### Seed 3"
      ],
      "metadata": {
        "id": "7GJc87G27qlx"
      }
    },
    {
      "cell_type": "code",
      "source": [
        "# Don't Show Warning Messages\n",
        "import os\n",
        "import warnings\n",
        "warnings.filterwarnings('ignore')\n",
        "os.environ[\"WANDB_DISABLED\"] = \"true\""
      ],
      "metadata": {
        "id": "UM-SGV2p7qly"
      },
      "execution_count": null,
      "outputs": []
    },
    {
      "cell_type": "code",
      "source": [
        "from transformers import set_seed, Trainer\n",
        "\n",
        "# Set the seed for reproducibility\n",
        "set_seed(54226614)"
      ],
      "metadata": {
        "id": "TZWzMWU47qly"
      },
      "execution_count": null,
      "outputs": []
    },
    {
      "cell_type": "code",
      "source": [
        "def model_init() :\n",
        "    return BertForSequenceClassification.from_pretrained(\"google-bert/bert-base-uncased\",num_labels = 2)"
      ],
      "metadata": {
        "id": "qOxIpXTe7qly"
      },
      "execution_count": null,
      "outputs": []
    },
    {
      "cell_type": "code",
      "source": [
        "training_args = TrainingArguments(\n",
        "    eval_strategy=\"epoch\",\n",
        "    output_dir=\"./results\",\n",
        "    learning_rate=2e-5,\n",
        "    per_device_train_batch_size=16,\n",
        "    per_device_eval_batch_size=16,\n",
        "    num_train_epochs=3,\n",
        "    weight_decay=0.01,\n",
        "    seed = 54226614\n",
        ")\n",
        "\n",
        "# Initialize Trainer\n",
        "trainer = Trainer(\n",
        "    model_init = model_init,\n",
        "    args=training_args,\n",
        "    train_dataset=train_df0_dataset,\n",
        "    eval_dataset=val_df0_dataset,\n",
        "    tokenizer = tokenizer,\n",
        "    compute_metrics=compute_metrics,\n",
        ")\n",
        "\n",
        "# Fine-tune the model\n",
        "trainer.train()"
      ],
      "metadata": {
        "id": "Uf3CCOeO7qly"
      },
      "execution_count": null,
      "outputs": []
    },
    {
      "cell_type": "code",
      "source": [
        "from torch.utils.data import DataLoader\n",
        "\n",
        "# Assuming you've already created your test_dataset\n",
        "test_loader = DataLoader(test_df0_dataset, batch_size=32, shuffle=False)"
      ],
      "metadata": {
        "id": "bUIiNfnc7qly"
      },
      "execution_count": null,
      "outputs": []
    },
    {
      "cell_type": "code",
      "source": [
        "model1 = AutoModelForSequenceClassification.from_pretrained(\"/kaggle/working/results/checkpoint-1125\", num_labels=2)\n",
        "model1.to(device)"
      ],
      "metadata": {
        "id": "RRPvtBgr7qly"
      },
      "execution_count": null,
      "outputs": []
    },
    {
      "cell_type": "code",
      "source": [
        "import torch\n",
        "import numpy as np\n",
        "\n",
        "model1.eval()  # Set the model to evaluation mode\n",
        "all_predictions = []\n",
        "all_true_labels = []\n",
        "\n",
        "with torch.no_grad():\n",
        "    for batch in test_loader:\n",
        "        input_ids = batch['input_ids'].to(device)\n",
        "        attention_mask = batch['attention_mask'].to(device)\n",
        "        labels = batch['labels'].to(device)\n",
        "\n",
        "        outputs = model1(input_ids, attention_mask=attention_mask)\n",
        "        _, predictions = torch.max(outputs.logits, dim=1)\n",
        "\n",
        "        all_predictions.extend(predictions.cpu().numpy())\n",
        "        all_true_labels.extend(labels.cpu().numpy())\n",
        "\n",
        "# Convert to numpy arrays\n",
        "y_pred = np.array(all_predictions)\n",
        "y_true = np.array(all_true_labels)"
      ],
      "metadata": {
        "id": "FZyGUYCh7qlz"
      },
      "execution_count": null,
      "outputs": []
    },
    {
      "cell_type": "code",
      "source": [
        "from sklearn.metrics import classification_report, confusion_matrix\n",
        "import seaborn as sns\n",
        "import matplotlib.pyplot as plt\n",
        "\n",
        "# Print classification report\n",
        "print(classification_report(y_true, y_pred))\n",
        "\n",
        "# Create confusion matrix\n",
        "cm = confusion_matrix(y_true, y_pred)\n",
        "\n",
        "# Plot confusion matrix\n",
        "plt.figure(figsize=(10, 8))\n",
        "sns.heatmap(cm, annot=True, fmt='d', cmap='Blues')\n",
        "plt.xlabel('Predicted')\n",
        "plt.ylabel('True')\n",
        "plt.title('Confusion Matrix')\n",
        "plt.show()"
      ],
      "metadata": {
        "id": "YsqGwhR67qlz"
      },
      "execution_count": null,
      "outputs": []
    },
    {
      "cell_type": "markdown",
      "source": [
        "### Dataset 2"
      ],
      "metadata": {
        "id": "cPXQSmjd7qlz"
      }
    },
    {
      "cell_type": "markdown",
      "source": [
        "#### Seed 1"
      ],
      "metadata": {
        "id": "inkcwBrI7qlz"
      }
    },
    {
      "cell_type": "code",
      "source": [
        "# Don't Show Warning Messages\n",
        "import os\n",
        "import warnings\n",
        "warnings.filterwarnings('ignore')\n",
        "os.environ[\"WANDB_DISABLED\"] = \"true\""
      ],
      "metadata": {
        "id": "MR-mNhKH7qlz"
      },
      "execution_count": null,
      "outputs": []
    },
    {
      "cell_type": "code",
      "source": [
        "from transformers import set_seed, Trainer\n",
        "\n",
        "# Set the seed for reproducibility\n",
        "set_seed(20240917)"
      ],
      "metadata": {
        "id": "8ajPTiOV7qlz"
      },
      "execution_count": null,
      "outputs": []
    },
    {
      "cell_type": "code",
      "source": [
        "def model_init() :\n",
        "    return BertForSequenceClassification.from_pretrained(\"google-bert/bert-base-uncased\",num_labels = 2)"
      ],
      "metadata": {
        "id": "GlikWIJq7ql0"
      },
      "execution_count": null,
      "outputs": []
    },
    {
      "cell_type": "code",
      "source": [
        "training_args = TrainingArguments(\n",
        "    eval_strategy=\"epoch\",\n",
        "    output_dir=\"./results\",\n",
        "    learning_rate=2e-5,\n",
        "    per_device_train_batch_size=16,\n",
        "    per_device_eval_batch_size=16,\n",
        "    num_train_epochs=3,\n",
        "    weight_decay=0.01,\n",
        "    seed = 20240917\n",
        ")\n",
        "\n",
        "# Initialize Trainer\n",
        "trainer = Trainer(\n",
        "    model_init = model_init,\n",
        "    args=training_args,\n",
        "    train_dataset=train_df1_dataset,\n",
        "    eval_dataset=val_df1_dataset,\n",
        "    tokenizer = tokenizer,\n",
        "    compute_metrics=compute_metrics,\n",
        ")\n",
        "\n",
        "# Fine-tune the model\n",
        "trainer.train()"
      ],
      "metadata": {
        "id": "Kmk7kgBS7ql0"
      },
      "execution_count": null,
      "outputs": []
    },
    {
      "cell_type": "code",
      "source": [
        "from torch.utils.data import DataLoader\n",
        "\n",
        "# Assuming you've already created your test_dataset\n",
        "test_loader = DataLoader(test_df1_dataset, batch_size=32, shuffle=False)"
      ],
      "metadata": {
        "id": "GIyzH1HH7ql0"
      },
      "execution_count": null,
      "outputs": []
    },
    {
      "cell_type": "code",
      "source": [
        "model1 = AutoModelForSequenceClassification.from_pretrained(\"/kaggle/working/results/checkpoint-1125\", num_labels=2)\n",
        "model1.to(device)"
      ],
      "metadata": {
        "id": "mzXTcBNu7ql0"
      },
      "execution_count": null,
      "outputs": []
    },
    {
      "cell_type": "code",
      "source": [
        "import torch\n",
        "import numpy as np\n",
        "\n",
        "model1.eval()  # Set the model to evaluation mode\n",
        "all_predictions = []\n",
        "all_true_labels = []\n",
        "\n",
        "with torch.no_grad():\n",
        "    for batch in test_loader:\n",
        "        input_ids = batch['input_ids'].to(device)\n",
        "        attention_mask = batch['attention_mask'].to(device)\n",
        "        labels = batch['labels'].to(device)\n",
        "\n",
        "        outputs = model1(input_ids, attention_mask=attention_mask)\n",
        "        _, predictions = torch.max(outputs.logits, dim=1)\n",
        "\n",
        "        all_predictions.extend(predictions.cpu().numpy())\n",
        "        all_true_labels.extend(labels.cpu().numpy())\n",
        "\n",
        "# Convert to numpy arrays\n",
        "y_pred = np.array(all_predictions)\n",
        "y_true = np.array(all_true_labels)"
      ],
      "metadata": {
        "id": "XFqD_wF47ql0"
      },
      "execution_count": null,
      "outputs": []
    },
    {
      "cell_type": "code",
      "source": [
        "from sklearn.metrics import classification_report, confusion_matrix\n",
        "import seaborn as sns\n",
        "import matplotlib.pyplot as plt\n",
        "\n",
        "# Print classification report\n",
        "print(classification_report(y_true, y_pred))\n",
        "\n",
        "# Create confusion matrix\n",
        "cm = confusion_matrix(y_true, y_pred)\n",
        "\n",
        "# Plot confusion matrix\n",
        "plt.figure(figsize=(10, 8))\n",
        "sns.heatmap(cm, annot=True, fmt='d', cmap='Blues')\n",
        "plt.xlabel('Predicted')\n",
        "plt.ylabel('True')\n",
        "plt.title('Confusion Matrix')\n",
        "plt.show()"
      ],
      "metadata": {
        "id": "urwLSBEk7ql1"
      },
      "execution_count": null,
      "outputs": []
    },
    {
      "cell_type": "markdown",
      "source": [
        "#### Seed 2"
      ],
      "metadata": {
        "id": "i4GkHlFl7ql1"
      }
    },
    {
      "cell_type": "code",
      "source": [
        "# Don't Show Warning Messages\n",
        "import os\n",
        "import warnings\n",
        "warnings.filterwarnings('ignore')\n",
        "os.environ[\"WANDB_DISABLED\"] = \"true\""
      ],
      "metadata": {
        "id": "2tCE8yT_7ql1"
      },
      "execution_count": null,
      "outputs": []
    },
    {
      "cell_type": "code",
      "source": [
        "from transformers import set_seed, Trainer\n",
        "\n",
        "# Set the seed for reproducibility\n",
        "set_seed(68820831)"
      ],
      "metadata": {
        "id": "otwXYYWq7ql1"
      },
      "execution_count": null,
      "outputs": []
    },
    {
      "cell_type": "code",
      "source": [
        "def model_init() :\n",
        "    return BertForSequenceClassification.from_pretrained(\"google-bert/bert-base-uncased\",num_labels = 2)"
      ],
      "metadata": {
        "id": "xv_OoD-17ql1"
      },
      "execution_count": null,
      "outputs": []
    },
    {
      "cell_type": "code",
      "source": [
        "training_args = TrainingArguments(\n",
        "    eval_strategy=\"epoch\",\n",
        "    output_dir=\"./results\",\n",
        "    learning_rate=2e-5,\n",
        "    per_device_train_batch_size=16,\n",
        "    per_device_eval_batch_size=16,\n",
        "    num_train_epochs=3,\n",
        "    weight_decay=0.01,\n",
        "    seed = 68820831\n",
        ")\n",
        "\n",
        "# Initialize Trainer\n",
        "trainer = Trainer(\n",
        "    model_init = model_init,\n",
        "    args=training_args,\n",
        "    train_dataset=train_df1_dataset,\n",
        "    eval_dataset=val_df1_dataset,\n",
        "    tokenizer = tokenizer,\n",
        "    compute_metrics=compute_metrics,\n",
        ")\n",
        "\n",
        "# Fine-tune the model\n",
        "trainer.train()"
      ],
      "metadata": {
        "id": "C_HVVfTb7ql2"
      },
      "execution_count": null,
      "outputs": []
    },
    {
      "cell_type": "code",
      "source": [
        "from torch.utils.data import DataLoader\n",
        "\n",
        "# Assuming you've already created your test_dataset\n",
        "test_loader = DataLoader(test_df1_dataset, batch_size=32, shuffle=False)"
      ],
      "metadata": {
        "id": "lJZKfjbV7ql2"
      },
      "execution_count": null,
      "outputs": []
    },
    {
      "cell_type": "code",
      "source": [
        "model1 = AutoModelForSequenceClassification.from_pretrained(\"/kaggle/working/results/checkpoint-1125\", num_labels=2)\n",
        "model1.to(device)"
      ],
      "metadata": {
        "id": "zeLmnpEh7ql2"
      },
      "execution_count": null,
      "outputs": []
    },
    {
      "cell_type": "code",
      "source": [
        "import torch\n",
        "import numpy as np\n",
        "\n",
        "model1.eval()  # Set the model to evaluation mode\n",
        "all_predictions = []\n",
        "all_true_labels = []\n",
        "\n",
        "with torch.no_grad():\n",
        "    for batch in test_loader:\n",
        "        input_ids = batch['input_ids'].to(device)\n",
        "        attention_mask = batch['attention_mask'].to(device)\n",
        "        labels = batch['labels'].to(device)\n",
        "\n",
        "        outputs = model1(input_ids, attention_mask=attention_mask)\n",
        "        _, predictions = torch.max(outputs.logits, dim=1)\n",
        "\n",
        "        all_predictions.extend(predictions.cpu().numpy())\n",
        "        all_true_labels.extend(labels.cpu().numpy())\n",
        "\n",
        "# Convert to numpy arrays\n",
        "y_pred = np.array(all_predictions)\n",
        "y_true = np.array(all_true_labels)"
      ],
      "metadata": {
        "id": "lTJWfYZu7ql2"
      },
      "execution_count": null,
      "outputs": []
    },
    {
      "cell_type": "code",
      "source": [
        "from sklearn.metrics import classification_report, confusion_matrix\n",
        "import seaborn as sns\n",
        "import matplotlib.pyplot as plt\n",
        "\n",
        "# Print classification report\n",
        "print(classification_report(y_true, y_pred))\n",
        "\n",
        "# Create confusion matrix\n",
        "cm = confusion_matrix(y_true, y_pred)\n",
        "\n",
        "# Plot confusion matrix\n",
        "plt.figure(figsize=(10, 8))\n",
        "sns.heatmap(cm, annot=True, fmt='d', cmap='Blues')\n",
        "plt.xlabel('Predicted')\n",
        "plt.ylabel('True')\n",
        "plt.title('Confusion Matrix')\n",
        "plt.show()"
      ],
      "metadata": {
        "id": "Xuupbhak7ql2"
      },
      "execution_count": null,
      "outputs": []
    },
    {
      "cell_type": "markdown",
      "source": [
        "#### Seed 3"
      ],
      "metadata": {
        "id": "MsVQTroO7ql3"
      }
    },
    {
      "cell_type": "code",
      "source": [
        "# Don't Show Warning Messages\n",
        "import os\n",
        "import warnings\n",
        "warnings.filterwarnings('ignore')\n",
        "os.environ[\"WANDB_DISABLED\"] = \"true\""
      ],
      "metadata": {
        "id": "ABuz9iEm7ql3"
      },
      "execution_count": null,
      "outputs": []
    },
    {
      "cell_type": "code",
      "source": [
        "from transformers import set_seed, Trainer\n",
        "\n",
        "# Set the seed for reproducibility\n",
        "set_seed(54226614)"
      ],
      "metadata": {
        "id": "nLQm9Bq47ql3"
      },
      "execution_count": null,
      "outputs": []
    },
    {
      "cell_type": "code",
      "source": [
        "def model_init() :\n",
        "    return BertForSequenceClassification.from_pretrained(\"google-bert/bert-base-uncased\",num_labels = 2)"
      ],
      "metadata": {
        "id": "upaoWIfA7ql3"
      },
      "execution_count": null,
      "outputs": []
    },
    {
      "cell_type": "code",
      "source": [
        "training_args = TrainingArguments(\n",
        "    eval_strategy=\"epoch\",\n",
        "    output_dir=\"./results\",\n",
        "    learning_rate=2e-5,\n",
        "    per_device_train_batch_size=16,\n",
        "    per_device_eval_batch_size=16,\n",
        "    num_train_epochs=3,\n",
        "    weight_decay=0.01,\n",
        "    seed = 54226614\n",
        ")\n",
        "\n",
        "# Initialize Trainer\n",
        "trainer = Trainer(\n",
        "    model_init = model_init,\n",
        "    args=training_args,\n",
        "    train_dataset=train_df1_dataset,\n",
        "    eval_dataset=val_df1_dataset,\n",
        "    tokenizer = tokenizer,\n",
        "    compute_metrics=compute_metrics,\n",
        ")\n",
        "\n",
        "# Fine-tune the model\n",
        "trainer.train()"
      ],
      "metadata": {
        "id": "9awn6_YP7ql4"
      },
      "execution_count": null,
      "outputs": []
    },
    {
      "cell_type": "code",
      "source": [
        "from torch.utils.data import DataLoader\n",
        "\n",
        "# Assuming you've already created your test_dataset\n",
        "test_loader = DataLoader(test_df1_dataset, batch_size=32, shuffle=False)"
      ],
      "metadata": {
        "id": "dqNn9T807ql4"
      },
      "execution_count": null,
      "outputs": []
    },
    {
      "cell_type": "code",
      "source": [
        "model1 = AutoModelForSequenceClassification.from_pretrained(\"/kaggle/working/results/checkpoint-1125\", num_labels=2)\n",
        "model1.to(device)"
      ],
      "metadata": {
        "id": "eXp1sVAD7ql4"
      },
      "execution_count": null,
      "outputs": []
    },
    {
      "cell_type": "code",
      "source": [
        "import torch\n",
        "import numpy as np\n",
        "\n",
        "model1.eval()  # Set the model to evaluation mode\n",
        "all_predictions = []\n",
        "all_true_labels = []\n",
        "\n",
        "with torch.no_grad():\n",
        "    for batch in test_loader:\n",
        "        input_ids = batch['input_ids'].to(device)\n",
        "        attention_mask = batch['attention_mask'].to(device)\n",
        "        labels = batch['labels'].to(device)\n",
        "\n",
        "        outputs = model1(input_ids, attention_mask=attention_mask)\n",
        "        _, predictions = torch.max(outputs.logits, dim=1)\n",
        "\n",
        "        all_predictions.extend(predictions.cpu().numpy())\n",
        "        all_true_labels.extend(labels.cpu().numpy())\n",
        "\n",
        "# Convert to numpy arrays\n",
        "y_pred = np.array(all_predictions)\n",
        "y_true = np.array(all_true_labels)"
      ],
      "metadata": {
        "id": "uzpOf28U7ql5"
      },
      "execution_count": null,
      "outputs": []
    },
    {
      "cell_type": "code",
      "source": [
        "from sklearn.metrics import classification_report, confusion_matrix\n",
        "import seaborn as sns\n",
        "import matplotlib.pyplot as plt\n",
        "\n",
        "# Print classification report\n",
        "print(classification_report(y_true, y_pred))\n",
        "\n",
        "# Create confusion matrix\n",
        "cm = confusion_matrix(y_true, y_pred)\n",
        "\n",
        "# Plot confusion matrix\n",
        "plt.figure(figsize=(10, 8))\n",
        "sns.heatmap(cm, annot=True, fmt='d', cmap='Blues')\n",
        "plt.xlabel('Predicted')\n",
        "plt.ylabel('True')\n",
        "plt.title('Confusion Matrix')\n",
        "plt.show()"
      ],
      "metadata": {
        "id": "Z0MIP-Ia7ql5"
      },
      "execution_count": null,
      "outputs": []
    },
    {
      "cell_type": "code",
      "source": [],
      "metadata": {
        "id": "hsP42MYH7ql5"
      },
      "execution_count": null,
      "outputs": []
    },
    {
      "cell_type": "markdown",
      "source": [
        "### Dataset 3"
      ],
      "metadata": {
        "id": "_3mEXJbJGBum"
      }
    },
    {
      "cell_type": "markdown",
      "source": [
        "#### Seed 1"
      ],
      "metadata": {
        "id": "poWotWcXGBun"
      }
    },
    {
      "cell_type": "code",
      "source": [
        "# Don't Show Warning Messages\n",
        "import os\n",
        "import warnings\n",
        "warnings.filterwarnings('ignore')\n",
        "os.environ[\"WANDB_DISABLED\"] = \"true\""
      ],
      "metadata": {
        "id": "wj4jdujoGBun"
      },
      "execution_count": null,
      "outputs": []
    },
    {
      "cell_type": "code",
      "source": [
        "from transformers import set_seed, Trainer\n",
        "\n",
        "# Set the seed for reproducibility\n",
        "set_seed(20240917)"
      ],
      "metadata": {
        "id": "uwDqICjJGBun"
      },
      "execution_count": null,
      "outputs": []
    },
    {
      "cell_type": "code",
      "source": [
        "def model_init() :\n",
        "    return BertForSequenceClassification.from_pretrained(\"google-bert/bert-base-uncased\",num_labels = 2)"
      ],
      "metadata": {
        "id": "pKOP0ysdGBun"
      },
      "execution_count": null,
      "outputs": []
    },
    {
      "cell_type": "code",
      "source": [
        "training_args = TrainingArguments(\n",
        "    eval_strategy=\"epoch\",\n",
        "    output_dir=\"./results\",\n",
        "    learning_rate=2e-5,\n",
        "    per_device_train_batch_size=16,\n",
        "    per_device_eval_batch_size=16,\n",
        "    num_train_epochs=3,\n",
        "    weight_decay=0.01,\n",
        "    seed = 20240917\n",
        ")\n",
        "\n",
        "# Initialize Trainer\n",
        "trainer = Trainer(\n",
        "    model_init = model_init,\n",
        "    args=training_args,\n",
        "    train_dataset=train_df1_dataset,\n",
        "    eval_dataset=val_df1_dataset,\n",
        "    tokenizer = tokenizer,\n",
        "    compute_metrics=compute_metrics,\n",
        ")\n",
        "\n",
        "# Fine-tune the model\n",
        "trainer.train()"
      ],
      "metadata": {
        "id": "wWilC_FyGBun"
      },
      "execution_count": null,
      "outputs": []
    },
    {
      "cell_type": "code",
      "source": [
        "from torch.utils.data import DataLoader\n",
        "\n",
        "# Assuming you've already created your test_dataset\n",
        "test_loader = DataLoader(test_df1_dataset, batch_size=32, shuffle=False)"
      ],
      "metadata": {
        "id": "HRy57hH8GBuo"
      },
      "execution_count": null,
      "outputs": []
    },
    {
      "cell_type": "code",
      "source": [
        "model1 = AutoModelForSequenceClassification.from_pretrained(\"/kaggle/working/results/checkpoint-1125\", num_labels=2)\n",
        "model1.to(device)"
      ],
      "metadata": {
        "id": "BZfRuWewGBuo"
      },
      "execution_count": null,
      "outputs": []
    },
    {
      "cell_type": "code",
      "source": [
        "import torch\n",
        "import numpy as np\n",
        "\n",
        "model1.eval()  # Set the model to evaluation mode\n",
        "all_predictions = []\n",
        "all_true_labels = []\n",
        "\n",
        "with torch.no_grad():\n",
        "    for batch in test_loader:\n",
        "        input_ids = batch['input_ids'].to(device)\n",
        "        attention_mask = batch['attention_mask'].to(device)\n",
        "        labels = batch['labels'].to(device)\n",
        "\n",
        "        outputs = model1(input_ids, attention_mask=attention_mask)\n",
        "        _, predictions = torch.max(outputs.logits, dim=1)\n",
        "\n",
        "        all_predictions.extend(predictions.cpu().numpy())\n",
        "        all_true_labels.extend(labels.cpu().numpy())\n",
        "\n",
        "# Convert to numpy arrays\n",
        "y_pred = np.array(all_predictions)\n",
        "y_true = np.array(all_true_labels)"
      ],
      "metadata": {
        "id": "3uJLAws4GBuo"
      },
      "execution_count": null,
      "outputs": []
    },
    {
      "cell_type": "code",
      "source": [
        "from sklearn.metrics import classification_report, confusion_matrix\n",
        "import seaborn as sns\n",
        "import matplotlib.pyplot as plt\n",
        "\n",
        "# Print classification report\n",
        "print(classification_report(y_true, y_pred))\n",
        "\n",
        "# Create confusion matrix\n",
        "cm = confusion_matrix(y_true, y_pred)\n",
        "\n",
        "# Plot confusion matrix\n",
        "plt.figure(figsize=(10, 8))\n",
        "sns.heatmap(cm, annot=True, fmt='d', cmap='Blues')\n",
        "plt.xlabel('Predicted')\n",
        "plt.ylabel('True')\n",
        "plt.title('Confusion Matrix')\n",
        "plt.show()"
      ],
      "metadata": {
        "id": "7fkfohfNGBuo"
      },
      "execution_count": null,
      "outputs": []
    },
    {
      "cell_type": "markdown",
      "source": [
        "#### Seed 2"
      ],
      "metadata": {
        "id": "CAFUpSODGBuo"
      }
    },
    {
      "cell_type": "code",
      "source": [
        "# Don't Show Warning Messages\n",
        "import os\n",
        "import warnings\n",
        "warnings.filterwarnings('ignore')\n",
        "os.environ[\"WANDB_DISABLED\"] = \"true\""
      ],
      "metadata": {
        "id": "Ug02I-jLGBup"
      },
      "execution_count": null,
      "outputs": []
    },
    {
      "cell_type": "code",
      "source": [
        "from transformers import set_seed, Trainer\n",
        "\n",
        "# Set the seed for reproducibility\n",
        "set_seed(68820831)"
      ],
      "metadata": {
        "id": "tTIIUNGwGBup"
      },
      "execution_count": null,
      "outputs": []
    },
    {
      "cell_type": "code",
      "source": [
        "def model_init() :\n",
        "    return BertForSequenceClassification.from_pretrained(\"google-bert/bert-base-uncased\",num_labels = 2)"
      ],
      "metadata": {
        "id": "9bN833i8GBup"
      },
      "execution_count": null,
      "outputs": []
    },
    {
      "cell_type": "code",
      "source": [
        "training_args = TrainingArguments(\n",
        "    eval_strategy=\"epoch\",\n",
        "    output_dir=\"./results\",\n",
        "    learning_rate=2e-5,\n",
        "    per_device_train_batch_size=16,\n",
        "    per_device_eval_batch_size=16,\n",
        "    num_train_epochs=3,\n",
        "    weight_decay=0.01,\n",
        "    seed = 68820831\n",
        ")\n",
        "\n",
        "# Initialize Trainer\n",
        "trainer = Trainer(\n",
        "    model_init = model_init,\n",
        "    args=training_args,\n",
        "    train_dataset=train_df1_dataset,\n",
        "    eval_dataset=val_df1_dataset,\n",
        "    tokenizer = tokenizer,\n",
        "    compute_metrics=compute_metrics,\n",
        ")\n",
        "\n",
        "# Fine-tune the model\n",
        "trainer.train()"
      ],
      "metadata": {
        "id": "jYRjK4qIGBup"
      },
      "execution_count": null,
      "outputs": []
    },
    {
      "cell_type": "code",
      "source": [
        "from torch.utils.data import DataLoader\n",
        "\n",
        "# Assuming you've already created your test_dataset\n",
        "test_loader = DataLoader(test_df1_dataset, batch_size=32, shuffle=False)"
      ],
      "metadata": {
        "id": "09I0KQzxGBup"
      },
      "execution_count": null,
      "outputs": []
    },
    {
      "cell_type": "code",
      "source": [
        "model1 = AutoModelForSequenceClassification.from_pretrained(\"/kaggle/working/results/checkpoint-1125\", num_labels=2)\n",
        "model1.to(device)"
      ],
      "metadata": {
        "id": "gp9wvmipGBup"
      },
      "execution_count": null,
      "outputs": []
    },
    {
      "cell_type": "code",
      "source": [
        "import torch\n",
        "import numpy as np\n",
        "\n",
        "model1.eval()  # Set the model to evaluation mode\n",
        "all_predictions = []\n",
        "all_true_labels = []\n",
        "\n",
        "with torch.no_grad():\n",
        "    for batch in test_loader:\n",
        "        input_ids = batch['input_ids'].to(device)\n",
        "        attention_mask = batch['attention_mask'].to(device)\n",
        "        labels = batch['labels'].to(device)\n",
        "\n",
        "        outputs = model1(input_ids, attention_mask=attention_mask)\n",
        "        _, predictions = torch.max(outputs.logits, dim=1)\n",
        "\n",
        "        all_predictions.extend(predictions.cpu().numpy())\n",
        "        all_true_labels.extend(labels.cpu().numpy())\n",
        "\n",
        "# Convert to numpy arrays\n",
        "y_pred = np.array(all_predictions)\n",
        "y_true = np.array(all_true_labels)"
      ],
      "metadata": {
        "id": "uYIZA9eDGBup"
      },
      "execution_count": null,
      "outputs": []
    },
    {
      "cell_type": "code",
      "source": [
        "from sklearn.metrics import classification_report, confusion_matrix\n",
        "import seaborn as sns\n",
        "import matplotlib.pyplot as plt\n",
        "\n",
        "# Print classification report\n",
        "print(classification_report(y_true, y_pred))\n",
        "\n",
        "# Create confusion matrix\n",
        "cm = confusion_matrix(y_true, y_pred)\n",
        "\n",
        "# Plot confusion matrix\n",
        "plt.figure(figsize=(10, 8))\n",
        "sns.heatmap(cm, annot=True, fmt='d', cmap='Blues')\n",
        "plt.xlabel('Predicted')\n",
        "plt.ylabel('True')\n",
        "plt.title('Confusion Matrix')\n",
        "plt.show()"
      ],
      "metadata": {
        "id": "rTNr1RveGBuq"
      },
      "execution_count": null,
      "outputs": []
    },
    {
      "cell_type": "markdown",
      "source": [
        "#### Seed 3"
      ],
      "metadata": {
        "id": "DxbOzxCwGBuq"
      }
    },
    {
      "cell_type": "code",
      "source": [
        "# Don't Show Warning Messages\n",
        "import os\n",
        "import warnings\n",
        "warnings.filterwarnings('ignore')\n",
        "os.environ[\"WANDB_DISABLED\"] = \"true\""
      ],
      "metadata": {
        "id": "DR1Cjl-xGBuq"
      },
      "execution_count": null,
      "outputs": []
    },
    {
      "cell_type": "code",
      "source": [
        "from transformers import set_seed, Trainer\n",
        "\n",
        "# Set the seed for reproducibility\n",
        "set_seed(54226614)"
      ],
      "metadata": {
        "id": "tfeGL9ZuGBuq"
      },
      "execution_count": null,
      "outputs": []
    },
    {
      "cell_type": "code",
      "source": [
        "def model_init() :\n",
        "    return BertForSequenceClassification.from_pretrained(\"google-bert/bert-base-uncased\",num_labels = 2)"
      ],
      "metadata": {
        "id": "lTO3HgRmGBuq"
      },
      "execution_count": null,
      "outputs": []
    },
    {
      "cell_type": "code",
      "source": [
        "training_args = TrainingArguments(\n",
        "    eval_strategy=\"epoch\",\n",
        "    output_dir=\"./results\",\n",
        "    learning_rate=2e-5,\n",
        "    per_device_train_batch_size=16,\n",
        "    per_device_eval_batch_size=16,\n",
        "    num_train_epochs=3,\n",
        "    weight_decay=0.01,\n",
        "    seed = 54226614\n",
        ")\n",
        "\n",
        "# Initialize Trainer\n",
        "trainer = Trainer(\n",
        "    model_init = model_init,\n",
        "    args=training_args,\n",
        "    train_dataset=train_df1_dataset,\n",
        "    eval_dataset=val_df1_dataset,\n",
        "    tokenizer = tokenizer,\n",
        "    compute_metrics=compute_metrics,\n",
        ")\n",
        "\n",
        "# Fine-tune the model\n",
        "trainer.train()"
      ],
      "metadata": {
        "id": "7AlGXnZfGBuq"
      },
      "execution_count": null,
      "outputs": []
    },
    {
      "cell_type": "code",
      "source": [
        "from torch.utils.data import DataLoader\n",
        "\n",
        "# Assuming you've already created your test_dataset\n",
        "test_loader = DataLoader(test_df1_dataset, batch_size=32, shuffle=False)"
      ],
      "metadata": {
        "id": "sXv5ztRgGBur"
      },
      "execution_count": null,
      "outputs": []
    },
    {
      "cell_type": "code",
      "source": [
        "model1 = AutoModelForSequenceClassification.from_pretrained(\"/kaggle/working/results/checkpoint-1125\", num_labels=2)\n",
        "model1.to(device)"
      ],
      "metadata": {
        "id": "FA0WjEbkGBur"
      },
      "execution_count": null,
      "outputs": []
    },
    {
      "cell_type": "code",
      "source": [
        "import torch\n",
        "import numpy as np\n",
        "\n",
        "model1.eval()  # Set the model to evaluation mode\n",
        "all_predictions = []\n",
        "all_true_labels = []\n",
        "\n",
        "with torch.no_grad():\n",
        "    for batch in test_loader:\n",
        "        input_ids = batch['input_ids'].to(device)\n",
        "        attention_mask = batch['attention_mask'].to(device)\n",
        "        labels = batch['labels'].to(device)\n",
        "\n",
        "        outputs = model1(input_ids, attention_mask=attention_mask)\n",
        "        _, predictions = torch.max(outputs.logits, dim=1)\n",
        "\n",
        "        all_predictions.extend(predictions.cpu().numpy())\n",
        "        all_true_labels.extend(labels.cpu().numpy())\n",
        "\n",
        "# Convert to numpy arrays\n",
        "y_pred = np.array(all_predictions)\n",
        "y_true = np.array(all_true_labels)"
      ],
      "metadata": {
        "id": "sg37hm_TGBur"
      },
      "execution_count": null,
      "outputs": []
    },
    {
      "cell_type": "code",
      "source": [
        "from sklearn.metrics import classification_report, confusion_matrix\n",
        "import seaborn as sns\n",
        "import matplotlib.pyplot as plt\n",
        "\n",
        "# Print classification report\n",
        "print(classification_report(y_true, y_pred))\n",
        "\n",
        "# Create confusion matrix\n",
        "cm = confusion_matrix(y_true, y_pred)\n",
        "\n",
        "# Plot confusion matrix\n",
        "plt.figure(figsize=(10, 8))\n",
        "sns.heatmap(cm, annot=True, fmt='d', cmap='Blues')\n",
        "plt.xlabel('Predicted')\n",
        "plt.ylabel('True')\n",
        "plt.title('Confusion Matrix')\n",
        "plt.show()"
      ],
      "metadata": {
        "id": "TjWqsf-OGBur"
      },
      "execution_count": null,
      "outputs": []
    },
    {
      "cell_type": "code",
      "source": [],
      "metadata": {
        "id": "Gq0MAgXeGBur"
      },
      "execution_count": null,
      "outputs": []
    },
    {
      "cell_type": "markdown",
      "source": [
        "## DistilBERT"
      ],
      "metadata": {
        "id": "Qo4YyzbG7ql5"
      }
    },
    {
      "cell_type": "code",
      "source": [
        "from transformers import AutoModelForSequenceClassification, TrainingArguments, Trainer,AutoTokenizer\n",
        "\n",
        "model = AutoModelForSequenceClassification.from_pretrained(\"distilbert-base-uncased\", num_labels=2)\n",
        "tokenizer = AutoTokenizer.from_pretrained(\"distilbert-base-uncased\")"
      ],
      "metadata": {
        "id": "3NZDQjhS7ql5"
      },
      "execution_count": null,
      "outputs": []
    },
    {
      "cell_type": "code",
      "source": [
        "import torch\n",
        "from torch.utils.data import Dataset\n",
        "\n",
        "# Custom dataset class\n",
        "class CustomDataset(Dataset):\n",
        "    def __init__(self, texts, labels, tokenizer, max_len=512):\n",
        "        self.texts = texts\n",
        "        self.labels = labels\n",
        "        self.tokenizer = tokenizer\n",
        "        self.max_len = max_len\n",
        "\n",
        "    def __len__(self):\n",
        "        return len(self.texts)\n",
        "\n",
        "    def __getitem__(self, index):\n",
        "        text = self.texts.iloc[index]\n",
        "        label = self.labels.iloc[index]\n",
        "        encoding = self.tokenizer(\n",
        "            text,\n",
        "            truncation=True,\n",
        "            padding='max_length',\n",
        "            max_length=self.max_len,\n",
        "            return_tensors='pt'\n",
        "        )\n",
        "        return {\n",
        "            'input_ids': encoding['input_ids'].flatten(),\n",
        "            'attention_mask': encoding['attention_mask'].flatten(),\n",
        "            'labels': torch.tensor(label, dtype=torch.long)\n",
        "        }\n",
        "\n",
        "train_df1_dataset = CustomDataset(X_train_df1['text'], y_train_df1, tokenizer)\n",
        "train_df2_dataset = CustomDataset(X_train_df2['text'], y_train_df2, tokenizer)\n",
        "train_df3_dataset = CustomDataset(X_train_df3['text'], y_train_df3, tokenizer)\n",
        "\n",
        "# For validation datasets\n",
        "val_df1_dataset = CustomDataset(X_val_df1['text'], y_val_df1, tokenizer)\n",
        "val_df2_dataset = CustomDataset(X_val_df2['text'], y_val_df2, tokenizer)\n",
        "val_df3_dataset = CustomDataset(X_val_df3['text'], y_val_df3, tokenizer)\n",
        "\n",
        "# For test datasets\n",
        "test_df1_dataset = CustomDataset(X_test_df1['text'], y_test_df1, tokenizer)\n",
        "test_df2_dataset = CustomDataset(X_test_df2['text'], y_test_df2, tokenizer)\n",
        "test_df3_dataset = CustomDataset(X_test_df3['text'], y_test_df3, tokenizer)"
      ],
      "metadata": {
        "id": "Z22ieeBg7ql5"
      },
      "execution_count": null,
      "outputs": []
    },
    {
      "cell_type": "code",
      "source": [
        "import torch\n",
        "\n",
        "# Check if GPU is available\n",
        "if torch.cuda.is_available():\n",
        "    device = torch.device(\"cuda\")\n",
        "    print(\"GPU is available. Using GPU:\", torch.cuda.get_device_name(0))\n",
        "else:\n",
        "    device = torch.device(\"cpu\")\n",
        "    print(\"GPU not available. Using CPU instead.\")\n",
        "\n",
        "model.to(device)"
      ],
      "metadata": {
        "id": "1NZdnNiW7ql6"
      },
      "execution_count": null,
      "outputs": []
    },
    {
      "cell_type": "code",
      "source": [
        "def compute_metrics(eval_pred):\n",
        "    logits, labels = eval_pred\n",
        "    predictions = np.argmax(logits, axis=1)\n",
        "    return metric.compute(predictions=predictions, references=labels)"
      ],
      "metadata": {
        "id": "UNOFRcQX7ql6"
      },
      "execution_count": null,
      "outputs": []
    },
    {
      "cell_type": "code",
      "source": [
        "import numpy as np\n",
        "import evaluate\n",
        "\n",
        "metric = evaluate.load(\"accuracy\")"
      ],
      "metadata": {
        "id": "X5LuIA9r7ql6"
      },
      "execution_count": null,
      "outputs": []
    },
    {
      "cell_type": "markdown",
      "source": [
        "### Dataset 1"
      ],
      "metadata": {
        "id": "_UxRojCP7ql6"
      }
    },
    {
      "cell_type": "markdown",
      "source": [
        "#### Seed 1"
      ],
      "metadata": {
        "id": "QqS6_cVS7ql6"
      }
    },
    {
      "cell_type": "code",
      "source": [
        "# Don't Show Warning Messages\n",
        "import os\n",
        "import warnings\n",
        "warnings.filterwarnings('ignore')\n",
        "os.environ[\"WANDB_DISABLED\"] = \"true\""
      ],
      "metadata": {
        "id": "1dE-wFiy7ql6"
      },
      "execution_count": null,
      "outputs": []
    },
    {
      "cell_type": "code",
      "source": [
        "from transformers import set_seed, Trainer\n",
        "\n",
        "# Set the seed for reproducibility\n",
        "set_seed(20240917)"
      ],
      "metadata": {
        "id": "GL7889Uk7ql7"
      },
      "execution_count": null,
      "outputs": []
    },
    {
      "cell_type": "code",
      "source": [
        "def model_init() :\n",
        "    return AutoModelForSequenceClassification.from_pretrained(\"distilbert-base-uncased\", num_labels=2)"
      ],
      "metadata": {
        "id": "aM7fQdKi7ql7"
      },
      "execution_count": null,
      "outputs": []
    },
    {
      "cell_type": "code",
      "source": [
        "training_args = TrainingArguments(\n",
        "    eval_strategy=\"epoch\",\n",
        "    output_dir=\"./results\",\n",
        "    learning_rate=2e-5,\n",
        "    per_device_train_batch_size=16,\n",
        "    per_device_eval_batch_size=16,\n",
        "    num_train_epochs=3,\n",
        "    weight_decay=0.01,\n",
        "    seed = 20240917\n",
        ")\n",
        "\n",
        "# Initialize Trainer\n",
        "trainer = Trainer(\n",
        "    model_init = model_init,\n",
        "    args=training_args,\n",
        "    train_dataset=train_df0_dataset,\n",
        "    eval_dataset=val_df0_dataset,\n",
        "    tokenizer = tokenizer,\n",
        "    compute_metrics=compute_metrics,\n",
        ")\n",
        "\n",
        "# Fine-tune the model\n",
        "trainer.train()"
      ],
      "metadata": {
        "id": "3CzRXwI87ql7"
      },
      "execution_count": null,
      "outputs": []
    },
    {
      "cell_type": "code",
      "source": [
        "from torch.utils.data import DataLoader\n",
        "\n",
        "# Assuming you've already created your test_dataset\n",
        "test_loader = DataLoader(test_df0_dataset, batch_size=32, shuffle=False)"
      ],
      "metadata": {
        "id": "5SXaHjGu7ql7"
      },
      "execution_count": null,
      "outputs": []
    },
    {
      "cell_type": "code",
      "source": [
        "model1 = AutoModelForSequenceClassification.from_pretrained(\"/kaggle/working/results/checkpoint-1125\", num_labels=2)\n",
        "model1.to(device)"
      ],
      "metadata": {
        "id": "S_CQpGTD7ql7"
      },
      "execution_count": null,
      "outputs": []
    },
    {
      "cell_type": "code",
      "source": [
        "import torch\n",
        "import numpy as np\n",
        "\n",
        "model1.eval()  # Set the model to evaluation mode\n",
        "all_predictions = []\n",
        "all_true_labels = []\n",
        "\n",
        "with torch.no_grad():\n",
        "    for batch in test_loader:\n",
        "        input_ids = batch['input_ids'].to(device)\n",
        "        attention_mask = batch['attention_mask'].to(device)\n",
        "        labels = batch['labels'].to(device)\n",
        "\n",
        "        outputs = model1(input_ids, attention_mask=attention_mask)\n",
        "        _, predictions = torch.max(outputs.logits, dim=1)\n",
        "\n",
        "        all_predictions.extend(predictions.cpu().numpy())\n",
        "        all_true_labels.extend(labels.cpu().numpy())\n",
        "\n",
        "# Convert to numpy arrays\n",
        "y_pred = np.array(all_predictions)\n",
        "y_true = np.array(all_true_labels)"
      ],
      "metadata": {
        "id": "c_tmd-el7ql8"
      },
      "execution_count": null,
      "outputs": []
    },
    {
      "cell_type": "code",
      "source": [
        "from sklearn.metrics import classification_report, confusion_matrix\n",
        "import seaborn as sns\n",
        "import matplotlib.pyplot as plt\n",
        "\n",
        "# Print classification report\n",
        "print(classification_report(y_true, y_pred))\n",
        "\n",
        "# Create confusion matrix\n",
        "cm = confusion_matrix(y_true, y_pred)\n",
        "\n",
        "# Plot confusion matrix\n",
        "plt.figure(figsize=(10, 8))\n",
        "sns.heatmap(cm, annot=True, fmt='d', cmap='Blues')\n",
        "plt.xlabel('Predicted')\n",
        "plt.ylabel('True')\n",
        "plt.title('Confusion Matrix')\n",
        "plt.show()"
      ],
      "metadata": {
        "id": "J8mOL5rZ7ql8"
      },
      "execution_count": null,
      "outputs": []
    },
    {
      "cell_type": "markdown",
      "source": [
        "#### Seed 2"
      ],
      "metadata": {
        "id": "O7P9pPgY7ql8"
      }
    },
    {
      "cell_type": "code",
      "source": [
        "# Don't Show Warning Messages\n",
        "import os\n",
        "import warnings\n",
        "warnings.filterwarnings('ignore')\n",
        "os.environ[\"WANDB_DISABLED\"] = \"true\""
      ],
      "metadata": {
        "id": "epB8CosL7ql8"
      },
      "execution_count": null,
      "outputs": []
    },
    {
      "cell_type": "code",
      "source": [
        "from transformers import set_seed, Trainer\n",
        "\n",
        "# Set the seed for reproducibility\n",
        "set_seed(68820831)"
      ],
      "metadata": {
        "id": "K1X2eWAq7ql8"
      },
      "execution_count": null,
      "outputs": []
    },
    {
      "cell_type": "code",
      "source": [
        "def model_init() :\n",
        "    return AutoModelForSequenceClassification.from_pretrained(\"distilbert-base-uncased\", num_labels=2)"
      ],
      "metadata": {
        "id": "EDRh4YfS7ql8"
      },
      "execution_count": null,
      "outputs": []
    },
    {
      "cell_type": "code",
      "source": [
        "training_args = TrainingArguments(\n",
        "    eval_strategy=\"epoch\",\n",
        "    output_dir=\"./results\",\n",
        "    learning_rate=2e-5,\n",
        "    per_device_train_batch_size=16,\n",
        "    per_device_eval_batch_size=16,\n",
        "    num_train_epochs=3,\n",
        "    weight_decay=0.01,\n",
        "    seed = 68820831\n",
        ")\n",
        "\n",
        "# Initialize Trainer\n",
        "trainer = Trainer(\n",
        "    model_init = model_init,\n",
        "    args=training_args,\n",
        "    train_dataset=train_df0_dataset,\n",
        "    eval_dataset=val_df0_dataset,\n",
        "    tokenizer = tokenizer,\n",
        "    compute_metrics=compute_metrics,\n",
        ")\n",
        "\n",
        "# Fine-tune the model\n",
        "trainer.train()"
      ],
      "metadata": {
        "id": "FQnRgpNj7ql8"
      },
      "execution_count": null,
      "outputs": []
    },
    {
      "cell_type": "code",
      "source": [
        "from torch.utils.data import DataLoader\n",
        "\n",
        "# Assuming you've already created your test_dataset\n",
        "test_loader = DataLoader(test_df0_dataset, batch_size=32, shuffle=False)"
      ],
      "metadata": {
        "id": "JMdr-0j97ql9"
      },
      "execution_count": null,
      "outputs": []
    },
    {
      "cell_type": "code",
      "source": [
        "model1 = AutoModelForSequenceClassification.from_pretrained(\"/kaggle/working/results/checkpoint-1125\", num_labels=2)\n",
        "model1.to(device)"
      ],
      "metadata": {
        "id": "mNjG-lvv7ql9"
      },
      "execution_count": null,
      "outputs": []
    },
    {
      "cell_type": "code",
      "source": [
        "import torch\n",
        "import numpy as np\n",
        "\n",
        "model1.eval()  # Set the model to evaluation mode\n",
        "all_predictions = []\n",
        "all_true_labels = []\n",
        "\n",
        "with torch.no_grad():\n",
        "    for batch in test_loader:\n",
        "        input_ids = batch['input_ids'].to(device)\n",
        "        attention_mask = batch['attention_mask'].to(device)\n",
        "        labels = batch['labels'].to(device)\n",
        "\n",
        "        outputs = model1(input_ids, attention_mask=attention_mask)\n",
        "        _, predictions = torch.max(outputs.logits, dim=1)\n",
        "\n",
        "        all_predictions.extend(predictions.cpu().numpy())\n",
        "        all_true_labels.extend(labels.cpu().numpy())\n",
        "\n",
        "# Convert to numpy arrays\n",
        "y_pred = np.array(all_predictions)\n",
        "y_true = np.array(all_true_labels)"
      ],
      "metadata": {
        "id": "MtdWb7a57ql9"
      },
      "execution_count": null,
      "outputs": []
    },
    {
      "cell_type": "code",
      "source": [
        "from sklearn.metrics import classification_report, confusion_matrix\n",
        "import seaborn as sns\n",
        "import matplotlib.pyplot as plt\n",
        "\n",
        "# Print classification report\n",
        "print(classification_report(y_true, y_pred))\n",
        "\n",
        "# Create confusion matrix\n",
        "cm = confusion_matrix(y_true, y_pred)\n",
        "\n",
        "# Plot confusion matrix\n",
        "plt.figure(figsize=(10, 8))\n",
        "sns.heatmap(cm, annot=True, fmt='d', cmap='Blues')\n",
        "plt.xlabel('Predicted')\n",
        "plt.ylabel('True')\n",
        "plt.title('Confusion Matrix')\n",
        "plt.show()"
      ],
      "metadata": {
        "id": "NoVOD8t_7ql9"
      },
      "execution_count": null,
      "outputs": []
    },
    {
      "cell_type": "markdown",
      "source": [
        "#### Seed 3"
      ],
      "metadata": {
        "id": "Od_8OcDc7ql9"
      }
    },
    {
      "cell_type": "code",
      "source": [
        "# Don't Show Warning Messages\n",
        "import os\n",
        "import warnings\n",
        "warnings.filterwarnings('ignore')\n",
        "os.environ[\"WANDB_DISABLED\"] = \"true\""
      ],
      "metadata": {
        "id": "367xbnS57ql-"
      },
      "execution_count": null,
      "outputs": []
    },
    {
      "cell_type": "code",
      "source": [
        "from transformers import set_seed, Trainer\n",
        "\n",
        "# Set the seed for reproducibility\n",
        "set_seed(54226614)"
      ],
      "metadata": {
        "id": "cke_3_ku7ql-"
      },
      "execution_count": null,
      "outputs": []
    },
    {
      "cell_type": "code",
      "source": [
        "def model_init() :\n",
        "    return AutoModelForSequenceClassification.from_pretrained(\"distilbert-base-uncased\", num_labels=2)"
      ],
      "metadata": {
        "id": "zELucX_87ql-"
      },
      "execution_count": null,
      "outputs": []
    },
    {
      "cell_type": "code",
      "source": [
        "training_args = TrainingArguments(\n",
        "    eval_strategy=\"epoch\",\n",
        "    output_dir=\"./results\",\n",
        "    learning_rate=2e-5,\n",
        "    per_device_train_batch_size=16,\n",
        "    per_device_eval_batch_size=16,\n",
        "    num_train_epochs=3,\n",
        "    weight_decay=0.01,\n",
        "    seed = 54226614\n",
        ")\n",
        "\n",
        "# Initialize Trainer\n",
        "trainer = Trainer(\n",
        "    model_init = model_init,\n",
        "    args=training_args,\n",
        "    train_dataset=train_df0_dataset,\n",
        "    eval_dataset=val_df0_dataset,\n",
        "    tokenizer = tokenizer,\n",
        "    compute_metrics=compute_metrics,\n",
        ")\n",
        "\n",
        "# Fine-tune the model\n",
        "trainer.train()"
      ],
      "metadata": {
        "id": "BHYeSuxF7ql-"
      },
      "execution_count": null,
      "outputs": []
    },
    {
      "cell_type": "code",
      "source": [
        "from torch.utils.data import DataLoader\n",
        "\n",
        "# Assuming you've already created your test_dataset\n",
        "test_loader = DataLoader(test_df0_dataset, batch_size=32, shuffle=False)"
      ],
      "metadata": {
        "id": "NgybI09G7ql-"
      },
      "execution_count": null,
      "outputs": []
    },
    {
      "cell_type": "code",
      "source": [
        "model1 = AutoModelForSequenceClassification.from_pretrained(\"/kaggle/working/results/checkpoint-1125\", num_labels=2)\n",
        "model1.to(device)"
      ],
      "metadata": {
        "id": "nmcPT2Kx7ql-"
      },
      "execution_count": null,
      "outputs": []
    },
    {
      "cell_type": "code",
      "source": [
        "import torch\n",
        "import numpy as np\n",
        "\n",
        "model1.eval()  # Set the model to evaluation mode\n",
        "all_predictions = []\n",
        "all_true_labels = []\n",
        "\n",
        "with torch.no_grad():\n",
        "    for batch in test_loader:\n",
        "        input_ids = batch['input_ids'].to(device)\n",
        "        attention_mask = batch['attention_mask'].to(device)\n",
        "        labels = batch['labels'].to(device)\n",
        "\n",
        "        outputs = model1(input_ids, attention_mask=attention_mask)\n",
        "        _, predictions = torch.max(outputs.logits, dim=1)\n",
        "\n",
        "        all_predictions.extend(predictions.cpu().numpy())\n",
        "        all_true_labels.extend(labels.cpu().numpy())\n",
        "\n",
        "# Convert to numpy arrays\n",
        "y_pred = np.array(all_predictions)\n",
        "y_true = np.array(all_true_labels)"
      ],
      "metadata": {
        "id": "ZFEPbcf97ql_"
      },
      "execution_count": null,
      "outputs": []
    },
    {
      "cell_type": "code",
      "source": [
        "from sklearn.metrics import classification_report, confusion_matrix\n",
        "import seaborn as sns\n",
        "import matplotlib.pyplot as plt\n",
        "\n",
        "# Print classification report\n",
        "print(classification_report(y_true, y_pred))\n",
        "\n",
        "# Create confusion matrix\n",
        "cm = confusion_matrix(y_true, y_pred)\n",
        "\n",
        "# Plot confusion matrix\n",
        "plt.figure(figsize=(10, 8))\n",
        "sns.heatmap(cm, annot=True, fmt='d', cmap='Blues')\n",
        "plt.xlabel('Predicted')\n",
        "plt.ylabel('True')\n",
        "plt.title('Confusion Matrix')\n",
        "plt.show()"
      ],
      "metadata": {
        "id": "MoI1du-G7ql_"
      },
      "execution_count": null,
      "outputs": []
    },
    {
      "cell_type": "markdown",
      "source": [
        "### Dataset 2"
      ],
      "metadata": {
        "id": "YtjZiHrR7ql_"
      }
    },
    {
      "cell_type": "markdown",
      "source": [
        "#### Seed 1"
      ],
      "metadata": {
        "id": "Wvv-UqR97ql_"
      }
    },
    {
      "cell_type": "code",
      "source": [
        "# Don't Show Warning Messages\n",
        "import os\n",
        "import warnings\n",
        "warnings.filterwarnings('ignore')\n",
        "os.environ[\"WANDB_DISABLED\"] = \"true\""
      ],
      "metadata": {
        "id": "Qpflsntu7ql_"
      },
      "execution_count": null,
      "outputs": []
    },
    {
      "cell_type": "code",
      "source": [
        "from transformers import set_seed, Trainer\n",
        "\n",
        "# Set the seed for reproducibility\n",
        "set_seed(20240917)"
      ],
      "metadata": {
        "id": "L3X3-xQu7ql_"
      },
      "execution_count": null,
      "outputs": []
    },
    {
      "cell_type": "code",
      "source": [
        "def model_init() :\n",
        "    return AutoModelForSequenceClassification.from_pretrained(\"distilbert-base-uncased\", num_labels=2)"
      ],
      "metadata": {
        "id": "AelidpCe7qmA"
      },
      "execution_count": null,
      "outputs": []
    },
    {
      "cell_type": "code",
      "source": [
        "training_args = TrainingArguments(\n",
        "    eval_strategy=\"epoch\",\n",
        "    output_dir=\"./results\",\n",
        "    learning_rate=2e-5,\n",
        "    per_device_train_batch_size=16,\n",
        "    per_device_eval_batch_size=16,\n",
        "    num_train_epochs=3,\n",
        "    weight_decay=0.01,\n",
        "    seed = 20240917\n",
        ")\n",
        "\n",
        "# Initialize Trainer\n",
        "trainer = Trainer(\n",
        "    model_init = model_init,\n",
        "    args=training_args,\n",
        "    train_dataset=train_df1_dataset,\n",
        "    eval_dataset=val_df1_dataset,\n",
        "    tokenizer = tokenizer,\n",
        "    compute_metrics=compute_metrics,\n",
        ")\n",
        "\n",
        "# Fine-tune the model\n",
        "trainer.train()"
      ],
      "metadata": {
        "id": "J0NeH9e77qmA"
      },
      "execution_count": null,
      "outputs": []
    },
    {
      "cell_type": "code",
      "source": [
        "from torch.utils.data import DataLoader\n",
        "\n",
        "# Assuming you've already created your test_dataset\n",
        "test_loader = DataLoader(test_df1_dataset, batch_size=32, shuffle=False)"
      ],
      "metadata": {
        "id": "4KV4V2Xa7qmA"
      },
      "execution_count": null,
      "outputs": []
    },
    {
      "cell_type": "code",
      "source": [
        "model1 = AutoModelForSequenceClassification.from_pretrained(\"/kaggle/working/results/checkpoint-1125\", num_labels=2)\n",
        "model1.to(device)"
      ],
      "metadata": {
        "id": "hNauj44c7qmA"
      },
      "execution_count": null,
      "outputs": []
    },
    {
      "cell_type": "code",
      "source": [
        "import torch\n",
        "import numpy as np\n",
        "\n",
        "model1.eval()  # Set the model to evaluation mode\n",
        "all_predictions = []\n",
        "all_true_labels = []\n",
        "\n",
        "with torch.no_grad():\n",
        "    for batch in test_loader:\n",
        "        input_ids = batch['input_ids'].to(device)\n",
        "        attention_mask = batch['attention_mask'].to(device)\n",
        "        labels = batch['labels'].to(device)\n",
        "\n",
        "        outputs = model1(input_ids, attention_mask=attention_mask)\n",
        "        _, predictions = torch.max(outputs.logits, dim=1)\n",
        "\n",
        "        all_predictions.extend(predictions.cpu().numpy())\n",
        "        all_true_labels.extend(labels.cpu().numpy())\n",
        "\n",
        "# Convert to numpy arrays\n",
        "y_pred = np.array(all_predictions)\n",
        "y_true = np.array(all_true_labels)"
      ],
      "metadata": {
        "id": "TzXW5nEe7qmA"
      },
      "execution_count": null,
      "outputs": []
    },
    {
      "cell_type": "code",
      "source": [
        "from sklearn.metrics import classification_report, confusion_matrix\n",
        "import seaborn as sns\n",
        "import matplotlib.pyplot as plt\n",
        "\n",
        "# Print classification report\n",
        "print(classification_report(y_true, y_pred))\n",
        "\n",
        "# Create confusion matrix\n",
        "cm = confusion_matrix(y_true, y_pred)\n",
        "\n",
        "# Plot confusion matrix\n",
        "plt.figure(figsize=(10, 8))\n",
        "sns.heatmap(cm, annot=True, fmt='d', cmap='Blues')\n",
        "plt.xlabel('Predicted')\n",
        "plt.ylabel('True')\n",
        "plt.title('Confusion Matrix')\n",
        "plt.show()"
      ],
      "metadata": {
        "id": "qAB5ZbGI7qmA"
      },
      "execution_count": null,
      "outputs": []
    },
    {
      "cell_type": "markdown",
      "source": [
        "#### Seed 2"
      ],
      "metadata": {
        "id": "og87ycsr7qmB"
      }
    },
    {
      "cell_type": "code",
      "source": [
        "# Don't Show Warning Messages\n",
        "import os\n",
        "import warnings\n",
        "warnings.filterwarnings('ignore')\n",
        "os.environ[\"WANDB_DISABLED\"] = \"true\""
      ],
      "metadata": {
        "id": "YapnJ7Az7qmB"
      },
      "execution_count": null,
      "outputs": []
    },
    {
      "cell_type": "code",
      "source": [
        "from transformers import set_seed, Trainer\n",
        "\n",
        "# Set the seed for reproducibility\n",
        "set_seed(68820831)"
      ],
      "metadata": {
        "id": "cqs58mUO7qmB"
      },
      "execution_count": null,
      "outputs": []
    },
    {
      "cell_type": "code",
      "source": [
        "def model_init() :\n",
        "    return AutoModelForSequenceClassification.from_pretrained(\"distilbert-base-uncased\", num_labels=2)"
      ],
      "metadata": {
        "id": "s4NklCtM7qmB"
      },
      "execution_count": null,
      "outputs": []
    },
    {
      "cell_type": "code",
      "source": [
        "training_args = TrainingArguments(\n",
        "    eval_strategy=\"epoch\",\n",
        "    output_dir=\"./results\",\n",
        "    learning_rate=2e-5,\n",
        "    per_device_train_batch_size=16,\n",
        "    per_device_eval_batch_size=16,\n",
        "    num_train_epochs=3,\n",
        "    weight_decay=0.01,\n",
        "    seed = 68820831\n",
        ")\n",
        "\n",
        "# Initialize Trainer\n",
        "trainer = Trainer(\n",
        "    model_init = model_init,\n",
        "    args=training_args,\n",
        "    train_dataset=train_df1_dataset,\n",
        "    eval_dataset=val_df1_dataset,\n",
        "    tokenizer = tokenizer,\n",
        "    compute_metrics=compute_metrics,\n",
        ")\n",
        "\n",
        "# Fine-tune the model\n",
        "trainer.train()"
      ],
      "metadata": {
        "id": "fwUuk2157qmB"
      },
      "execution_count": null,
      "outputs": []
    },
    {
      "cell_type": "code",
      "source": [
        "from torch.utils.data import DataLoader\n",
        "\n",
        "# Assuming you've already created your test_dataset\n",
        "test_loader = DataLoader(test_df1_dataset, batch_size=32, shuffle=False)"
      ],
      "metadata": {
        "id": "e5K_LL057qmB"
      },
      "execution_count": null,
      "outputs": []
    },
    {
      "cell_type": "code",
      "source": [
        "model1 = AutoModelForSequenceClassification.from_pretrained(\"/kaggle/working/results/checkpoint-1125\", num_labels=2)\n",
        "model1.to(device)"
      ],
      "metadata": {
        "id": "of-zWyKn7qmC"
      },
      "execution_count": null,
      "outputs": []
    },
    {
      "cell_type": "code",
      "source": [
        "import torch\n",
        "import numpy as np\n",
        "\n",
        "model1.eval()  # Set the model to evaluation mode\n",
        "all_predictions = []\n",
        "all_true_labels = []\n",
        "\n",
        "with torch.no_grad():\n",
        "    for batch in test_loader:\n",
        "        input_ids = batch['input_ids'].to(device)\n",
        "        attention_mask = batch['attention_mask'].to(device)\n",
        "        labels = batch['labels'].to(device)\n",
        "\n",
        "        outputs = model1(input_ids, attention_mask=attention_mask)\n",
        "        _, predictions = torch.max(outputs.logits, dim=1)\n",
        "\n",
        "        all_predictions.extend(predictions.cpu().numpy())\n",
        "        all_true_labels.extend(labels.cpu().numpy())\n",
        "\n",
        "# Convert to numpy arrays\n",
        "y_pred = np.array(all_predictions)\n",
        "y_true = np.array(all_true_labels)"
      ],
      "metadata": {
        "id": "HaEjqyfd7qmC"
      },
      "execution_count": null,
      "outputs": []
    },
    {
      "cell_type": "code",
      "source": [
        "from sklearn.metrics import classification_report, confusion_matrix\n",
        "import seaborn as sns\n",
        "import matplotlib.pyplot as plt\n",
        "\n",
        "# Print classification report\n",
        "print(classification_report(y_true, y_pred))\n",
        "\n",
        "# Create confusion matrix\n",
        "cm = confusion_matrix(y_true, y_pred)\n",
        "\n",
        "# Plot confusion matrix\n",
        "plt.figure(figsize=(10, 8))\n",
        "sns.heatmap(cm, annot=True, fmt='d', cmap='Blues')\n",
        "plt.xlabel('Predicted')\n",
        "plt.ylabel('True')\n",
        "plt.title('Confusion Matrix')\n",
        "plt.show()"
      ],
      "metadata": {
        "id": "i6y_pgDB7qmC"
      },
      "execution_count": null,
      "outputs": []
    },
    {
      "cell_type": "markdown",
      "source": [
        "#### Seed 3"
      ],
      "metadata": {
        "id": "WO4uBC6e7qmC"
      }
    },
    {
      "cell_type": "code",
      "source": [
        "# Don't Show Warning Messages\n",
        "import os\n",
        "import warnings\n",
        "warnings.filterwarnings('ignore')\n",
        "os.environ[\"WANDB_DISABLED\"] = \"true\""
      ],
      "metadata": {
        "id": "CE7QqGiG7qmC"
      },
      "execution_count": null,
      "outputs": []
    },
    {
      "cell_type": "code",
      "source": [
        "from transformers import set_seed, Trainer\n",
        "\n",
        "# Set the seed for reproducibility\n",
        "set_seed(54226614)"
      ],
      "metadata": {
        "id": "FNYfFDm67qmC"
      },
      "execution_count": null,
      "outputs": []
    },
    {
      "cell_type": "code",
      "source": [
        "def model_init() :\n",
        "    return AutoModelForSequenceClassification.from_pretrained(\"distilbert-base-uncased\", num_labels=2)"
      ],
      "metadata": {
        "id": "dEuKZ0Kj7qmD"
      },
      "execution_count": null,
      "outputs": []
    },
    {
      "cell_type": "code",
      "source": [
        "training_args = TrainingArguments(\n",
        "    eval_strategy=\"epoch\",\n",
        "    output_dir=\"./results\",\n",
        "    learning_rate=2e-5,\n",
        "    per_device_train_batch_size=16,\n",
        "    per_device_eval_batch_size=16,\n",
        "    num_train_epochs=3,\n",
        "    weight_decay=0.01,\n",
        "    seed = 54226614\n",
        ")\n",
        "\n",
        "# Initialize Trainer\n",
        "trainer = Trainer(\n",
        "    model_init = model_init,\n",
        "    args=training_args,\n",
        "    train_dataset=train_df1_dataset,\n",
        "    eval_dataset=val_df1_dataset,\n",
        "    tokenizer = tokenizer,\n",
        "    compute_metrics=compute_metrics,\n",
        ")\n",
        "\n",
        "# Fine-tune the model\n",
        "trainer.train()"
      ],
      "metadata": {
        "id": "9aNZXgcO7qmD"
      },
      "execution_count": null,
      "outputs": []
    },
    {
      "cell_type": "code",
      "source": [
        "from torch.utils.data import DataLoader\n",
        "\n",
        "# Assuming you've already created your test_dataset\n",
        "test_loader = DataLoader(test_df1_dataset, batch_size=32, shuffle=False)"
      ],
      "metadata": {
        "id": "Zep9ISWJ7qmD"
      },
      "execution_count": null,
      "outputs": []
    },
    {
      "cell_type": "code",
      "source": [
        "model1 = AutoModelForSequenceClassification.from_pretrained(\"/kaggle/working/results/checkpoint-1125\", num_labels=2)\n",
        "model1.to(device)"
      ],
      "metadata": {
        "id": "RqUk9nT87qmD"
      },
      "execution_count": null,
      "outputs": []
    },
    {
      "cell_type": "code",
      "source": [
        "import torch\n",
        "import numpy as np\n",
        "\n",
        "model1.eval()  # Set the model to evaluation mode\n",
        "all_predictions = []\n",
        "all_true_labels = []\n",
        "\n",
        "with torch.no_grad():\n",
        "    for batch in test_loader:\n",
        "        input_ids = batch['input_ids'].to(device)\n",
        "        attention_mask = batch['attention_mask'].to(device)\n",
        "        labels = batch['labels'].to(device)\n",
        "\n",
        "        outputs = model1(input_ids, attention_mask=attention_mask)\n",
        "        _, predictions = torch.max(outputs.logits, dim=1)\n",
        "\n",
        "        all_predictions.extend(predictions.cpu().numpy())\n",
        "        all_true_labels.extend(labels.cpu().numpy())\n",
        "\n",
        "# Convert to numpy arrays\n",
        "y_pred = np.array(all_predictions)\n",
        "y_true = np.array(all_true_labels)"
      ],
      "metadata": {
        "id": "2Kk0u4Lw7qmD"
      },
      "execution_count": null,
      "outputs": []
    },
    {
      "cell_type": "code",
      "source": [
        "from sklearn.metrics import classification_report, confusion_matrix\n",
        "import seaborn as sns\n",
        "import matplotlib.pyplot as plt\n",
        "\n",
        "# Print classification report\n",
        "print(classification_report(y_true, y_pred))\n",
        "\n",
        "# Create confusion matrix\n",
        "cm = confusion_matrix(y_true, y_pred)\n",
        "\n",
        "# Plot confusion matrix\n",
        "plt.figure(figsize=(10, 8))\n",
        "sns.heatmap(cm, annot=True, fmt='d', cmap='Blues')\n",
        "plt.xlabel('Predicted')\n",
        "plt.ylabel('True')\n",
        "plt.title('Confusion Matrix')\n",
        "plt.show()"
      ],
      "metadata": {
        "id": "FCxxGa3q7qmD"
      },
      "execution_count": null,
      "outputs": []
    },
    {
      "cell_type": "markdown",
      "source": [
        "### Dataset 3"
      ],
      "metadata": {
        "id": "Hgnqh4inHuMJ"
      }
    },
    {
      "cell_type": "markdown",
      "source": [
        "#### Seed 1"
      ],
      "metadata": {
        "id": "kZreypxGHuMK"
      }
    },
    {
      "cell_type": "code",
      "source": [
        "# Don't Show Warning Messages\n",
        "import os\n",
        "import warnings\n",
        "warnings.filterwarnings('ignore')\n",
        "os.environ[\"WANDB_DISABLED\"] = \"true\""
      ],
      "metadata": {
        "id": "m4V4oV77HuMK"
      },
      "execution_count": null,
      "outputs": []
    },
    {
      "cell_type": "code",
      "source": [
        "from transformers import set_seed, Trainer\n",
        "\n",
        "# Set the seed for reproducibility\n",
        "set_seed(20240917)"
      ],
      "metadata": {
        "id": "V2Kv8ThXHuMK"
      },
      "execution_count": null,
      "outputs": []
    },
    {
      "cell_type": "code",
      "source": [
        "def model_init() :\n",
        "    return AutoModelForSequenceClassification.from_pretrained(\"distilbert-base-uncased\", num_labels=2)"
      ],
      "metadata": {
        "id": "V6q45vqaHuML"
      },
      "execution_count": null,
      "outputs": []
    },
    {
      "cell_type": "code",
      "source": [
        "training_args = TrainingArguments(\n",
        "    eval_strategy=\"epoch\",\n",
        "    output_dir=\"./results\",\n",
        "    learning_rate=2e-5,\n",
        "    per_device_train_batch_size=16,\n",
        "    per_device_eval_batch_size=16,\n",
        "    num_train_epochs=3,\n",
        "    weight_decay=0.01,\n",
        "    seed = 20240917\n",
        ")\n",
        "\n",
        "# Initialize Trainer\n",
        "trainer = Trainer(\n",
        "    model_init = model_init,\n",
        "    args=training_args,\n",
        "    train_dataset=train_df1_dataset,\n",
        "    eval_dataset=val_df1_dataset,\n",
        "    tokenizer = tokenizer,\n",
        "    compute_metrics=compute_metrics,\n",
        ")\n",
        "\n",
        "# Fine-tune the model\n",
        "trainer.train()"
      ],
      "metadata": {
        "id": "QEjDuLXmHuML"
      },
      "execution_count": null,
      "outputs": []
    },
    {
      "cell_type": "code",
      "source": [
        "from torch.utils.data import DataLoader\n",
        "\n",
        "# Assuming you've already created your test_dataset\n",
        "test_loader = DataLoader(test_df1_dataset, batch_size=32, shuffle=False)"
      ],
      "metadata": {
        "id": "X5zKps19HuML"
      },
      "execution_count": null,
      "outputs": []
    },
    {
      "cell_type": "code",
      "source": [
        "model1 = AutoModelForSequenceClassification.from_pretrained(\"/kaggle/working/results/checkpoint-1125\", num_labels=2)\n",
        "model1.to(device)"
      ],
      "metadata": {
        "id": "KaW9jkU1HuML"
      },
      "execution_count": null,
      "outputs": []
    },
    {
      "cell_type": "code",
      "source": [
        "import torch\n",
        "import numpy as np\n",
        "\n",
        "model1.eval()  # Set the model to evaluation mode\n",
        "all_predictions = []\n",
        "all_true_labels = []\n",
        "\n",
        "with torch.no_grad():\n",
        "    for batch in test_loader:\n",
        "        input_ids = batch['input_ids'].to(device)\n",
        "        attention_mask = batch['attention_mask'].to(device)\n",
        "        labels = batch['labels'].to(device)\n",
        "\n",
        "        outputs = model1(input_ids, attention_mask=attention_mask)\n",
        "        _, predictions = torch.max(outputs.logits, dim=1)\n",
        "\n",
        "        all_predictions.extend(predictions.cpu().numpy())\n",
        "        all_true_labels.extend(labels.cpu().numpy())\n",
        "\n",
        "# Convert to numpy arrays\n",
        "y_pred = np.array(all_predictions)\n",
        "y_true = np.array(all_true_labels)"
      ],
      "metadata": {
        "id": "yo5nlML1HuML"
      },
      "execution_count": null,
      "outputs": []
    },
    {
      "cell_type": "code",
      "source": [
        "from sklearn.metrics import classification_report, confusion_matrix\n",
        "import seaborn as sns\n",
        "import matplotlib.pyplot as plt\n",
        "\n",
        "# Print classification report\n",
        "print(classification_report(y_true, y_pred))\n",
        "\n",
        "# Create confusion matrix\n",
        "cm = confusion_matrix(y_true, y_pred)\n",
        "\n",
        "# Plot confusion matrix\n",
        "plt.figure(figsize=(10, 8))\n",
        "sns.heatmap(cm, annot=True, fmt='d', cmap='Blues')\n",
        "plt.xlabel('Predicted')\n",
        "plt.ylabel('True')\n",
        "plt.title('Confusion Matrix')\n",
        "plt.show()"
      ],
      "metadata": {
        "id": "7t4_iH0BHuML"
      },
      "execution_count": null,
      "outputs": []
    },
    {
      "cell_type": "markdown",
      "source": [
        "#### Seed 2"
      ],
      "metadata": {
        "id": "-Pt78E1XHuMM"
      }
    },
    {
      "cell_type": "code",
      "source": [
        "# Don't Show Warning Messages\n",
        "import os\n",
        "import warnings\n",
        "warnings.filterwarnings('ignore')\n",
        "os.environ[\"WANDB_DISABLED\"] = \"true\""
      ],
      "metadata": {
        "id": "kPVBNsGpHuMM"
      },
      "execution_count": null,
      "outputs": []
    },
    {
      "cell_type": "code",
      "source": [
        "from transformers import set_seed, Trainer\n",
        "\n",
        "# Set the seed for reproducibility\n",
        "set_seed(68820831)"
      ],
      "metadata": {
        "id": "fx-F9FONHuMM"
      },
      "execution_count": null,
      "outputs": []
    },
    {
      "cell_type": "code",
      "source": [
        "def model_init() :\n",
        "    return AutoModelForSequenceClassification.from_pretrained(\"distilbert-base-uncased\", num_labels=2)"
      ],
      "metadata": {
        "id": "MsgG5y_MHuMM"
      },
      "execution_count": null,
      "outputs": []
    },
    {
      "cell_type": "code",
      "source": [
        "training_args = TrainingArguments(\n",
        "    eval_strategy=\"epoch\",\n",
        "    output_dir=\"./results\",\n",
        "    learning_rate=2e-5,\n",
        "    per_device_train_batch_size=16,\n",
        "    per_device_eval_batch_size=16,\n",
        "    num_train_epochs=3,\n",
        "    weight_decay=0.01,\n",
        "    seed = 68820831\n",
        ")\n",
        "\n",
        "# Initialize Trainer\n",
        "trainer = Trainer(\n",
        "    model_init = model_init,\n",
        "    args=training_args,\n",
        "    train_dataset=train_df1_dataset,\n",
        "    eval_dataset=val_df1_dataset,\n",
        "    tokenizer = tokenizer,\n",
        "    compute_metrics=compute_metrics,\n",
        ")\n",
        "\n",
        "# Fine-tune the model\n",
        "trainer.train()"
      ],
      "metadata": {
        "id": "MpJJQHDWHuMM"
      },
      "execution_count": null,
      "outputs": []
    },
    {
      "cell_type": "code",
      "source": [
        "from torch.utils.data import DataLoader\n",
        "\n",
        "# Assuming you've already created your test_dataset\n",
        "test_loader = DataLoader(test_df1_dataset, batch_size=32, shuffle=False)"
      ],
      "metadata": {
        "id": "7_dIaZp5HuMN"
      },
      "execution_count": null,
      "outputs": []
    },
    {
      "cell_type": "code",
      "source": [
        "model1 = AutoModelForSequenceClassification.from_pretrained(\"/kaggle/working/results/checkpoint-1125\", num_labels=2)\n",
        "model1.to(device)"
      ],
      "metadata": {
        "id": "o6lYcx2NHuMN"
      },
      "execution_count": null,
      "outputs": []
    },
    {
      "cell_type": "code",
      "source": [
        "import torch\n",
        "import numpy as np\n",
        "\n",
        "model1.eval()  # Set the model to evaluation mode\n",
        "all_predictions = []\n",
        "all_true_labels = []\n",
        "\n",
        "with torch.no_grad():\n",
        "    for batch in test_loader:\n",
        "        input_ids = batch['input_ids'].to(device)\n",
        "        attention_mask = batch['attention_mask'].to(device)\n",
        "        labels = batch['labels'].to(device)\n",
        "\n",
        "        outputs = model1(input_ids, attention_mask=attention_mask)\n",
        "        _, predictions = torch.max(outputs.logits, dim=1)\n",
        "\n",
        "        all_predictions.extend(predictions.cpu().numpy())\n",
        "        all_true_labels.extend(labels.cpu().numpy())\n",
        "\n",
        "# Convert to numpy arrays\n",
        "y_pred = np.array(all_predictions)\n",
        "y_true = np.array(all_true_labels)"
      ],
      "metadata": {
        "id": "LEj8yBOnHuMN"
      },
      "execution_count": null,
      "outputs": []
    },
    {
      "cell_type": "code",
      "source": [
        "from sklearn.metrics import classification_report, confusion_matrix\n",
        "import seaborn as sns\n",
        "import matplotlib.pyplot as plt\n",
        "\n",
        "# Print classification report\n",
        "print(classification_report(y_true, y_pred))\n",
        "\n",
        "# Create confusion matrix\n",
        "cm = confusion_matrix(y_true, y_pred)\n",
        "\n",
        "# Plot confusion matrix\n",
        "plt.figure(figsize=(10, 8))\n",
        "sns.heatmap(cm, annot=True, fmt='d', cmap='Blues')\n",
        "plt.xlabel('Predicted')\n",
        "plt.ylabel('True')\n",
        "plt.title('Confusion Matrix')\n",
        "plt.show()"
      ],
      "metadata": {
        "id": "cvV8NV0THuMN"
      },
      "execution_count": null,
      "outputs": []
    },
    {
      "cell_type": "markdown",
      "source": [
        "#### Seed 3"
      ],
      "metadata": {
        "id": "i88RWhlNHuMO"
      }
    },
    {
      "cell_type": "code",
      "source": [
        "# Don't Show Warning Messages\n",
        "import os\n",
        "import warnings\n",
        "warnings.filterwarnings('ignore')\n",
        "os.environ[\"WANDB_DISABLED\"] = \"true\""
      ],
      "metadata": {
        "id": "Hgcrb0FXHuMO"
      },
      "execution_count": null,
      "outputs": []
    },
    {
      "cell_type": "code",
      "source": [
        "from transformers import set_seed, Trainer\n",
        "\n",
        "# Set the seed for reproducibility\n",
        "set_seed(54226614)"
      ],
      "metadata": {
        "id": "d4Ms8uCuHuMP"
      },
      "execution_count": null,
      "outputs": []
    },
    {
      "cell_type": "code",
      "source": [
        "def model_init() :\n",
        "    return AutoModelForSequenceClassification.from_pretrained(\"distilbert-base-uncased\", num_labels=2)"
      ],
      "metadata": {
        "id": "YX6YiZ-dHuMP"
      },
      "execution_count": null,
      "outputs": []
    },
    {
      "cell_type": "code",
      "source": [
        "training_args = TrainingArguments(\n",
        "    eval_strategy=\"epoch\",\n",
        "    output_dir=\"./results\",\n",
        "    learning_rate=2e-5,\n",
        "    per_device_train_batch_size=16,\n",
        "    per_device_eval_batch_size=16,\n",
        "    num_train_epochs=3,\n",
        "    weight_decay=0.01,\n",
        "    seed = 54226614\n",
        ")\n",
        "\n",
        "# Initialize Trainer\n",
        "trainer = Trainer(\n",
        "    model_init = model_init,\n",
        "    args=training_args,\n",
        "    train_dataset=train_df1_dataset,\n",
        "    eval_dataset=val_df1_dataset,\n",
        "    tokenizer = tokenizer,\n",
        "    compute_metrics=compute_metrics,\n",
        ")\n",
        "\n",
        "# Fine-tune the model\n",
        "trainer.train()"
      ],
      "metadata": {
        "id": "NAT6LvrHHuMQ"
      },
      "execution_count": null,
      "outputs": []
    },
    {
      "cell_type": "code",
      "source": [
        "from torch.utils.data import DataLoader\n",
        "\n",
        "# Assuming you've already created your test_dataset\n",
        "test_loader = DataLoader(test_df1_dataset, batch_size=32, shuffle=False)"
      ],
      "metadata": {
        "id": "QV42ljGtHuMR"
      },
      "execution_count": null,
      "outputs": []
    },
    {
      "cell_type": "code",
      "source": [
        "model1 = AutoModelForSequenceClassification.from_pretrained(\"/kaggle/working/results/checkpoint-1125\", num_labels=2)\n",
        "model1.to(device)"
      ],
      "metadata": {
        "id": "DbF6aDndHuMR"
      },
      "execution_count": null,
      "outputs": []
    },
    {
      "cell_type": "code",
      "source": [
        "import torch\n",
        "import numpy as np\n",
        "\n",
        "model1.eval()  # Set the model to evaluation mode\n",
        "all_predictions = []\n",
        "all_true_labels = []\n",
        "\n",
        "with torch.no_grad():\n",
        "    for batch in test_loader:\n",
        "        input_ids = batch['input_ids'].to(device)\n",
        "        attention_mask = batch['attention_mask'].to(device)\n",
        "        labels = batch['labels'].to(device)\n",
        "\n",
        "        outputs = model1(input_ids, attention_mask=attention_mask)\n",
        "        _, predictions = torch.max(outputs.logits, dim=1)\n",
        "\n",
        "        all_predictions.extend(predictions.cpu().numpy())\n",
        "        all_true_labels.extend(labels.cpu().numpy())\n",
        "\n",
        "# Convert to numpy arrays\n",
        "y_pred = np.array(all_predictions)\n",
        "y_true = np.array(all_true_labels)"
      ],
      "metadata": {
        "id": "2RM1ardmHuMR"
      },
      "execution_count": null,
      "outputs": []
    },
    {
      "cell_type": "code",
      "source": [
        "from sklearn.metrics import classification_report, confusion_matrix\n",
        "import seaborn as sns\n",
        "import matplotlib.pyplot as plt\n",
        "\n",
        "# Print classification report\n",
        "print(classification_report(y_true, y_pred))\n",
        "\n",
        "# Create confusion matrix\n",
        "cm = confusion_matrix(y_true, y_pred)\n",
        "\n",
        "# Plot confusion matrix\n",
        "plt.figure(figsize=(10, 8))\n",
        "sns.heatmap(cm, annot=True, fmt='d', cmap='Blues')\n",
        "plt.xlabel('Predicted')\n",
        "plt.ylabel('True')\n",
        "plt.title('Confusion Matrix')\n",
        "plt.show()"
      ],
      "metadata": {
        "id": "lEqYjgqIHuMS"
      },
      "execution_count": null,
      "outputs": []
    },
    {
      "cell_type": "markdown",
      "source": [
        "## RoBERTa"
      ],
      "metadata": {
        "id": "KxvetGDl7qmE"
      }
    },
    {
      "cell_type": "code",
      "source": [
        "from transformers import RobertaTokenizer, RobertaForSequenceClassification, Trainer, TrainingArguments\n",
        "\n",
        "model = RobertaForSequenceClassification.from_pretrained(\"FacebookAI/roberta-base\", num_labels=2)\n",
        "tokenizer = RobertaTokenizer.from_pretrained(\"FacebookAI/roberta-base\")"
      ],
      "metadata": {
        "id": "zdkfgcBJ7qmE"
      },
      "execution_count": null,
      "outputs": []
    },
    {
      "cell_type": "code",
      "source": [
        "import torch\n",
        "from torch.utils.data import Dataset\n",
        "\n",
        "# Custom dataset class\n",
        "class CustomDataset(Dataset):\n",
        "    def __init__(self, texts, labels, tokenizer, max_len=512):\n",
        "        self.texts = texts\n",
        "        self.labels = labels\n",
        "        self.tokenizer = tokenizer\n",
        "        self.max_len = max_len\n",
        "\n",
        "    def __len__(self):\n",
        "        return len(self.texts)\n",
        "\n",
        "    def __getitem__(self, index):\n",
        "        text = self.texts.iloc[index]\n",
        "        label = self.labels.iloc[index]\n",
        "        encoding = self.tokenizer(\n",
        "            text,\n",
        "            truncation=True,\n",
        "            padding='max_length',\n",
        "            max_length=self.max_len,\n",
        "            return_tensors='pt'\n",
        "        )\n",
        "        return {\n",
        "            'input_ids': encoding['input_ids'].flatten(),\n",
        "            'attention_mask': encoding['attention_mask'].flatten(),\n",
        "            'labels': torch.tensor(label, dtype=torch.long)\n",
        "        }\n",
        "\n",
        "train_df1_dataset = CustomDataset(X_train_df1['text'], y_train_df1, tokenizer)\n",
        "train_df2_dataset = CustomDataset(X_train_df2['text'], y_train_df2, tokenizer)\n",
        "train_df3_dataset = CustomDataset(X_train_df3['text'], y_train_df3, tokenizer)\n",
        "\n",
        "# For validation datasets\n",
        "val_df1_dataset = CustomDataset(X_val_df1['text'], y_val_df1, tokenizer)\n",
        "val_df2_dataset = CustomDataset(X_val_df2['text'], y_val_df2, tokenizer)\n",
        "val_df3_dataset = CustomDataset(X_val_df3['text'], y_val_df3, tokenizer)\n",
        "\n",
        "# For test datasets\n",
        "test_df1_dataset = CustomDataset(X_test_df1['text'], y_test_df1, tokenizer)\n",
        "test_df2_dataset = CustomDataset(X_test_df2['text'], y_test_df2, tokenizer)\n",
        "test_df3_dataset = CustomDataset(X_test_df3['text'], y_test_df3, tokenizer)"
      ],
      "metadata": {
        "id": "9tUdjUUo7qmE"
      },
      "execution_count": null,
      "outputs": []
    },
    {
      "cell_type": "code",
      "source": [
        "import torch\n",
        "\n",
        "# Check if GPU is available\n",
        "if torch.cuda.is_available():\n",
        "    device = torch.device(\"cuda\")\n",
        "    print(\"GPU is available. Using GPU:\", torch.cuda.get_device_name(0))\n",
        "else:\n",
        "    device = torch.device(\"cpu\")\n",
        "    print(\"GPU not available. Using CPU instead.\")\n",
        "\n",
        "model.to(device)"
      ],
      "metadata": {
        "id": "a3HhJhs37qmE"
      },
      "execution_count": null,
      "outputs": []
    },
    {
      "cell_type": "code",
      "source": [
        "def compute_metrics(eval_pred):\n",
        "    logits, labels = eval_pred\n",
        "    predictions = np.argmax(logits, axis=1)\n",
        "    return metric.compute(predictions=predictions, references=labels)"
      ],
      "metadata": {
        "id": "C8JNWa2n7qmE"
      },
      "execution_count": null,
      "outputs": []
    },
    {
      "cell_type": "code",
      "source": [
        "import numpy as np\n",
        "import evaluate\n",
        "\n",
        "metric = evaluate.load(\"accuracy\")"
      ],
      "metadata": {
        "id": "34NwQ2II7qmE"
      },
      "execution_count": null,
      "outputs": []
    },
    {
      "cell_type": "markdown",
      "source": [
        "### Dataset 1"
      ],
      "metadata": {
        "id": "kthLQPK27qmE"
      }
    },
    {
      "cell_type": "markdown",
      "source": [
        "#### Seed 1"
      ],
      "metadata": {
        "id": "cB8F95Rl7qmF"
      }
    },
    {
      "cell_type": "code",
      "source": [
        "# Don't Show Warning Messages\n",
        "import os\n",
        "import warnings\n",
        "warnings.filterwarnings('ignore')\n",
        "os.environ[\"WANDB_DISABLED\"] = \"true\""
      ],
      "metadata": {
        "id": "iFK1BFcg7qmF"
      },
      "execution_count": null,
      "outputs": []
    },
    {
      "cell_type": "code",
      "source": [
        "from transformers import set_seed, Trainer\n",
        "\n",
        "# Set the seed for reproducibility\n",
        "set_seed(20240917)"
      ],
      "metadata": {
        "id": "fdXw3-dZ7qmF"
      },
      "execution_count": null,
      "outputs": []
    },
    {
      "cell_type": "code",
      "source": [
        "def model_init() :\n",
        "    return RobertaForSequenceClassification.from_pretrained(\"FacebookAI/roberta-base\", num_labels=2)"
      ],
      "metadata": {
        "id": "NRnAy1gE7qmF"
      },
      "execution_count": null,
      "outputs": []
    },
    {
      "cell_type": "code",
      "source": [
        "training_args = TrainingArguments(\n",
        "    eval_strategy=\"epoch\",\n",
        "    output_dir=\"./results\",\n",
        "    learning_rate=2e-5,\n",
        "    per_device_train_batch_size=16,\n",
        "    per_device_eval_batch_size=16,\n",
        "    num_train_epochs=3,\n",
        "    weight_decay=0.01,\n",
        "    seed = 20240917\n",
        ")\n",
        "\n",
        "# Initialize Trainer\n",
        "trainer = Trainer(\n",
        "    model_init = model_init,\n",
        "    args=training_args,\n",
        "    train_dataset=train_df0_dataset,\n",
        "    eval_dataset=val_df0_dataset,\n",
        "    tokenizer = tokenizer,\n",
        "    compute_metrics=compute_metrics,\n",
        ")\n",
        "\n",
        "# Fine-tune the model\n",
        "trainer.train()"
      ],
      "metadata": {
        "id": "X0jdDMeL7qmF"
      },
      "execution_count": null,
      "outputs": []
    },
    {
      "cell_type": "code",
      "source": [
        "from torch.utils.data import DataLoader\n",
        "\n",
        "# Assuming you've already created your test_dataset\n",
        "test_loader = DataLoader(test_df0_dataset, batch_size=32, shuffle=False)"
      ],
      "metadata": {
        "id": "H2iKtEc47qmF"
      },
      "execution_count": null,
      "outputs": []
    },
    {
      "cell_type": "code",
      "source": [
        "model1 = AutoModelForSequenceClassification.from_pretrained(\"/kaggle/working/results/checkpoint-1125\", num_labels=2)\n",
        "model1.to(device)"
      ],
      "metadata": {
        "id": "y8iKOlhs7qmF"
      },
      "execution_count": null,
      "outputs": []
    },
    {
      "cell_type": "code",
      "source": [
        "import torch\n",
        "import numpy as np\n",
        "\n",
        "model1.eval()  # Set the model to evaluation mode\n",
        "all_predictions = []\n",
        "all_true_labels = []\n",
        "\n",
        "with torch.no_grad():\n",
        "    for batch in test_loader:\n",
        "        input_ids = batch['input_ids'].to(device)\n",
        "        attention_mask = batch['attention_mask'].to(device)\n",
        "        labels = batch['labels'].to(device)\n",
        "\n",
        "        outputs = model1(input_ids, attention_mask=attention_mask)\n",
        "        _, predictions = torch.max(outputs.logits, dim=1)\n",
        "\n",
        "        all_predictions.extend(predictions.cpu().numpy())\n",
        "        all_true_labels.extend(labels.cpu().numpy())\n",
        "\n",
        "# Convert to numpy arrays\n",
        "y_pred = np.array(all_predictions)\n",
        "y_true = np.array(all_true_labels)"
      ],
      "metadata": {
        "id": "xud2qAC-7qmG"
      },
      "execution_count": null,
      "outputs": []
    },
    {
      "cell_type": "code",
      "source": [
        "from sklearn.metrics import classification_report, confusion_matrix\n",
        "import seaborn as sns\n",
        "import matplotlib.pyplot as plt\n",
        "\n",
        "# Print classification report\n",
        "print(classification_report(y_true, y_pred))\n",
        "\n",
        "# Create confusion matrix\n",
        "cm = confusion_matrix(y_true, y_pred)\n",
        "\n",
        "# Plot confusion matrix\n",
        "plt.figure(figsize=(10, 8))\n",
        "sns.heatmap(cm, annot=True, fmt='d', cmap='Blues')\n",
        "plt.xlabel('Predicted')\n",
        "plt.ylabel('True')\n",
        "plt.title('Confusion Matrix')\n",
        "plt.show()"
      ],
      "metadata": {
        "id": "yEGVnjoY7qmG"
      },
      "execution_count": null,
      "outputs": []
    },
    {
      "cell_type": "markdown",
      "source": [
        "#### Seed 2"
      ],
      "metadata": {
        "id": "ZJCKnITJ7qmG"
      }
    },
    {
      "cell_type": "code",
      "source": [
        "# Don't Show Warning Messages\n",
        "import os\n",
        "import warnings\n",
        "warnings.filterwarnings('ignore')\n",
        "os.environ[\"WANDB_DISABLED\"] = \"true\""
      ],
      "metadata": {
        "id": "msLGGhZ_7qmG"
      },
      "execution_count": null,
      "outputs": []
    },
    {
      "cell_type": "code",
      "source": [
        "from transformers import set_seed, Trainer\n",
        "\n",
        "# Set the seed for reproducibility\n",
        "set_seed(68820831)"
      ],
      "metadata": {
        "id": "pI8EOtFP7qmG"
      },
      "execution_count": null,
      "outputs": []
    },
    {
      "cell_type": "code",
      "source": [
        "def model_init() :\n",
        "    return RobertaForSequenceClassification.from_pretrained(\"FacebookAI/roberta-base\", num_labels=2)"
      ],
      "metadata": {
        "id": "_CmnVijz7qmG"
      },
      "execution_count": null,
      "outputs": []
    },
    {
      "cell_type": "code",
      "source": [
        "training_args = TrainingArguments(\n",
        "    eval_strategy=\"epoch\",\n",
        "    output_dir=\"./results\",\n",
        "    learning_rate=2e-5,\n",
        "    per_device_train_batch_size=16,\n",
        "    per_device_eval_batch_size=16,\n",
        "    num_train_epochs=3,\n",
        "    weight_decay=0.01,\n",
        "    seed = 68820831\n",
        ")\n",
        "\n",
        "# Initialize Trainer\n",
        "trainer = Trainer(\n",
        "    model_init = model_init,\n",
        "    args=training_args,\n",
        "    train_dataset=train_df0_dataset,\n",
        "    eval_dataset=val_df0_dataset,\n",
        "    tokenizer = tokenizer,\n",
        "    compute_metrics=compute_metrics,\n",
        ")\n",
        "\n",
        "# Fine-tune the model\n",
        "trainer.train()"
      ],
      "metadata": {
        "id": "BjEK5C-n7qmH"
      },
      "execution_count": null,
      "outputs": []
    },
    {
      "cell_type": "code",
      "source": [
        "from torch.utils.data import DataLoader\n",
        "\n",
        "# Assuming you've already created your test_dataset\n",
        "test_loader = DataLoader(test_df0_dataset, batch_size=32, shuffle=False)"
      ],
      "metadata": {
        "id": "Bvv60uQw7qmH"
      },
      "execution_count": null,
      "outputs": []
    },
    {
      "cell_type": "code",
      "source": [
        "model1 = AutoModelForSequenceClassification.from_pretrained(\"/kaggle/working/results/checkpoint-1125\", num_labels=2)\n",
        "model1.to(device)"
      ],
      "metadata": {
        "id": "wFWqM0vk7qmH"
      },
      "execution_count": null,
      "outputs": []
    },
    {
      "cell_type": "code",
      "source": [
        "import torch\n",
        "import numpy as np\n",
        "\n",
        "model1.eval()  # Set the model to evaluation mode\n",
        "all_predictions = []\n",
        "all_true_labels = []\n",
        "\n",
        "with torch.no_grad():\n",
        "    for batch in test_loader:\n",
        "        input_ids = batch['input_ids'].to(device)\n",
        "        attention_mask = batch['attention_mask'].to(device)\n",
        "        labels = batch['labels'].to(device)\n",
        "\n",
        "        outputs = model1(input_ids, attention_mask=attention_mask)\n",
        "        _, predictions = torch.max(outputs.logits, dim=1)\n",
        "\n",
        "        all_predictions.extend(predictions.cpu().numpy())\n",
        "        all_true_labels.extend(labels.cpu().numpy())\n",
        "\n",
        "# Convert to numpy arrays\n",
        "y_pred = np.array(all_predictions)\n",
        "y_true = np.array(all_true_labels)"
      ],
      "metadata": {
        "id": "F1Lqz7vw7qmH"
      },
      "execution_count": null,
      "outputs": []
    },
    {
      "cell_type": "code",
      "source": [
        "from sklearn.metrics import classification_report, confusion_matrix\n",
        "import seaborn as sns\n",
        "import matplotlib.pyplot as plt\n",
        "\n",
        "# Print classification report\n",
        "print(classification_report(y_true, y_pred))\n",
        "\n",
        "# Create confusion matrix\n",
        "cm = confusion_matrix(y_true, y_pred)\n",
        "\n",
        "# Plot confusion matrix\n",
        "plt.figure(figsize=(10, 8))\n",
        "sns.heatmap(cm, annot=True, fmt='d', cmap='Blues')\n",
        "plt.xlabel('Predicted')\n",
        "plt.ylabel('True')\n",
        "plt.title('Confusion Matrix')\n",
        "plt.show()"
      ],
      "metadata": {
        "id": "sw9sztsZ7qmH"
      },
      "execution_count": null,
      "outputs": []
    },
    {
      "cell_type": "markdown",
      "source": [
        "#### Seed 3"
      ],
      "metadata": {
        "id": "PlH9hqrj7qmH"
      }
    },
    {
      "cell_type": "code",
      "source": [
        "# Don't Show Warning Messages\n",
        "import os\n",
        "import warnings\n",
        "warnings.filterwarnings('ignore')\n",
        "os.environ[\"WANDB_DISABLED\"] = \"true\""
      ],
      "metadata": {
        "id": "SMmkWtoK7qmI"
      },
      "execution_count": null,
      "outputs": []
    },
    {
      "cell_type": "code",
      "source": [
        "from transformers import set_seed, Trainer\n",
        "\n",
        "# Set the seed for reproducibility\n",
        "set_seed(54226614)"
      ],
      "metadata": {
        "id": "oG9ry6bu7qmI"
      },
      "execution_count": null,
      "outputs": []
    },
    {
      "cell_type": "code",
      "source": [
        "def model_init() :\n",
        "    return RobertaForSequenceClassification.from_pretrained(\"FacebookAI/roberta-base\", num_labels=2)"
      ],
      "metadata": {
        "id": "nPcb1CqO7qmI"
      },
      "execution_count": null,
      "outputs": []
    },
    {
      "cell_type": "code",
      "source": [
        "training_args = TrainingArguments(\n",
        "    eval_strategy=\"epoch\",\n",
        "    output_dir=\"./results\",\n",
        "    learning_rate=2e-5,\n",
        "    per_device_train_batch_size=16,\n",
        "    per_device_eval_batch_size=16,\n",
        "    num_train_epochs=3,\n",
        "    weight_decay=0.01,\n",
        "    seed = 54226614\n",
        ")\n",
        "\n",
        "# Initialize Trainer\n",
        "trainer = Trainer(\n",
        "    model_init = model_init,\n",
        "    args=training_args,\n",
        "    train_dataset=train_df0_dataset,\n",
        "    eval_dataset=val_df0_dataset,\n",
        "    tokenizer = tokenizer,\n",
        "    compute_metrics=compute_metrics,\n",
        ")\n",
        "\n",
        "# Fine-tune the model\n",
        "trainer.train()"
      ],
      "metadata": {
        "id": "2Gdj1RIL7qmI"
      },
      "execution_count": null,
      "outputs": []
    },
    {
      "cell_type": "code",
      "source": [
        "from torch.utils.data import DataLoader\n",
        "\n",
        "# Assuming you've already created your test_dataset\n",
        "test_loader = DataLoader(test_df0_dataset, batch_size=32, shuffle=False)"
      ],
      "metadata": {
        "id": "Fgrq5RKK7qmJ"
      },
      "execution_count": null,
      "outputs": []
    },
    {
      "cell_type": "code",
      "source": [
        "model1 = AutoModelForSequenceClassification.from_pretrained(\"/kaggle/working/results/checkpoint-1125\", num_labels=2)\n",
        "model1.to(device)"
      ],
      "metadata": {
        "id": "azSdJwO-7qmJ"
      },
      "execution_count": null,
      "outputs": []
    },
    {
      "cell_type": "code",
      "source": [
        "import torch\n",
        "import numpy as np\n",
        "\n",
        "model1.eval()  # Set the model to evaluation mode\n",
        "all_predictions = []\n",
        "all_true_labels = []\n",
        "\n",
        "with torch.no_grad():\n",
        "    for batch in test_loader:\n",
        "        input_ids = batch['input_ids'].to(device)\n",
        "        attention_mask = batch['attention_mask'].to(device)\n",
        "        labels = batch['labels'].to(device)\n",
        "\n",
        "        outputs = model1(input_ids, attention_mask=attention_mask)\n",
        "        _, predictions = torch.max(outputs.logits, dim=1)\n",
        "\n",
        "        all_predictions.extend(predictions.cpu().numpy())\n",
        "        all_true_labels.extend(labels.cpu().numpy())\n",
        "\n",
        "# Convert to numpy arrays\n",
        "y_pred = np.array(all_predictions)\n",
        "y_true = np.array(all_true_labels)"
      ],
      "metadata": {
        "id": "nPnEjoaP7qmK"
      },
      "execution_count": null,
      "outputs": []
    },
    {
      "cell_type": "code",
      "source": [
        "from sklearn.metrics import classification_report, confusion_matrix\n",
        "import seaborn as sns\n",
        "import matplotlib.pyplot as plt\n",
        "\n",
        "# Print classification report\n",
        "print(classification_report(y_true, y_pred))\n",
        "\n",
        "# Create confusion matrix\n",
        "cm = confusion_matrix(y_true, y_pred)\n",
        "\n",
        "# Plot confusion matrix\n",
        "plt.figure(figsize=(10, 8))\n",
        "sns.heatmap(cm, annot=True, fmt='d', cmap='Blues')\n",
        "plt.xlabel('Predicted')\n",
        "plt.ylabel('True')\n",
        "plt.title('Confusion Matrix')\n",
        "plt.show()"
      ],
      "metadata": {
        "id": "anPPhpWz7qmK"
      },
      "execution_count": null,
      "outputs": []
    },
    {
      "cell_type": "markdown",
      "source": [
        "### Dataset 2"
      ],
      "metadata": {
        "id": "5gvjxuOS7qmK"
      }
    },
    {
      "cell_type": "markdown",
      "source": [
        "#### Seed 1"
      ],
      "metadata": {
        "id": "2pmaYflf7qmK"
      }
    },
    {
      "cell_type": "code",
      "source": [
        "# Don't Show Warning Messages\n",
        "import os\n",
        "import warnings\n",
        "warnings.filterwarnings('ignore')\n",
        "os.environ[\"WANDB_DISABLED\"] = \"true\""
      ],
      "metadata": {
        "id": "VJMWdorx7qmK"
      },
      "execution_count": null,
      "outputs": []
    },
    {
      "cell_type": "code",
      "source": [
        "from transformers import set_seed, Trainer\n",
        "\n",
        "# Set the seed for reproducibility\n",
        "set_seed(20240917)"
      ],
      "metadata": {
        "id": "_T0vYIRo7qmK"
      },
      "execution_count": null,
      "outputs": []
    },
    {
      "cell_type": "code",
      "source": [
        "def model_init() :\n",
        "    return RobertaForSequenceClassification.from_pretrained(\"FacebookAI/roberta-base\", num_labels=2)"
      ],
      "metadata": {
        "id": "ctqgsD6a7qmL"
      },
      "execution_count": null,
      "outputs": []
    },
    {
      "cell_type": "code",
      "source": [
        "training_args = TrainingArguments(\n",
        "    eval_strategy=\"epoch\",\n",
        "    output_dir=\"./results\",\n",
        "    learning_rate=2e-5,\n",
        "    per_device_train_batch_size=16,\n",
        "    per_device_eval_batch_size=16,\n",
        "    num_train_epochs=3,\n",
        "    weight_decay=0.01,\n",
        "    seed = 20240917\n",
        ")\n",
        "\n",
        "# Initialize Trainer\n",
        "trainer = Trainer(\n",
        "    model_init = model_init,\n",
        "    args=training_args,\n",
        "    train_dataset=train_df1_dataset,\n",
        "    eval_dataset=val_df1_dataset,\n",
        "    tokenizer = tokenizer,\n",
        "    compute_metrics=compute_metrics,\n",
        ")\n",
        "\n",
        "# Fine-tune the model\n",
        "trainer.train()"
      ],
      "metadata": {
        "id": "xAKj-YWm7qmL"
      },
      "execution_count": null,
      "outputs": []
    },
    {
      "cell_type": "code",
      "source": [
        "from torch.utils.data import DataLoader\n",
        "\n",
        "# Assuming you've already created your test_dataset\n",
        "test_loader = DataLoader(test_df1_dataset, batch_size=32, shuffle=False)"
      ],
      "metadata": {
        "id": "AgWjEa8e7qmL"
      },
      "execution_count": null,
      "outputs": []
    },
    {
      "cell_type": "code",
      "source": [
        "model1 = AutoModelForSequenceClassification.from_pretrained(\"/kaggle/working/results/checkpoint-1125\", num_labels=2)\n",
        "model1.to(device)"
      ],
      "metadata": {
        "id": "RSLBoZw67qmL"
      },
      "execution_count": null,
      "outputs": []
    },
    {
      "cell_type": "code",
      "source": [
        "import torch\n",
        "import numpy as np\n",
        "\n",
        "model1.eval()  # Set the model to evaluation mode\n",
        "all_predictions = []\n",
        "all_true_labels = []\n",
        "\n",
        "with torch.no_grad():\n",
        "    for batch in test_loader:\n",
        "        input_ids = batch['input_ids'].to(device)\n",
        "        attention_mask = batch['attention_mask'].to(device)\n",
        "        labels = batch['labels'].to(device)\n",
        "\n",
        "        outputs = model1(input_ids, attention_mask=attention_mask)\n",
        "        _, predictions = torch.max(outputs.logits, dim=1)\n",
        "\n",
        "        all_predictions.extend(predictions.cpu().numpy())\n",
        "        all_true_labels.extend(labels.cpu().numpy())\n",
        "\n",
        "# Convert to numpy arrays\n",
        "y_pred = np.array(all_predictions)\n",
        "y_true = np.array(all_true_labels)"
      ],
      "metadata": {
        "id": "_9i73ViR7qmL"
      },
      "execution_count": null,
      "outputs": []
    },
    {
      "cell_type": "code",
      "source": [
        "from sklearn.metrics import classification_report, confusion_matrix\n",
        "import seaborn as sns\n",
        "import matplotlib.pyplot as plt\n",
        "\n",
        "# Print classification report\n",
        "print(classification_report(y_true, y_pred))\n",
        "\n",
        "# Create confusion matrix\n",
        "cm = confusion_matrix(y_true, y_pred)\n",
        "\n",
        "# Plot confusion matrix\n",
        "plt.figure(figsize=(10, 8))\n",
        "sns.heatmap(cm, annot=True, fmt='d', cmap='Blues')\n",
        "plt.xlabel('Predicted')\n",
        "plt.ylabel('True')\n",
        "plt.title('Confusion Matrix')\n",
        "plt.show()"
      ],
      "metadata": {
        "id": "paWr-_Hs7qmM"
      },
      "execution_count": null,
      "outputs": []
    },
    {
      "cell_type": "markdown",
      "source": [
        "#### Seed 2"
      ],
      "metadata": {
        "id": "G-9W2EJF7qmM"
      }
    },
    {
      "cell_type": "code",
      "source": [
        "# Don't Show Warning Messages\n",
        "import os\n",
        "import warnings\n",
        "warnings.filterwarnings('ignore')\n",
        "os.environ[\"WANDB_DISABLED\"] = \"true\""
      ],
      "metadata": {
        "id": "JMVswmx67qmM"
      },
      "execution_count": null,
      "outputs": []
    },
    {
      "cell_type": "code",
      "source": [
        "from transformers import set_seed, Trainer\n",
        "\n",
        "# Set the seed for reproducibility\n",
        "set_seed(68820831)"
      ],
      "metadata": {
        "id": "hKLt8jdC7qmM"
      },
      "execution_count": null,
      "outputs": []
    },
    {
      "cell_type": "code",
      "source": [
        "def model_init() :\n",
        "    return RobertaForSequenceClassification.from_pretrained(\"FacebookAI/roberta-base\", num_labels=2)"
      ],
      "metadata": {
        "id": "nCH5tYr47qmP"
      },
      "execution_count": null,
      "outputs": []
    },
    {
      "cell_type": "code",
      "source": [
        "training_args = TrainingArguments(\n",
        "    eval_strategy=\"epoch\",\n",
        "    output_dir=\"./results\",\n",
        "    learning_rate=2e-5,\n",
        "    per_device_train_batch_size=16,\n",
        "    per_device_eval_batch_size=16,\n",
        "    num_train_epochs=3,\n",
        "    weight_decay=0.01,\n",
        "    seed = 68820831\n",
        ")\n",
        "\n",
        "# Initialize Trainer\n",
        "trainer = Trainer(\n",
        "    model_init = model_init,\n",
        "    args=training_args,\n",
        "    train_dataset=train_df1_dataset,\n",
        "    eval_dataset=val_df1_dataset,\n",
        "    tokenizer = tokenizer,\n",
        "    compute_metrics=compute_metrics,\n",
        ")\n",
        "\n",
        "# Fine-tune the model\n",
        "trainer.train()"
      ],
      "metadata": {
        "id": "d7ZalIKw7qmQ"
      },
      "execution_count": null,
      "outputs": []
    },
    {
      "cell_type": "code",
      "source": [
        "from torch.utils.data import DataLoader\n",
        "\n",
        "# Assuming you've already created your test_dataset\n",
        "test_loader = DataLoader(test_df1_dataset, batch_size=32, shuffle=False)"
      ],
      "metadata": {
        "id": "3Lryt_JV7qmR"
      },
      "execution_count": null,
      "outputs": []
    },
    {
      "cell_type": "code",
      "source": [
        "model1 = AutoModelForSequenceClassification.from_pretrained(\"/kaggle/working/results/checkpoint-1125\", num_labels=2)\n",
        "model1.to(device)"
      ],
      "metadata": {
        "id": "zoWR0McW7qmS"
      },
      "execution_count": null,
      "outputs": []
    },
    {
      "cell_type": "code",
      "source": [
        "import torch\n",
        "import numpy as np\n",
        "\n",
        "model1.eval()  # Set the model to evaluation mode\n",
        "all_predictions = []\n",
        "all_true_labels = []\n",
        "\n",
        "with torch.no_grad():\n",
        "    for batch in test_loader:\n",
        "        input_ids = batch['input_ids'].to(device)\n",
        "        attention_mask = batch['attention_mask'].to(device)\n",
        "        labels = batch['labels'].to(device)\n",
        "\n",
        "        outputs = model1(input_ids, attention_mask=attention_mask)\n",
        "        _, predictions = torch.max(outputs.logits, dim=1)\n",
        "\n",
        "        all_predictions.extend(predictions.cpu().numpy())\n",
        "        all_true_labels.extend(labels.cpu().numpy())\n",
        "\n",
        "# Convert to numpy arrays\n",
        "y_pred = np.array(all_predictions)\n",
        "y_true = np.array(all_true_labels)"
      ],
      "metadata": {
        "id": "TYoPvS3x7qmT"
      },
      "execution_count": null,
      "outputs": []
    },
    {
      "cell_type": "code",
      "source": [
        "from sklearn.metrics import classification_report, confusion_matrix\n",
        "import seaborn as sns\n",
        "import matplotlib.pyplot as plt\n",
        "\n",
        "# Print classification report\n",
        "print(classification_report(y_true, y_pred))\n",
        "\n",
        "# Create confusion matrix\n",
        "cm = confusion_matrix(y_true, y_pred)\n",
        "\n",
        "# Plot confusion matrix\n",
        "plt.figure(figsize=(10, 8))\n",
        "sns.heatmap(cm, annot=True, fmt='d', cmap='Blues')\n",
        "plt.xlabel('Predicted')\n",
        "plt.ylabel('True')\n",
        "plt.title('Confusion Matrix')\n",
        "plt.show()"
      ],
      "metadata": {
        "id": "8h7I1yE67qmT"
      },
      "execution_count": null,
      "outputs": []
    },
    {
      "cell_type": "markdown",
      "source": [
        "#### Seed 3"
      ],
      "metadata": {
        "id": "ojVVCaBg7qmT"
      }
    },
    {
      "cell_type": "code",
      "source": [
        "# Don't Show Warning Messages\n",
        "import os\n",
        "import warnings\n",
        "warnings.filterwarnings('ignore')\n",
        "os.environ[\"WANDB_DISABLED\"] = \"true\""
      ],
      "metadata": {
        "id": "mESdV0Dm7qmT"
      },
      "execution_count": null,
      "outputs": []
    },
    {
      "cell_type": "code",
      "source": [
        "from transformers import set_seed, Trainer\n",
        "\n",
        "# Set the seed for reproducibility\n",
        "set_seed(54226614)"
      ],
      "metadata": {
        "id": "-SPyKP077qmU"
      },
      "execution_count": null,
      "outputs": []
    },
    {
      "cell_type": "code",
      "source": [
        "def model_init() :\n",
        "    return RobertaForSequenceClassification.from_pretrained(\"FacebookAI/roberta-base\", num_labels=2)"
      ],
      "metadata": {
        "id": "QFlUGX8N7qmU"
      },
      "execution_count": null,
      "outputs": []
    },
    {
      "cell_type": "code",
      "source": [
        "training_args = TrainingArguments(\n",
        "    eval_strategy=\"epoch\",\n",
        "    output_dir=\"./results\",\n",
        "    learning_rate=2e-5,\n",
        "    per_device_train_batch_size=16,\n",
        "    per_device_eval_batch_size=16,\n",
        "    num_train_epochs=3,\n",
        "    weight_decay=0.01,\n",
        "    seed = 54226614\n",
        ")\n",
        "\n",
        "# Initialize Trainer\n",
        "trainer = Trainer(\n",
        "    model_init = model_init,\n",
        "    args=training_args,\n",
        "    train_dataset=train_df1_dataset,\n",
        "    eval_dataset=val_df1_dataset,\n",
        "    tokenizer = tokenizer,\n",
        "    compute_metrics=compute_metrics,\n",
        ")\n",
        "\n",
        "# Fine-tune the model\n",
        "trainer.train()"
      ],
      "metadata": {
        "id": "aiapYv697qmU"
      },
      "execution_count": null,
      "outputs": []
    },
    {
      "cell_type": "code",
      "source": [
        "from torch.utils.data import DataLoader\n",
        "\n",
        "# Assuming you've already created your test_dataset\n",
        "test_loader = DataLoader(test_df1_dataset, batch_size=32, shuffle=False)"
      ],
      "metadata": {
        "id": "OwFqH0Hk7qmU"
      },
      "execution_count": null,
      "outputs": []
    },
    {
      "cell_type": "code",
      "source": [
        "model1 = AutoModelForSequenceClassification.from_pretrained(\"/kaggle/working/results/checkpoint-1125\", num_labels=2)\n",
        "model1.to(device)"
      ],
      "metadata": {
        "id": "Q3LksrkG7qmV"
      },
      "execution_count": null,
      "outputs": []
    },
    {
      "cell_type": "code",
      "source": [
        "import torch\n",
        "import numpy as np\n",
        "\n",
        "model1.eval()  # Set the model to evaluation mode\n",
        "all_predictions = []\n",
        "all_true_labels = []\n",
        "\n",
        "with torch.no_grad():\n",
        "    for batch in test_loader:\n",
        "        input_ids = batch['input_ids'].to(device)\n",
        "        attention_mask = batch['attention_mask'].to(device)\n",
        "        labels = batch['labels'].to(device)\n",
        "\n",
        "        outputs = model1(input_ids, attention_mask=attention_mask)\n",
        "        _, predictions = torch.max(outputs.logits, dim=1)\n",
        "\n",
        "        all_predictions.extend(predictions.cpu().numpy())\n",
        "        all_true_labels.extend(labels.cpu().numpy())\n",
        "\n",
        "# Convert to numpy arrays\n",
        "y_pred = np.array(all_predictions)\n",
        "y_true = np.array(all_true_labels)"
      ],
      "metadata": {
        "id": "Di1XFGzs7qmV"
      },
      "execution_count": null,
      "outputs": []
    },
    {
      "cell_type": "code",
      "source": [
        "from sklearn.metrics import classification_report, confusion_matrix\n",
        "import seaborn as sns\n",
        "import matplotlib.pyplot as plt\n",
        "\n",
        "# Print classification report\n",
        "print(classification_report(y_true, y_pred))\n",
        "\n",
        "# Create confusion matrix\n",
        "cm = confusion_matrix(y_true, y_pred)\n",
        "\n",
        "# Plot confusion matrix\n",
        "plt.figure(figsize=(10, 8))\n",
        "sns.heatmap(cm, annot=True, fmt='d', cmap='Blues')\n",
        "plt.xlabel('Predicted')\n",
        "plt.ylabel('True')\n",
        "plt.title('Confusion Matrix')\n",
        "plt.show()"
      ],
      "metadata": {
        "id": "Z_4x4rT77qmV"
      },
      "execution_count": null,
      "outputs": []
    },
    {
      "cell_type": "markdown",
      "source": [
        "### Dataset 3"
      ],
      "metadata": {
        "id": "p0_L0IIRH34U"
      }
    },
    {
      "cell_type": "markdown",
      "source": [
        "#### Seed 1"
      ],
      "metadata": {
        "id": "1WzBz4KEH34V"
      }
    },
    {
      "cell_type": "code",
      "source": [
        "# Don't Show Warning Messages\n",
        "import os\n",
        "import warnings\n",
        "warnings.filterwarnings('ignore')\n",
        "os.environ[\"WANDB_DISABLED\"] = \"true\""
      ],
      "metadata": {
        "id": "cfC9fS5SH34V"
      },
      "execution_count": null,
      "outputs": []
    },
    {
      "cell_type": "code",
      "source": [
        "from transformers import set_seed, Trainer\n",
        "\n",
        "# Set the seed for reproducibility\n",
        "set_seed(20240917)"
      ],
      "metadata": {
        "id": "1deZ0nkTH34W"
      },
      "execution_count": null,
      "outputs": []
    },
    {
      "cell_type": "code",
      "source": [
        "def model_init() :\n",
        "    return RobertaForSequenceClassification.from_pretrained(\"FacebookAI/roberta-base\", num_labels=2)"
      ],
      "metadata": {
        "id": "yCrZTX9lH34W"
      },
      "execution_count": null,
      "outputs": []
    },
    {
      "cell_type": "code",
      "source": [
        "training_args = TrainingArguments(\n",
        "    eval_strategy=\"epoch\",\n",
        "    output_dir=\"./results\",\n",
        "    learning_rate=2e-5,\n",
        "    per_device_train_batch_size=16,\n",
        "    per_device_eval_batch_size=16,\n",
        "    num_train_epochs=3,\n",
        "    weight_decay=0.01,\n",
        "    seed = 20240917\n",
        ")\n",
        "\n",
        "# Initialize Trainer\n",
        "trainer = Trainer(\n",
        "    model_init = model_init,\n",
        "    args=training_args,\n",
        "    train_dataset=train_df1_dataset,\n",
        "    eval_dataset=val_df1_dataset,\n",
        "    tokenizer = tokenizer,\n",
        "    compute_metrics=compute_metrics,\n",
        ")\n",
        "\n",
        "# Fine-tune the model\n",
        "trainer.train()"
      ],
      "metadata": {
        "id": "yszZaHObH34W"
      },
      "execution_count": null,
      "outputs": []
    },
    {
      "cell_type": "code",
      "source": [
        "from torch.utils.data import DataLoader\n",
        "\n",
        "# Assuming you've already created your test_dataset\n",
        "test_loader = DataLoader(test_df1_dataset, batch_size=32, shuffle=False)"
      ],
      "metadata": {
        "id": "t4N1ywvVH34W"
      },
      "execution_count": null,
      "outputs": []
    },
    {
      "cell_type": "code",
      "source": [
        "model1 = AutoModelForSequenceClassification.from_pretrained(\"/kaggle/working/results/checkpoint-1125\", num_labels=2)\n",
        "model1.to(device)"
      ],
      "metadata": {
        "id": "jrdpM70eH34W"
      },
      "execution_count": null,
      "outputs": []
    },
    {
      "cell_type": "code",
      "source": [
        "import torch\n",
        "import numpy as np\n",
        "\n",
        "model1.eval()  # Set the model to evaluation mode\n",
        "all_predictions = []\n",
        "all_true_labels = []\n",
        "\n",
        "with torch.no_grad():\n",
        "    for batch in test_loader:\n",
        "        input_ids = batch['input_ids'].to(device)\n",
        "        attention_mask = batch['attention_mask'].to(device)\n",
        "        labels = batch['labels'].to(device)\n",
        "\n",
        "        outputs = model1(input_ids, attention_mask=attention_mask)\n",
        "        _, predictions = torch.max(outputs.logits, dim=1)\n",
        "\n",
        "        all_predictions.extend(predictions.cpu().numpy())\n",
        "        all_true_labels.extend(labels.cpu().numpy())\n",
        "\n",
        "# Convert to numpy arrays\n",
        "y_pred = np.array(all_predictions)\n",
        "y_true = np.array(all_true_labels)"
      ],
      "metadata": {
        "id": "kmagCK8PH34W"
      },
      "execution_count": null,
      "outputs": []
    },
    {
      "cell_type": "code",
      "source": [
        "from sklearn.metrics import classification_report, confusion_matrix\n",
        "import seaborn as sns\n",
        "import matplotlib.pyplot as plt\n",
        "\n",
        "# Print classification report\n",
        "print(classification_report(y_true, y_pred))\n",
        "\n",
        "# Create confusion matrix\n",
        "cm = confusion_matrix(y_true, y_pred)\n",
        "\n",
        "# Plot confusion matrix\n",
        "plt.figure(figsize=(10, 8))\n",
        "sns.heatmap(cm, annot=True, fmt='d', cmap='Blues')\n",
        "plt.xlabel('Predicted')\n",
        "plt.ylabel('True')\n",
        "plt.title('Confusion Matrix')\n",
        "plt.show()"
      ],
      "metadata": {
        "id": "ZWV8OCgVH34X"
      },
      "execution_count": null,
      "outputs": []
    },
    {
      "cell_type": "markdown",
      "source": [
        "#### Seed 2"
      ],
      "metadata": {
        "id": "pTYoNHPAH34X"
      }
    },
    {
      "cell_type": "code",
      "source": [
        "# Don't Show Warning Messages\n",
        "import os\n",
        "import warnings\n",
        "warnings.filterwarnings('ignore')\n",
        "os.environ[\"WANDB_DISABLED\"] = \"true\""
      ],
      "metadata": {
        "id": "qDjm6iK-H34X"
      },
      "execution_count": null,
      "outputs": []
    },
    {
      "cell_type": "code",
      "source": [
        "from transformers import set_seed, Trainer\n",
        "\n",
        "# Set the seed for reproducibility\n",
        "set_seed(68820831)"
      ],
      "metadata": {
        "id": "NcniZi-JH34Y"
      },
      "execution_count": null,
      "outputs": []
    },
    {
      "cell_type": "code",
      "source": [
        "def model_init() :\n",
        "    return RobertaForSequenceClassification.from_pretrained(\"FacebookAI/roberta-base\", num_labels=2)"
      ],
      "metadata": {
        "id": "oCnL6yNRH34Y"
      },
      "execution_count": null,
      "outputs": []
    },
    {
      "cell_type": "code",
      "source": [
        "training_args = TrainingArguments(\n",
        "    eval_strategy=\"epoch\",\n",
        "    output_dir=\"./results\",\n",
        "    learning_rate=2e-5,\n",
        "    per_device_train_batch_size=16,\n",
        "    per_device_eval_batch_size=16,\n",
        "    num_train_epochs=3,\n",
        "    weight_decay=0.01,\n",
        "    seed = 68820831\n",
        ")\n",
        "\n",
        "# Initialize Trainer\n",
        "trainer = Trainer(\n",
        "    model_init = model_init,\n",
        "    args=training_args,\n",
        "    train_dataset=train_df1_dataset,\n",
        "    eval_dataset=val_df1_dataset,\n",
        "    tokenizer = tokenizer,\n",
        "    compute_metrics=compute_metrics,\n",
        ")\n",
        "\n",
        "# Fine-tune the model\n",
        "trainer.train()"
      ],
      "metadata": {
        "id": "GQ6mGvcAH34Y"
      },
      "execution_count": null,
      "outputs": []
    },
    {
      "cell_type": "code",
      "source": [
        "from torch.utils.data import DataLoader\n",
        "\n",
        "# Assuming you've already created your test_dataset\n",
        "test_loader = DataLoader(test_df1_dataset, batch_size=32, shuffle=False)"
      ],
      "metadata": {
        "id": "ugp9g--0H34Y"
      },
      "execution_count": null,
      "outputs": []
    },
    {
      "cell_type": "code",
      "source": [
        "model1 = AutoModelForSequenceClassification.from_pretrained(\"/kaggle/working/results/checkpoint-1125\", num_labels=2)\n",
        "model1.to(device)"
      ],
      "metadata": {
        "id": "dRxV4oBQH34Y"
      },
      "execution_count": null,
      "outputs": []
    },
    {
      "cell_type": "code",
      "source": [
        "import torch\n",
        "import numpy as np\n",
        "\n",
        "model1.eval()  # Set the model to evaluation mode\n",
        "all_predictions = []\n",
        "all_true_labels = []\n",
        "\n",
        "with torch.no_grad():\n",
        "    for batch in test_loader:\n",
        "        input_ids = batch['input_ids'].to(device)\n",
        "        attention_mask = batch['attention_mask'].to(device)\n",
        "        labels = batch['labels'].to(device)\n",
        "\n",
        "        outputs = model1(input_ids, attention_mask=attention_mask)\n",
        "        _, predictions = torch.max(outputs.logits, dim=1)\n",
        "\n",
        "        all_predictions.extend(predictions.cpu().numpy())\n",
        "        all_true_labels.extend(labels.cpu().numpy())\n",
        "\n",
        "# Convert to numpy arrays\n",
        "y_pred = np.array(all_predictions)\n",
        "y_true = np.array(all_true_labels)"
      ],
      "metadata": {
        "id": "VW_qnAEeH34Y"
      },
      "execution_count": null,
      "outputs": []
    },
    {
      "cell_type": "code",
      "source": [
        "from sklearn.metrics import classification_report, confusion_matrix\n",
        "import seaborn as sns\n",
        "import matplotlib.pyplot as plt\n",
        "\n",
        "# Print classification report\n",
        "print(classification_report(y_true, y_pred))\n",
        "\n",
        "# Create confusion matrix\n",
        "cm = confusion_matrix(y_true, y_pred)\n",
        "\n",
        "# Plot confusion matrix\n",
        "plt.figure(figsize=(10, 8))\n",
        "sns.heatmap(cm, annot=True, fmt='d', cmap='Blues')\n",
        "plt.xlabel('Predicted')\n",
        "plt.ylabel('True')\n",
        "plt.title('Confusion Matrix')\n",
        "plt.show()"
      ],
      "metadata": {
        "id": "ET1JtklsH34Z"
      },
      "execution_count": null,
      "outputs": []
    },
    {
      "cell_type": "markdown",
      "source": [
        "#### Seed 3"
      ],
      "metadata": {
        "id": "BJxr0jv0H34Z"
      }
    },
    {
      "cell_type": "code",
      "source": [
        "# Don't Show Warning Messages\n",
        "import os\n",
        "import warnings\n",
        "warnings.filterwarnings('ignore')\n",
        "os.environ[\"WANDB_DISABLED\"] = \"true\""
      ],
      "metadata": {
        "id": "Z_X_CK3AH34Z"
      },
      "execution_count": null,
      "outputs": []
    },
    {
      "cell_type": "code",
      "source": [
        "from transformers import set_seed, Trainer\n",
        "\n",
        "# Set the seed for reproducibility\n",
        "set_seed(54226614)"
      ],
      "metadata": {
        "id": "GsfQa2ZoH34Z"
      },
      "execution_count": null,
      "outputs": []
    },
    {
      "cell_type": "code",
      "source": [
        "def model_init() :\n",
        "    return RobertaForSequenceClassification.from_pretrained(\"FacebookAI/roberta-base\", num_labels=2)"
      ],
      "metadata": {
        "id": "7a2UMfyNH34Z"
      },
      "execution_count": null,
      "outputs": []
    },
    {
      "cell_type": "code",
      "source": [
        "training_args = TrainingArguments(\n",
        "    eval_strategy=\"epoch\",\n",
        "    output_dir=\"./results\",\n",
        "    learning_rate=2e-5,\n",
        "    per_device_train_batch_size=16,\n",
        "    per_device_eval_batch_size=16,\n",
        "    num_train_epochs=3,\n",
        "    weight_decay=0.01,\n",
        "    seed = 54226614\n",
        ")\n",
        "\n",
        "# Initialize Trainer\n",
        "trainer = Trainer(\n",
        "    model_init = model_init,\n",
        "    args=training_args,\n",
        "    train_dataset=train_df1_dataset,\n",
        "    eval_dataset=val_df1_dataset,\n",
        "    tokenizer = tokenizer,\n",
        "    compute_metrics=compute_metrics,\n",
        ")\n",
        "\n",
        "# Fine-tune the model\n",
        "trainer.train()"
      ],
      "metadata": {
        "id": "_TDYmN4VH34Z"
      },
      "execution_count": null,
      "outputs": []
    },
    {
      "cell_type": "code",
      "source": [
        "from torch.utils.data import DataLoader\n",
        "\n",
        "# Assuming you've already created your test_dataset\n",
        "test_loader = DataLoader(test_df1_dataset, batch_size=32, shuffle=False)"
      ],
      "metadata": {
        "id": "nZ8ODgq6H34a"
      },
      "execution_count": null,
      "outputs": []
    },
    {
      "cell_type": "code",
      "source": [
        "model1 = AutoModelForSequenceClassification.from_pretrained(\"/kaggle/working/results/checkpoint-1125\", num_labels=2)\n",
        "model1.to(device)"
      ],
      "metadata": {
        "id": "q21bQw3DH34a"
      },
      "execution_count": null,
      "outputs": []
    },
    {
      "cell_type": "code",
      "source": [
        "import torch\n",
        "import numpy as np\n",
        "\n",
        "model1.eval()  # Set the model to evaluation mode\n",
        "all_predictions = []\n",
        "all_true_labels = []\n",
        "\n",
        "with torch.no_grad():\n",
        "    for batch in test_loader:\n",
        "        input_ids = batch['input_ids'].to(device)\n",
        "        attention_mask = batch['attention_mask'].to(device)\n",
        "        labels = batch['labels'].to(device)\n",
        "\n",
        "        outputs = model1(input_ids, attention_mask=attention_mask)\n",
        "        _, predictions = torch.max(outputs.logits, dim=1)\n",
        "\n",
        "        all_predictions.extend(predictions.cpu().numpy())\n",
        "        all_true_labels.extend(labels.cpu().numpy())\n",
        "\n",
        "# Convert to numpy arrays\n",
        "y_pred = np.array(all_predictions)\n",
        "y_true = np.array(all_true_labels)"
      ],
      "metadata": {
        "id": "wMn0yySvH34a"
      },
      "execution_count": null,
      "outputs": []
    },
    {
      "cell_type": "code",
      "source": [
        "from sklearn.metrics import classification_report, confusion_matrix\n",
        "import seaborn as sns\n",
        "import matplotlib.pyplot as plt\n",
        "\n",
        "# Print classification report\n",
        "print(classification_report(y_true, y_pred))\n",
        "\n",
        "# Create confusion matrix\n",
        "cm = confusion_matrix(y_true, y_pred)\n",
        "\n",
        "# Plot confusion matrix\n",
        "plt.figure(figsize=(10, 8))\n",
        "sns.heatmap(cm, annot=True, fmt='d', cmap='Blues')\n",
        "plt.xlabel('Predicted')\n",
        "plt.ylabel('True')\n",
        "plt.title('Confusion Matrix')\n",
        "plt.show()"
      ],
      "metadata": {
        "id": "0gA9fkEEH34a"
      },
      "execution_count": null,
      "outputs": []
    },
    {
      "cell_type": "markdown",
      "source": [
        "## ALBERT"
      ],
      "metadata": {
        "id": "SKfb4qx77qmV"
      }
    },
    {
      "cell_type": "code",
      "source": [
        "from transformers import AlbertTokenizer, AlbertForSequenceClassification\n",
        "\n",
        "tokenizer = AlbertTokenizer.from_pretrained(\"albert/albert-xlarge-v2\")\n",
        "model = AlbertForSequenceClassification.from_pretrained(\"albert/albert-xlarge-v2\",num_labels = 2)"
      ],
      "metadata": {
        "id": "tfqyxL6A7qmW"
      },
      "execution_count": null,
      "outputs": []
    },
    {
      "cell_type": "code",
      "source": [
        "import torch\n",
        "from torch.utils.data import Dataset\n",
        "\n",
        "# Custom dataset class\n",
        "class CustomDataset(Dataset):\n",
        "    def __init__(self, texts, labels, tokenizer, max_len=512):\n",
        "        self.texts = texts\n",
        "        self.labels = labels\n",
        "        self.tokenizer = tokenizer\n",
        "        self.max_len = max_len\n",
        "\n",
        "    def __len__(self):\n",
        "        return len(self.texts)\n",
        "\n",
        "    def __getitem__(self, index):\n",
        "        text = self.texts.iloc[index]\n",
        "        label = self.labels.iloc[index]\n",
        "        encoding = self.tokenizer(\n",
        "            text,\n",
        "            truncation=True,\n",
        "            padding='max_length',\n",
        "            max_length=self.max_len,\n",
        "            return_tensors='pt'\n",
        "        )\n",
        "        return {\n",
        "            'input_ids': encoding['input_ids'].flatten(),\n",
        "            'attention_mask': encoding['attention_mask'].flatten(),\n",
        "            'labels': torch.tensor(label, dtype=torch.long)\n",
        "        }\n",
        "\n",
        "train_df1_dataset = CustomDataset(X_train_df1['text'], y_train_df1, tokenizer)\n",
        "train_df2_dataset = CustomDataset(X_train_df2['text'], y_train_df2, tokenizer)\n",
        "train_df3_dataset = CustomDataset(X_train_df3['text'], y_train_df3, tokenizer)\n",
        "\n",
        "# For validation datasets\n",
        "val_df1_dataset = CustomDataset(X_val_df1['text'], y_val_df1, tokenizer)\n",
        "val_df2_dataset = CustomDataset(X_val_df2['text'], y_val_df2, tokenizer)\n",
        "val_df3_dataset = CustomDataset(X_val_df3['text'], y_val_df3, tokenizer)\n",
        "\n",
        "# For test datasets\n",
        "test_df1_dataset = CustomDataset(X_test_df1['text'], y_test_df1, tokenizer)\n",
        "test_df2_dataset = CustomDataset(X_test_df2['text'], y_test_df2, tokenizer)\n",
        "test_df3_dataset = CustomDataset(X_test_df3['text'], y_test_df3, tokenizer)"
      ],
      "metadata": {
        "id": "1WXWyljS7qmW"
      },
      "execution_count": null,
      "outputs": []
    },
    {
      "cell_type": "code",
      "source": [
        "import torch\n",
        "\n",
        "# Check if GPU is available\n",
        "if torch.cuda.is_available():\n",
        "    device = torch.device(\"cuda\")\n",
        "    print(\"GPU is available. Using GPU:\", torch.cuda.get_device_name(0))\n",
        "else:\n",
        "    device = torch.device(\"cpu\")\n",
        "    print(\"GPU not available. Using CPU instead.\")\n",
        "\n",
        "model.to(device)"
      ],
      "metadata": {
        "id": "ipTLegNu7qmW"
      },
      "execution_count": null,
      "outputs": []
    },
    {
      "cell_type": "code",
      "source": [
        "def compute_metrics(eval_pred):\n",
        "    logits, labels = eval_pred\n",
        "    predictions = np.argmax(logits, axis=1)\n",
        "    return metric.compute(predictions=predictions, references=labels)"
      ],
      "metadata": {
        "id": "7VGftM1r7qmW"
      },
      "execution_count": null,
      "outputs": []
    },
    {
      "cell_type": "code",
      "source": [
        "import numpy as np\n",
        "import evaluate\n",
        "\n",
        "metric = evaluate.load(\"accuracy\")"
      ],
      "metadata": {
        "id": "7Yc0KIOh7qmX"
      },
      "execution_count": null,
      "outputs": []
    },
    {
      "cell_type": "markdown",
      "source": [
        "### Dataset 1"
      ],
      "metadata": {
        "id": "wbrYZGhC7qmX"
      }
    },
    {
      "cell_type": "markdown",
      "source": [
        "#### Seed 1"
      ],
      "metadata": {
        "id": "EwcyrUMR7qmY"
      }
    },
    {
      "cell_type": "code",
      "source": [
        "# Don't Show Warning Messages\n",
        "import os\n",
        "import warnings\n",
        "warnings.filterwarnings('ignore')\n",
        "os.environ[\"WANDB_DISABLED\"] = \"true\""
      ],
      "metadata": {
        "id": "IL_JIpF_7qmY"
      },
      "execution_count": null,
      "outputs": []
    },
    {
      "cell_type": "code",
      "source": [
        "from transformers import set_seed, Trainer\n",
        "\n",
        "# Set the seed for reproducibility\n",
        "set_seed(20240917)"
      ],
      "metadata": {
        "id": "vudlYEsL7qmY"
      },
      "execution_count": null,
      "outputs": []
    },
    {
      "cell_type": "code",
      "source": [
        "def model_init() :\n",
        "    return AlbertForSequenceClassification.from_pretrained(\"albert/albert-xlarge-v2\",num_labels = 2)"
      ],
      "metadata": {
        "id": "625pX0I17qmY"
      },
      "execution_count": null,
      "outputs": []
    },
    {
      "cell_type": "code",
      "source": [
        "training_args = TrainingArguments(\n",
        "    eval_strategy=\"epoch\",\n",
        "    output_dir=\"./results\",\n",
        "    learning_rate=2e-5,\n",
        "    per_device_train_batch_size=16,\n",
        "    per_device_eval_batch_size=16,\n",
        "    num_train_epochs=3,\n",
        "    weight_decay=0.01,\n",
        "    seed = 20240917\n",
        ")\n",
        "\n",
        "# Initialize Trainer\n",
        "trainer = Trainer(\n",
        "    model_init = model_init,\n",
        "    args=training_args,\n",
        "    train_dataset=train_df0_dataset,\n",
        "    eval_dataset=val_df0_dataset,\n",
        "    tokenizer = tokenizer,\n",
        "    compute_metrics=compute_metrics,\n",
        ")\n",
        "\n",
        "# Fine-tune the model\n",
        "trainer.train()"
      ],
      "metadata": {
        "id": "Rr4tl1V37qmY"
      },
      "execution_count": null,
      "outputs": []
    },
    {
      "cell_type": "code",
      "source": [
        "from torch.utils.data import DataLoader\n",
        "\n",
        "# Assuming you've already created your test_dataset\n",
        "test_loader = DataLoader(test_df0_dataset, batch_size=32, shuffle=False)"
      ],
      "metadata": {
        "id": "_ZxeffTg7qmY"
      },
      "execution_count": null,
      "outputs": []
    },
    {
      "cell_type": "code",
      "source": [
        "model1 = AutoModelForSequenceClassification.from_pretrained(\"/kaggle/working/results/checkpoint-1125\", num_labels=2)\n",
        "model1.to(device)"
      ],
      "metadata": {
        "id": "9JZ5oD1V7qmZ"
      },
      "execution_count": null,
      "outputs": []
    },
    {
      "cell_type": "code",
      "source": [
        "import torch\n",
        "import numpy as np\n",
        "\n",
        "model1.eval()  # Set the model to evaluation mode\n",
        "all_predictions = []\n",
        "all_true_labels = []\n",
        "\n",
        "with torch.no_grad():\n",
        "    for batch in test_loader:\n",
        "        input_ids = batch['input_ids'].to(device)\n",
        "        attention_mask = batch['attention_mask'].to(device)\n",
        "        labels = batch['labels'].to(device)\n",
        "\n",
        "        outputs = model1(input_ids, attention_mask=attention_mask)\n",
        "        _, predictions = torch.max(outputs.logits, dim=1)\n",
        "\n",
        "        all_predictions.extend(predictions.cpu().numpy())\n",
        "        all_true_labels.extend(labels.cpu().numpy())\n",
        "\n",
        "# Convert to numpy arrays\n",
        "y_pred = np.array(all_predictions)\n",
        "y_true = np.array(all_true_labels)"
      ],
      "metadata": {
        "id": "XO5G_Ncl7qmZ"
      },
      "execution_count": null,
      "outputs": []
    },
    {
      "cell_type": "code",
      "source": [
        "from sklearn.metrics import classification_report, confusion_matrix\n",
        "import seaborn as sns\n",
        "import matplotlib.pyplot as plt\n",
        "\n",
        "# Print classification report\n",
        "print(classification_report(y_true, y_pred))\n",
        "\n",
        "# Create confusion matrix\n",
        "cm = confusion_matrix(y_true, y_pred)\n",
        "\n",
        "# Plot confusion matrix\n",
        "plt.figure(figsize=(10, 8))\n",
        "sns.heatmap(cm, annot=True, fmt='d', cmap='Blues')\n",
        "plt.xlabel('Predicted')\n",
        "plt.ylabel('True')\n",
        "plt.title('Confusion Matrix')\n",
        "plt.show()"
      ],
      "metadata": {
        "id": "LoAoDFpl7qmZ"
      },
      "execution_count": null,
      "outputs": []
    },
    {
      "cell_type": "markdown",
      "source": [
        "#### Seed 2"
      ],
      "metadata": {
        "id": "oRI6b8fx7qmZ"
      }
    },
    {
      "cell_type": "code",
      "source": [
        "# Don't Show Warning Messages\n",
        "import os\n",
        "import warnings\n",
        "warnings.filterwarnings('ignore')\n",
        "os.environ[\"WANDB_DISABLED\"] = \"true\""
      ],
      "metadata": {
        "id": "bw1Ea-Kk7qmZ"
      },
      "execution_count": null,
      "outputs": []
    },
    {
      "cell_type": "code",
      "source": [
        "from transformers import set_seed, Trainer\n",
        "\n",
        "# Set the seed for reproducibility\n",
        "set_seed(68820831)"
      ],
      "metadata": {
        "id": "lsd-gOx67qma"
      },
      "execution_count": null,
      "outputs": []
    },
    {
      "cell_type": "code",
      "source": [
        "def model_init() :\n",
        "    return AlbertForSequenceClassification.from_pretrained(\"albert/albert-xlarge-v2\",num_labels = 2)"
      ],
      "metadata": {
        "id": "knJqdSY47qma"
      },
      "execution_count": null,
      "outputs": []
    },
    {
      "cell_type": "code",
      "source": [
        "training_args = TrainingArguments(\n",
        "    eval_strategy=\"epoch\",\n",
        "    output_dir=\"./results\",\n",
        "    learning_rate=2e-5,\n",
        "    per_device_train_batch_size=16,\n",
        "    per_device_eval_batch_size=16,\n",
        "    num_train_epochs=3,\n",
        "    weight_decay=0.01,\n",
        "    seed = 68820831\n",
        ")\n",
        "\n",
        "# Initialize Trainer\n",
        "trainer = Trainer(\n",
        "    model_init = model_init,\n",
        "    args=training_args,\n",
        "    train_dataset=train_df0_dataset,\n",
        "    eval_dataset=val_df0_dataset,\n",
        "    tokenizer = tokenizer,\n",
        "    compute_metrics=compute_metrics,\n",
        ")\n",
        "\n",
        "# Fine-tune the model\n",
        "trainer.train()"
      ],
      "metadata": {
        "id": "yGDGp6ne7qma"
      },
      "execution_count": null,
      "outputs": []
    },
    {
      "cell_type": "code",
      "source": [
        "from torch.utils.data import DataLoader\n",
        "\n",
        "# Assuming you've already created your test_dataset\n",
        "test_loader = DataLoader(test_df0_dataset, batch_size=32, shuffle=False)"
      ],
      "metadata": {
        "id": "Z71nPiiy7qma"
      },
      "execution_count": null,
      "outputs": []
    },
    {
      "cell_type": "code",
      "source": [
        "model1 = AutoModelForSequenceClassification.from_pretrained(\"/kaggle/working/results/checkpoint-1125\", num_labels=2)\n",
        "model1.to(device)"
      ],
      "metadata": {
        "id": "PI3Vkz8A7qma"
      },
      "execution_count": null,
      "outputs": []
    },
    {
      "cell_type": "code",
      "source": [
        "import torch\n",
        "import numpy as np\n",
        "\n",
        "model1.eval()  # Set the model to evaluation mode\n",
        "all_predictions = []\n",
        "all_true_labels = []\n",
        "\n",
        "with torch.no_grad():\n",
        "    for batch in test_loader:\n",
        "        input_ids = batch['input_ids'].to(device)\n",
        "        attention_mask = batch['attention_mask'].to(device)\n",
        "        labels = batch['labels'].to(device)\n",
        "\n",
        "        outputs = model1(input_ids, attention_mask=attention_mask)\n",
        "        _, predictions = torch.max(outputs.logits, dim=1)\n",
        "\n",
        "        all_predictions.extend(predictions.cpu().numpy())\n",
        "        all_true_labels.extend(labels.cpu().numpy())\n",
        "\n",
        "# Convert to numpy arrays\n",
        "y_pred = np.array(all_predictions)\n",
        "y_true = np.array(all_true_labels)"
      ],
      "metadata": {
        "id": "WUYfFFKm7qma"
      },
      "execution_count": null,
      "outputs": []
    },
    {
      "cell_type": "code",
      "source": [
        "from sklearn.metrics import classification_report, confusion_matrix\n",
        "import seaborn as sns\n",
        "import matplotlib.pyplot as plt\n",
        "\n",
        "# Print classification report\n",
        "print(classification_report(y_true, y_pred))\n",
        "\n",
        "# Create confusion matrix\n",
        "cm = confusion_matrix(y_true, y_pred)\n",
        "\n",
        "# Plot confusion matrix\n",
        "plt.figure(figsize=(10, 8))\n",
        "sns.heatmap(cm, annot=True, fmt='d', cmap='Blues')\n",
        "plt.xlabel('Predicted')\n",
        "plt.ylabel('True')\n",
        "plt.title('Confusion Matrix')\n",
        "plt.show()"
      ],
      "metadata": {
        "id": "Q-HJ6_UQ7qma"
      },
      "execution_count": null,
      "outputs": []
    },
    {
      "cell_type": "markdown",
      "source": [
        "#### Seed 3"
      ],
      "metadata": {
        "id": "kV98Z-Ir7qmf"
      }
    },
    {
      "cell_type": "code",
      "source": [
        "# Don't Show Warning Messages\n",
        "import os\n",
        "import warnings\n",
        "warnings.filterwarnings('ignore')\n",
        "os.environ[\"WANDB_DISABLED\"] = \"true\""
      ],
      "metadata": {
        "id": "PPRtyFdx7qmg"
      },
      "execution_count": null,
      "outputs": []
    },
    {
      "cell_type": "code",
      "source": [
        "from transformers import set_seed, Trainer\n",
        "\n",
        "# Set the seed for reproducibility\n",
        "set_seed(54226614)"
      ],
      "metadata": {
        "id": "9YuqCqu97qmg"
      },
      "execution_count": null,
      "outputs": []
    },
    {
      "cell_type": "code",
      "source": [
        "def model_init() :\n",
        "    return AlbertForSequenceClassification.from_pretrained(\"albert/albert-xlarge-v2\",num_labels = 2)"
      ],
      "metadata": {
        "id": "1VC9XmQ67qmg"
      },
      "execution_count": null,
      "outputs": []
    },
    {
      "cell_type": "code",
      "source": [
        "training_args = TrainingArguments(\n",
        "    eval_strategy=\"epoch\",\n",
        "    output_dir=\"./results\",\n",
        "    learning_rate=2e-5,\n",
        "    per_device_train_batch_size=16,\n",
        "    per_device_eval_batch_size=16,\n",
        "    num_train_epochs=3,\n",
        "    weight_decay=0.01,\n",
        "    seed = 54226614\n",
        ")\n",
        "\n",
        "# Initialize Trainer\n",
        "trainer = Trainer(\n",
        "    model_init = model_init,\n",
        "    args=training_args,\n",
        "    train_dataset=train_df0_dataset,\n",
        "    eval_dataset=val_df0_dataset,\n",
        "    tokenizer = tokenizer,\n",
        "    compute_metrics=compute_metrics,\n",
        ")\n",
        "\n",
        "# Fine-tune the model\n",
        "trainer.train()"
      ],
      "metadata": {
        "id": "ncdYS9R77qmg"
      },
      "execution_count": null,
      "outputs": []
    },
    {
      "cell_type": "code",
      "source": [
        "from torch.utils.data import DataLoader\n",
        "\n",
        "# Assuming you've already created your test_dataset\n",
        "test_loader = DataLoader(test_df0_dataset, batch_size=32, shuffle=False)"
      ],
      "metadata": {
        "id": "wuDo1sgd7qmg"
      },
      "execution_count": null,
      "outputs": []
    },
    {
      "cell_type": "code",
      "source": [
        "model1 = AutoModelForSequenceClassification.from_pretrained(\"/kaggle/working/results/checkpoint-1125\", num_labels=2)\n",
        "model1.to(device)"
      ],
      "metadata": {
        "id": "33qQFNN87qmg"
      },
      "execution_count": null,
      "outputs": []
    },
    {
      "cell_type": "code",
      "source": [
        "import torch\n",
        "import numpy as np\n",
        "\n",
        "model1.eval()  # Set the model to evaluation mode\n",
        "all_predictions = []\n",
        "all_true_labels = []\n",
        "\n",
        "with torch.no_grad():\n",
        "    for batch in test_loader:\n",
        "        input_ids = batch['input_ids'].to(device)\n",
        "        attention_mask = batch['attention_mask'].to(device)\n",
        "        labels = batch['labels'].to(device)\n",
        "\n",
        "        outputs = model1(input_ids, attention_mask=attention_mask)\n",
        "        _, predictions = torch.max(outputs.logits, dim=1)\n",
        "\n",
        "        all_predictions.extend(predictions.cpu().numpy())\n",
        "        all_true_labels.extend(labels.cpu().numpy())\n",
        "\n",
        "# Convert to numpy arrays\n",
        "y_pred = np.array(all_predictions)\n",
        "y_true = np.array(all_true_labels)"
      ],
      "metadata": {
        "id": "JiN3tHpu7qmg"
      },
      "execution_count": null,
      "outputs": []
    },
    {
      "cell_type": "code",
      "source": [
        "from sklearn.metrics import classification_report, confusion_matrix\n",
        "import seaborn as sns\n",
        "import matplotlib.pyplot as plt\n",
        "\n",
        "# Print classification report\n",
        "print(classification_report(y_true, y_pred))\n",
        "\n",
        "# Create confusion matrix\n",
        "cm = confusion_matrix(y_true, y_pred)\n",
        "\n",
        "# Plot confusion matrix\n",
        "plt.figure(figsize=(10, 8))\n",
        "sns.heatmap(cm, annot=True, fmt='d', cmap='Blues')\n",
        "plt.xlabel('Predicted')\n",
        "plt.ylabel('True')\n",
        "plt.title('Confusion Matrix')\n",
        "plt.show()"
      ],
      "metadata": {
        "id": "w7Bj93aM7qmh"
      },
      "execution_count": null,
      "outputs": []
    },
    {
      "cell_type": "markdown",
      "source": [
        "### Dataset 2"
      ],
      "metadata": {
        "id": "HqRV46OV7qmh"
      }
    },
    {
      "cell_type": "markdown",
      "source": [
        "#### Seed 1"
      ],
      "metadata": {
        "id": "a7K9IwkN7qmh"
      }
    },
    {
      "cell_type": "code",
      "source": [
        "# Don't Show Warning Messages\n",
        "import os\n",
        "import warnings\n",
        "warnings.filterwarnings('ignore')\n",
        "os.environ[\"WANDB_DISABLED\"] = \"true\""
      ],
      "metadata": {
        "id": "dtjmcmB-7qmh"
      },
      "execution_count": null,
      "outputs": []
    },
    {
      "cell_type": "code",
      "source": [
        "from transformers import set_seed, Trainer\n",
        "\n",
        "# Set the seed for reproducibility\n",
        "set_seed(20240917)"
      ],
      "metadata": {
        "id": "BGASysFt7qmh"
      },
      "execution_count": null,
      "outputs": []
    },
    {
      "cell_type": "code",
      "source": [
        "def model_init() :\n",
        "    return AlbertForSequenceClassification.from_pretrained(\"albert/albert-xlarge-v2\",num_labels = 2)"
      ],
      "metadata": {
        "id": "h3lUur_x7qmh"
      },
      "execution_count": null,
      "outputs": []
    },
    {
      "cell_type": "code",
      "source": [
        "training_args = TrainingArguments(\n",
        "    eval_strategy=\"epoch\",\n",
        "    output_dir=\"./results\",\n",
        "    learning_rate=2e-5,\n",
        "    per_device_train_batch_size=16,\n",
        "    per_device_eval_batch_size=16,\n",
        "    num_train_epochs=3,\n",
        "    weight_decay=0.01,\n",
        "    seed = 20240917\n",
        ")\n",
        "\n",
        "# Initialize Trainer\n",
        "trainer = Trainer(\n",
        "    model_init = model_init,\n",
        "    args=training_args,\n",
        "    train_dataset=train_df1_dataset,\n",
        "    eval_dataset=val_df1_dataset,\n",
        "    tokenizer = tokenizer,\n",
        "    compute_metrics=compute_metrics,\n",
        ")\n",
        "\n",
        "# Fine-tune the model\n",
        "trainer.train()"
      ],
      "metadata": {
        "id": "FWiChuRv7qmi"
      },
      "execution_count": null,
      "outputs": []
    },
    {
      "cell_type": "code",
      "source": [
        "from torch.utils.data import DataLoader\n",
        "\n",
        "# Assuming you've already created your test_dataset\n",
        "test_loader = DataLoader(test_df1_dataset, batch_size=32, shuffle=False)"
      ],
      "metadata": {
        "id": "d6LVNUco7qmi"
      },
      "execution_count": null,
      "outputs": []
    },
    {
      "cell_type": "code",
      "source": [
        "model1 = AutoModelForSequenceClassification.from_pretrained(\"/kaggle/working/results/checkpoint-1125\", num_labels=2)\n",
        "model1.to(device)"
      ],
      "metadata": {
        "id": "ygBBc3vZ7qmi"
      },
      "execution_count": null,
      "outputs": []
    },
    {
      "cell_type": "code",
      "source": [
        "import torch\n",
        "import numpy as np\n",
        "\n",
        "model1.eval()  # Set the model to evaluation mode\n",
        "all_predictions = []\n",
        "all_true_labels = []\n",
        "\n",
        "with torch.no_grad():\n",
        "    for batch in test_loader:\n",
        "        input_ids = batch['input_ids'].to(device)\n",
        "        attention_mask = batch['attention_mask'].to(device)\n",
        "        labels = batch['labels'].to(device)\n",
        "\n",
        "        outputs = model1(input_ids, attention_mask=attention_mask)\n",
        "        _, predictions = torch.max(outputs.logits, dim=1)\n",
        "\n",
        "        all_predictions.extend(predictions.cpu().numpy())\n",
        "        all_true_labels.extend(labels.cpu().numpy())\n",
        "\n",
        "# Convert to numpy arrays\n",
        "y_pred = np.array(all_predictions)\n",
        "y_true = np.array(all_true_labels)"
      ],
      "metadata": {
        "id": "Gi7YsKQh7qmi"
      },
      "execution_count": null,
      "outputs": []
    },
    {
      "cell_type": "code",
      "source": [
        "from sklearn.metrics import classification_report, confusion_matrix\n",
        "import seaborn as sns\n",
        "import matplotlib.pyplot as plt\n",
        "\n",
        "# Print classification report\n",
        "print(classification_report(y_true, y_pred))\n",
        "\n",
        "# Create confusion matrix\n",
        "cm = confusion_matrix(y_true, y_pred)\n",
        "\n",
        "# Plot confusion matrix\n",
        "plt.figure(figsize=(10, 8))\n",
        "sns.heatmap(cm, annot=True, fmt='d', cmap='Blues')\n",
        "plt.xlabel('Predicted')\n",
        "plt.ylabel('True')\n",
        "plt.title('Confusion Matrix')\n",
        "plt.show()"
      ],
      "metadata": {
        "id": "m3XK0Qki7qmi"
      },
      "execution_count": null,
      "outputs": []
    },
    {
      "cell_type": "markdown",
      "source": [
        "#### Seed 2"
      ],
      "metadata": {
        "id": "HcISfRv-7qmi"
      }
    },
    {
      "cell_type": "code",
      "source": [
        "# Don't Show Warning Messages\n",
        "import os\n",
        "import warnings\n",
        "warnings.filterwarnings('ignore')\n",
        "os.environ[\"WANDB_DISABLED\"] = \"true\""
      ],
      "metadata": {
        "id": "WblFVW3g7qmi"
      },
      "execution_count": null,
      "outputs": []
    },
    {
      "cell_type": "code",
      "source": [
        "from transformers import set_seed, Trainer\n",
        "\n",
        "# Set the seed for reproducibility\n",
        "set_seed(68820831)"
      ],
      "metadata": {
        "id": "57Xx_Nca7qmj"
      },
      "execution_count": null,
      "outputs": []
    },
    {
      "cell_type": "code",
      "source": [
        "def model_init() :\n",
        "    return AlbertForSequenceClassification.from_pretrained(\"albert/albert-xlarge-v2\",num_labels = 2)"
      ],
      "metadata": {
        "id": "XGJdTlhL7qmj"
      },
      "execution_count": null,
      "outputs": []
    },
    {
      "cell_type": "code",
      "source": [
        "training_args = TrainingArguments(\n",
        "    eval_strategy=\"epoch\",\n",
        "    output_dir=\"./results\",\n",
        "    learning_rate=2e-5,\n",
        "    per_device_train_batch_size=16,\n",
        "    per_device_eval_batch_size=16,\n",
        "    num_train_epochs=3,\n",
        "    weight_decay=0.01,\n",
        "    seed = 68820831\n",
        ")\n",
        "\n",
        "# Initialize Trainer\n",
        "trainer = Trainer(\n",
        "    model_init = model_init,\n",
        "    args=training_args,\n",
        "    train_dataset=train_df1_dataset,\n",
        "    eval_dataset=val_df1_dataset,\n",
        "    tokenizer = tokenizer,\n",
        "    compute_metrics=compute_metrics,\n",
        ")\n",
        "\n",
        "# Fine-tune the model\n",
        "trainer.train()"
      ],
      "metadata": {
        "id": "P_j_Qo5e7qmj"
      },
      "execution_count": null,
      "outputs": []
    },
    {
      "cell_type": "code",
      "source": [
        "from torch.utils.data import DataLoader\n",
        "\n",
        "# Assuming you've already created your test_dataset\n",
        "test_loader = DataLoader(test_df1_dataset, batch_size=32, shuffle=False)"
      ],
      "metadata": {
        "id": "atzbFbSq7qmj"
      },
      "execution_count": null,
      "outputs": []
    },
    {
      "cell_type": "code",
      "source": [
        "model1 = AutoModelForSequenceClassification.from_pretrained(\"/kaggle/working/results/checkpoint-1125\", num_labels=2)\n",
        "model1.to(device)"
      ],
      "metadata": {
        "id": "C_UJOYs-7qmj"
      },
      "execution_count": null,
      "outputs": []
    },
    {
      "cell_type": "code",
      "source": [
        "import torch\n",
        "import numpy as np\n",
        "\n",
        "model1.eval()  # Set the model to evaluation mode\n",
        "all_predictions = []\n",
        "all_true_labels = []\n",
        "\n",
        "with torch.no_grad():\n",
        "    for batch in test_loader:\n",
        "        input_ids = batch['input_ids'].to(device)\n",
        "        attention_mask = batch['attention_mask'].to(device)\n",
        "        labels = batch['labels'].to(device)\n",
        "\n",
        "        outputs = model1(input_ids, attention_mask=attention_mask)\n",
        "        _, predictions = torch.max(outputs.logits, dim=1)\n",
        "\n",
        "        all_predictions.extend(predictions.cpu().numpy())\n",
        "        all_true_labels.extend(labels.cpu().numpy())\n",
        "\n",
        "# Convert to numpy arrays\n",
        "y_pred = np.array(all_predictions)\n",
        "y_true = np.array(all_true_labels)"
      ],
      "metadata": {
        "id": "C6Aqn-Ea7qmj"
      },
      "execution_count": null,
      "outputs": []
    },
    {
      "cell_type": "code",
      "source": [
        "from sklearn.metrics import classification_report, confusion_matrix\n",
        "import seaborn as sns\n",
        "import matplotlib.pyplot as plt\n",
        "\n",
        "# Print classification report\n",
        "print(classification_report(y_true, y_pred))\n",
        "\n",
        "# Create confusion matrix\n",
        "cm = confusion_matrix(y_true, y_pred)\n",
        "\n",
        "# Plot confusion matrix\n",
        "plt.figure(figsize=(10, 8))\n",
        "sns.heatmap(cm, annot=True, fmt='d', cmap='Blues')\n",
        "plt.xlabel('Predicted')\n",
        "plt.ylabel('True')\n",
        "plt.title('Confusion Matrix')\n",
        "plt.show()"
      ],
      "metadata": {
        "id": "SFoBF4Pi7qmj"
      },
      "execution_count": null,
      "outputs": []
    },
    {
      "cell_type": "markdown",
      "source": [
        "#### Seed 3"
      ],
      "metadata": {
        "id": "saH_vdgo7qmk"
      }
    },
    {
      "cell_type": "code",
      "source": [
        "# Don't Show Warning Messages\n",
        "import os\n",
        "import warnings\n",
        "warnings.filterwarnings('ignore')\n",
        "os.environ[\"WANDB_DISABLED\"] = \"true\""
      ],
      "metadata": {
        "id": "VTMbOz-T7qmk"
      },
      "execution_count": null,
      "outputs": []
    },
    {
      "cell_type": "code",
      "source": [
        "from transformers import set_seed, Trainer\n",
        "\n",
        "# Set the seed for reproducibility\n",
        "set_seed(54226614)"
      ],
      "metadata": {
        "id": "Xq0GlE-47qmk"
      },
      "execution_count": null,
      "outputs": []
    },
    {
      "cell_type": "code",
      "source": [
        "def model_init() :\n",
        "    return AlbertForSequenceClassification.from_pretrained(\"albert/albert-xlarge-v2\",num_labels = 2)"
      ],
      "metadata": {
        "id": "CuBOt6WY7qmk"
      },
      "execution_count": null,
      "outputs": []
    },
    {
      "cell_type": "code",
      "source": [
        "training_args = TrainingArguments(\n",
        "    eval_strategy=\"epoch\",\n",
        "    output_dir=\"./results\",\n",
        "    learning_rate=2e-5,\n",
        "    per_device_train_batch_size=16,\n",
        "    per_device_eval_batch_size=16,\n",
        "    num_train_epochs=3,\n",
        "    weight_decay=0.01,\n",
        "    seed = 54226614\n",
        ")\n",
        "\n",
        "# Initialize Trainer\n",
        "trainer = Trainer(\n",
        "    model_init = model_init,\n",
        "    args=training_args,\n",
        "    train_dataset=train_df1_dataset,\n",
        "    eval_dataset=val_df1_dataset,\n",
        "    tokenizer = tokenizer,\n",
        "    compute_metrics=compute_metrics,\n",
        ")\n",
        "\n",
        "# Fine-tune the model\n",
        "trainer.train()"
      ],
      "metadata": {
        "id": "YFex0_Fv7qmk"
      },
      "execution_count": null,
      "outputs": []
    },
    {
      "cell_type": "code",
      "source": [
        "from torch.utils.data import DataLoader\n",
        "\n",
        "# Assuming you've already created your test_dataset\n",
        "test_loader = DataLoader(test_df1_dataset, batch_size=32, shuffle=False)"
      ],
      "metadata": {
        "id": "Ff5uA0Oj7qmk"
      },
      "execution_count": null,
      "outputs": []
    },
    {
      "cell_type": "code",
      "source": [
        "model1 = AutoModelForSequenceClassification.from_pretrained(\"/kaggle/working/results/checkpoint-1125\", num_labels=2)\n",
        "model1.to(device)"
      ],
      "metadata": {
        "id": "DSzMmsJZ7qmk"
      },
      "execution_count": null,
      "outputs": []
    },
    {
      "cell_type": "code",
      "source": [
        "import torch\n",
        "import numpy as np\n",
        "\n",
        "model1.eval()  # Set the model to evaluation mode\n",
        "all_predictions = []\n",
        "all_true_labels = []\n",
        "\n",
        "with torch.no_grad():\n",
        "    for batch in test_loader:\n",
        "        input_ids = batch['input_ids'].to(device)\n",
        "        attention_mask = batch['attention_mask'].to(device)\n",
        "        labels = batch['labels'].to(device)\n",
        "\n",
        "        outputs = model1(input_ids, attention_mask=attention_mask)\n",
        "        _, predictions = torch.max(outputs.logits, dim=1)\n",
        "\n",
        "        all_predictions.extend(predictions.cpu().numpy())\n",
        "        all_true_labels.extend(labels.cpu().numpy())\n",
        "\n",
        "# Convert to numpy arrays\n",
        "y_pred = np.array(all_predictions)\n",
        "y_true = np.array(all_true_labels)"
      ],
      "metadata": {
        "id": "ytRrdhU27qmk"
      },
      "execution_count": null,
      "outputs": []
    },
    {
      "cell_type": "code",
      "source": [
        "from sklearn.metrics import classification_report, confusion_matrix\n",
        "import seaborn as sns\n",
        "import matplotlib.pyplot as plt\n",
        "\n",
        "# Print classification report\n",
        "print(classification_report(y_true, y_pred))\n",
        "\n",
        "# Create confusion matrix\n",
        "cm = confusion_matrix(y_true, y_pred)\n",
        "\n",
        "# Plot confusion matrix\n",
        "plt.figure(figsize=(10, 8))\n",
        "sns.heatmap(cm, annot=True, fmt='d', cmap='Blues')\n",
        "plt.xlabel('Predicted')\n",
        "plt.ylabel('True')\n",
        "plt.title('Confusion Matrix')\n",
        "plt.show()"
      ],
      "metadata": {
        "id": "0nOPNYaj7qml"
      },
      "execution_count": null,
      "outputs": []
    },
    {
      "cell_type": "markdown",
      "source": [
        "### Dataset 3"
      ],
      "metadata": {
        "id": "rb4tJTaNIEcb"
      }
    },
    {
      "cell_type": "markdown",
      "source": [
        "#### Seed 1"
      ],
      "metadata": {
        "id": "BGQgWNQdIEcc"
      }
    },
    {
      "cell_type": "code",
      "source": [
        "# Don't Show Warning Messages\n",
        "import os\n",
        "import warnings\n",
        "warnings.filterwarnings('ignore')\n",
        "os.environ[\"WANDB_DISABLED\"] = \"true\""
      ],
      "metadata": {
        "id": "OOyPr02gIEcc"
      },
      "execution_count": null,
      "outputs": []
    },
    {
      "cell_type": "code",
      "source": [
        "from transformers import set_seed, Trainer\n",
        "\n",
        "# Set the seed for reproducibility\n",
        "set_seed(20240917)"
      ],
      "metadata": {
        "id": "fk2pHRuOIEcc"
      },
      "execution_count": null,
      "outputs": []
    },
    {
      "cell_type": "code",
      "source": [
        "def model_init() :\n",
        "    return AlbertForSequenceClassification.from_pretrained(\"albert/albert-xlarge-v2\",num_labels = 2)"
      ],
      "metadata": {
        "id": "x3r77HUsIEcd"
      },
      "execution_count": null,
      "outputs": []
    },
    {
      "cell_type": "code",
      "source": [
        "training_args = TrainingArguments(\n",
        "    eval_strategy=\"epoch\",\n",
        "    output_dir=\"./results\",\n",
        "    learning_rate=2e-5,\n",
        "    per_device_train_batch_size=16,\n",
        "    per_device_eval_batch_size=16,\n",
        "    num_train_epochs=3,\n",
        "    weight_decay=0.01,\n",
        "    seed = 20240917\n",
        ")\n",
        "\n",
        "# Initialize Trainer\n",
        "trainer = Trainer(\n",
        "    model_init = model_init,\n",
        "    args=training_args,\n",
        "    train_dataset=train_df1_dataset,\n",
        "    eval_dataset=val_df1_dataset,\n",
        "    tokenizer = tokenizer,\n",
        "    compute_metrics=compute_metrics,\n",
        ")\n",
        "\n",
        "# Fine-tune the model\n",
        "trainer.train()"
      ],
      "metadata": {
        "id": "_yn7KyScIEcd"
      },
      "execution_count": null,
      "outputs": []
    },
    {
      "cell_type": "code",
      "source": [
        "from torch.utils.data import DataLoader\n",
        "\n",
        "# Assuming you've already created your test_dataset\n",
        "test_loader = DataLoader(test_df1_dataset, batch_size=32, shuffle=False)"
      ],
      "metadata": {
        "id": "qVu9z4awIEcd"
      },
      "execution_count": null,
      "outputs": []
    },
    {
      "cell_type": "code",
      "source": [
        "model1 = AutoModelForSequenceClassification.from_pretrained(\"/kaggle/working/results/checkpoint-1125\", num_labels=2)\n",
        "model1.to(device)"
      ],
      "metadata": {
        "id": "RMwIFIATIEcd"
      },
      "execution_count": null,
      "outputs": []
    },
    {
      "cell_type": "code",
      "source": [
        "import torch\n",
        "import numpy as np\n",
        "\n",
        "model1.eval()  # Set the model to evaluation mode\n",
        "all_predictions = []\n",
        "all_true_labels = []\n",
        "\n",
        "with torch.no_grad():\n",
        "    for batch in test_loader:\n",
        "        input_ids = batch['input_ids'].to(device)\n",
        "        attention_mask = batch['attention_mask'].to(device)\n",
        "        labels = batch['labels'].to(device)\n",
        "\n",
        "        outputs = model1(input_ids, attention_mask=attention_mask)\n",
        "        _, predictions = torch.max(outputs.logits, dim=1)\n",
        "\n",
        "        all_predictions.extend(predictions.cpu().numpy())\n",
        "        all_true_labels.extend(labels.cpu().numpy())\n",
        "\n",
        "# Convert to numpy arrays\n",
        "y_pred = np.array(all_predictions)\n",
        "y_true = np.array(all_true_labels)"
      ],
      "metadata": {
        "id": "XYyklI_yIEcd"
      },
      "execution_count": null,
      "outputs": []
    },
    {
      "cell_type": "code",
      "source": [
        "from sklearn.metrics import classification_report, confusion_matrix\n",
        "import seaborn as sns\n",
        "import matplotlib.pyplot as plt\n",
        "\n",
        "# Print classification report\n",
        "print(classification_report(y_true, y_pred))\n",
        "\n",
        "# Create confusion matrix\n",
        "cm = confusion_matrix(y_true, y_pred)\n",
        "\n",
        "# Plot confusion matrix\n",
        "plt.figure(figsize=(10, 8))\n",
        "sns.heatmap(cm, annot=True, fmt='d', cmap='Blues')\n",
        "plt.xlabel('Predicted')\n",
        "plt.ylabel('True')\n",
        "plt.title('Confusion Matrix')\n",
        "plt.show()"
      ],
      "metadata": {
        "id": "4NQqPzR4IEce"
      },
      "execution_count": null,
      "outputs": []
    },
    {
      "cell_type": "markdown",
      "source": [
        "#### Seed 2"
      ],
      "metadata": {
        "id": "tmh-tr4NIEce"
      }
    },
    {
      "cell_type": "code",
      "source": [
        "# Don't Show Warning Messages\n",
        "import os\n",
        "import warnings\n",
        "warnings.filterwarnings('ignore')\n",
        "os.environ[\"WANDB_DISABLED\"] = \"true\""
      ],
      "metadata": {
        "id": "rRVDk3cRIEce"
      },
      "execution_count": null,
      "outputs": []
    },
    {
      "cell_type": "code",
      "source": [
        "from transformers import set_seed, Trainer\n",
        "\n",
        "# Set the seed for reproducibility\n",
        "set_seed(68820831)"
      ],
      "metadata": {
        "id": "oQTUNk3jIEce"
      },
      "execution_count": null,
      "outputs": []
    },
    {
      "cell_type": "code",
      "source": [
        "def model_init() :\n",
        "    return AlbertForSequenceClassification.from_pretrained(\"albert/albert-xlarge-v2\",num_labels = 2)"
      ],
      "metadata": {
        "id": "LTRr7nNsIEce"
      },
      "execution_count": null,
      "outputs": []
    },
    {
      "cell_type": "code",
      "source": [
        "training_args = TrainingArguments(\n",
        "    eval_strategy=\"epoch\",\n",
        "    output_dir=\"./results\",\n",
        "    learning_rate=2e-5,\n",
        "    per_device_train_batch_size=16,\n",
        "    per_device_eval_batch_size=16,\n",
        "    num_train_epochs=3,\n",
        "    weight_decay=0.01,\n",
        "    seed = 68820831\n",
        ")\n",
        "\n",
        "# Initialize Trainer\n",
        "trainer = Trainer(\n",
        "    model_init = model_init,\n",
        "    args=training_args,\n",
        "    train_dataset=train_df1_dataset,\n",
        "    eval_dataset=val_df1_dataset,\n",
        "    tokenizer = tokenizer,\n",
        "    compute_metrics=compute_metrics,\n",
        ")\n",
        "\n",
        "# Fine-tune the model\n",
        "trainer.train()"
      ],
      "metadata": {
        "id": "SBiVt-coIEce"
      },
      "execution_count": null,
      "outputs": []
    },
    {
      "cell_type": "code",
      "source": [
        "from torch.utils.data import DataLoader\n",
        "\n",
        "# Assuming you've already created your test_dataset\n",
        "test_loader = DataLoader(test_df1_dataset, batch_size=32, shuffle=False)"
      ],
      "metadata": {
        "id": "G5AIU0a8IEcf"
      },
      "execution_count": null,
      "outputs": []
    },
    {
      "cell_type": "code",
      "source": [
        "model1 = AutoModelForSequenceClassification.from_pretrained(\"/kaggle/working/results/checkpoint-1125\", num_labels=2)\n",
        "model1.to(device)"
      ],
      "metadata": {
        "id": "AA4AhqWkIEcf"
      },
      "execution_count": null,
      "outputs": []
    },
    {
      "cell_type": "code",
      "source": [
        "import torch\n",
        "import numpy as np\n",
        "\n",
        "model1.eval()  # Set the model to evaluation mode\n",
        "all_predictions = []\n",
        "all_true_labels = []\n",
        "\n",
        "with torch.no_grad():\n",
        "    for batch in test_loader:\n",
        "        input_ids = batch['input_ids'].to(device)\n",
        "        attention_mask = batch['attention_mask'].to(device)\n",
        "        labels = batch['labels'].to(device)\n",
        "\n",
        "        outputs = model1(input_ids, attention_mask=attention_mask)\n",
        "        _, predictions = torch.max(outputs.logits, dim=1)\n",
        "\n",
        "        all_predictions.extend(predictions.cpu().numpy())\n",
        "        all_true_labels.extend(labels.cpu().numpy())\n",
        "\n",
        "# Convert to numpy arrays\n",
        "y_pred = np.array(all_predictions)\n",
        "y_true = np.array(all_true_labels)"
      ],
      "metadata": {
        "id": "t4JSpv65IEcf"
      },
      "execution_count": null,
      "outputs": []
    },
    {
      "cell_type": "code",
      "source": [
        "from sklearn.metrics import classification_report, confusion_matrix\n",
        "import seaborn as sns\n",
        "import matplotlib.pyplot as plt\n",
        "\n",
        "# Print classification report\n",
        "print(classification_report(y_true, y_pred))\n",
        "\n",
        "# Create confusion matrix\n",
        "cm = confusion_matrix(y_true, y_pred)\n",
        "\n",
        "# Plot confusion matrix\n",
        "plt.figure(figsize=(10, 8))\n",
        "sns.heatmap(cm, annot=True, fmt='d', cmap='Blues')\n",
        "plt.xlabel('Predicted')\n",
        "plt.ylabel('True')\n",
        "plt.title('Confusion Matrix')\n",
        "plt.show()"
      ],
      "metadata": {
        "id": "qRlDuelqIEcf"
      },
      "execution_count": null,
      "outputs": []
    },
    {
      "cell_type": "markdown",
      "source": [
        "#### Seed 3"
      ],
      "metadata": {
        "id": "fmwa_OE0IEcf"
      }
    },
    {
      "cell_type": "code",
      "source": [
        "# Don't Show Warning Messages\n",
        "import os\n",
        "import warnings\n",
        "warnings.filterwarnings('ignore')\n",
        "os.environ[\"WANDB_DISABLED\"] = \"true\""
      ],
      "metadata": {
        "id": "sdyVwyqmIEcg"
      },
      "execution_count": null,
      "outputs": []
    },
    {
      "cell_type": "code",
      "source": [
        "from transformers import set_seed, Trainer\n",
        "\n",
        "# Set the seed for reproducibility\n",
        "set_seed(54226614)"
      ],
      "metadata": {
        "id": "KS8vg7YQIEcg"
      },
      "execution_count": null,
      "outputs": []
    },
    {
      "cell_type": "code",
      "source": [
        "def model_init() :\n",
        "    return AlbertForSequenceClassification.from_pretrained(\"albert/albert-xlarge-v2\",num_labels = 2)"
      ],
      "metadata": {
        "id": "s9w3mplEIEcg"
      },
      "execution_count": null,
      "outputs": []
    },
    {
      "cell_type": "code",
      "source": [
        "training_args = TrainingArguments(\n",
        "    eval_strategy=\"epoch\",\n",
        "    output_dir=\"./results\",\n",
        "    learning_rate=2e-5,\n",
        "    per_device_train_batch_size=16,\n",
        "    per_device_eval_batch_size=16,\n",
        "    num_train_epochs=3,\n",
        "    weight_decay=0.01,\n",
        "    seed = 54226614\n",
        ")\n",
        "\n",
        "# Initialize Trainer\n",
        "trainer = Trainer(\n",
        "    model_init = model_init,\n",
        "    args=training_args,\n",
        "    train_dataset=train_df1_dataset,\n",
        "    eval_dataset=val_df1_dataset,\n",
        "    tokenizer = tokenizer,\n",
        "    compute_metrics=compute_metrics,\n",
        ")\n",
        "\n",
        "# Fine-tune the model\n",
        "trainer.train()"
      ],
      "metadata": {
        "id": "sDgwdTL0IEcg"
      },
      "execution_count": null,
      "outputs": []
    },
    {
      "cell_type": "code",
      "source": [
        "from torch.utils.data import DataLoader\n",
        "\n",
        "# Assuming you've already created your test_dataset\n",
        "test_loader = DataLoader(test_df1_dataset, batch_size=32, shuffle=False)"
      ],
      "metadata": {
        "id": "tjPARsO_IEcg"
      },
      "execution_count": null,
      "outputs": []
    },
    {
      "cell_type": "code",
      "source": [
        "model1 = AutoModelForSequenceClassification.from_pretrained(\"/kaggle/working/results/checkpoint-1125\", num_labels=2)\n",
        "model1.to(device)"
      ],
      "metadata": {
        "id": "mqpAHQtrIEcg"
      },
      "execution_count": null,
      "outputs": []
    },
    {
      "cell_type": "code",
      "source": [
        "import torch\n",
        "import numpy as np\n",
        "\n",
        "model1.eval()  # Set the model to evaluation mode\n",
        "all_predictions = []\n",
        "all_true_labels = []\n",
        "\n",
        "with torch.no_grad():\n",
        "    for batch in test_loader:\n",
        "        input_ids = batch['input_ids'].to(device)\n",
        "        attention_mask = batch['attention_mask'].to(device)\n",
        "        labels = batch['labels'].to(device)\n",
        "\n",
        "        outputs = model1(input_ids, attention_mask=attention_mask)\n",
        "        _, predictions = torch.max(outputs.logits, dim=1)\n",
        "\n",
        "        all_predictions.extend(predictions.cpu().numpy())\n",
        "        all_true_labels.extend(labels.cpu().numpy())\n",
        "\n",
        "# Convert to numpy arrays\n",
        "y_pred = np.array(all_predictions)\n",
        "y_true = np.array(all_true_labels)"
      ],
      "metadata": {
        "id": "O4MPE868IEcg"
      },
      "execution_count": null,
      "outputs": []
    },
    {
      "cell_type": "code",
      "source": [
        "from sklearn.metrics import classification_report, confusion_matrix\n",
        "import seaborn as sns\n",
        "import matplotlib.pyplot as plt\n",
        "\n",
        "# Print classification report\n",
        "print(classification_report(y_true, y_pred))\n",
        "\n",
        "# Create confusion matrix\n",
        "cm = confusion_matrix(y_true, y_pred)\n",
        "\n",
        "# Plot confusion matrix\n",
        "plt.figure(figsize=(10, 8))\n",
        "sns.heatmap(cm, annot=True, fmt='d', cmap='Blues')\n",
        "plt.xlabel('Predicted')\n",
        "plt.ylabel('True')\n",
        "plt.title('Confusion Matrix')\n",
        "plt.show()"
      ],
      "metadata": {
        "id": "mF2nG0sDIEch"
      },
      "execution_count": null,
      "outputs": []
    }
  ]
}